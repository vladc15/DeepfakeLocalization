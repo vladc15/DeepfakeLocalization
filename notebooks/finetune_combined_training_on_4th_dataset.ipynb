{
  "cells": [
    {
      "cell_type": "code",
      "execution_count": null,
      "id": "c92a6c3e",
      "metadata": {
        "colab": {
          "base_uri": "https://localhost:8080/"
        },
        "id": "c92a6c3e",
        "outputId": "501aea0d-0baf-4318-a174-f4b58c17fed9"
      },
      "outputs": [
        {
          "name": "stdout",
          "output_type": "stream",
          "text": [
            "Drive already mounted at /content/drive; to attempt to forcibly remount, call drive.mount(\"/content/drive\", force_remount=True).\n"
          ]
        }
      ],
      "source": [
        "# mount drive\n",
        "from google.colab import drive\n",
        "drive.mount('/content/drive')"
      ]
    },
    {
      "cell_type": "code",
      "execution_count": null,
      "id": "odcHb42V9rww",
      "metadata": {
        "id": "odcHb42V9rww"
      },
      "outputs": [],
      "source": [
        "# update working directory\n",
        "import sys\n",
        "sys.path.append('/content/drive/MyDrive/Colab Notebooks/Licenta/DeCLIP-custom')"
      ]
    },
    {
      "cell_type": "code",
      "execution_count": null,
      "id": "Za2wYqKP9u3G",
      "metadata": {
        "colab": {
          "base_uri": "https://localhost:8080/"
        },
        "collapsed": true,
        "id": "Za2wYqKP9u3G",
        "outputId": "cac05753-3bf4-4a3a-8f3d-038edd90f762"
      },
      "outputs": [
        {
          "name": "stdout",
          "output_type": "stream",
          "text": [
            "Requirement already satisfied: torchmetrics in /usr/local/lib/python3.11/dist-packages (1.7.1)\n",
            "Requirement already satisfied: numpy>1.20.0 in /usr/local/lib/python3.11/dist-packages (from torchmetrics) (2.0.2)\n",
            "Requirement already satisfied: packaging>17.1 in /usr/local/lib/python3.11/dist-packages (from torchmetrics) (24.2)\n",
            "Requirement already satisfied: torch>=2.0.0 in /usr/local/lib/python3.11/dist-packages (from torchmetrics) (2.6.0+cu124)\n",
            "Requirement already satisfied: lightning-utilities>=0.8.0 in /usr/local/lib/python3.11/dist-packages (from torchmetrics) (0.14.3)\n",
            "Requirement already satisfied: setuptools in /usr/local/lib/python3.11/dist-packages (from lightning-utilities>=0.8.0->torchmetrics) (75.2.0)\n",
            "Requirement already satisfied: typing_extensions in /usr/local/lib/python3.11/dist-packages (from lightning-utilities>=0.8.0->torchmetrics) (4.13.2)\n",
            "Requirement already satisfied: filelock in /usr/local/lib/python3.11/dist-packages (from torch>=2.0.0->torchmetrics) (3.18.0)\n",
            "Requirement already satisfied: networkx in /usr/local/lib/python3.11/dist-packages (from torch>=2.0.0->torchmetrics) (3.4.2)\n",
            "Requirement already satisfied: jinja2 in /usr/local/lib/python3.11/dist-packages (from torch>=2.0.0->torchmetrics) (3.1.6)\n",
            "Requirement already satisfied: fsspec in /usr/local/lib/python3.11/dist-packages (from torch>=2.0.0->torchmetrics) (2025.3.2)\n",
            "Requirement already satisfied: nvidia-cuda-nvrtc-cu12==12.4.127 in /usr/local/lib/python3.11/dist-packages (from torch>=2.0.0->torchmetrics) (12.4.127)\n",
            "Requirement already satisfied: nvidia-cuda-runtime-cu12==12.4.127 in /usr/local/lib/python3.11/dist-packages (from torch>=2.0.0->torchmetrics) (12.4.127)\n",
            "Requirement already satisfied: nvidia-cuda-cupti-cu12==12.4.127 in /usr/local/lib/python3.11/dist-packages (from torch>=2.0.0->torchmetrics) (12.4.127)\n",
            "Requirement already satisfied: nvidia-cudnn-cu12==9.1.0.70 in /usr/local/lib/python3.11/dist-packages (from torch>=2.0.0->torchmetrics) (9.1.0.70)\n",
            "Requirement already satisfied: nvidia-cublas-cu12==12.4.5.8 in /usr/local/lib/python3.11/dist-packages (from torch>=2.0.0->torchmetrics) (12.4.5.8)\n",
            "Requirement already satisfied: nvidia-cufft-cu12==11.2.1.3 in /usr/local/lib/python3.11/dist-packages (from torch>=2.0.0->torchmetrics) (11.2.1.3)\n",
            "Requirement already satisfied: nvidia-curand-cu12==10.3.5.147 in /usr/local/lib/python3.11/dist-packages (from torch>=2.0.0->torchmetrics) (10.3.5.147)\n",
            "Requirement already satisfied: nvidia-cusolver-cu12==11.6.1.9 in /usr/local/lib/python3.11/dist-packages (from torch>=2.0.0->torchmetrics) (11.6.1.9)\n",
            "Requirement already satisfied: nvidia-cusparse-cu12==12.3.1.170 in /usr/local/lib/python3.11/dist-packages (from torch>=2.0.0->torchmetrics) (12.3.1.170)\n",
            "Requirement already satisfied: nvidia-cusparselt-cu12==0.6.2 in /usr/local/lib/python3.11/dist-packages (from torch>=2.0.0->torchmetrics) (0.6.2)\n",
            "Requirement already satisfied: nvidia-nccl-cu12==2.21.5 in /usr/local/lib/python3.11/dist-packages (from torch>=2.0.0->torchmetrics) (2.21.5)\n",
            "Requirement already satisfied: nvidia-nvtx-cu12==12.4.127 in /usr/local/lib/python3.11/dist-packages (from torch>=2.0.0->torchmetrics) (12.4.127)\n",
            "Requirement already satisfied: nvidia-nvjitlink-cu12==12.4.127 in /usr/local/lib/python3.11/dist-packages (from torch>=2.0.0->torchmetrics) (12.4.127)\n",
            "Requirement already satisfied: triton==3.2.0 in /usr/local/lib/python3.11/dist-packages (from torch>=2.0.0->torchmetrics) (3.2.0)\n",
            "Requirement already satisfied: sympy==1.13.1 in /usr/local/lib/python3.11/dist-packages (from torch>=2.0.0->torchmetrics) (1.13.1)\n",
            "Requirement already satisfied: mpmath<1.4,>=1.1.0 in /usr/local/lib/python3.11/dist-packages (from sympy==1.13.1->torch>=2.0.0->torchmetrics) (1.3.0)\n",
            "Requirement already satisfied: MarkupSafe>=2.0 in /usr/local/lib/python3.11/dist-packages (from jinja2->torch>=2.0.0->torchmetrics) (3.0.2)\n"
          ]
        }
      ],
      "source": [
        "!pip install torchmetrics"
      ]
    },
    {
      "cell_type": "code",
      "execution_count": null,
      "id": "xy3QQDZq9sCc",
      "metadata": {
        "id": "xy3QQDZq9sCc"
      },
      "outputs": [],
      "source": [
        "import os\n",
        "import time\n",
        "import torch.multiprocessing\n",
        "from copy import deepcopy\n",
        "from tqdm import tqdm\n",
        "import shutil\n",
        "from torch.utils.data import DataLoader, Subset\n",
        "\n",
        "from parameters import Parameters\n",
        "from train.trainer import Trainer\n",
        "from deepfake_datasets.datasets import get_dataloader\n",
        "from train.early_stopping import EarlyStopping\n",
        "from train.validate import validate_detection, validate_fully_supervised_localization\n",
        "from utils.utils import compute_mean_iou, compute_mean_ap, compute_mean_f1, compute_mean_acc_detection, compute_mean_ap_detection, compute_batch_iou, compute_batch_localization_f1, compute_batch_ap, compute_accuracy_detection, compute_average_precision_detection\n"
      ]
    },
    {
      "cell_type": "code",
      "execution_count": null,
      "id": "6c4118cc",
      "metadata": {
        "id": "6c4118cc"
      },
      "outputs": [],
      "source": [
        "torch.multiprocessing.set_sharing_strategy('file_system')"
      ]
    },
    {
      "cell_type": "code",
      "execution_count": null,
      "id": "VFIwhSdfp2t1",
      "metadata": {
        "id": "VFIwhSdfp2t1"
      },
      "outputs": [],
      "source": [
        "new_dataset_name = 'train_all_4_datasets'\n",
        "\n",
        "zip_path = f'/content/drive/MyDrive/Colab Notebooks/Licenta/DeCLIP-main/datasets_zip/combined_training_for_ood/{new_dataset_name}.zip'\n",
        "new_content_root_path = f'/content/datasets/dolos_data/celebahq/fake/'\n",
        "\n",
        "os.makedirs(new_content_root_path, exist_ok=True)\n",
        "\n",
        "# move the dataset from drive to /content (SSD) for better performance in I/O\n",
        "import zipfile\n",
        "with zipfile.ZipFile(zip_path, 'r') as zip_ref:\n",
        "    zip_ref.extractall(new_content_root_path)"
      ]
    },
    {
      "cell_type": "code",
      "execution_count": null,
      "id": "R2Q9WCiusd4P",
      "metadata": {
        "id": "R2Q9WCiusd4P"
      },
      "outputs": [],
      "source": [
        "# here we will only train on a third of each dataset\n",
        "\n",
        "def keep_only_chosen_dataset(folder_path, dataset_name):\n",
        "    for file_name in os.listdir(folder_path):\n",
        "        file_path = os.path.join(folder_path, file_name)\n",
        "        if os.path.isfile(file_path) and dataset_name not in file_name:\n",
        "            os.remove(file_path)\n",
        "\n",
        "chosen_train_dataset = 'lama'\n",
        "base_path = '/content/datasets/dolos_data/celebahq/fake/train_all_4_datasets'\n",
        "subfolders = [\n",
        "    'images/train', 'images/valid', 'images/test',\n",
        "    'masks/train', 'masks/valid', 'masks/test'\n",
        "]\n",
        "\n",
        "# keep only the images of this specific dataset\n",
        "for subfolder in subfolders:\n",
        "    full_path = os.path.join(base_path, subfolder)\n",
        "    if os.path.exists(full_path):\n",
        "        keep_only_chosen_dataset(full_path, chosen_train_dataset)"
      ]
    },
    {
      "cell_type": "code",
      "execution_count": null,
      "id": "09390516",
      "metadata": {
        "colab": {
          "base_uri": "https://localhost:8080/"
        },
        "id": "09390516",
        "outputId": "87950fe0-f834-44ec-c482-ffb0f8c12964"
      },
      "outputs": [
        {
          "name": "stdout",
          "output_type": "stream",
          "text": [
            "experiment_name: training_gradually_added_samples_from_4th\n",
            "task_type: fully_supervised_localization\n",
            "data_label: train\n",
            "arch: CLIP:ViT-L/14,RN50\n",
            "fix_backbone: True\n",
            "weight_decay: 0.0\n",
            "batch_size: 32\n",
            "num_threads: 8\n",
            "init_type: normal\n",
            "init_gain: 0.02\n",
            "train_dataset: train_all_4_datasets\n",
            "decoder_type: conv-12\n",
            "feature_layer: layer20\n",
            "early_stop_epochs: 5\n",
            "optim: adam\n",
            "beta1: 0.9\n",
            "lr: 0.001\n",
            "show_loss_freq: 50\n",
            "num_iter: 30\n",
            "data_root_path: /content/datasets/dolos_data/celebahq\n",
            "train_fake_path: /content/datasets/dolos_data/celebahq/fake/train_all_4_datasets/images/train\n",
            "valid_fake_path: /content/datasets/dolos_data/celebahq/fake/train_all_4_datasets/images/valid\n",
            "test_fake_path: /content/datasets/dolos_data/celebahq/fake/train_all_4_datasets/images/test\n",
            "train_masks_ground_truth_path: /content/datasets/dolos_data/celebahq/fake/train_all_4_datasets/masks/train\n",
            "valid_masks_ground_truth_path: /content/datasets/dolos_data/celebahq/fake/train_all_4_datasets/masks/valid\n",
            "test_masks_ground_truth_path: /content/datasets/dolos_data/celebahq/fake/train_all_4_datasets/masks/test\n",
            "train_real_path: /content/datasets/dolos_data/celebahq/real/train\n",
            "valid_real_path: /content/datasets/dolos_data/celebahq/real/valid\n",
            "test_real_path: /content/datasets/dolos_data/celebahq/real/test\n",
            "checkpoint_path: \n",
            "save_dir: experiments/training_gradually_added_samples_from_4th\n",
            "save_dir_models: experiments/training_gradually_added_samples_from_4th/models\n",
            "save_dir_results: experiments/training_gradually_added_samples_from_4th/results\n",
            "loss_type: bce\n"
          ]
        }
      ],
      "source": [
        "# set parameters\n",
        "params = Parameters()\n",
        "\n",
        "# set experiment name\n",
        "params.experiment_name = 'training_gradually_added_samples_from_4th'\n",
        "\n",
        "# set backbone\n",
        "params.arch = 'CLIP:ViT-L/14,RN50'\n",
        "\n",
        "# create output dirs\n",
        "params.create_output_dirs()\n",
        "\n",
        "new_root_path = '/content/datasets/dolos_data/celebahq/'\n",
        "new_dataset_name = 'train_all_4_datasets'\n",
        "\n",
        "params.update_dolos_data_paths(new_root_path, new_dataset_name)\n",
        "\n",
        "# fix the backbone - to train only the decoder\n",
        "params.fix_backbone = True\n",
        "\n",
        "# set the feature layer and the decoder type\n",
        "params.feature_layer = 'layer20'\n",
        "params.decoder_type = 'conv-12'\n",
        "\n",
        "# set the batch size and num threads\n",
        "params.batch_size = 32\n",
        "params.num_threads = 8\n",
        "\n",
        "# set the number of epochs\n",
        "params.num_iter = 30\n",
        "\n",
        "# set loss type\n",
        "params.loss_type = 'bce'\n",
        "\n",
        "for key, value in params.__dict__.items():\n",
        "    print(f\"{key}: {value}\")"
      ]
    },
    {
      "cell_type": "code",
      "execution_count": null,
      "id": "1d032661",
      "metadata": {
        "id": "1d032661"
      },
      "outputs": [],
      "source": [
        "# # get the model, along with its trainer\n",
        "# model_trainer = Trainer(params)\n",
        "\n",
        "# # get the trained model on the other 3 datasets, which we will finetune on the 4th\n",
        "# state_dict = torch.load('/content/drive/MyDrive/Colab Notebooks/Licenta/DeCLIP-custom/trained_models/combined_training/test_ldm/best_localization_model_vit+rn50_conv12_iou_73.7741_test_ldm.pth', map_location='cpu')\n",
        "# model_trainer.model.load_state_dict(state_dict['model'], strict=False)\n",
        "# model_trainer.model = model_trainer.model.cuda()"
      ]
    },
    {
      "cell_type": "code",
      "execution_count": null,
      "id": "e3c6fd79",
      "metadata": {
        "id": "e3c6fd79"
      },
      "outputs": [],
      "source": [
        "# get the dataloaders\n",
        "full_train_loader = get_dataloader(params)\n",
        "\n",
        "val_params = deepcopy(params)\n",
        "val_params.data_label = 'valid'\n",
        "val_loader = get_dataloader(val_params) # leave the validation set whole"
      ]
    },
    {
      "cell_type": "code",
      "execution_count": null,
      "id": "MMHhabE3rYBU",
      "metadata": {
        "id": "MMHhabE3rYBU"
      },
      "outputs": [],
      "source": [
        "torch.cuda.empty_cache()"
      ]
    },
    {
      "cell_type": "code",
      "execution_count": null,
      "id": "ahUFsRD43EUG",
      "metadata": {
        "colab": {
          "background_save": true,
          "base_uri": "https://localhost:8080/"
        },
        "id": "ahUFsRD43EUG",
        "outputId": "de9e10fa-2b43-4910-cb79-0321e12b73be"
      },
      "outputs": [
        {
          "name": "stdout",
          "output_type": "stream",
          "text": [
            "Round 1, with 250 samples of the 4th dataset\n",
            "Length of training set: 250\n",
            "Length of validation set: 300\n"
          ]
        },
        {
          "name": "stderr",
          "output_type": "stream",
          "text": [
            "\r  0%|          | 0/10 [00:00<?, ?it/s]"
          ]
        },
        {
          "name": "stdout",
          "output_type": "stream",
          "text": [
            "Epoch: 0\n",
            "Average Train Loss: 0.0000\n",
            "Train epoch 0 Mean IOU: 83.14\n",
            "Train epoch 0 Mean F1 best: 0.9758\n",
            "Train epoch 0 Mean F1 fixed: 0.9486\n",
            "Train epoch 0 Mean AP: 0.964\n",
            "Validation:\n",
            "Length of dataset:  300\n"
          ]
        },
        {
          "name": "stderr",
          "output_type": "stream",
          "text": [
            "\n",
            "  0%|          | 0/10 [00:00<?, ?it/s]\u001b[A\n",
            " 10%|█         | 1/10 [00:01<00:11,  1.29s/it]\u001b[A\n",
            " 20%|██        | 2/10 [00:01<00:07,  1.14it/s]\u001b[A\n",
            " 30%|███       | 3/10 [00:02<00:05,  1.33it/s]\u001b[A\n",
            " 40%|████      | 4/10 [00:03<00:04,  1.47it/s]\u001b[A\n",
            " 50%|█████     | 5/10 [00:03<00:03,  1.55it/s]\u001b[A\n",
            " 60%|██████    | 6/10 [00:04<00:02,  1.60it/s]\u001b[A\n",
            " 70%|███████   | 7/10 [00:04<00:01,  1.63it/s]\u001b[A\n",
            " 80%|████████  | 8/10 [00:05<00:01,  1.64it/s]\u001b[A\n",
            " 90%|█████████ | 9/10 [00:06<00:00,  1.66it/s]\u001b[A\n",
            "100%|██████████| 10/10 [00:06<00:00,  1.61it/s]\n"
          ]
        },
        {
          "name": "stdout",
          "output_type": "stream",
          "text": [
            "Validation at epoch 0 Mean IOU: 54.35\n",
            "Validation at epoch 0 Mean F1 best: 0.6994\n",
            "Validation at epoch 0 Mean F1 fixed: 0.5996\n",
            "Validation at epoch 0 Mean AP: 0.71\n"
          ]
        },
        {
          "name": "stderr",
          "output_type": "stream",
          "text": [
            "\r 10%|█         | 1/10 [00:18<02:50, 18.97s/it]"
          ]
        },
        {
          "name": "stdout",
          "output_type": "stream",
          "text": [
            "Best model saved at epoch 0!\n",
            "\n",
            "Epoch: 1\n",
            "Average Train Loss: 0.0000\n",
            "Train epoch 1 Mean IOU: 85.16\n",
            "Train epoch 1 Mean F1 best: 0.9856\n",
            "Train epoch 1 Mean F1 fixed: 0.9701\n",
            "Train epoch 1 Mean AP: 0.9775\n",
            "Validation:\n",
            "Length of dataset:  300\n"
          ]
        },
        {
          "name": "stderr",
          "output_type": "stream",
          "text": [
            "\n",
            "  0%|          | 0/10 [00:00<?, ?it/s]\u001b[A\n",
            " 10%|█         | 1/10 [00:00<00:08,  1.05it/s]\u001b[A\n",
            " 20%|██        | 2/10 [00:01<00:05,  1.36it/s]\u001b[A\n",
            " 30%|███       | 3/10 [00:02<00:04,  1.50it/s]\u001b[A\n",
            " 40%|████      | 4/10 [00:02<00:03,  1.58it/s]\u001b[A\n",
            " 50%|█████     | 5/10 [00:03<00:03,  1.63it/s]\u001b[A\n",
            " 60%|██████    | 6/10 [00:03<00:02,  1.65it/s]\u001b[A\n",
            " 70%|███████   | 7/10 [00:04<00:01,  1.67it/s]\u001b[A\n",
            " 80%|████████  | 8/10 [00:05<00:01,  1.68it/s]\u001b[A\n",
            " 90%|█████████ | 9/10 [00:05<00:00,  1.70it/s]\u001b[A\n",
            "100%|██████████| 10/10 [00:05<00:00,  1.71it/s]\n"
          ]
        },
        {
          "name": "stdout",
          "output_type": "stream",
          "text": [
            "Validation at epoch 1 Mean IOU: 60.05\n",
            "Validation at epoch 1 Mean F1 best: 0.7913\n",
            "Validation at epoch 1 Mean F1 fixed: 0.632\n",
            "Validation at epoch 1 Mean AP: 0.8138\n"
          ]
        },
        {
          "name": "stderr",
          "output_type": "stream",
          "text": [
            "\r 20%|██        | 2/10 [00:35<02:20, 17.56s/it]"
          ]
        },
        {
          "name": "stdout",
          "output_type": "stream",
          "text": [
            "Best model saved at epoch 1!\n",
            "\n",
            "Epoch: 2\n",
            "Average Train Loss: 0.0000\n",
            "Train epoch 2 Mean IOU: 87.84\n",
            "Train epoch 2 Mean F1 best: 0.9798\n",
            "Train epoch 2 Mean F1 fixed: 0.9784\n",
            "Train epoch 2 Mean AP: 0.9799\n",
            "Validation:\n",
            "Length of dataset:  300\n"
          ]
        },
        {
          "name": "stderr",
          "output_type": "stream",
          "text": [
            "\n",
            "  0%|          | 0/10 [00:00<?, ?it/s]\u001b[A\n",
            " 10%|█         | 1/10 [00:00<00:08,  1.06it/s]\u001b[A\n",
            " 20%|██        | 2/10 [00:01<00:05,  1.35it/s]\u001b[A\n",
            " 30%|███       | 3/10 [00:02<00:04,  1.48it/s]\u001b[A\n",
            " 40%|████      | 4/10 [00:02<00:03,  1.56it/s]\u001b[A\n",
            " 50%|█████     | 5/10 [00:03<00:03,  1.60it/s]\u001b[A\n",
            " 60%|██████    | 6/10 [00:03<00:02,  1.64it/s]\u001b[A\n",
            " 70%|███████   | 7/10 [00:04<00:01,  1.66it/s]\u001b[A\n",
            " 80%|████████  | 8/10 [00:05<00:01,  1.68it/s]\u001b[A\n",
            " 90%|█████████ | 9/10 [00:05<00:00,  1.69it/s]\u001b[A\n",
            "100%|██████████| 10/10 [00:05<00:00,  1.70it/s]\n"
          ]
        },
        {
          "name": "stdout",
          "output_type": "stream",
          "text": [
            "Validation at epoch 2 Mean IOU: 63.53\n",
            "Validation at epoch 2 Mean F1 best: 0.8031\n",
            "Validation at epoch 2 Mean F1 fixed: 0.7156\n",
            "Validation at epoch 2 Mean AP: 0.8258\n"
          ]
        },
        {
          "name": "stderr",
          "output_type": "stream",
          "text": [
            "\r 30%|███       | 3/10 [00:52<01:59, 17.13s/it]"
          ]
        },
        {
          "name": "stdout",
          "output_type": "stream",
          "text": [
            "Best model saved at epoch 2!\n",
            "\n",
            "Epoch: 3\n",
            "Average Train Loss: 0.0000\n",
            "Train epoch 3 Mean IOU: 89.69\n",
            "Train epoch 3 Mean F1 best: 0.9999\n",
            "Train epoch 3 Mean F1 fixed: 0.999\n",
            "Train epoch 3 Mean AP: 0.986\n",
            "Validation:\n",
            "Length of dataset:  300\n"
          ]
        },
        {
          "name": "stderr",
          "output_type": "stream",
          "text": [
            "\n",
            "  0%|          | 0/10 [00:00<?, ?it/s]\u001b[A\n",
            " 10%|█         | 1/10 [00:00<00:08,  1.05it/s]\u001b[A\n",
            " 20%|██        | 2/10 [00:01<00:05,  1.36it/s]\u001b[A\n",
            " 30%|███       | 3/10 [00:02<00:04,  1.51it/s]\u001b[A\n",
            " 40%|████      | 4/10 [00:02<00:03,  1.59it/s]\u001b[A\n",
            " 50%|█████     | 5/10 [00:03<00:03,  1.61it/s]\u001b[A\n",
            " 60%|██████    | 6/10 [00:03<00:02,  1.65it/s]\u001b[A\n",
            " 70%|███████   | 7/10 [00:04<00:01,  1.65it/s]\u001b[A\n",
            " 80%|████████  | 8/10 [00:05<00:01,  1.67it/s]\u001b[A\n",
            " 90%|█████████ | 9/10 [00:05<00:00,  1.69it/s]\u001b[A\n",
            "100%|██████████| 10/10 [00:05<00:00,  1.70it/s]\n",
            " 40%|████      | 4/10 [01:07<01:39, 16.58s/it]"
          ]
        },
        {
          "name": "stdout",
          "output_type": "stream",
          "text": [
            "Validation at epoch 3 Mean IOU: 62.97\n",
            "Validation at epoch 3 Mean F1 best: 0.8151\n",
            "Validation at epoch 3 Mean F1 fixed: 0.7198\n",
            "Validation at epoch 3 Mean AP: 0.8293\n",
            "Early Stopping counter: 1 out of 5\n",
            "\n",
            "Epoch: 4\n",
            "Average Train Loss: 0.0000\n",
            "Train epoch 4 Mean IOU: 90.41\n",
            "Train epoch 4 Mean F1 best: 0.992\n",
            "Train epoch 4 Mean F1 fixed: 0.9918\n",
            "Train epoch 4 Mean AP: 0.9882\n",
            "Validation:\n",
            "Length of dataset:  300\n"
          ]
        },
        {
          "name": "stderr",
          "output_type": "stream",
          "text": [
            "\n",
            "  0%|          | 0/10 [00:00<?, ?it/s]\u001b[A\n",
            " 10%|█         | 1/10 [00:00<00:08,  1.05it/s]\u001b[A\n",
            " 20%|██        | 2/10 [00:01<00:05,  1.36it/s]\u001b[A\n",
            " 30%|███       | 3/10 [00:02<00:04,  1.50it/s]\u001b[A\n",
            " 40%|████      | 4/10 [00:02<00:03,  1.58it/s]\u001b[A\n",
            " 50%|█████     | 5/10 [00:03<00:03,  1.63it/s]\u001b[A\n",
            " 60%|██████    | 6/10 [00:03<00:02,  1.66it/s]\u001b[A\n",
            " 70%|███████   | 7/10 [00:04<00:01,  1.66it/s]\u001b[A\n",
            " 80%|████████  | 8/10 [00:05<00:01,  1.68it/s]\u001b[A\n",
            " 90%|█████████ | 9/10 [00:05<00:00,  1.69it/s]\u001b[A\n",
            "100%|██████████| 10/10 [00:05<00:00,  1.71it/s]\n"
          ]
        },
        {
          "name": "stdout",
          "output_type": "stream",
          "text": [
            "Validation at epoch 4 Mean IOU: 63.93\n",
            "Validation at epoch 4 Mean F1 best: 0.8314\n",
            "Validation at epoch 4 Mean F1 fixed: 0.7433\n",
            "Validation at epoch 4 Mean AP: 0.8342\n"
          ]
        },
        {
          "name": "stderr",
          "output_type": "stream",
          "text": [
            "\r 50%|█████     | 5/10 [01:24<01:22, 16.58s/it]"
          ]
        },
        {
          "name": "stdout",
          "output_type": "stream",
          "text": [
            "Best model saved at epoch 4!\n",
            "\n",
            "Epoch: 5\n",
            "Average Train Loss: 0.0000\n",
            "Train epoch 5 Mean IOU: 91.51\n",
            "Train epoch 5 Mean F1 best: 1.0\n",
            "Train epoch 5 Mean F1 fixed: 0.9999\n",
            "Train epoch 5 Mean AP: 0.9895\n",
            "Validation:\n",
            "Length of dataset:  300\n"
          ]
        },
        {
          "name": "stderr",
          "output_type": "stream",
          "text": [
            "\n",
            "  0%|          | 0/10 [00:00<?, ?it/s]\u001b[A\n",
            " 10%|█         | 1/10 [00:00<00:08,  1.04it/s]\u001b[A\n",
            " 20%|██        | 2/10 [00:01<00:05,  1.35it/s]\u001b[A\n",
            " 30%|███       | 3/10 [00:02<00:04,  1.50it/s]\u001b[A\n",
            " 40%|████      | 4/10 [00:02<00:03,  1.58it/s]\u001b[A\n",
            " 50%|█████     | 5/10 [00:03<00:03,  1.62it/s]\u001b[A\n",
            " 60%|██████    | 6/10 [00:03<00:02,  1.65it/s]\u001b[A\n",
            " 70%|███████   | 7/10 [00:04<00:01,  1.67it/s]\u001b[A\n",
            " 80%|████████  | 8/10 [00:05<00:01,  1.69it/s]\u001b[A\n",
            " 90%|█████████ | 9/10 [00:05<00:00,  1.69it/s]\u001b[A\n",
            "100%|██████████| 10/10 [00:05<00:00,  1.70it/s]\n"
          ]
        },
        {
          "name": "stdout",
          "output_type": "stream",
          "text": [
            "Validation at epoch 5 Mean IOU: 64.25\n",
            "Validation at epoch 5 Mean F1 best: 0.8117\n",
            "Validation at epoch 5 Mean F1 fixed: 0.7192\n",
            "Validation at epoch 5 Mean AP: 0.8343\n"
          ]
        },
        {
          "name": "stderr",
          "output_type": "stream",
          "text": [
            "\r 60%|██████    | 6/10 [01:41<01:06, 16.58s/it]"
          ]
        },
        {
          "name": "stdout",
          "output_type": "stream",
          "text": [
            "Best model saved at epoch 5!\n",
            "\n",
            "Epoch: 6\n",
            "Train Loss: 0.0193 at step 50 \t Iter time: 2.08\n",
            "Average Train Loss: 0.0001\n",
            "Train epoch 6 Mean IOU: 91.99\n",
            "Train epoch 6 Mean F1 best: 1.0\n",
            "Train epoch 6 Mean F1 fixed: 1.0\n",
            "Train epoch 6 Mean AP: 0.9909\n",
            "Validation:\n",
            "Length of dataset:  300\n"
          ]
        },
        {
          "name": "stderr",
          "output_type": "stream",
          "text": [
            "\n",
            "  0%|          | 0/10 [00:00<?, ?it/s]\u001b[A\n",
            " 10%|█         | 1/10 [00:00<00:08,  1.08it/s]\u001b[A\n",
            " 20%|██        | 2/10 [00:01<00:05,  1.38it/s]\u001b[A\n",
            " 30%|███       | 3/10 [00:02<00:04,  1.52it/s]\u001b[A\n",
            " 40%|████      | 4/10 [00:02<00:03,  1.60it/s]\u001b[A\n",
            " 50%|█████     | 5/10 [00:03<00:03,  1.64it/s]\u001b[A\n",
            " 60%|██████    | 6/10 [00:03<00:02,  1.67it/s]\u001b[A\n",
            " 70%|███████   | 7/10 [00:04<00:01,  1.68it/s]\u001b[A\n",
            " 80%|████████  | 8/10 [00:04<00:01,  1.69it/s]\u001b[A\n",
            " 90%|█████████ | 9/10 [00:05<00:00,  1.70it/s]\u001b[A\n",
            "100%|██████████| 10/10 [00:05<00:00,  1.72it/s]\n",
            " 70%|███████   | 7/10 [01:56<00:48, 16.29s/it]"
          ]
        },
        {
          "name": "stdout",
          "output_type": "stream",
          "text": [
            "Validation at epoch 6 Mean IOU: 63.62\n",
            "Validation at epoch 6 Mean F1 best: 0.8115\n",
            "Validation at epoch 6 Mean F1 fixed: 0.7231\n",
            "Validation at epoch 6 Mean AP: 0.827\n",
            "Early Stopping counter: 1 out of 5\n",
            "\n",
            "Epoch: 7\n",
            "Average Train Loss: 0.0000\n",
            "Train epoch 7 Mean IOU: 92.56\n",
            "Train epoch 7 Mean F1 best: 1.0\n",
            "Train epoch 7 Mean F1 fixed: 1.0\n",
            "Train epoch 7 Mean AP: 0.9921\n",
            "Validation:\n",
            "Length of dataset:  300\n"
          ]
        },
        {
          "name": "stderr",
          "output_type": "stream",
          "text": [
            "\n",
            "  0%|          | 0/10 [00:00<?, ?it/s]\u001b[A\n",
            " 10%|█         | 1/10 [00:00<00:08,  1.07it/s]\u001b[A\n",
            " 20%|██        | 2/10 [00:01<00:05,  1.37it/s]\u001b[A\n",
            " 30%|███       | 3/10 [00:02<00:04,  1.51it/s]\u001b[A\n",
            " 40%|████      | 4/10 [00:02<00:03,  1.58it/s]\u001b[A\n",
            " 50%|█████     | 5/10 [00:03<00:03,  1.63it/s]\u001b[A\n",
            " 60%|██████    | 6/10 [00:03<00:02,  1.66it/s]\u001b[A\n",
            " 70%|███████   | 7/10 [00:04<00:01,  1.68it/s]\u001b[A\n",
            " 80%|████████  | 8/10 [00:05<00:01,  1.69it/s]\u001b[A\n",
            " 90%|█████████ | 9/10 [00:05<00:00,  1.70it/s]\u001b[A\n",
            "100%|██████████| 10/10 [00:05<00:00,  1.72it/s]\n",
            " 80%|████████  | 8/10 [02:12<00:32, 16.10s/it]"
          ]
        },
        {
          "name": "stdout",
          "output_type": "stream",
          "text": [
            "Validation at epoch 7 Mean IOU: 63.54\n",
            "Validation at epoch 7 Mean F1 best: 0.7946\n",
            "Validation at epoch 7 Mean F1 fixed: 0.7063\n",
            "Validation at epoch 7 Mean AP: 0.8218\n",
            "Early Stopping counter: 2 out of 5\n",
            "\n",
            "Epoch: 8\n",
            "Average Train Loss: 0.0000\n",
            "Train epoch 8 Mean IOU: 92.81\n",
            "Train epoch 8 Mean F1 best: 1.0\n",
            "Train epoch 8 Mean F1 fixed: 1.0\n",
            "Train epoch 8 Mean AP: 0.9924\n",
            "Validation:\n",
            "Length of dataset:  300\n"
          ]
        },
        {
          "name": "stderr",
          "output_type": "stream",
          "text": [
            "\n",
            "  0%|          | 0/10 [00:00<?, ?it/s]\u001b[A\n",
            " 10%|█         | 1/10 [00:00<00:08,  1.08it/s]\u001b[A\n",
            " 20%|██        | 2/10 [00:01<00:05,  1.38it/s]\u001b[A\n",
            " 30%|███       | 3/10 [00:02<00:04,  1.51it/s]\u001b[A\n",
            " 40%|████      | 4/10 [00:02<00:03,  1.59it/s]\u001b[A\n",
            " 50%|█████     | 5/10 [00:03<00:03,  1.63it/s]\u001b[A\n",
            " 60%|██████    | 6/10 [00:03<00:02,  1.66it/s]\u001b[A\n",
            " 70%|███████   | 7/10 [00:04<00:01,  1.68it/s]\u001b[A\n",
            " 80%|████████  | 8/10 [00:05<00:01,  1.69it/s]\u001b[A\n",
            " 90%|█████████ | 9/10 [00:05<00:00,  1.70it/s]\u001b[A\n",
            "100%|██████████| 10/10 [00:05<00:00,  1.72it/s]\n",
            " 90%|█████████ | 9/10 [02:28<00:15, 15.97s/it]"
          ]
        },
        {
          "name": "stdout",
          "output_type": "stream",
          "text": [
            "Validation at epoch 8 Mean IOU: 63.91\n",
            "Validation at epoch 8 Mean F1 best: 0.8014\n",
            "Validation at epoch 8 Mean F1 fixed: 0.7118\n",
            "Validation at epoch 8 Mean AP: 0.8213\n",
            "Early Stopping counter: 3 out of 5\n",
            "\n",
            "Epoch: 9\n",
            "Average Train Loss: 0.0000\n",
            "Train epoch 9 Mean IOU: 93.35\n",
            "Train epoch 9 Mean F1 best: 1.0\n",
            "Train epoch 9 Mean F1 fixed: 1.0\n",
            "Train epoch 9 Mean AP: 0.9935\n",
            "Validation:\n",
            "Length of dataset:  300\n"
          ]
        },
        {
          "name": "stderr",
          "output_type": "stream",
          "text": [
            "\n",
            "  0%|          | 0/10 [00:00<?, ?it/s]\u001b[A\n",
            " 10%|█         | 1/10 [00:00<00:08,  1.07it/s]\u001b[A\n",
            " 20%|██        | 2/10 [00:01<00:05,  1.38it/s]\u001b[A\n",
            " 30%|███       | 3/10 [00:02<00:04,  1.52it/s]\u001b[A\n",
            " 40%|████      | 4/10 [00:02<00:03,  1.59it/s]\u001b[A\n",
            " 50%|█████     | 5/10 [00:03<00:03,  1.64it/s]\u001b[A\n",
            " 60%|██████    | 6/10 [00:03<00:02,  1.65it/s]\u001b[A\n",
            " 70%|███████   | 7/10 [00:04<00:01,  1.67it/s]\u001b[A\n",
            " 80%|████████  | 8/10 [00:05<00:01,  1.69it/s]\u001b[A\n",
            " 90%|█████████ | 9/10 [00:05<00:00,  1.70it/s]\u001b[A\n",
            "100%|██████████| 10/10 [00:05<00:00,  1.72it/s]\n"
          ]
        },
        {
          "name": "stdout",
          "output_type": "stream",
          "text": [
            "Validation at epoch 9 Mean IOU: 64.3\n",
            "Validation at epoch 9 Mean F1 best: 0.8016\n",
            "Validation at epoch 9 Mean F1 fixed: 0.7164\n",
            "Validation at epoch 9 Mean AP: 0.823\n"
          ]
        },
        {
          "name": "stderr",
          "output_type": "stream",
          "text": [
            "100%|██████████| 10/10 [02:44<00:00, 16.47s/it]"
          ]
        },
        {
          "name": "stdout",
          "output_type": "stream",
          "text": [
            "Best model saved at epoch 9!\n",
            "\n",
            "Round 2, with 500 samples of the 4th dataset\n"
          ]
        },
        {
          "name": "stderr",
          "output_type": "stream",
          "text": [
            "\n"
          ]
        },
        {
          "name": "stdout",
          "output_type": "stream",
          "text": [
            "Length of training set: 500\n",
            "Length of validation set: 300\n"
          ]
        },
        {
          "name": "stderr",
          "output_type": "stream",
          "text": [
            "\r  0%|          | 0/10 [00:00<?, ?it/s]"
          ]
        },
        {
          "name": "stdout",
          "output_type": "stream",
          "text": [
            "Epoch: 0\n",
            "Average Train Loss: 0.0000\n",
            "Train epoch 0 Mean IOU: 79.86\n",
            "Train epoch 0 Mean F1 best: 0.9597\n",
            "Train epoch 0 Mean F1 fixed: 0.9233\n",
            "Train epoch 0 Mean AP: 0.9441\n",
            "Validation:\n",
            "Length of dataset:  300\n"
          ]
        },
        {
          "name": "stderr",
          "output_type": "stream",
          "text": [
            "\n",
            "  0%|          | 0/10 [00:00<?, ?it/s]\u001b[A\n",
            " 10%|█         | 1/10 [00:00<00:07,  1.14it/s]\u001b[A\n",
            " 20%|██        | 2/10 [00:01<00:05,  1.41it/s]\u001b[A\n",
            " 30%|███       | 3/10 [00:02<00:04,  1.52it/s]\u001b[A\n",
            " 40%|████      | 4/10 [00:02<00:03,  1.59it/s]\u001b[A\n",
            " 50%|█████     | 5/10 [00:03<00:03,  1.64it/s]\u001b[A\n",
            " 60%|██████    | 6/10 [00:03<00:02,  1.66it/s]\u001b[A\n",
            " 70%|███████   | 7/10 [00:04<00:01,  1.68it/s]\u001b[A\n",
            " 80%|████████  | 8/10 [00:04<00:01,  1.69it/s]\u001b[A\n",
            " 90%|█████████ | 9/10 [00:05<00:00,  1.70it/s]\u001b[A\n",
            "100%|██████████| 10/10 [00:05<00:00,  1.73it/s]\n"
          ]
        },
        {
          "name": "stdout",
          "output_type": "stream",
          "text": [
            "Validation at epoch 0 Mean IOU: 61.99\n",
            "Validation at epoch 0 Mean F1 best: 0.7942\n",
            "Validation at epoch 0 Mean F1 fixed: 0.6881\n",
            "Validation at epoch 0 Mean AP: 0.8121\n"
          ]
        },
        {
          "name": "stderr",
          "output_type": "stream",
          "text": [
            "\r 10%|█         | 1/10 [00:27<04:03, 27.04s/it]"
          ]
        },
        {
          "name": "stdout",
          "output_type": "stream",
          "text": [
            "Best model saved at epoch 0!\n",
            "\n",
            "Epoch: 1\n",
            "Average Train Loss: 0.0000\n",
            "Train epoch 1 Mean IOU: 83.98\n",
            "Train epoch 1 Mean F1 best: 0.9812\n",
            "Train epoch 1 Mean F1 fixed: 0.9671\n",
            "Train epoch 1 Mean AP: 0.9675\n",
            "Validation:\n",
            "Length of dataset:  300\n"
          ]
        },
        {
          "name": "stderr",
          "output_type": "stream",
          "text": [
            "\n",
            "  0%|          | 0/10 [00:00<?, ?it/s]\u001b[A\n",
            " 10%|█         | 1/10 [00:00<00:07,  1.17it/s]\u001b[A\n",
            " 20%|██        | 2/10 [00:01<00:05,  1.42it/s]\u001b[A\n",
            " 30%|███       | 3/10 [00:02<00:04,  1.53it/s]\u001b[A\n",
            " 40%|████      | 4/10 [00:02<00:03,  1.60it/s]\u001b[A\n",
            " 50%|█████     | 5/10 [00:03<00:03,  1.64it/s]\u001b[A\n",
            " 60%|██████    | 6/10 [00:03<00:02,  1.66it/s]\u001b[A\n",
            " 70%|███████   | 7/10 [00:04<00:01,  1.68it/s]\u001b[A\n",
            " 80%|████████  | 8/10 [00:04<00:01,  1.69it/s]\u001b[A\n",
            " 90%|█████████ | 9/10 [00:05<00:00,  1.70it/s]\u001b[A\n",
            "100%|██████████| 10/10 [00:05<00:00,  1.73it/s]\n"
          ]
        },
        {
          "name": "stdout",
          "output_type": "stream",
          "text": [
            "Validation at epoch 1 Mean IOU: 62.76\n",
            "Validation at epoch 1 Mean F1 best: 0.7892\n",
            "Validation at epoch 1 Mean F1 fixed: 0.6969\n",
            "Validation at epoch 1 Mean AP: 0.8048\n"
          ]
        },
        {
          "name": "stderr",
          "output_type": "stream",
          "text": [
            "\r 20%|██        | 2/10 [00:53<03:33, 26.74s/it]"
          ]
        },
        {
          "name": "stdout",
          "output_type": "stream",
          "text": [
            "Best model saved at epoch 1!\n",
            "\n",
            "Epoch: 2\n",
            "Average Train Loss: 0.0000\n",
            "Train epoch 2 Mean IOU: 87.33\n",
            "Train epoch 2 Mean F1 best: 0.9858\n",
            "Train epoch 2 Mean F1 fixed: 0.9799\n",
            "Train epoch 2 Mean AP: 0.9795\n",
            "Validation:\n",
            "Length of dataset:  300\n"
          ]
        },
        {
          "name": "stderr",
          "output_type": "stream",
          "text": [
            "\n",
            "  0%|          | 0/10 [00:00<?, ?it/s]\u001b[A\n",
            " 10%|█         | 1/10 [00:00<00:07,  1.18it/s]\u001b[A\n",
            " 20%|██        | 2/10 [00:01<00:05,  1.45it/s]\u001b[A\n",
            " 30%|███       | 3/10 [00:02<00:04,  1.56it/s]\u001b[A\n",
            " 40%|████      | 4/10 [00:02<00:03,  1.61it/s]\u001b[A\n",
            " 50%|█████     | 5/10 [00:03<00:03,  1.65it/s]\u001b[A\n",
            " 60%|██████    | 6/10 [00:03<00:02,  1.68it/s]\u001b[A\n",
            " 70%|███████   | 7/10 [00:04<00:01,  1.69it/s]\u001b[A\n",
            " 80%|████████  | 8/10 [00:04<00:01,  1.69it/s]\u001b[A\n",
            " 90%|█████████ | 9/10 [00:05<00:00,  1.70it/s]\u001b[A\n",
            "100%|██████████| 10/10 [00:05<00:00,  1.74it/s]\n"
          ]
        },
        {
          "name": "stdout",
          "output_type": "stream",
          "text": [
            "Validation at epoch 2 Mean IOU: 64.31\n",
            "Validation at epoch 2 Mean F1 best: 0.8124\n",
            "Validation at epoch 2 Mean F1 fixed: 0.7392\n",
            "Validation at epoch 2 Mean AP: 0.8376\n"
          ]
        },
        {
          "name": "stderr",
          "output_type": "stream",
          "text": [
            "\r 30%|███       | 3/10 [01:20<03:06, 26.61s/it]"
          ]
        },
        {
          "name": "stdout",
          "output_type": "stream",
          "text": [
            "Best model saved at epoch 2!\n",
            "\n",
            "Epoch: 3\n",
            "Train Loss: 0.0292 at step 50 \t Iter time: 1.66\n",
            "Average Train Loss: 0.0001\n",
            "Train epoch 3 Mean IOU: 88.98\n",
            "Train epoch 3 Mean F1 best: 1.0\n",
            "Train epoch 3 Mean F1 fixed: 0.9994\n",
            "Train epoch 3 Mean AP: 0.9841\n",
            "Validation:\n",
            "Length of dataset:  300\n"
          ]
        },
        {
          "name": "stderr",
          "output_type": "stream",
          "text": [
            "\n",
            "  0%|          | 0/10 [00:00<?, ?it/s]\u001b[A\n",
            " 10%|█         | 1/10 [00:00<00:07,  1.14it/s]\u001b[A\n",
            " 20%|██        | 2/10 [00:01<00:05,  1.42it/s]\u001b[A\n",
            " 30%|███       | 3/10 [00:02<00:04,  1.54it/s]\u001b[A\n",
            " 40%|████      | 4/10 [00:02<00:03,  1.61it/s]\u001b[A\n",
            " 50%|█████     | 5/10 [00:03<00:03,  1.64it/s]\u001b[A\n",
            " 60%|██████    | 6/10 [00:03<00:02,  1.67it/s]\u001b[A\n",
            " 70%|███████   | 7/10 [00:04<00:01,  1.68it/s]\u001b[A\n",
            " 80%|████████  | 8/10 [00:04<00:01,  1.69it/s]\u001b[A\n",
            " 90%|█████████ | 9/10 [00:05<00:00,  1.70it/s]\u001b[A\n",
            "100%|██████████| 10/10 [00:05<00:00,  1.73it/s]\n"
          ]
        },
        {
          "name": "stdout",
          "output_type": "stream",
          "text": [
            "Validation at epoch 3 Mean IOU: 66.78\n",
            "Validation at epoch 3 Mean F1 best: 0.8133\n",
            "Validation at epoch 3 Mean F1 fixed: 0.7424\n",
            "Validation at epoch 3 Mean AP: 0.8427\n"
          ]
        },
        {
          "name": "stderr",
          "output_type": "stream",
          "text": [
            "\r 40%|████      | 4/10 [01:46<02:39, 26.57s/it]"
          ]
        },
        {
          "name": "stdout",
          "output_type": "stream",
          "text": [
            "Best model saved at epoch 3!\n",
            "\n",
            "Epoch: 4\n",
            "Average Train Loss: 0.0000\n",
            "Train epoch 4 Mean IOU: 90.15\n",
            "Train epoch 4 Mean F1 best: 0.994\n",
            "Train epoch 4 Mean F1 fixed: 0.9939\n",
            "Train epoch 4 Mean AP: 0.9867\n",
            "Validation:\n",
            "Length of dataset:  300\n"
          ]
        },
        {
          "name": "stderr",
          "output_type": "stream",
          "text": [
            "\n",
            "  0%|          | 0/10 [00:00<?, ?it/s]\u001b[A\n",
            " 10%|█         | 1/10 [00:00<00:07,  1.17it/s]\u001b[A\n",
            " 20%|██        | 2/10 [00:01<00:05,  1.44it/s]\u001b[A\n",
            " 30%|███       | 3/10 [00:02<00:04,  1.55it/s]\u001b[A\n",
            " 40%|████      | 4/10 [00:02<00:03,  1.61it/s]\u001b[A\n",
            " 50%|█████     | 5/10 [00:03<00:03,  1.65it/s]\u001b[A\n",
            " 60%|██████    | 6/10 [00:03<00:02,  1.67it/s]\u001b[A\n",
            " 70%|███████   | 7/10 [00:04<00:01,  1.69it/s]\u001b[A\n",
            " 80%|████████  | 8/10 [00:04<00:01,  1.70it/s]\u001b[A\n",
            " 90%|█████████ | 9/10 [00:05<00:00,  1.70it/s]\u001b[A\n",
            "100%|██████████| 10/10 [00:05<00:00,  1.74it/s]\n",
            " 50%|█████     | 5/10 [02:12<02:11, 26.24s/it]"
          ]
        },
        {
          "name": "stdout",
          "output_type": "stream",
          "text": [
            "Validation at epoch 4 Mean IOU: 66.42\n",
            "Validation at epoch 4 Mean F1 best: 0.8096\n",
            "Validation at epoch 4 Mean F1 fixed: 0.7439\n",
            "Validation at epoch 4 Mean AP: 0.8355\n",
            "Early Stopping counter: 1 out of 5\n",
            "\n",
            "Epoch: 5\n",
            "Average Train Loss: 0.0000\n",
            "Train epoch 5 Mean IOU: 91.16\n",
            "Train epoch 5 Mean F1 best: 1.0\n",
            "Train epoch 5 Mean F1 fixed: 0.9997\n",
            "Train epoch 5 Mean AP: 0.9887\n",
            "Validation:\n",
            "Length of dataset:  300\n"
          ]
        },
        {
          "name": "stderr",
          "output_type": "stream",
          "text": [
            "\n",
            "  0%|          | 0/10 [00:00<?, ?it/s]\u001b[A\n",
            " 10%|█         | 1/10 [00:00<00:07,  1.14it/s]\u001b[A\n",
            " 20%|██        | 2/10 [00:01<00:05,  1.41it/s]\u001b[A\n",
            " 30%|███       | 3/10 [00:02<00:04,  1.54it/s]\u001b[A\n",
            " 40%|████      | 4/10 [00:02<00:03,  1.60it/s]\u001b[A\n",
            " 50%|█████     | 5/10 [00:03<00:03,  1.65it/s]\u001b[A\n",
            " 60%|██████    | 6/10 [00:03<00:02,  1.67it/s]\u001b[A\n",
            " 70%|███████   | 7/10 [00:04<00:01,  1.67it/s]\u001b[A\n",
            " 80%|████████  | 8/10 [00:04<00:01,  1.69it/s]\u001b[A\n",
            " 90%|█████████ | 9/10 [00:05<00:00,  1.69it/s]\u001b[A\n",
            "100%|██████████| 10/10 [00:05<00:00,  1.73it/s]\n",
            " 60%|██████    | 6/10 [02:37<01:44, 26.07s/it]"
          ]
        },
        {
          "name": "stdout",
          "output_type": "stream",
          "text": [
            "Validation at epoch 5 Mean IOU: 65.19\n",
            "Validation at epoch 5 Mean F1 best: 0.7985\n",
            "Validation at epoch 5 Mean F1 fixed: 0.7298\n",
            "Validation at epoch 5 Mean AP: 0.825\n",
            "Early Stopping counter: 2 out of 5\n",
            "\n",
            "Epoch: 6\n",
            "Train Loss: 0.0128 at step 100 \t Iter time: 1.63\n",
            "Average Train Loss: 0.0000\n",
            "Train epoch 6 Mean IOU: 91.55\n",
            "Train epoch 6 Mean F1 best: 0.998\n",
            "Train epoch 6 Mean F1 fixed: 0.9973\n",
            "Train epoch 6 Mean AP: 0.99\n",
            "Validation:\n",
            "Length of dataset:  300\n"
          ]
        },
        {
          "name": "stderr",
          "output_type": "stream",
          "text": [
            "\n",
            "  0%|          | 0/10 [00:00<?, ?it/s]\u001b[A\n",
            " 10%|█         | 1/10 [00:00<00:07,  1.17it/s]\u001b[A\n",
            " 20%|██        | 2/10 [00:01<00:05,  1.44it/s]\u001b[A\n",
            " 30%|███       | 3/10 [00:02<00:04,  1.56it/s]\u001b[A\n",
            " 40%|████      | 4/10 [00:02<00:03,  1.61it/s]\u001b[A\n",
            " 50%|█████     | 5/10 [00:03<00:03,  1.65it/s]\u001b[A\n",
            " 60%|██████    | 6/10 [00:03<00:02,  1.65it/s]\u001b[A\n",
            " 70%|███████   | 7/10 [00:04<00:01,  1.67it/s]\u001b[A\n",
            " 80%|████████  | 8/10 [00:04<00:01,  1.68it/s]\u001b[A\n",
            " 90%|█████████ | 9/10 [00:05<00:00,  1.69it/s]\u001b[A\n",
            "100%|██████████| 10/10 [00:05<00:00,  1.73it/s]\n",
            " 70%|███████   | 7/10 [03:03<01:17, 25.97s/it]"
          ]
        },
        {
          "name": "stdout",
          "output_type": "stream",
          "text": [
            "Validation at epoch 6 Mean IOU: 64.28\n",
            "Validation at epoch 6 Mean F1 best: 0.8115\n",
            "Validation at epoch 6 Mean F1 fixed: 0.7334\n",
            "Validation at epoch 6 Mean AP: 0.8268\n",
            "Early Stopping counter: 3 out of 5\n",
            "\n",
            "Epoch: 7\n",
            "Average Train Loss: 0.0000\n",
            "Train epoch 7 Mean IOU: 91.89\n",
            "Train epoch 7 Mean F1 best: 0.998\n",
            "Train epoch 7 Mean F1 fixed: 0.998\n",
            "Train epoch 7 Mean AP: 0.9906\n",
            "Validation:\n",
            "Length of dataset:  300\n"
          ]
        },
        {
          "name": "stderr",
          "output_type": "stream",
          "text": [
            "\n",
            "  0%|          | 0/10 [00:00<?, ?it/s]\u001b[A\n",
            " 10%|█         | 1/10 [00:00<00:07,  1.16it/s]\u001b[A\n",
            " 20%|██        | 2/10 [00:01<00:05,  1.43it/s]\u001b[A\n",
            " 30%|███       | 3/10 [00:02<00:04,  1.55it/s]\u001b[A\n",
            " 40%|████      | 4/10 [00:02<00:03,  1.60it/s]\u001b[A\n",
            " 50%|█████     | 5/10 [00:03<00:03,  1.64it/s]\u001b[A\n",
            " 60%|██████    | 6/10 [00:03<00:02,  1.66it/s]\u001b[A\n",
            " 70%|███████   | 7/10 [00:04<00:01,  1.68it/s]\u001b[A\n",
            " 80%|████████  | 8/10 [00:04<00:01,  1.69it/s]\u001b[A\n",
            " 90%|█████████ | 9/10 [00:05<00:00,  1.69it/s]\u001b[A\n",
            "100%|██████████| 10/10 [00:05<00:00,  1.73it/s]\n",
            " 80%|████████  | 8/10 [03:29<00:51, 25.91s/it]"
          ]
        },
        {
          "name": "stdout",
          "output_type": "stream",
          "text": [
            "Validation at epoch 7 Mean IOU: 65.35\n",
            "Validation at epoch 7 Mean F1 best: 0.8042\n",
            "Validation at epoch 7 Mean F1 fixed: 0.7385\n",
            "Validation at epoch 7 Mean AP: 0.8305\n",
            "Early Stopping counter: 4 out of 5\n",
            "\n",
            "Epoch: 8\n",
            "Average Train Loss: 0.0000\n",
            "Train epoch 8 Mean IOU: 92.05\n",
            "Train epoch 8 Mean F1 best: 0.998\n",
            "Train epoch 8 Mean F1 fixed: 0.9979\n",
            "Train epoch 8 Mean AP: 0.9912\n",
            "Validation:\n",
            "Length of dataset:  300\n"
          ]
        },
        {
          "name": "stderr",
          "output_type": "stream",
          "text": [
            "\n",
            "  0%|          | 0/10 [00:00<?, ?it/s]\u001b[A\n",
            " 10%|█         | 1/10 [00:00<00:07,  1.13it/s]\u001b[A\n",
            " 20%|██        | 2/10 [00:01<00:05,  1.41it/s]\u001b[A\n",
            " 30%|███       | 3/10 [00:02<00:04,  1.53it/s]\u001b[A\n",
            " 40%|████      | 4/10 [00:02<00:03,  1.60it/s]\u001b[A\n",
            " 50%|█████     | 5/10 [00:03<00:03,  1.61it/s]\u001b[A\n",
            " 60%|██████    | 6/10 [00:03<00:02,  1.64it/s]\u001b[A\n",
            " 70%|███████   | 7/10 [00:04<00:01,  1.66it/s]\u001b[A\n",
            " 80%|████████  | 8/10 [00:05<00:01,  1.68it/s]\u001b[A\n",
            " 90%|█████████ | 9/10 [00:05<00:00,  1.69it/s]\u001b[A\n",
            "100%|██████████| 10/10 [00:05<00:00,  1.72it/s]\n",
            " 90%|█████████ | 9/10 [03:55<00:25, 25.90s/it]"
          ]
        },
        {
          "name": "stdout",
          "output_type": "stream",
          "text": [
            "Validation at epoch 8 Mean IOU: 66.76\n",
            "Validation at epoch 8 Mean F1 best: 0.8124\n",
            "Validation at epoch 8 Mean F1 fixed: 0.7522\n",
            "Validation at epoch 8 Mean AP: 0.8353\n",
            "Early Stopping counter: 5 out of 5\n",
            "Early stopping triggered\n",
            "Continuing training with a learning rate reduced by a factor of 10\n",
            "\n",
            "Epoch: 9\n",
            "Train Loss: 0.0124 at step 150 \t Iter time: 1.62\n",
            "Average Train Loss: 0.0000\n",
            "Train epoch 9 Mean IOU: 92.85\n",
            "Train epoch 9 Mean F1 best: 1.0\n",
            "Train epoch 9 Mean F1 fixed: 1.0\n",
            "Train epoch 9 Mean AP: 0.9922\n",
            "Validation:\n",
            "Length of dataset:  300\n"
          ]
        },
        {
          "name": "stderr",
          "output_type": "stream",
          "text": [
            "\n",
            "  0%|          | 0/10 [00:00<?, ?it/s]\u001b[A\n",
            " 10%|█         | 1/10 [00:00<00:07,  1.18it/s]\u001b[A\n",
            " 20%|██        | 2/10 [00:01<00:05,  1.44it/s]\u001b[A\n",
            " 30%|███       | 3/10 [00:02<00:04,  1.55it/s]\u001b[A\n",
            " 40%|████      | 4/10 [00:02<00:03,  1.61it/s]\u001b[A\n",
            " 50%|█████     | 5/10 [00:03<00:03,  1.63it/s]\u001b[A\n",
            " 60%|██████    | 6/10 [00:03<00:02,  1.66it/s]\u001b[A\n",
            " 70%|███████   | 7/10 [00:04<00:01,  1.66it/s]\u001b[A\n",
            " 80%|████████  | 8/10 [00:04<00:01,  1.67it/s]\u001b[A\n",
            " 90%|█████████ | 9/10 [00:05<00:00,  1.68it/s]\u001b[A\n",
            "100%|██████████| 10/10 [00:05<00:00,  1.73it/s]\n",
            "100%|██████████| 10/10 [04:21<00:00, 26.11s/it]\n"
          ]
        },
        {
          "name": "stdout",
          "output_type": "stream",
          "text": [
            "Validation at epoch 9 Mean IOU: 66.38\n",
            "Validation at epoch 9 Mean F1 best: 0.8039\n",
            "Validation at epoch 9 Mean F1 fixed: 0.7383\n",
            "Validation at epoch 9 Mean AP: 0.8298\n",
            "\n",
            "Round 3, with 750 samples of the 4th dataset\n",
            "Length of training set: 750\n",
            "Length of validation set: 300\n"
          ]
        },
        {
          "name": "stderr",
          "output_type": "stream",
          "text": [
            "\r  0%|          | 0/10 [00:00<?, ?it/s]"
          ]
        },
        {
          "name": "stdout",
          "output_type": "stream",
          "text": [
            "Epoch: 0\n",
            "Average Train Loss: 0.0000\n",
            "Train epoch 0 Mean IOU: 80.64\n",
            "Train epoch 0 Mean F1 best: 0.9554\n",
            "Train epoch 0 Mean F1 fixed: 0.9175\n",
            "Train epoch 0 Mean AP: 0.9527\n",
            "Validation:\n",
            "Length of dataset:  300\n"
          ]
        },
        {
          "name": "stderr",
          "output_type": "stream",
          "text": [
            "\n",
            "  0%|          | 0/10 [00:00<?, ?it/s]\u001b[A\n",
            " 10%|█         | 1/10 [00:00<00:07,  1.14it/s]\u001b[A\n",
            " 20%|██        | 2/10 [00:01<00:05,  1.43it/s]\u001b[A\n",
            " 30%|███       | 3/10 [00:02<00:04,  1.54it/s]\u001b[A\n",
            " 40%|████      | 4/10 [00:02<00:03,  1.61it/s]\u001b[A\n",
            " 50%|█████     | 5/10 [00:03<00:03,  1.65it/s]\u001b[A\n",
            " 60%|██████    | 6/10 [00:03<00:02,  1.67it/s]\u001b[A\n",
            " 70%|███████   | 7/10 [00:04<00:01,  1.69it/s]\u001b[A\n",
            " 80%|████████  | 8/10 [00:04<00:01,  1.70it/s]\u001b[A\n",
            " 90%|█████████ | 9/10 [00:05<00:00,  1.71it/s]\u001b[A\n",
            "100%|██████████| 10/10 [00:05<00:00,  1.74it/s]\n"
          ]
        },
        {
          "name": "stdout",
          "output_type": "stream",
          "text": [
            "Validation at epoch 0 Mean IOU: 62.36\n",
            "Validation at epoch 0 Mean F1 best: 0.83\n",
            "Validation at epoch 0 Mean F1 fixed: 0.7289\n",
            "Validation at epoch 0 Mean AP: 0.8197\n"
          ]
        },
        {
          "name": "stderr",
          "output_type": "stream",
          "text": [
            "\r 10%|█         | 1/10 [00:37<05:35, 37.25s/it]"
          ]
        },
        {
          "name": "stdout",
          "output_type": "stream",
          "text": [
            "Best model saved at epoch 0!\n",
            "\n",
            "Epoch: 1\n",
            "Average Train Loss: 0.0000\n",
            "Train epoch 1 Mean IOU: 84.9\n",
            "Train epoch 1 Mean F1 best: 0.9823\n",
            "Train epoch 1 Mean F1 fixed: 0.9727\n",
            "Train epoch 1 Mean AP: 0.9711\n",
            "Validation:\n",
            "Length of dataset:  300\n"
          ]
        },
        {
          "name": "stderr",
          "output_type": "stream",
          "text": [
            "\n",
            "  0%|          | 0/10 [00:00<?, ?it/s]\u001b[A\n",
            " 10%|█         | 1/10 [00:00<00:07,  1.13it/s]\u001b[A\n",
            " 20%|██        | 2/10 [00:01<00:05,  1.42it/s]\u001b[A\n",
            " 30%|███       | 3/10 [00:02<00:04,  1.54it/s]\u001b[A\n",
            " 40%|████      | 4/10 [00:02<00:03,  1.60it/s]\u001b[A\n",
            " 50%|█████     | 5/10 [00:03<00:03,  1.64it/s]\u001b[A\n",
            " 60%|██████    | 6/10 [00:03<00:02,  1.66it/s]\u001b[A\n",
            " 70%|███████   | 7/10 [00:04<00:01,  1.68it/s]\u001b[A\n",
            " 80%|████████  | 8/10 [00:04<00:01,  1.69it/s]\u001b[A\n",
            " 90%|█████████ | 9/10 [00:05<00:00,  1.69it/s]\u001b[A\n",
            "100%|██████████| 10/10 [00:05<00:00,  1.73it/s]\n"
          ]
        },
        {
          "name": "stdout",
          "output_type": "stream",
          "text": [
            "Validation at epoch 1 Mean IOU: 68.58\n",
            "Validation at epoch 1 Mean F1 best: 0.8469\n",
            "Validation at epoch 1 Mean F1 fixed: 0.763\n",
            "Validation at epoch 1 Mean AP: 0.8616\n"
          ]
        },
        {
          "name": "stderr",
          "output_type": "stream",
          "text": [
            "\r 20%|██        | 2/10 [01:13<04:55, 36.94s/it]"
          ]
        },
        {
          "name": "stdout",
          "output_type": "stream",
          "text": [
            "Best model saved at epoch 1!\n",
            "\n",
            "Epoch: 2\n",
            "Train Loss: 0.0287 at step 50 \t Iter time: 1.54\n",
            "Average Train Loss: 0.0000\n",
            "Train epoch 2 Mean IOU: 87.78\n",
            "Train epoch 2 Mean F1 best: 0.9959\n",
            "Train epoch 2 Mean F1 fixed: 0.9936\n",
            "Train epoch 2 Mean AP: 0.9813\n",
            "Validation:\n",
            "Length of dataset:  300\n"
          ]
        },
        {
          "name": "stderr",
          "output_type": "stream",
          "text": [
            "\n",
            "  0%|          | 0/10 [00:00<?, ?it/s]\u001b[A\n",
            " 10%|█         | 1/10 [00:00<00:07,  1.13it/s]\u001b[A\n",
            " 20%|██        | 2/10 [00:01<00:05,  1.42it/s]\u001b[A\n",
            " 30%|███       | 3/10 [00:02<00:04,  1.53it/s]\u001b[A\n",
            " 40%|████      | 4/10 [00:02<00:03,  1.59it/s]\u001b[A\n",
            " 50%|█████     | 5/10 [00:03<00:03,  1.64it/s]\u001b[A\n",
            " 60%|██████    | 6/10 [00:03<00:02,  1.67it/s]\u001b[A\n",
            " 70%|███████   | 7/10 [00:04<00:01,  1.69it/s]\u001b[A\n",
            " 80%|████████  | 8/10 [00:04<00:01,  1.69it/s]\u001b[A\n",
            " 90%|█████████ | 9/10 [00:05<00:00,  1.70it/s]\u001b[A\n",
            "100%|██████████| 10/10 [00:05<00:00,  1.73it/s]\n",
            " 30%|███       | 3/10 [01:49<04:14, 36.37s/it]"
          ]
        },
        {
          "name": "stdout",
          "output_type": "stream",
          "text": [
            "Validation at epoch 2 Mean IOU: 66.82\n",
            "Validation at epoch 2 Mean F1 best: 0.8124\n",
            "Validation at epoch 2 Mean F1 fixed: 0.7362\n",
            "Validation at epoch 2 Mean AP: 0.839\n",
            "Early Stopping counter: 1 out of 5\n",
            "\n",
            "Epoch: 3\n",
            "Average Train Loss: 0.0000\n",
            "Train epoch 3 Mean IOU: 89.14\n",
            "Train epoch 3 Mean F1 best: 0.996\n",
            "Train epoch 3 Mean F1 fixed: 0.9944\n",
            "Train epoch 3 Mean AP: 0.9847\n",
            "Validation:\n",
            "Length of dataset:  300\n"
          ]
        },
        {
          "name": "stderr",
          "output_type": "stream",
          "text": [
            "\n",
            "  0%|          | 0/10 [00:00<?, ?it/s]\u001b[A\n",
            " 10%|█         | 1/10 [00:00<00:07,  1.25it/s]\u001b[A\n",
            " 20%|██        | 2/10 [00:01<00:05,  1.48it/s]\u001b[A\n",
            " 30%|███       | 3/10 [00:01<00:04,  1.59it/s]\u001b[A\n",
            " 40%|████      | 4/10 [00:02<00:03,  1.64it/s]\u001b[A\n",
            " 50%|█████     | 5/10 [00:03<00:03,  1.66it/s]\u001b[A\n",
            " 60%|██████    | 6/10 [00:03<00:02,  1.68it/s]\u001b[A\n",
            " 70%|███████   | 7/10 [00:04<00:01,  1.69it/s]\u001b[A\n",
            " 80%|████████  | 8/10 [00:04<00:01,  1.70it/s]\u001b[A\n",
            " 90%|█████████ | 9/10 [00:05<00:00,  1.70it/s]\u001b[A\n",
            "100%|██████████| 10/10 [00:05<00:00,  1.76it/s]\n",
            " 40%|████      | 4/10 [02:25<03:36, 36.11s/it]"
          ]
        },
        {
          "name": "stdout",
          "output_type": "stream",
          "text": [
            "Validation at epoch 3 Mean IOU: 66.66\n",
            "Validation at epoch 3 Mean F1 best: 0.8226\n",
            "Validation at epoch 3 Mean F1 fixed: 0.743\n",
            "Validation at epoch 3 Mean AP: 0.849\n",
            "Early Stopping counter: 2 out of 5\n",
            "\n",
            "Epoch: 4\n",
            "Train Loss: 0.0209 at step 100 \t Iter time: 1.51\n",
            "Average Train Loss: 0.0000\n",
            "Train epoch 4 Mean IOU: 90.4\n",
            "Train epoch 4 Mean F1 best: 0.9986\n",
            "Train epoch 4 Mean F1 fixed: 0.9985\n",
            "Train epoch 4 Mean AP: 0.987\n",
            "Validation:\n",
            "Length of dataset:  300\n"
          ]
        },
        {
          "name": "stderr",
          "output_type": "stream",
          "text": [
            "\n",
            "  0%|          | 0/10 [00:00<?, ?it/s]\u001b[A\n",
            " 10%|█         | 1/10 [00:00<00:07,  1.27it/s]\u001b[A\n",
            " 20%|██        | 2/10 [00:01<00:05,  1.50it/s]\u001b[A\n",
            " 30%|███       | 3/10 [00:01<00:04,  1.59it/s]\u001b[A\n",
            " 40%|████      | 4/10 [00:02<00:03,  1.64it/s]\u001b[A\n",
            " 50%|█████     | 5/10 [00:03<00:03,  1.66it/s]\u001b[A\n",
            " 60%|██████    | 6/10 [00:03<00:02,  1.68it/s]\u001b[A\n",
            " 70%|███████   | 7/10 [00:04<00:01,  1.69it/s]\u001b[A\n",
            " 80%|████████  | 8/10 [00:04<00:01,  1.70it/s]\u001b[A\n",
            " 90%|█████████ | 9/10 [00:05<00:00,  1.70it/s]\u001b[A\n",
            "100%|██████████| 10/10 [00:05<00:00,  1.76it/s]\n",
            " 50%|█████     | 5/10 [03:01<02:59, 35.95s/it]"
          ]
        },
        {
          "name": "stdout",
          "output_type": "stream",
          "text": [
            "Validation at epoch 4 Mean IOU: 66.3\n",
            "Validation at epoch 4 Mean F1 best: 0.8298\n",
            "Validation at epoch 4 Mean F1 fixed: 0.7591\n",
            "Validation at epoch 4 Mean AP: 0.8417\n",
            "Early Stopping counter: 3 out of 5\n",
            "\n",
            "Epoch: 5\n",
            "Average Train Loss: 0.0000\n",
            "Train epoch 5 Mean IOU: 90.89\n",
            "Train epoch 5 Mean F1 best: 1.0\n",
            "Train epoch 5 Mean F1 fixed: 0.9993\n",
            "Train epoch 5 Mean AP: 0.9886\n",
            "Validation:\n",
            "Length of dataset:  300\n"
          ]
        },
        {
          "name": "stderr",
          "output_type": "stream",
          "text": [
            "\n",
            "  0%|          | 0/10 [00:00<?, ?it/s]\u001b[A\n",
            " 10%|█         | 1/10 [00:00<00:06,  1.29it/s]\u001b[A\n",
            " 20%|██        | 2/10 [00:01<00:05,  1.51it/s]\u001b[A\n",
            " 30%|███       | 3/10 [00:01<00:04,  1.60it/s]\u001b[A\n",
            " 40%|████      | 4/10 [00:02<00:03,  1.64it/s]\u001b[A\n",
            " 50%|█████     | 5/10 [00:03<00:03,  1.66it/s]\u001b[A\n",
            " 60%|██████    | 6/10 [00:03<00:02,  1.68it/s]\u001b[A\n",
            " 70%|███████   | 7/10 [00:04<00:01,  1.69it/s]\u001b[A\n",
            " 80%|████████  | 8/10 [00:04<00:01,  1.70it/s]\u001b[A\n",
            " 90%|█████████ | 9/10 [00:05<00:00,  1.70it/s]\u001b[A\n",
            "100%|██████████| 10/10 [00:05<00:00,  1.76it/s]\n",
            " 60%|██████    | 6/10 [03:36<02:23, 35.84s/it]"
          ]
        },
        {
          "name": "stdout",
          "output_type": "stream",
          "text": [
            "Validation at epoch 5 Mean IOU: 67.27\n",
            "Validation at epoch 5 Mean F1 best: 0.8055\n",
            "Validation at epoch 5 Mean F1 fixed: 0.7347\n",
            "Validation at epoch 5 Mean AP: 0.842\n",
            "Early Stopping counter: 4 out of 5\n",
            "\n",
            "Epoch: 6\n",
            "Train Loss: 0.0188 at step 150 \t Iter time: 1.50\n",
            "Average Train Loss: 0.0000\n",
            "Train epoch 6 Mean IOU: 91.35\n",
            "Train epoch 6 Mean F1 best: 0.996\n",
            "Train epoch 6 Mean F1 fixed: 0.9944\n",
            "Train epoch 6 Mean AP: 0.9893\n",
            "Validation:\n",
            "Length of dataset:  300\n"
          ]
        },
        {
          "name": "stderr",
          "output_type": "stream",
          "text": [
            "\n",
            "  0%|          | 0/10 [00:00<?, ?it/s]\u001b[A\n",
            " 10%|█         | 1/10 [00:00<00:07,  1.16it/s]\u001b[A\n",
            " 20%|██        | 2/10 [00:01<00:05,  1.43it/s]\u001b[A\n",
            " 30%|███       | 3/10 [00:02<00:04,  1.55it/s]\u001b[A\n",
            " 40%|████      | 4/10 [00:02<00:03,  1.61it/s]\u001b[A\n",
            " 50%|█████     | 5/10 [00:03<00:03,  1.65it/s]\u001b[A\n",
            " 60%|██████    | 6/10 [00:03<00:02,  1.67it/s]\u001b[A\n",
            " 70%|███████   | 7/10 [00:04<00:01,  1.69it/s]\u001b[A\n",
            " 80%|████████  | 8/10 [00:04<00:01,  1.70it/s]\u001b[A\n",
            " 90%|█████████ | 9/10 [00:05<00:00,  1.71it/s]\u001b[A\n",
            "100%|██████████| 10/10 [00:05<00:00,  1.74it/s]\n",
            " 70%|███████   | 7/10 [04:12<01:47, 35.82s/it]"
          ]
        },
        {
          "name": "stdout",
          "output_type": "stream",
          "text": [
            "Validation at epoch 6 Mean IOU: 65.12\n",
            "Validation at epoch 6 Mean F1 best: 0.818\n",
            "Validation at epoch 6 Mean F1 fixed: 0.7402\n",
            "Validation at epoch 6 Mean AP: 0.8338\n",
            "Early Stopping counter: 5 out of 5\n",
            "Early stopping triggered\n",
            "Continuing training with a learning rate reduced by a factor of 10\n",
            "\n",
            "Epoch: 7\n",
            "Average Train Loss: 0.0000\n",
            "Train epoch 7 Mean IOU: 92.17\n",
            "Train epoch 7 Mean F1 best: 0.996\n",
            "Train epoch 7 Mean F1 fixed: 0.995\n",
            "Train epoch 7 Mean AP: 0.9907\n",
            "Validation:\n",
            "Length of dataset:  300\n"
          ]
        },
        {
          "name": "stderr",
          "output_type": "stream",
          "text": [
            "\n",
            "  0%|          | 0/10 [00:00<?, ?it/s]\u001b[A\n",
            " 10%|█         | 1/10 [00:00<00:07,  1.28it/s]\u001b[A\n",
            " 20%|██        | 2/10 [00:01<00:05,  1.51it/s]\u001b[A\n",
            " 30%|███       | 3/10 [00:01<00:04,  1.60it/s]\u001b[A\n",
            " 40%|████      | 4/10 [00:02<00:03,  1.64it/s]\u001b[A\n",
            " 50%|█████     | 5/10 [00:03<00:03,  1.66it/s]\u001b[A\n",
            " 60%|██████    | 6/10 [00:03<00:02,  1.68it/s]\u001b[A\n",
            " 70%|███████   | 7/10 [00:04<00:01,  1.69it/s]\u001b[A\n",
            " 80%|████████  | 8/10 [00:04<00:01,  1.70it/s]\u001b[A\n",
            " 90%|█████████ | 9/10 [00:05<00:00,  1.70it/s]\u001b[A\n",
            "100%|██████████| 10/10 [00:05<00:00,  1.76it/s]\n",
            " 80%|████████  | 8/10 [04:48<01:11, 35.77s/it]"
          ]
        },
        {
          "name": "stdout",
          "output_type": "stream",
          "text": [
            "Validation at epoch 7 Mean IOU: 67.24\n",
            "Validation at epoch 7 Mean F1 best: 0.8058\n",
            "Validation at epoch 7 Mean F1 fixed: 0.7359\n",
            "Validation at epoch 7 Mean AP: 0.8358\n",
            "\n",
            "Epoch: 8\n",
            "Train Loss: 0.0130 at step 200 \t Iter time: 1.49\n",
            "Average Train Loss: 0.0000\n",
            "Train epoch 8 Mean IOU: 92.46\n",
            "Train epoch 8 Mean F1 best: 0.9973\n",
            "Train epoch 8 Mean F1 fixed: 0.9973\n",
            "Train epoch 8 Mean AP: 0.9915\n",
            "Validation:\n",
            "Length of dataset:  300\n"
          ]
        },
        {
          "name": "stderr",
          "output_type": "stream",
          "text": [
            "\n",
            "  0%|          | 0/10 [00:00<?, ?it/s]\u001b[A\n",
            " 10%|█         | 1/10 [00:00<00:07,  1.27it/s]\u001b[A\n",
            " 20%|██        | 2/10 [00:01<00:05,  1.50it/s]\u001b[A\n",
            " 30%|███       | 3/10 [00:01<00:04,  1.59it/s]\u001b[A\n",
            " 40%|████      | 4/10 [00:02<00:03,  1.63it/s]\u001b[A\n",
            " 50%|█████     | 5/10 [00:03<00:03,  1.66it/s]\u001b[A\n",
            " 60%|██████    | 6/10 [00:03<00:02,  1.68it/s]\u001b[A\n",
            " 70%|███████   | 7/10 [00:04<00:01,  1.69it/s]\u001b[A\n",
            " 80%|████████  | 8/10 [00:04<00:01,  1.70it/s]\u001b[A\n",
            " 90%|█████████ | 9/10 [00:05<00:00,  1.71it/s]\u001b[A\n",
            "100%|██████████| 10/10 [00:05<00:00,  1.76it/s]\n",
            " 90%|█████████ | 9/10 [05:23<00:35, 35.75s/it]"
          ]
        },
        {
          "name": "stdout",
          "output_type": "stream",
          "text": [
            "Validation at epoch 8 Mean IOU: 67.3\n",
            "Validation at epoch 8 Mean F1 best: 0.8081\n",
            "Validation at epoch 8 Mean F1 fixed: 0.7378\n",
            "Validation at epoch 8 Mean AP: 0.8373\n",
            "\n",
            "Epoch: 9\n",
            "Average Train Loss: 0.0000\n",
            "Train epoch 9 Mean IOU: 92.58\n",
            "Train epoch 9 Mean F1 best: 1.0\n",
            "Train epoch 9 Mean F1 fixed: 1.0\n",
            "Train epoch 9 Mean AP: 0.9915\n",
            "Validation:\n",
            "Length of dataset:  300\n"
          ]
        },
        {
          "name": "stderr",
          "output_type": "stream",
          "text": [
            "\n",
            "  0%|          | 0/10 [00:00<?, ?it/s]\u001b[A\n",
            " 10%|█         | 1/10 [00:00<00:08,  1.11it/s]\u001b[A\n",
            " 20%|██        | 2/10 [00:01<00:05,  1.40it/s]\u001b[A\n",
            " 30%|███       | 3/10 [00:02<00:04,  1.53it/s]\u001b[A\n",
            " 40%|████      | 4/10 [00:02<00:03,  1.60it/s]\u001b[A\n",
            " 50%|█████     | 5/10 [00:03<00:03,  1.64it/s]\u001b[A\n",
            " 60%|██████    | 6/10 [00:03<00:02,  1.67it/s]\u001b[A\n",
            " 70%|███████   | 7/10 [00:04<00:01,  1.68it/s]\u001b[A\n",
            " 80%|████████  | 8/10 [00:04<00:01,  1.69it/s]\u001b[A\n",
            " 90%|█████████ | 9/10 [00:05<00:00,  1.69it/s]\u001b[A\n",
            "100%|██████████| 10/10 [00:05<00:00,  1.73it/s]\n",
            "100%|██████████| 10/10 [05:59<00:00, 35.96s/it]\n"
          ]
        },
        {
          "name": "stdout",
          "output_type": "stream",
          "text": [
            "Validation at epoch 9 Mean IOU: 67.25\n",
            "Validation at epoch 9 Mean F1 best: 0.811\n",
            "Validation at epoch 9 Mean F1 fixed: 0.7412\n",
            "Validation at epoch 9 Mean AP: 0.8391\n",
            "Early Stopping counter: 1 out of 5\n",
            "\n",
            "Round 4, with 1000 samples of the 4th dataset\n",
            "Length of training set: 1000\n",
            "Length of validation set: 300\n"
          ]
        },
        {
          "name": "stderr",
          "output_type": "stream",
          "text": [
            "\r  0%|          | 0/10 [00:00<?, ?it/s]"
          ]
        },
        {
          "name": "stdout",
          "output_type": "stream",
          "text": [
            "Epoch: 0\n",
            "Average Train Loss: 0.0000\n",
            "Train epoch 0 Mean IOU: 81.7\n",
            "Train epoch 0 Mean F1 best: 0.9666\n",
            "Train epoch 0 Mean F1 fixed: 0.9445\n",
            "Train epoch 0 Mean AP: 0.9545\n",
            "Validation:\n",
            "Length of dataset:  300\n"
          ]
        },
        {
          "name": "stderr",
          "output_type": "stream",
          "text": [
            "\n",
            "  0%|          | 0/10 [00:00<?, ?it/s]\u001b[A\n",
            " 10%|█         | 1/10 [00:00<00:07,  1.23it/s]\u001b[A\n",
            " 20%|██        | 2/10 [00:01<00:05,  1.47it/s]\u001b[A\n",
            " 30%|███       | 3/10 [00:01<00:04,  1.57it/s]\u001b[A\n",
            " 40%|████      | 4/10 [00:02<00:03,  1.63it/s]\u001b[A\n",
            " 50%|█████     | 5/10 [00:03<00:03,  1.66it/s]\u001b[A\n",
            " 60%|██████    | 6/10 [00:03<00:02,  1.68it/s]\u001b[A\n",
            " 70%|███████   | 7/10 [00:04<00:01,  1.69it/s]\u001b[A\n",
            " 80%|████████  | 8/10 [00:04<00:01,  1.70it/s]\u001b[A\n",
            " 90%|█████████ | 9/10 [00:05<00:00,  1.71it/s]\u001b[A\n",
            "100%|██████████| 10/10 [00:05<00:00,  1.75it/s]\n"
          ]
        },
        {
          "name": "stdout",
          "output_type": "stream",
          "text": [
            "Validation at epoch 0 Mean IOU: 63.83\n",
            "Validation at epoch 0 Mean F1 best: 0.8187\n",
            "Validation at epoch 0 Mean F1 fixed: 0.7288\n",
            "Validation at epoch 0 Mean AP: 0.8326\n"
          ]
        },
        {
          "name": "stderr",
          "output_type": "stream",
          "text": [
            "\r 10%|█         | 1/10 [00:47<07:06, 47.38s/it]"
          ]
        },
        {
          "name": "stdout",
          "output_type": "stream",
          "text": [
            "Best model saved at epoch 0!\n",
            "\n",
            "Epoch: 1\n",
            "Train Loss: 0.0264 at step 50 \t Iter time: 1.41\n",
            "Average Train Loss: 0.0000\n",
            "Train epoch 1 Mean IOU: 85.58\n",
            "Train epoch 1 Mean F1 best: 0.9753\n",
            "Train epoch 1 Mean F1 fixed: 0.9681\n",
            "Train epoch 1 Mean AP: 0.9725\n",
            "Validation:\n",
            "Length of dataset:  300\n"
          ]
        },
        {
          "name": "stderr",
          "output_type": "stream",
          "text": [
            "\n",
            "  0%|          | 0/10 [00:00<?, ?it/s]\u001b[A\n",
            " 10%|█         | 1/10 [00:00<00:07,  1.24it/s]\u001b[A\n",
            " 20%|██        | 2/10 [00:01<00:05,  1.48it/s]\u001b[A\n",
            " 30%|███       | 3/10 [00:01<00:04,  1.58it/s]\u001b[A\n",
            " 40%|████      | 4/10 [00:02<00:03,  1.60it/s]\u001b[A\n",
            " 50%|█████     | 5/10 [00:03<00:03,  1.63it/s]\u001b[A\n",
            " 60%|██████    | 6/10 [00:03<00:02,  1.66it/s]\u001b[A\n",
            " 70%|███████   | 7/10 [00:04<00:01,  1.67it/s]\u001b[A\n",
            " 80%|████████  | 8/10 [00:04<00:01,  1.69it/s]\u001b[A\n",
            " 90%|█████████ | 9/10 [00:05<00:00,  1.70it/s]\u001b[A\n",
            "100%|██████████| 10/10 [00:05<00:00,  1.74it/s]\n",
            " 20%|██        | 2/10 [01:33<06:11, 46.43s/it]"
          ]
        },
        {
          "name": "stdout",
          "output_type": "stream",
          "text": [
            "Validation at epoch 1 Mean IOU: 63.59\n",
            "Validation at epoch 1 Mean F1 best: 0.8291\n",
            "Validation at epoch 1 Mean F1 fixed: 0.7444\n",
            "Validation at epoch 1 Mean AP: 0.841\n",
            "Early Stopping counter: 1 out of 5\n",
            "\n",
            "Epoch: 2\n",
            "Average Train Loss: 0.0000\n",
            "Train epoch 2 Mean IOU: 87.7\n",
            "Train epoch 2 Mean F1 best: 0.9925\n",
            "Train epoch 2 Mean F1 fixed: 0.9864\n",
            "Train epoch 2 Mean AP: 0.9805\n",
            "Validation:\n",
            "Length of dataset:  300\n"
          ]
        },
        {
          "name": "stderr",
          "output_type": "stream",
          "text": [
            "\n",
            "  0%|          | 0/10 [00:00<?, ?it/s]\u001b[A\n",
            " 10%|█         | 1/10 [00:00<00:07,  1.18it/s]\u001b[A\n",
            " 20%|██        | 2/10 [00:01<00:05,  1.44it/s]\u001b[A\n",
            " 30%|███       | 3/10 [00:02<00:04,  1.56it/s]\u001b[A\n",
            " 40%|████      | 4/10 [00:02<00:03,  1.61it/s]\u001b[A\n",
            " 50%|█████     | 5/10 [00:03<00:03,  1.65it/s]\u001b[A\n",
            " 60%|██████    | 6/10 [00:03<00:02,  1.67it/s]\u001b[A\n",
            " 70%|███████   | 7/10 [00:04<00:01,  1.68it/s]\u001b[A\n",
            " 80%|████████  | 8/10 [00:04<00:01,  1.69it/s]\u001b[A\n",
            " 90%|█████████ | 9/10 [00:05<00:00,  1.70it/s]\u001b[A\n",
            "100%|██████████| 10/10 [00:05<00:00,  1.74it/s]\n",
            " 30%|███       | 3/10 [02:19<05:23, 46.19s/it]"
          ]
        },
        {
          "name": "stdout",
          "output_type": "stream",
          "text": [
            "Validation at epoch 2 Mean IOU: 56.59\n",
            "Validation at epoch 2 Mean F1 best: 0.7991\n",
            "Validation at epoch 2 Mean F1 fixed: 0.6778\n",
            "Validation at epoch 2 Mean AP: 0.8018\n",
            "Early Stopping counter: 2 out of 5\n",
            "\n",
            "Epoch: 3\n",
            "Train Loss: 0.0216 at step 100 \t Iter time: 1.44\n",
            "Average Train Loss: 0.0000\n",
            "Train epoch 3 Mean IOU: 88.7\n",
            "Train epoch 3 Mean F1 best: 0.9922\n",
            "Train epoch 3 Mean F1 fixed: 0.987\n",
            "Train epoch 3 Mean AP: 0.9831\n",
            "Validation:\n",
            "Length of dataset:  300\n"
          ]
        },
        {
          "name": "stderr",
          "output_type": "stream",
          "text": [
            "\n",
            "  0%|          | 0/10 [00:00<?, ?it/s]\u001b[A\n",
            " 10%|█         | 1/10 [00:00<00:07,  1.14it/s]\u001b[A\n",
            " 20%|██        | 2/10 [00:01<00:05,  1.41it/s]\u001b[A\n",
            " 30%|███       | 3/10 [00:02<00:04,  1.53it/s]\u001b[A\n",
            " 40%|████      | 4/10 [00:02<00:03,  1.60it/s]\u001b[A\n",
            " 50%|█████     | 5/10 [00:03<00:03,  1.64it/s]\u001b[A\n",
            " 60%|██████    | 6/10 [00:03<00:02,  1.66it/s]\u001b[A\n",
            " 70%|███████   | 7/10 [00:04<00:01,  1.68it/s]\u001b[A\n",
            " 80%|████████  | 8/10 [00:04<00:01,  1.69it/s]\u001b[A\n",
            " 90%|█████████ | 9/10 [00:05<00:00,  1.68it/s]\u001b[A\n",
            "100%|██████████| 10/10 [00:05<00:00,  1.72it/s]\n"
          ]
        },
        {
          "name": "stdout",
          "output_type": "stream",
          "text": [
            "Validation at epoch 3 Mean IOU: 65.48\n",
            "Validation at epoch 3 Mean F1 best: 0.8673\n",
            "Validation at epoch 3 Mean F1 fixed: 0.7815\n",
            "Validation at epoch 3 Mean AP: 0.8596\n"
          ]
        },
        {
          "name": "stderr",
          "output_type": "stream",
          "text": [
            "\r 40%|████      | 4/10 [03:05<04:38, 46.36s/it]"
          ]
        },
        {
          "name": "stdout",
          "output_type": "stream",
          "text": [
            "Best model saved at epoch 3!\n",
            "\n",
            "Epoch: 4\n",
            "Train Loss: 0.0209 at step 150 \t Iter time: 1.43\n",
            "Average Train Loss: 0.0000\n",
            "Train epoch 4 Mean IOU: 89.51\n",
            "Train epoch 4 Mean F1 best: 0.9967\n",
            "Train epoch 4 Mean F1 fixed: 0.9928\n",
            "Train epoch 4 Mean AP: 0.9846\n",
            "Validation:\n",
            "Length of dataset:  300\n"
          ]
        },
        {
          "name": "stderr",
          "output_type": "stream",
          "text": [
            "\n",
            "  0%|          | 0/10 [00:00<?, ?it/s]\u001b[A\n",
            " 10%|█         | 1/10 [00:00<00:07,  1.14it/s]\u001b[A\n",
            " 20%|██        | 2/10 [00:01<00:05,  1.42it/s]\u001b[A\n",
            " 30%|███       | 3/10 [00:02<00:04,  1.54it/s]\u001b[A\n",
            " 40%|████      | 4/10 [00:02<00:03,  1.60it/s]\u001b[A\n",
            " 50%|█████     | 5/10 [00:03<00:03,  1.64it/s]\u001b[A\n",
            " 60%|██████    | 6/10 [00:03<00:02,  1.67it/s]\u001b[A\n",
            " 70%|███████   | 7/10 [00:04<00:01,  1.68it/s]\u001b[A\n",
            " 80%|████████  | 8/10 [00:04<00:01,  1.69it/s]\u001b[A\n",
            " 90%|█████████ | 9/10 [00:05<00:00,  1.70it/s]\u001b[A\n",
            "100%|██████████| 10/10 [00:05<00:00,  1.73it/s]\n",
            " 50%|█████     | 5/10 [03:51<03:50, 46.16s/it]"
          ]
        },
        {
          "name": "stdout",
          "output_type": "stream",
          "text": [
            "Validation at epoch 4 Mean IOU: 65.25\n",
            "Validation at epoch 4 Mean F1 best: 0.8283\n",
            "Validation at epoch 4 Mean F1 fixed: 0.7513\n",
            "Validation at epoch 4 Mean AP: 0.84\n",
            "Early Stopping counter: 1 out of 5\n",
            "\n",
            "Epoch: 5\n",
            "Average Train Loss: 0.0000\n",
            "Train epoch 5 Mean IOU: 90.19\n",
            "Train epoch 5 Mean F1 best: 0.9934\n",
            "Train epoch 5 Mean F1 fixed: 0.9923\n",
            "Train epoch 5 Mean AP: 0.9866\n",
            "Validation:\n",
            "Length of dataset:  300\n"
          ]
        },
        {
          "name": "stderr",
          "output_type": "stream",
          "text": [
            "\n",
            "  0%|          | 0/10 [00:00<?, ?it/s]\u001b[A\n",
            " 10%|█         | 1/10 [00:00<00:06,  1.30it/s]\u001b[A\n",
            " 20%|██        | 2/10 [00:01<00:05,  1.51it/s]\u001b[A\n",
            " 30%|███       | 3/10 [00:01<00:04,  1.59it/s]\u001b[A\n",
            " 40%|████      | 4/10 [00:02<00:03,  1.64it/s]\u001b[A\n",
            " 50%|█████     | 5/10 [00:03<00:03,  1.66it/s]\u001b[A\n",
            " 60%|██████    | 6/10 [00:03<00:02,  1.68it/s]\u001b[A\n",
            " 70%|███████   | 7/10 [00:04<00:01,  1.69it/s]\u001b[A\n",
            " 80%|████████  | 8/10 [00:04<00:01,  1.70it/s]\u001b[A\n",
            " 90%|█████████ | 9/10 [00:05<00:00,  1.70it/s]\u001b[A\n",
            "100%|██████████| 10/10 [00:05<00:00,  1.76it/s]\n"
          ]
        },
        {
          "name": "stdout",
          "output_type": "stream",
          "text": [
            "Validation at epoch 5 Mean IOU: 68.89\n",
            "Validation at epoch 5 Mean F1 best: 0.8721\n",
            "Validation at epoch 5 Mean F1 fixed: 0.808\n",
            "Validation at epoch 5 Mean AP: 0.8706\n"
          ]
        },
        {
          "name": "stderr",
          "output_type": "stream",
          "text": [
            "\r 60%|██████    | 6/10 [04:38<03:05, 46.33s/it]"
          ]
        },
        {
          "name": "stdout",
          "output_type": "stream",
          "text": [
            "Best model saved at epoch 5!\n",
            "\n",
            "Epoch: 6\n",
            "Train Loss: 0.0257 at step 200 \t Iter time: 1.45\n",
            "Average Train Loss: 0.0000\n",
            "Train epoch 6 Mean IOU: 91.06\n",
            "Train epoch 6 Mean F1 best: 0.9984\n",
            "Train epoch 6 Mean F1 fixed: 0.9964\n",
            "Train epoch 6 Mean AP: 0.9887\n",
            "Validation:\n",
            "Length of dataset:  300\n"
          ]
        },
        {
          "name": "stderr",
          "output_type": "stream",
          "text": [
            "\n",
            "  0%|          | 0/10 [00:00<?, ?it/s]\u001b[A\n",
            " 10%|█         | 1/10 [00:00<00:07,  1.15it/s]\u001b[A\n",
            " 20%|██        | 2/10 [00:01<00:05,  1.42it/s]\u001b[A\n",
            " 30%|███       | 3/10 [00:02<00:04,  1.51it/s]\u001b[A\n",
            " 40%|████      | 4/10 [00:02<00:03,  1.59it/s]\u001b[A\n",
            " 50%|█████     | 5/10 [00:03<00:03,  1.63it/s]\u001b[A\n",
            " 60%|██████    | 6/10 [00:03<00:02,  1.66it/s]\u001b[A\n",
            " 70%|███████   | 7/10 [00:04<00:01,  1.68it/s]\u001b[A\n",
            " 80%|████████  | 8/10 [00:04<00:01,  1.69it/s]\u001b[A\n",
            " 90%|█████████ | 9/10 [00:05<00:00,  1.69it/s]\u001b[A\n",
            "100%|██████████| 10/10 [00:05<00:00,  1.72it/s]\n",
            " 70%|███████   | 7/10 [05:24<02:18, 46.33s/it]"
          ]
        },
        {
          "name": "stdout",
          "output_type": "stream",
          "text": [
            "Validation at epoch 6 Mean IOU: 66.12\n",
            "Validation at epoch 6 Mean F1 best: 0.8166\n",
            "Validation at epoch 6 Mean F1 fixed: 0.7461\n",
            "Validation at epoch 6 Mean AP: 0.8373\n",
            "Early Stopping counter: 1 out of 5\n",
            "\n",
            "Epoch: 7\n",
            "Train Loss: 0.0182 at step 250 \t Iter time: 1.43\n",
            "Average Train Loss: 0.0000\n",
            "Train epoch 7 Mean IOU: 91.41\n",
            "Train epoch 7 Mean F1 best: 0.996\n",
            "Train epoch 7 Mean F1 fixed: 0.9956\n",
            "Train epoch 7 Mean AP: 0.9891\n",
            "Validation:\n",
            "Length of dataset:  300\n"
          ]
        },
        {
          "name": "stderr",
          "output_type": "stream",
          "text": [
            "\n",
            "  0%|          | 0/10 [00:00<?, ?it/s]\u001b[A\n",
            " 10%|█         | 1/10 [00:00<00:07,  1.22it/s]\u001b[A\n",
            " 20%|██        | 2/10 [00:01<00:05,  1.47it/s]\u001b[A\n",
            " 30%|███       | 3/10 [00:01<00:04,  1.57it/s]\u001b[A\n",
            " 40%|████      | 4/10 [00:02<00:03,  1.62it/s]\u001b[A\n",
            " 50%|█████     | 5/10 [00:03<00:03,  1.66it/s]\u001b[A\n",
            " 60%|██████    | 6/10 [00:03<00:02,  1.67it/s]\u001b[A\n",
            " 70%|███████   | 7/10 [00:04<00:01,  1.68it/s]\u001b[A\n",
            " 80%|████████  | 8/10 [00:04<00:01,  1.70it/s]\u001b[A\n",
            " 90%|█████████ | 9/10 [00:05<00:00,  1.70it/s]\u001b[A\n",
            "100%|██████████| 10/10 [00:05<00:00,  1.75it/s]\n",
            " 80%|████████  | 8/10 [06:10<01:32, 46.16s/it]"
          ]
        },
        {
          "name": "stdout",
          "output_type": "stream",
          "text": [
            "Validation at epoch 7 Mean IOU: 68.77\n",
            "Validation at epoch 7 Mean F1 best: 0.8451\n",
            "Validation at epoch 7 Mean F1 fixed: 0.777\n",
            "Validation at epoch 7 Mean AP: 0.8617\n",
            "Early Stopping counter: 2 out of 5\n",
            "\n",
            "Epoch: 8\n",
            "Average Train Loss: 0.0000\n",
            "Train epoch 8 Mean IOU: 91.35\n",
            "Train epoch 8 Mean F1 best: 0.9972\n",
            "Train epoch 8 Mean F1 fixed: 0.9971\n",
            "Train epoch 8 Mean AP: 0.9888\n",
            "Validation:\n",
            "Length of dataset:  300\n"
          ]
        },
        {
          "name": "stderr",
          "output_type": "stream",
          "text": [
            "\n",
            "  0%|          | 0/10 [00:00<?, ?it/s]\u001b[A\n",
            " 10%|█         | 1/10 [00:00<00:08,  1.12it/s]\u001b[A\n",
            " 20%|██        | 2/10 [00:01<00:05,  1.39it/s]\u001b[A\n",
            " 30%|███       | 3/10 [00:02<00:04,  1.52it/s]\u001b[A\n",
            " 40%|████      | 4/10 [00:02<00:03,  1.59it/s]\u001b[A\n",
            " 50%|█████     | 5/10 [00:03<00:03,  1.63it/s]\u001b[A\n",
            " 60%|██████    | 6/10 [00:03<00:02,  1.66it/s]\u001b[A\n",
            " 70%|███████   | 7/10 [00:04<00:01,  1.68it/s]\u001b[A\n",
            " 80%|████████  | 8/10 [00:04<00:01,  1.69it/s]\u001b[A\n",
            " 90%|█████████ | 9/10 [00:05<00:00,  1.70it/s]\u001b[A\n",
            "100%|██████████| 10/10 [00:05<00:00,  1.72it/s]\n",
            " 90%|█████████ | 9/10 [06:56<00:46, 46.06s/it]"
          ]
        },
        {
          "name": "stdout",
          "output_type": "stream",
          "text": [
            "Validation at epoch 8 Mean IOU: 68.3\n",
            "Validation at epoch 8 Mean F1 best: 0.8577\n",
            "Validation at epoch 8 Mean F1 fixed: 0.7882\n",
            "Validation at epoch 8 Mean AP: 0.8693\n",
            "Early Stopping counter: 3 out of 5\n",
            "\n",
            "Epoch: 9\n",
            "Train Loss: 0.0189 at step 300 \t Iter time: 1.44\n",
            "Average Train Loss: 0.0000\n",
            "Train epoch 9 Mean IOU: 91.95\n",
            "Train epoch 9 Mean F1 best: 0.997\n",
            "Train epoch 9 Mean F1 fixed: 0.9969\n",
            "Train epoch 9 Mean AP: 0.9906\n",
            "Validation:\n",
            "Length of dataset:  300\n"
          ]
        },
        {
          "name": "stderr",
          "output_type": "stream",
          "text": [
            "\n",
            "  0%|          | 0/10 [00:00<?, ?it/s]\u001b[A\n",
            " 10%|█         | 1/10 [00:00<00:07,  1.17it/s]\u001b[A\n",
            " 20%|██        | 2/10 [00:01<00:05,  1.44it/s]\u001b[A\n",
            " 30%|███       | 3/10 [00:02<00:04,  1.56it/s]\u001b[A\n",
            " 40%|████      | 4/10 [00:02<00:03,  1.61it/s]\u001b[A\n",
            " 50%|█████     | 5/10 [00:03<00:03,  1.64it/s]\u001b[A\n",
            " 60%|██████    | 6/10 [00:03<00:02,  1.66it/s]\u001b[A\n",
            " 70%|███████   | 7/10 [00:04<00:01,  1.68it/s]\u001b[A\n",
            " 80%|████████  | 8/10 [00:04<00:01,  1.69it/s]\u001b[A\n",
            " 90%|█████████ | 9/10 [00:05<00:00,  1.69it/s]\u001b[A\n",
            "100%|██████████| 10/10 [00:05<00:00,  1.74it/s]\n"
          ]
        },
        {
          "name": "stdout",
          "output_type": "stream",
          "text": [
            "Validation at epoch 9 Mean IOU: 69.12\n",
            "Validation at epoch 9 Mean F1 best: 0.8433\n",
            "Validation at epoch 9 Mean F1 fixed: 0.7693\n",
            "Validation at epoch 9 Mean AP: 0.8615\n"
          ]
        },
        {
          "name": "stderr",
          "output_type": "stream",
          "text": [
            "100%|██████████| 10/10 [07:42<00:00, 46.29s/it]"
          ]
        },
        {
          "name": "stdout",
          "output_type": "stream",
          "text": [
            "Best model saved at epoch 9!\n",
            "\n",
            "Round 5, with 1250 samples of the 4th dataset\n"
          ]
        },
        {
          "name": "stderr",
          "output_type": "stream",
          "text": [
            "\n"
          ]
        },
        {
          "name": "stdout",
          "output_type": "stream",
          "text": [
            "Length of training set: 1250\n",
            "Length of validation set: 300\n"
          ]
        },
        {
          "name": "stderr",
          "output_type": "stream",
          "text": [
            "\r  0%|          | 0/10 [00:00<?, ?it/s]"
          ]
        },
        {
          "name": "stdout",
          "output_type": "stream",
          "text": [
            "Epoch: 0\n",
            "Average Train Loss: 0.0000\n",
            "Train epoch 0 Mean IOU: 80.88\n",
            "Train epoch 0 Mean F1 best: 0.9663\n",
            "Train epoch 0 Mean F1 fixed: 0.9299\n",
            "Train epoch 0 Mean AP: 0.9572\n",
            "Validation:\n",
            "Length of dataset:  300\n"
          ]
        },
        {
          "name": "stderr",
          "output_type": "stream",
          "text": [
            "\n",
            "  0%|          | 0/10 [00:00<?, ?it/s]\u001b[A\n",
            " 10%|█         | 1/10 [00:00<00:07,  1.26it/s]\u001b[A\n",
            " 20%|██        | 2/10 [00:01<00:05,  1.49it/s]\u001b[A\n",
            " 30%|███       | 3/10 [00:01<00:04,  1.59it/s]\u001b[A\n",
            " 40%|████      | 4/10 [00:02<00:03,  1.64it/s]\u001b[A\n",
            " 50%|█████     | 5/10 [00:03<00:02,  1.67it/s]\u001b[A\n",
            " 60%|██████    | 6/10 [00:03<00:02,  1.69it/s]\u001b[A\n",
            " 70%|███████   | 7/10 [00:04<00:01,  1.70it/s]\u001b[A\n",
            " 80%|████████  | 8/10 [00:04<00:01,  1.70it/s]\u001b[A\n",
            " 90%|█████████ | 9/10 [00:05<00:00,  1.70it/s]\u001b[A\n",
            "100%|██████████| 10/10 [00:05<00:00,  1.76it/s]\n"
          ]
        },
        {
          "name": "stdout",
          "output_type": "stream",
          "text": [
            "Validation at epoch 0 Mean IOU: 65.66\n",
            "Validation at epoch 0 Mean F1 best: 0.8481\n",
            "Validation at epoch 0 Mean F1 fixed: 0.7459\n",
            "Validation at epoch 0 Mean AP: 0.845\n"
          ]
        },
        {
          "name": "stderr",
          "output_type": "stream",
          "text": [
            "\r 10%|█         | 1/10 [00:57<08:37, 57.46s/it]"
          ]
        },
        {
          "name": "stdout",
          "output_type": "stream",
          "text": [
            "Best model saved at epoch 0!\n",
            "\n",
            "Epoch: 1\n",
            "Train Loss: 0.0373 at step 50 \t Iter time: 1.41\n",
            "Average Train Loss: 0.0000\n",
            "Train epoch 1 Mean IOU: 84.46\n",
            "Train epoch 1 Mean F1 best: 0.9805\n",
            "Train epoch 1 Mean F1 fixed: 0.9653\n",
            "Train epoch 1 Mean AP: 0.9709\n",
            "Validation:\n",
            "Length of dataset:  300\n"
          ]
        },
        {
          "name": "stderr",
          "output_type": "stream",
          "text": [
            "\n",
            "  0%|          | 0/10 [00:00<?, ?it/s]\u001b[A\n",
            " 10%|█         | 1/10 [00:00<00:06,  1.29it/s]\u001b[A\n",
            " 20%|██        | 2/10 [00:01<00:05,  1.51it/s]\u001b[A\n",
            " 30%|███       | 3/10 [00:01<00:04,  1.60it/s]\u001b[A\n",
            " 40%|████      | 4/10 [00:02<00:03,  1.62it/s]\u001b[A\n",
            " 50%|█████     | 5/10 [00:03<00:03,  1.65it/s]\u001b[A\n",
            " 60%|██████    | 6/10 [00:03<00:02,  1.67it/s]\u001b[A\n",
            " 70%|███████   | 7/10 [00:04<00:01,  1.68it/s]\u001b[A\n",
            " 80%|████████  | 8/10 [00:04<00:01,  1.69it/s]\u001b[A\n",
            " 90%|█████████ | 9/10 [00:05<00:00,  1.70it/s]\u001b[A\n",
            "100%|██████████| 10/10 [00:05<00:00,  1.76it/s]\n",
            " 20%|██        | 2/10 [01:53<07:32, 56.52s/it]"
          ]
        },
        {
          "name": "stdout",
          "output_type": "stream",
          "text": [
            "Validation at epoch 1 Mean IOU: 63.89\n",
            "Validation at epoch 1 Mean F1 best: 0.8348\n",
            "Validation at epoch 1 Mean F1 fixed: 0.7591\n",
            "Validation at epoch 1 Mean AP: 0.8453\n",
            "Early Stopping counter: 1 out of 5\n",
            "\n",
            "Epoch: 2\n",
            "Train Loss: 0.0373 at step 100 \t Iter time: 1.39\n",
            "Average Train Loss: 0.0000\n",
            "Train epoch 2 Mean IOU: 85.66\n",
            "Train epoch 2 Mean F1 best: 0.9822\n",
            "Train epoch 2 Mean F1 fixed: 0.9688\n",
            "Train epoch 2 Mean AP: 0.9735\n",
            "Validation:\n",
            "Length of dataset:  300\n"
          ]
        },
        {
          "name": "stderr",
          "output_type": "stream",
          "text": [
            "\n",
            "  0%|          | 0/10 [00:00<?, ?it/s]\u001b[A\n",
            " 10%|█         | 1/10 [00:00<00:07,  1.13it/s]\u001b[A\n",
            " 20%|██        | 2/10 [00:01<00:05,  1.40it/s]\u001b[A\n",
            " 30%|███       | 3/10 [00:02<00:04,  1.53it/s]\u001b[A\n",
            " 40%|████      | 4/10 [00:02<00:03,  1.57it/s]\u001b[A\n",
            " 50%|█████     | 5/10 [00:03<00:03,  1.62it/s]\u001b[A\n",
            " 60%|██████    | 6/10 [00:03<00:02,  1.65it/s]\u001b[A\n",
            " 70%|███████   | 7/10 [00:04<00:01,  1.66it/s]\u001b[A\n",
            " 80%|████████  | 8/10 [00:05<00:01,  1.68it/s]\u001b[A\n",
            " 90%|█████████ | 9/10 [00:05<00:00,  1.69it/s]\u001b[A\n",
            "100%|██████████| 10/10 [00:05<00:00,  1.72it/s]\n",
            " 30%|███       | 3/10 [02:49<06:33, 56.27s/it]"
          ]
        },
        {
          "name": "stdout",
          "output_type": "stream",
          "text": [
            "Validation at epoch 2 Mean IOU: 63.62\n",
            "Validation at epoch 2 Mean F1 best: 0.7855\n",
            "Validation at epoch 2 Mean F1 fixed: 0.6976\n",
            "Validation at epoch 2 Mean AP: 0.8093\n",
            "Early Stopping counter: 2 out of 5\n",
            "\n",
            "Epoch: 3\n",
            "Train Loss: 0.0333 at step 150 \t Iter time: 1.39\n",
            "Average Train Loss: 0.0000\n",
            "Train epoch 3 Mean IOU: 85.78\n",
            "Train epoch 3 Mean F1 best: 0.9856\n",
            "Train epoch 3 Mean F1 fixed: 0.9748\n",
            "Train epoch 3 Mean AP: 0.9748\n",
            "Validation:\n",
            "Length of dataset:  300\n"
          ]
        },
        {
          "name": "stderr",
          "output_type": "stream",
          "text": [
            "\n",
            "  0%|          | 0/10 [00:00<?, ?it/s]\u001b[A\n",
            " 10%|█         | 1/10 [00:00<00:07,  1.13it/s]\u001b[A\n",
            " 20%|██        | 2/10 [00:01<00:05,  1.41it/s]\u001b[A\n",
            " 30%|███       | 3/10 [00:02<00:04,  1.53it/s]\u001b[A\n",
            " 40%|████      | 4/10 [00:02<00:03,  1.60it/s]\u001b[A\n",
            " 50%|█████     | 5/10 [00:03<00:03,  1.64it/s]\u001b[A\n",
            " 60%|██████    | 6/10 [00:03<00:02,  1.67it/s]\u001b[A\n",
            " 70%|███████   | 7/10 [00:04<00:01,  1.68it/s]\u001b[A\n",
            " 80%|████████  | 8/10 [00:04<00:01,  1.69it/s]\u001b[A\n",
            " 90%|█████████ | 9/10 [00:05<00:00,  1.69it/s]\u001b[A\n",
            "100%|██████████| 10/10 [00:05<00:00,  1.73it/s]\n"
          ]
        },
        {
          "name": "stdout",
          "output_type": "stream",
          "text": [
            "Validation at epoch 3 Mean IOU: 66.28\n",
            "Validation at epoch 3 Mean F1 best: 0.8622\n",
            "Validation at epoch 3 Mean F1 fixed: 0.7841\n",
            "Validation at epoch 3 Mean AP: 0.8574\n"
          ]
        },
        {
          "name": "stderr",
          "output_type": "stream",
          "text": [
            "\r 40%|████      | 4/10 [03:46<05:39, 56.51s/it]"
          ]
        },
        {
          "name": "stdout",
          "output_type": "stream",
          "text": [
            "Best model saved at epoch 3!\n",
            "\n",
            "Epoch: 4\n",
            "Train Loss: 0.0278 at step 200 \t Iter time: 1.38\n",
            "Average Train Loss: 0.0000\n",
            "Train epoch 4 Mean IOU: 88.43\n",
            "Train epoch 4 Mean F1 best: 0.9943\n",
            "Train epoch 4 Mean F1 fixed: 0.9923\n",
            "Train epoch 4 Mean AP: 0.9826\n",
            "Validation:\n",
            "Length of dataset:  300\n"
          ]
        },
        {
          "name": "stderr",
          "output_type": "stream",
          "text": [
            "\n",
            "  0%|          | 0/10 [00:00<?, ?it/s]\u001b[A\n",
            " 10%|█         | 1/10 [00:00<00:07,  1.17it/s]\u001b[A\n",
            " 20%|██        | 2/10 [00:01<00:05,  1.41it/s]\u001b[A\n",
            " 30%|███       | 3/10 [00:02<00:04,  1.54it/s]\u001b[A\n",
            " 40%|████      | 4/10 [00:02<00:03,  1.59it/s]\u001b[A\n",
            " 50%|█████     | 5/10 [00:03<00:03,  1.63it/s]\u001b[A\n",
            " 60%|██████    | 6/10 [00:03<00:02,  1.66it/s]\u001b[A\n",
            " 70%|███████   | 7/10 [00:04<00:01,  1.68it/s]\u001b[A\n",
            " 80%|████████  | 8/10 [00:04<00:01,  1.69it/s]\u001b[A\n",
            " 90%|█████████ | 9/10 [00:05<00:00,  1.70it/s]\u001b[A\n",
            "100%|██████████| 10/10 [00:05<00:00,  1.73it/s]\n"
          ]
        },
        {
          "name": "stdout",
          "output_type": "stream",
          "text": [
            "Validation at epoch 4 Mean IOU: 68.75\n",
            "Validation at epoch 4 Mean F1 best: 0.8469\n",
            "Validation at epoch 4 Mean F1 fixed: 0.7814\n",
            "Validation at epoch 4 Mean AP: 0.8582\n"
          ]
        },
        {
          "name": "stderr",
          "output_type": "stream",
          "text": [
            "\r 50%|█████     | 5/10 [04:42<04:43, 56.62s/it]"
          ]
        },
        {
          "name": "stdout",
          "output_type": "stream",
          "text": [
            "Best model saved at epoch 4!\n",
            "\n",
            "Epoch: 5\n",
            "Average Train Loss: 0.0000\n",
            "Train epoch 5 Mean IOU: 89.37\n",
            "Train epoch 5 Mean F1 best: 0.9976\n",
            "Train epoch 5 Mean F1 fixed: 0.9946\n",
            "Train epoch 5 Mean AP: 0.9853\n",
            "Validation:\n",
            "Length of dataset:  300\n"
          ]
        },
        {
          "name": "stderr",
          "output_type": "stream",
          "text": [
            "\n",
            "  0%|          | 0/10 [00:00<?, ?it/s]\u001b[A\n",
            " 10%|█         | 1/10 [00:00<00:07,  1.15it/s]\u001b[A\n",
            " 20%|██        | 2/10 [00:01<00:05,  1.42it/s]\u001b[A\n",
            " 30%|███       | 3/10 [00:02<00:04,  1.54it/s]\u001b[A\n",
            " 40%|████      | 4/10 [00:02<00:03,  1.60it/s]\u001b[A\n",
            " 50%|█████     | 5/10 [00:03<00:03,  1.64it/s]\u001b[A\n",
            " 60%|██████    | 6/10 [00:03<00:02,  1.66it/s]\u001b[A\n",
            " 70%|███████   | 7/10 [00:04<00:01,  1.68it/s]\u001b[A\n",
            " 80%|████████  | 8/10 [00:04<00:01,  1.69it/s]\u001b[A\n",
            " 90%|█████████ | 9/10 [00:05<00:00,  1.70it/s]\u001b[A\n",
            "100%|██████████| 10/10 [00:05<00:00,  1.73it/s]\n",
            " 60%|██████    | 6/10 [05:38<03:45, 56.36s/it]"
          ]
        },
        {
          "name": "stdout",
          "output_type": "stream",
          "text": [
            "Validation at epoch 5 Mean IOU: 62.91\n",
            "Validation at epoch 5 Mean F1 best: 0.77\n",
            "Validation at epoch 5 Mean F1 fixed: 0.6673\n",
            "Validation at epoch 5 Mean AP: 0.8047\n",
            "Early Stopping counter: 1 out of 5\n",
            "\n",
            "Epoch: 6\n",
            "Train Loss: 0.0648 at step 250 \t Iter time: 1.41\n",
            "Average Train Loss: 0.0001\n",
            "Train epoch 6 Mean IOU: 79.07\n",
            "Train epoch 6 Mean F1 best: 0.9432\n",
            "Train epoch 6 Mean F1 fixed: 0.9\n",
            "Train epoch 6 Mean AP: 0.9378\n",
            "Validation:\n",
            "Length of dataset:  300\n"
          ]
        },
        {
          "name": "stderr",
          "output_type": "stream",
          "text": [
            "\n",
            "  0%|          | 0/10 [00:00<?, ?it/s]\u001b[A\n",
            " 10%|█         | 1/10 [00:00<00:08,  1.05it/s]\u001b[A\n",
            " 20%|██        | 2/10 [00:01<00:05,  1.35it/s]\u001b[A\n",
            " 30%|███       | 3/10 [00:02<00:04,  1.50it/s]\u001b[A\n",
            " 40%|████      | 4/10 [00:02<00:03,  1.58it/s]\u001b[A\n",
            " 50%|█████     | 5/10 [00:03<00:03,  1.63it/s]\u001b[A\n",
            " 60%|██████    | 6/10 [00:03<00:02,  1.66it/s]\u001b[A\n",
            " 70%|███████   | 7/10 [00:04<00:01,  1.67it/s]\u001b[A\n",
            " 80%|████████  | 8/10 [00:05<00:01,  1.68it/s]\u001b[A\n",
            " 90%|█████████ | 9/10 [00:05<00:00,  1.70it/s]\u001b[A\n",
            "100%|██████████| 10/10 [00:05<00:00,  1.71it/s]\n",
            " 70%|███████   | 7/10 [06:34<02:48, 56.24s/it]"
          ]
        },
        {
          "name": "stdout",
          "output_type": "stream",
          "text": [
            "Validation at epoch 6 Mean IOU: 65.45\n",
            "Validation at epoch 6 Mean F1 best: 0.853\n",
            "Validation at epoch 6 Mean F1 fixed: 0.7756\n",
            "Validation at epoch 6 Mean AP: 0.858\n",
            "Early Stopping counter: 2 out of 5\n",
            "\n",
            "Epoch: 7\n",
            "Train Loss: 0.0649 at step 300 \t Iter time: 1.40\n",
            "Average Train Loss: 0.0001\n",
            "Train epoch 7 Mean IOU: 76.86\n",
            "Train epoch 7 Mean F1 best: 0.9393\n",
            "Train epoch 7 Mean F1 fixed: 0.8969\n",
            "Train epoch 7 Mean AP: 0.9359\n",
            "Validation:\n",
            "Length of dataset:  300\n"
          ]
        },
        {
          "name": "stderr",
          "output_type": "stream",
          "text": [
            "\n",
            "  0%|          | 0/10 [00:00<?, ?it/s]\u001b[A\n",
            " 10%|█         | 1/10 [00:00<00:07,  1.17it/s]\u001b[A\n",
            " 20%|██        | 2/10 [00:01<00:05,  1.43it/s]\u001b[A\n",
            " 30%|███       | 3/10 [00:02<00:04,  1.54it/s]\u001b[A\n",
            " 40%|████      | 4/10 [00:02<00:03,  1.60it/s]\u001b[A\n",
            " 50%|█████     | 5/10 [00:03<00:03,  1.64it/s]\u001b[A\n",
            " 60%|██████    | 6/10 [00:03<00:02,  1.66it/s]\u001b[A\n",
            " 70%|███████   | 7/10 [00:04<00:01,  1.67it/s]\u001b[A\n",
            " 80%|████████  | 8/10 [00:04<00:01,  1.68it/s]\u001b[A\n",
            " 90%|█████████ | 9/10 [00:05<00:00,  1.69it/s]\u001b[A\n",
            "100%|██████████| 10/10 [00:05<00:00,  1.73it/s]\n",
            " 80%|████████  | 8/10 [07:30<01:52, 56.13s/it]"
          ]
        },
        {
          "name": "stdout",
          "output_type": "stream",
          "text": [
            "Validation at epoch 7 Mean IOU: 66.56\n",
            "Validation at epoch 7 Mean F1 best: 0.8707\n",
            "Validation at epoch 7 Mean F1 fixed: 0.7998\n",
            "Validation at epoch 7 Mean AP: 0.8735\n",
            "Early Stopping counter: 3 out of 5\n",
            "\n",
            "Epoch: 8\n",
            "Train Loss: 0.0261 at step 350 \t Iter time: 1.40\n",
            "Average Train Loss: 0.0000\n",
            "Train epoch 8 Mean IOU: 83.79\n",
            "Train epoch 8 Mean F1 best: 0.9667\n",
            "Train epoch 8 Mean F1 fixed: 0.9482\n",
            "Train epoch 8 Mean AP: 0.9672\n",
            "Validation:\n",
            "Length of dataset:  300\n"
          ]
        },
        {
          "name": "stderr",
          "output_type": "stream",
          "text": [
            "\n",
            "  0%|          | 0/10 [00:00<?, ?it/s]\u001b[A\n",
            " 10%|█         | 1/10 [00:00<00:08,  1.10it/s]\u001b[A\n",
            " 20%|██        | 2/10 [00:01<00:05,  1.39it/s]\u001b[A\n",
            " 30%|███       | 3/10 [00:02<00:04,  1.52it/s]\u001b[A\n",
            " 40%|████      | 4/10 [00:02<00:03,  1.59it/s]\u001b[A\n",
            " 50%|█████     | 5/10 [00:03<00:03,  1.63it/s]\u001b[A\n",
            " 60%|██████    | 6/10 [00:03<00:02,  1.65it/s]\u001b[A\n",
            " 70%|███████   | 7/10 [00:04<00:01,  1.67it/s]\u001b[A\n",
            " 80%|████████  | 8/10 [00:05<00:01,  1.68it/s]\u001b[A\n",
            " 90%|█████████ | 9/10 [00:05<00:00,  1.69it/s]\u001b[A\n",
            "100%|██████████| 10/10 [00:05<00:00,  1.72it/s]\n",
            " 90%|█████████ | 9/10 [08:27<00:56, 56.19s/it]"
          ]
        },
        {
          "name": "stdout",
          "output_type": "stream",
          "text": [
            "Validation at epoch 8 Mean IOU: 66.46\n",
            "Validation at epoch 8 Mean F1 best: 0.836\n",
            "Validation at epoch 8 Mean F1 fixed: 0.737\n",
            "Validation at epoch 8 Mean AP: 0.8423\n",
            "Early Stopping counter: 4 out of 5\n",
            "\n",
            "Epoch: 9\n",
            "Train Loss: 0.0648 at step 400 \t Iter time: 1.39\n",
            "Average Train Loss: 0.0001\n",
            "Train epoch 9 Mean IOU: 68.99\n",
            "Train epoch 9 Mean F1 best: 0.9167\n",
            "Train epoch 9 Mean F1 fixed: 0.8299\n",
            "Train epoch 9 Mean AP: 0.8875\n",
            "Validation:\n",
            "Length of dataset:  300\n"
          ]
        },
        {
          "name": "stderr",
          "output_type": "stream",
          "text": [
            "\n",
            "  0%|          | 0/10 [00:00<?, ?it/s]\u001b[A\n",
            " 10%|█         | 1/10 [00:00<00:07,  1.13it/s]\u001b[A\n",
            " 20%|██        | 2/10 [00:01<00:05,  1.41it/s]\u001b[A\n",
            " 30%|███       | 3/10 [00:02<00:04,  1.54it/s]\u001b[A\n",
            " 40%|████      | 4/10 [00:02<00:03,  1.60it/s]\u001b[A\n",
            " 50%|█████     | 5/10 [00:03<00:03,  1.64it/s]\u001b[A\n",
            " 60%|██████    | 6/10 [00:03<00:02,  1.67it/s]\u001b[A\n",
            " 70%|███████   | 7/10 [00:04<00:01,  1.68it/s]\u001b[A\n",
            " 80%|████████  | 8/10 [00:04<00:01,  1.68it/s]\u001b[A\n",
            " 90%|█████████ | 9/10 [00:05<00:00,  1.69it/s]\u001b[A\n",
            "100%|██████████| 10/10 [00:05<00:00,  1.73it/s]\n",
            "100%|██████████| 10/10 [09:22<00:00, 56.30s/it]\n"
          ]
        },
        {
          "name": "stdout",
          "output_type": "stream",
          "text": [
            "Validation at epoch 9 Mean IOU: 63.13\n",
            "Validation at epoch 9 Mean F1 best: 0.8861\n",
            "Validation at epoch 9 Mean F1 fixed: 0.801\n",
            "Validation at epoch 9 Mean AP: 0.8623\n",
            "Early Stopping counter: 5 out of 5\n",
            "Early stopping triggered\n",
            "Continuing training with a learning rate reduced by a factor of 10\n",
            "\n",
            "Round 6, with 1500 samples of the 4th dataset\n",
            "Length of training set: 1500\n",
            "Length of validation set: 300\n"
          ]
        },
        {
          "name": "stderr",
          "output_type": "stream",
          "text": [
            "\r  0%|          | 0/10 [00:00<?, ?it/s]"
          ]
        },
        {
          "name": "stdout",
          "output_type": "stream",
          "text": [
            "Epoch: 0\n",
            "Average Train Loss: 0.0000\n",
            "Train epoch 0 Mean IOU: 82.03\n",
            "Train epoch 0 Mean F1 best: 0.9727\n",
            "Train epoch 0 Mean F1 fixed: 0.9463\n",
            "Train epoch 0 Mean AP: 0.9615\n",
            "Validation:\n",
            "Length of dataset:  300\n"
          ]
        },
        {
          "name": "stderr",
          "output_type": "stream",
          "text": [
            "\n",
            "  0%|          | 0/10 [00:00<?, ?it/s]\u001b[A\n",
            " 10%|█         | 1/10 [00:00<00:08,  1.04it/s]\u001b[A\n",
            " 20%|██        | 2/10 [00:01<00:05,  1.36it/s]\u001b[A\n",
            " 30%|███       | 3/10 [00:02<00:04,  1.50it/s]\u001b[A\n",
            " 40%|████      | 4/10 [00:02<00:03,  1.58it/s]\u001b[A\n",
            " 50%|█████     | 5/10 [00:03<00:03,  1.62it/s]\u001b[A\n",
            " 60%|██████    | 6/10 [00:03<00:02,  1.65it/s]\u001b[A\n",
            " 70%|███████   | 7/10 [00:04<00:01,  1.67it/s]\u001b[A\n",
            " 80%|████████  | 8/10 [00:05<00:01,  1.69it/s]\u001b[A\n",
            " 90%|█████████ | 9/10 [00:05<00:00,  1.69it/s]\u001b[A\n",
            "100%|██████████| 10/10 [00:05<00:00,  1.71it/s]\n"
          ]
        },
        {
          "name": "stdout",
          "output_type": "stream",
          "text": [
            "Validation at epoch 0 Mean IOU: 64.72\n",
            "Validation at epoch 0 Mean F1 best: 0.8781\n",
            "Validation at epoch 0 Mean F1 fixed: 0.8008\n",
            "Validation at epoch 0 Mean AP: 0.8647\n"
          ]
        },
        {
          "name": "stderr",
          "output_type": "stream",
          "text": [
            "\r 10%|█         | 1/10 [01:07<10:04, 67.20s/it]"
          ]
        },
        {
          "name": "stdout",
          "output_type": "stream",
          "text": [
            "Best model saved at epoch 0!\n",
            "\n",
            "Epoch: 1\n",
            "Train Loss: 0.0372 at step 50 \t Iter time: 1.43\n",
            "Average Train Loss: 0.0000\n",
            "Train epoch 1 Mean IOU: 86.14\n",
            "Train epoch 1 Mean F1 best: 0.9884\n",
            "Train epoch 1 Mean F1 fixed: 0.9784\n",
            "Train epoch 1 Mean AP: 0.9764\n",
            "Validation:\n",
            "Length of dataset:  300\n"
          ]
        },
        {
          "name": "stderr",
          "output_type": "stream",
          "text": [
            "\n",
            "  0%|          | 0/10 [00:00<?, ?it/s]\u001b[A\n",
            " 10%|█         | 1/10 [00:00<00:08,  1.04it/s]\u001b[A\n",
            " 20%|██        | 2/10 [00:01<00:05,  1.35it/s]\u001b[A\n",
            " 30%|███       | 3/10 [00:02<00:04,  1.49it/s]\u001b[A\n",
            " 40%|████      | 4/10 [00:02<00:03,  1.57it/s]\u001b[A\n",
            " 50%|█████     | 5/10 [00:03<00:03,  1.62it/s]\u001b[A\n",
            " 60%|██████    | 6/10 [00:03<00:02,  1.65it/s]\u001b[A\n",
            " 70%|███████   | 7/10 [00:04<00:01,  1.67it/s]\u001b[A\n",
            " 80%|████████  | 8/10 [00:05<00:01,  1.68it/s]\u001b[A\n",
            " 90%|█████████ | 9/10 [00:05<00:00,  1.69it/s]\u001b[A\n",
            "100%|██████████| 10/10 [00:05<00:00,  1.70it/s]\n"
          ]
        },
        {
          "name": "stdout",
          "output_type": "stream",
          "text": [
            "Validation at epoch 1 Mean IOU: 64.98\n",
            "Validation at epoch 1 Mean F1 best: 0.8226\n",
            "Validation at epoch 1 Mean F1 fixed: 0.7599\n",
            "Validation at epoch 1 Mean AP: 0.8321\n"
          ]
        },
        {
          "name": "stderr",
          "output_type": "stream",
          "text": [
            "\r 20%|██        | 2/10 [02:13<08:54, 66.76s/it]"
          ]
        },
        {
          "name": "stdout",
          "output_type": "stream",
          "text": [
            "Best model saved at epoch 1!\n",
            "\n",
            "Epoch: 2\n",
            "Train Loss: 0.0341 at step 100 \t Iter time: 1.42\n",
            "Average Train Loss: 0.0000\n",
            "Train epoch 2 Mean IOU: 88.48\n",
            "Train epoch 2 Mean F1 best: 0.9912\n",
            "Train epoch 2 Mean F1 fixed: 0.9869\n",
            "Train epoch 2 Mean AP: 0.9823\n",
            "Validation:\n",
            "Length of dataset:  300\n"
          ]
        },
        {
          "name": "stderr",
          "output_type": "stream",
          "text": [
            "\n",
            "  0%|          | 0/10 [00:00<?, ?it/s]\u001b[A\n",
            " 10%|█         | 1/10 [00:00<00:08,  1.04it/s]\u001b[A\n",
            " 20%|██        | 2/10 [00:01<00:05,  1.35it/s]\u001b[A\n",
            " 30%|███       | 3/10 [00:02<00:04,  1.47it/s]\u001b[A\n",
            " 40%|████      | 4/10 [00:02<00:03,  1.56it/s]\u001b[A\n",
            " 50%|█████     | 5/10 [00:03<00:03,  1.61it/s]\u001b[A\n",
            " 60%|██████    | 6/10 [00:03<00:02,  1.64it/s]\u001b[A\n",
            " 70%|███████   | 7/10 [00:04<00:01,  1.66it/s]\u001b[A\n",
            " 80%|████████  | 8/10 [00:05<00:01,  1.68it/s]\u001b[A\n",
            " 90%|█████████ | 9/10 [00:05<00:00,  1.69it/s]\u001b[A\n",
            "100%|██████████| 10/10 [00:05<00:00,  1.70it/s]\n"
          ]
        },
        {
          "name": "stdout",
          "output_type": "stream",
          "text": [
            "Validation at epoch 2 Mean IOU: 68.9\n",
            "Validation at epoch 2 Mean F1 best: 0.8688\n",
            "Validation at epoch 2 Mean F1 fixed: 0.8017\n",
            "Validation at epoch 2 Mean AP: 0.8715\n"
          ]
        },
        {
          "name": "stderr",
          "output_type": "stream",
          "text": [
            "\r 30%|███       | 3/10 [03:20<07:46, 66.61s/it]"
          ]
        },
        {
          "name": "stdout",
          "output_type": "stream",
          "text": [
            "Best model saved at epoch 2!\n",
            "\n",
            "Epoch: 3\n",
            "Train Loss: 0.0267 at step 150 \t Iter time: 1.41\n",
            "Average Train Loss: 0.0000\n",
            "Train epoch 3 Mean IOU: 89.46\n",
            "Train epoch 3 Mean F1 best: 0.9961\n",
            "Train epoch 3 Mean F1 fixed: 0.9936\n",
            "Train epoch 3 Mean AP: 0.9842\n",
            "Validation:\n",
            "Length of dataset:  300\n"
          ]
        },
        {
          "name": "stderr",
          "output_type": "stream",
          "text": [
            "\n",
            "  0%|          | 0/10 [00:00<?, ?it/s]\u001b[A\n",
            " 10%|█         | 1/10 [00:00<00:08,  1.05it/s]\u001b[A\n",
            " 20%|██        | 2/10 [00:01<00:06,  1.32it/s]\u001b[A\n",
            " 30%|███       | 3/10 [00:02<00:04,  1.47it/s]\u001b[A\n",
            " 40%|████      | 4/10 [00:02<00:03,  1.56it/s]\u001b[A\n",
            " 50%|█████     | 5/10 [00:03<00:03,  1.61it/s]\u001b[A\n",
            " 60%|██████    | 6/10 [00:03<00:02,  1.64it/s]\u001b[A\n",
            " 70%|███████   | 7/10 [00:04<00:01,  1.66it/s]\u001b[A\n",
            " 80%|████████  | 8/10 [00:05<00:01,  1.68it/s]\u001b[A\n",
            " 90%|█████████ | 9/10 [00:05<00:00,  1.68it/s]\u001b[A\n",
            "100%|██████████| 10/10 [00:05<00:00,  1.70it/s]\n",
            " 40%|████      | 4/10 [04:25<06:37, 66.23s/it]"
          ]
        },
        {
          "name": "stdout",
          "output_type": "stream",
          "text": [
            "Validation at epoch 3 Mean IOU: 68.8\n",
            "Validation at epoch 3 Mean F1 best: 0.859\n",
            "Validation at epoch 3 Mean F1 fixed: 0.7957\n",
            "Validation at epoch 3 Mean AP: 0.8626\n",
            "Early Stopping counter: 1 out of 5\n",
            "\n",
            "Epoch: 4\n",
            "Train Loss: 0.0251 at step 200 \t Iter time: 1.41\n",
            "Average Train Loss: 0.0000\n",
            "Train epoch 4 Mean IOU: 89.97\n",
            "Train epoch 4 Mean F1 best: 0.9914\n",
            "Train epoch 4 Mean F1 fixed: 0.9888\n",
            "Train epoch 4 Mean AP: 0.9847\n",
            "Validation:\n",
            "Length of dataset:  300\n"
          ]
        },
        {
          "name": "stderr",
          "output_type": "stream",
          "text": [
            "\n",
            "  0%|          | 0/10 [00:00<?, ?it/s]\u001b[A\n",
            " 10%|█         | 1/10 [00:00<00:08,  1.05it/s]\u001b[A\n",
            " 20%|██        | 2/10 [00:01<00:05,  1.36it/s]\u001b[A\n",
            " 30%|███       | 3/10 [00:02<00:04,  1.50it/s]\u001b[A\n",
            " 40%|████      | 4/10 [00:02<00:03,  1.57it/s]\u001b[A\n",
            " 50%|█████     | 5/10 [00:03<00:03,  1.62it/s]\u001b[A\n",
            " 60%|██████    | 6/10 [00:03<00:02,  1.63it/s]\u001b[A\n",
            " 70%|███████   | 7/10 [00:04<00:01,  1.65it/s]\u001b[A\n",
            " 80%|████████  | 8/10 [00:05<00:01,  1.66it/s]\u001b[A\n",
            " 90%|█████████ | 9/10 [00:05<00:00,  1.68it/s]\u001b[A\n",
            "100%|██████████| 10/10 [00:05<00:00,  1.70it/s]\n",
            " 50%|█████     | 5/10 [05:31<05:29, 66.00s/it]"
          ]
        },
        {
          "name": "stdout",
          "output_type": "stream",
          "text": [
            "Validation at epoch 4 Mean IOU: 68.49\n",
            "Validation at epoch 4 Mean F1 best: 0.8183\n",
            "Validation at epoch 4 Mean F1 fixed: 0.7276\n",
            "Validation at epoch 4 Mean AP: 0.8543\n",
            "Early Stopping counter: 2 out of 5\n",
            "\n",
            "Epoch: 5\n",
            "Train Loss: 0.0181 at step 250 \t Iter time: 1.40\n",
            "Average Train Loss: 0.0000\n",
            "Train epoch 5 Mean IOU: 89.95\n",
            "Train epoch 5 Mean F1 best: 0.9938\n",
            "Train epoch 5 Mean F1 fixed: 0.9917\n",
            "Train epoch 5 Mean AP: 0.9863\n",
            "Validation:\n",
            "Length of dataset:  300\n"
          ]
        },
        {
          "name": "stderr",
          "output_type": "stream",
          "text": [
            "\n",
            "  0%|          | 0/10 [00:00<?, ?it/s]\u001b[A\n",
            " 10%|█         | 1/10 [00:00<00:08,  1.05it/s]\u001b[A\n",
            " 20%|██        | 2/10 [00:01<00:05,  1.35it/s]\u001b[A\n",
            " 30%|███       | 3/10 [00:02<00:04,  1.49it/s]\u001b[A\n",
            " 40%|████      | 4/10 [00:02<00:03,  1.57it/s]\u001b[A\n",
            " 50%|█████     | 5/10 [00:03<00:03,  1.62it/s]\u001b[A\n",
            " 60%|██████    | 6/10 [00:03<00:02,  1.66it/s]\u001b[A\n",
            " 70%|███████   | 7/10 [00:04<00:01,  1.67it/s]\u001b[A\n",
            " 80%|████████  | 8/10 [00:05<00:01,  1.69it/s]\u001b[A\n",
            " 90%|█████████ | 9/10 [00:05<00:00,  1.69it/s]\u001b[A\n",
            "100%|██████████| 10/10 [00:05<00:00,  1.71it/s]\n",
            " 60%|██████    | 6/10 [06:37<04:23, 65.91s/it]"
          ]
        },
        {
          "name": "stdout",
          "output_type": "stream",
          "text": [
            "Validation at epoch 5 Mean IOU: 66.1\n",
            "Validation at epoch 5 Mean F1 best: 0.8183\n",
            "Validation at epoch 5 Mean F1 fixed: 0.7498\n",
            "Validation at epoch 5 Mean AP: 0.8374\n",
            "Early Stopping counter: 3 out of 5\n",
            "\n",
            "Epoch: 6\n",
            "Train Loss: 0.0140 at step 300 \t Iter time: 1.40\n",
            "Average Train Loss: 0.0000\n",
            "Train epoch 6 Mean IOU: 90.7\n",
            "Train epoch 6 Mean F1 best: 0.9936\n",
            "Train epoch 6 Mean F1 fixed: 0.9922\n",
            "Train epoch 6 Mean AP: 0.9877\n",
            "Validation:\n",
            "Length of dataset:  300\n"
          ]
        },
        {
          "name": "stderr",
          "output_type": "stream",
          "text": [
            "\n",
            "  0%|          | 0/10 [00:00<?, ?it/s]\u001b[A\n",
            " 10%|█         | 1/10 [00:00<00:08,  1.05it/s]\u001b[A\n",
            " 20%|██        | 2/10 [00:01<00:05,  1.36it/s]\u001b[A\n",
            " 30%|███       | 3/10 [00:02<00:04,  1.50it/s]\u001b[A\n",
            " 40%|████      | 4/10 [00:02<00:03,  1.58it/s]\u001b[A\n",
            " 50%|█████     | 5/10 [00:03<00:03,  1.63it/s]\u001b[A\n",
            " 60%|██████    | 6/10 [00:03<00:02,  1.66it/s]\u001b[A\n",
            " 70%|███████   | 7/10 [00:04<00:01,  1.68it/s]\u001b[A\n",
            " 80%|████████  | 8/10 [00:05<00:01,  1.69it/s]\u001b[A\n",
            " 90%|█████████ | 9/10 [00:05<00:00,  1.69it/s]\u001b[A\n",
            "100%|██████████| 10/10 [00:05<00:00,  1.71it/s]\n",
            " 70%|███████   | 7/10 [07:42<03:17, 65.78s/it]"
          ]
        },
        {
          "name": "stdout",
          "output_type": "stream",
          "text": [
            "Validation at epoch 6 Mean IOU: 68.88\n",
            "Validation at epoch 6 Mean F1 best: 0.8469\n",
            "Validation at epoch 6 Mean F1 fixed: 0.7796\n",
            "Validation at epoch 6 Mean AP: 0.8598\n",
            "Early Stopping counter: 4 out of 5\n",
            "\n",
            "Epoch: 7\n",
            "Train Loss: 0.0192 at step 350 \t Iter time: 1.40\n",
            "Average Train Loss: 0.0000\n",
            "Train epoch 7 Mean IOU: 91.03\n",
            "Train epoch 7 Mean F1 best: 0.997\n",
            "Train epoch 7 Mean F1 fixed: 0.9948\n",
            "Train epoch 7 Mean AP: 0.9881\n",
            "Validation:\n",
            "Length of dataset:  300\n"
          ]
        },
        {
          "name": "stderr",
          "output_type": "stream",
          "text": [
            "\n",
            "  0%|          | 0/10 [00:00<?, ?it/s]\u001b[A\n",
            " 10%|█         | 1/10 [00:00<00:08,  1.04it/s]\u001b[A\n",
            " 20%|██        | 2/10 [00:01<00:05,  1.35it/s]\u001b[A\n",
            " 30%|███       | 3/10 [00:02<00:04,  1.50it/s]\u001b[A\n",
            " 40%|████      | 4/10 [00:02<00:03,  1.57it/s]\u001b[A\n",
            " 50%|█████     | 5/10 [00:03<00:03,  1.61it/s]\u001b[A\n",
            " 60%|██████    | 6/10 [00:03<00:02,  1.64it/s]\u001b[A\n",
            " 70%|███████   | 7/10 [00:04<00:01,  1.67it/s]\u001b[A\n",
            " 80%|████████  | 8/10 [00:05<00:01,  1.68it/s]\u001b[A\n",
            " 90%|█████████ | 9/10 [00:05<00:00,  1.69it/s]\u001b[A\n",
            "100%|██████████| 10/10 [00:05<00:00,  1.70it/s]\n",
            " 80%|████████  | 8/10 [08:48<02:11, 65.70s/it]"
          ]
        },
        {
          "name": "stdout",
          "output_type": "stream",
          "text": [
            "Validation at epoch 7 Mean IOU: 68.73\n",
            "Validation at epoch 7 Mean F1 best: 0.8535\n",
            "Validation at epoch 7 Mean F1 fixed: 0.7825\n",
            "Validation at epoch 7 Mean AP: 0.8614\n",
            "Early Stopping counter: 5 out of 5\n",
            "Early stopping triggered\n",
            "Continuing training with a learning rate reduced by a factor of 10\n",
            "\n",
            "Epoch: 8\n",
            "Train Loss: 0.0161 at step 400 \t Iter time: 1.40\n",
            "Average Train Loss: 0.0000\n",
            "Train epoch 8 Mean IOU: 92.0\n",
            "Train epoch 8 Mean F1 best: 0.9973\n",
            "Train epoch 8 Mean F1 fixed: 0.9956\n",
            "Train epoch 8 Mean AP: 0.9902\n",
            "Validation:\n",
            "Length of dataset:  300\n"
          ]
        },
        {
          "name": "stderr",
          "output_type": "stream",
          "text": [
            "\n",
            "  0%|          | 0/10 [00:00<?, ?it/s]\u001b[A\n",
            " 10%|█         | 1/10 [00:00<00:08,  1.02it/s]\u001b[A\n",
            " 20%|██        | 2/10 [00:01<00:06,  1.33it/s]\u001b[A\n",
            " 30%|███       | 3/10 [00:02<00:04,  1.48it/s]\u001b[A\n",
            " 40%|████      | 4/10 [00:02<00:03,  1.54it/s]\u001b[A\n",
            " 50%|█████     | 5/10 [00:03<00:03,  1.60it/s]\u001b[A\n",
            " 60%|██████    | 6/10 [00:03<00:02,  1.64it/s]\u001b[A\n",
            " 70%|███████   | 7/10 [00:04<00:01,  1.66it/s]\u001b[A\n",
            " 80%|████████  | 8/10 [00:05<00:01,  1.67it/s]\u001b[A\n",
            " 90%|█████████ | 9/10 [00:05<00:00,  1.67it/s]\u001b[A\n",
            "100%|██████████| 10/10 [00:05<00:00,  1.69it/s]\n"
          ]
        },
        {
          "name": "stdout",
          "output_type": "stream",
          "text": [
            "Validation at epoch 8 Mean IOU: 70.4\n",
            "Validation at epoch 8 Mean F1 best: 0.8548\n",
            "Validation at epoch 8 Mean F1 fixed: 0.7924\n",
            "Validation at epoch 8 Mean AP: 0.8679\n"
          ]
        },
        {
          "name": "stderr",
          "output_type": "stream",
          "text": [
            "\r 90%|█████████ | 9/10 [09:54<01:05, 65.98s/it]"
          ]
        },
        {
          "name": "stdout",
          "output_type": "stream",
          "text": [
            "Best model saved at epoch 8!\n",
            "\n",
            "Epoch: 9\n",
            "Train Loss: 0.0159 at step 450 \t Iter time: 1.40\n",
            "Average Train Loss: 0.0000\n",
            "Train epoch 9 Mean IOU: 92.49\n",
            "Train epoch 9 Mean F1 best: 0.9989\n",
            "Train epoch 9 Mean F1 fixed: 0.9977\n",
            "Train epoch 9 Mean AP: 0.991\n",
            "Validation:\n",
            "Length of dataset:  300\n"
          ]
        },
        {
          "name": "stderr",
          "output_type": "stream",
          "text": [
            "\n",
            "  0%|          | 0/10 [00:00<?, ?it/s]\u001b[A\n",
            " 10%|█         | 1/10 [00:00<00:08,  1.05it/s]\u001b[A\n",
            " 20%|██        | 2/10 [00:01<00:05,  1.35it/s]\u001b[A\n",
            " 30%|███       | 3/10 [00:02<00:04,  1.49it/s]\u001b[A\n",
            " 40%|████      | 4/10 [00:02<00:03,  1.56it/s]\u001b[A\n",
            " 50%|█████     | 5/10 [00:03<00:03,  1.61it/s]\u001b[A\n",
            " 60%|██████    | 6/10 [00:03<00:02,  1.64it/s]\u001b[A\n",
            " 70%|███████   | 7/10 [00:04<00:01,  1.66it/s]\u001b[A\n",
            " 80%|████████  | 8/10 [00:05<00:01,  1.68it/s]\u001b[A\n",
            " 90%|█████████ | 9/10 [00:05<00:00,  1.69it/s]\u001b[A\n",
            "100%|██████████| 10/10 [00:05<00:00,  1.70it/s]\n"
          ]
        },
        {
          "name": "stdout",
          "output_type": "stream",
          "text": [
            "Validation at epoch 9 Mean IOU: 70.7\n",
            "Validation at epoch 9 Mean F1 best: 0.8497\n",
            "Validation at epoch 9 Mean F1 fixed: 0.7841\n",
            "Validation at epoch 9 Mean AP: 0.8667\n"
          ]
        },
        {
          "name": "stderr",
          "output_type": "stream",
          "text": [
            "100%|██████████| 10/10 [11:01<00:00, 66.16s/it]"
          ]
        },
        {
          "name": "stdout",
          "output_type": "stream",
          "text": [
            "Best model saved at epoch 9!\n",
            "\n",
            "Round 7, with 1750 samples of the 4th dataset\n"
          ]
        },
        {
          "name": "stderr",
          "output_type": "stream",
          "text": [
            "\n"
          ]
        },
        {
          "name": "stdout",
          "output_type": "stream",
          "text": [
            "Length of training set: 1750\n",
            "Length of validation set: 300\n"
          ]
        },
        {
          "name": "stderr",
          "output_type": "stream",
          "text": [
            "\r  0%|          | 0/10 [00:00<?, ?it/s]"
          ]
        },
        {
          "name": "stdout",
          "output_type": "stream",
          "text": [
            "Epoch: 0\n",
            "Train Loss: 0.0485 at step 50 \t Iter time: 1.30\n",
            "Average Train Loss: 0.0000\n",
            "Train epoch 0 Mean IOU: 82.51\n",
            "Train epoch 0 Mean F1 best: 0.9723\n",
            "Train epoch 0 Mean F1 fixed: 0.9493\n",
            "Train epoch 0 Mean AP: 0.9607\n",
            "Validation:\n",
            "Length of dataset:  300\n"
          ]
        },
        {
          "name": "stderr",
          "output_type": "stream",
          "text": [
            "\n",
            "  0%|          | 0/10 [00:00<?, ?it/s]\u001b[A\n",
            " 10%|█         | 1/10 [00:00<00:07,  1.13it/s]\u001b[A\n",
            " 20%|██        | 2/10 [00:01<00:05,  1.41it/s]\u001b[A\n",
            " 30%|███       | 3/10 [00:02<00:04,  1.53it/s]\u001b[A\n",
            " 40%|████      | 4/10 [00:02<00:03,  1.60it/s]\u001b[A\n",
            " 50%|█████     | 5/10 [00:03<00:03,  1.64it/s]\u001b[A\n",
            " 60%|██████    | 6/10 [00:03<00:02,  1.66it/s]\u001b[A\n",
            " 70%|███████   | 7/10 [00:04<00:01,  1.68it/s]\u001b[A\n",
            " 80%|████████  | 8/10 [00:04<00:01,  1.69it/s]\u001b[A\n",
            " 90%|█████████ | 9/10 [00:05<00:00,  1.69it/s]\u001b[A\n",
            "100%|██████████| 10/10 [00:05<00:00,  1.73it/s]\n"
          ]
        },
        {
          "name": "stdout",
          "output_type": "stream",
          "text": [
            "Validation at epoch 0 Mean IOU: 66.2\n",
            "Validation at epoch 0 Mean F1 best: 0.8234\n",
            "Validation at epoch 0 Mean F1 fixed: 0.741\n",
            "Validation at epoch 0 Mean AP: 0.8392\n"
          ]
        },
        {
          "name": "stderr",
          "output_type": "stream",
          "text": [
            "\r 10%|█         | 1/10 [01:17<11:35, 77.30s/it]"
          ]
        },
        {
          "name": "stdout",
          "output_type": "stream",
          "text": [
            "Best model saved at epoch 0!\n",
            "\n",
            "Epoch: 1\n",
            "Train Loss: 0.0372 at step 100 \t Iter time: 1.35\n",
            "Average Train Loss: 0.0000\n",
            "Train epoch 1 Mean IOU: 86.43\n",
            "Train epoch 1 Mean F1 best: 0.9858\n",
            "Train epoch 1 Mean F1 fixed: 0.9767\n",
            "Train epoch 1 Mean AP: 0.9752\n",
            "Validation:\n",
            "Length of dataset:  300\n"
          ]
        },
        {
          "name": "stderr",
          "output_type": "stream",
          "text": [
            "\n",
            "  0%|          | 0/10 [00:00<?, ?it/s]\u001b[A\n",
            " 10%|█         | 1/10 [00:00<00:07,  1.13it/s]\u001b[A\n",
            " 20%|██        | 2/10 [00:01<00:05,  1.41it/s]\u001b[A\n",
            " 30%|███       | 3/10 [00:02<00:04,  1.51it/s]\u001b[A\n",
            " 40%|████      | 4/10 [00:02<00:03,  1.58it/s]\u001b[A\n",
            " 50%|█████     | 5/10 [00:03<00:03,  1.62it/s]\u001b[A\n",
            " 60%|██████    | 6/10 [00:03<00:02,  1.65it/s]\u001b[A\n",
            " 70%|███████   | 7/10 [00:04<00:01,  1.67it/s]\u001b[A\n",
            " 80%|████████  | 8/10 [00:05<00:01,  1.68it/s]\u001b[A\n",
            " 90%|█████████ | 9/10 [00:05<00:00,  1.69it/s]\u001b[A\n",
            "100%|██████████| 10/10 [00:05<00:00,  1.72it/s]\n"
          ]
        },
        {
          "name": "stdout",
          "output_type": "stream",
          "text": [
            "Validation at epoch 1 Mean IOU: 69.43\n",
            "Validation at epoch 1 Mean F1 best: 0.8479\n",
            "Validation at epoch 1 Mean F1 fixed: 0.7751\n",
            "Validation at epoch 1 Mean AP: 0.8684\n"
          ]
        },
        {
          "name": "stderr",
          "output_type": "stream",
          "text": [
            "\r 20%|██        | 2/10 [02:33<10:14, 76.80s/it]"
          ]
        },
        {
          "name": "stdout",
          "output_type": "stream",
          "text": [
            "Best model saved at epoch 1!\n",
            "\n",
            "Epoch: 2\n",
            "Train Loss: 0.0233 at step 150 \t Iter time: 1.37\n",
            "Average Train Loss: 0.0000\n",
            "Train epoch 2 Mean IOU: 88.13\n",
            "Train epoch 2 Mean F1 best: 0.9924\n",
            "Train epoch 2 Mean F1 fixed: 0.9867\n",
            "Train epoch 2 Mean AP: 0.9812\n",
            "Validation:\n",
            "Length of dataset:  300\n"
          ]
        },
        {
          "name": "stderr",
          "output_type": "stream",
          "text": [
            "\n",
            "  0%|          | 0/10 [00:00<?, ?it/s]\u001b[A\n",
            " 10%|█         | 1/10 [00:00<00:07,  1.14it/s]\u001b[A\n",
            " 20%|██        | 2/10 [00:01<00:05,  1.41it/s]\u001b[A\n",
            " 30%|███       | 3/10 [00:02<00:04,  1.54it/s]\u001b[A\n",
            " 40%|████      | 4/10 [00:02<00:03,  1.59it/s]\u001b[A\n",
            " 50%|█████     | 5/10 [00:03<00:03,  1.63it/s]\u001b[A\n",
            " 60%|██████    | 6/10 [00:03<00:02,  1.65it/s]\u001b[A\n",
            " 70%|███████   | 7/10 [00:04<00:01,  1.67it/s]\u001b[A\n",
            " 80%|████████  | 8/10 [00:04<00:01,  1.68it/s]\u001b[A\n",
            " 90%|█████████ | 9/10 [00:05<00:00,  1.68it/s]\u001b[A\n",
            "100%|██████████| 10/10 [00:05<00:00,  1.72it/s]\n",
            " 30%|███       | 3/10 [03:49<08:53, 76.23s/it]"
          ]
        },
        {
          "name": "stdout",
          "output_type": "stream",
          "text": [
            "Validation at epoch 2 Mean IOU: 68.79\n",
            "Validation at epoch 2 Mean F1 best: 0.8446\n",
            "Validation at epoch 2 Mean F1 fixed: 0.7846\n",
            "Validation at epoch 2 Mean AP: 0.8677\n",
            "Early Stopping counter: 1 out of 5\n",
            "\n",
            "Epoch: 3\n",
            "Train Loss: 0.0224 at step 200 \t Iter time: 1.37\n",
            "Average Train Loss: 0.0000\n",
            "Train epoch 3 Mean IOU: 89.28\n",
            "Train epoch 3 Mean F1 best: 0.9949\n",
            "Train epoch 3 Mean F1 fixed: 0.9917\n",
            "Train epoch 3 Mean AP: 0.9828\n",
            "Validation:\n",
            "Length of dataset:  300\n"
          ]
        },
        {
          "name": "stderr",
          "output_type": "stream",
          "text": [
            "\n",
            "  0%|          | 0/10 [00:00<?, ?it/s]\u001b[A\n",
            " 10%|█         | 1/10 [00:00<00:08,  1.12it/s]\u001b[A\n",
            " 20%|██        | 2/10 [00:01<00:05,  1.41it/s]\u001b[A\n",
            " 30%|███       | 3/10 [00:02<00:04,  1.52it/s]\u001b[A\n",
            " 40%|████      | 4/10 [00:02<00:03,  1.57it/s]\u001b[A\n",
            " 50%|█████     | 5/10 [00:03<00:03,  1.62it/s]\u001b[A\n",
            " 60%|██████    | 6/10 [00:03<00:02,  1.65it/s]\u001b[A\n",
            " 70%|███████   | 7/10 [00:04<00:01,  1.67it/s]\u001b[A\n",
            " 80%|████████  | 8/10 [00:05<00:01,  1.68it/s]\u001b[A\n",
            " 90%|█████████ | 9/10 [00:05<00:00,  1.69it/s]\u001b[A\n",
            "100%|██████████| 10/10 [00:05<00:00,  1.71it/s]\n",
            " 40%|████      | 4/10 [05:04<07:36, 76.01s/it]"
          ]
        },
        {
          "name": "stdout",
          "output_type": "stream",
          "text": [
            "Validation at epoch 3 Mean IOU: 67.59\n",
            "Validation at epoch 3 Mean F1 best: 0.8569\n",
            "Validation at epoch 3 Mean F1 fixed: 0.7787\n",
            "Validation at epoch 3 Mean AP: 0.8636\n",
            "Early Stopping counter: 2 out of 5\n",
            "\n",
            "Epoch: 4\n",
            "Train Loss: 0.0237 at step 250 \t Iter time: 1.37\n",
            "Average Train Loss: 0.0000\n",
            "Train epoch 4 Mean IOU: 89.86\n",
            "Train epoch 4 Mean F1 best: 0.9949\n",
            "Train epoch 4 Mean F1 fixed: 0.9939\n",
            "Train epoch 4 Mean AP: 0.9854\n",
            "Validation:\n",
            "Length of dataset:  300\n"
          ]
        },
        {
          "name": "stderr",
          "output_type": "stream",
          "text": [
            "\n",
            "  0%|          | 0/10 [00:00<?, ?it/s]\u001b[A\n",
            " 10%|█         | 1/10 [00:00<00:07,  1.13it/s]\u001b[A\n",
            " 20%|██        | 2/10 [00:01<00:05,  1.41it/s]\u001b[A\n",
            " 30%|███       | 3/10 [00:02<00:04,  1.54it/s]\u001b[A\n",
            " 40%|████      | 4/10 [00:02<00:03,  1.60it/s]\u001b[A\n",
            " 50%|█████     | 5/10 [00:03<00:03,  1.62it/s]\u001b[A\n",
            " 60%|██████    | 6/10 [00:03<00:02,  1.65it/s]\u001b[A\n",
            " 70%|███████   | 7/10 [00:04<00:01,  1.67it/s]\u001b[A\n",
            " 80%|████████  | 8/10 [00:04<00:01,  1.68it/s]\u001b[A\n",
            " 90%|█████████ | 9/10 [00:05<00:00,  1.69it/s]\u001b[A\n",
            "100%|██████████| 10/10 [00:05<00:00,  1.72it/s]\n",
            " 50%|█████     | 5/10 [06:20<06:19, 75.82s/it]"
          ]
        },
        {
          "name": "stdout",
          "output_type": "stream",
          "text": [
            "Validation at epoch 4 Mean IOU: 67.71\n",
            "Validation at epoch 4 Mean F1 best: 0.8338\n",
            "Validation at epoch 4 Mean F1 fixed: 0.7637\n",
            "Validation at epoch 4 Mean AP: 0.8583\n",
            "Early Stopping counter: 3 out of 5\n",
            "\n",
            "Epoch: 5\n",
            "Train Loss: 0.0240 at step 300 \t Iter time: 1.38\n",
            "Average Train Loss: 0.0000\n",
            "Train epoch 5 Mean IOU: 90.34\n",
            "Train epoch 5 Mean F1 best: 0.9965\n",
            "Train epoch 5 Mean F1 fixed: 0.9948\n",
            "Train epoch 5 Mean AP: 0.987\n",
            "Validation:\n",
            "Length of dataset:  300\n"
          ]
        },
        {
          "name": "stderr",
          "output_type": "stream",
          "text": [
            "\n",
            "  0%|          | 0/10 [00:00<?, ?it/s]\u001b[A\n",
            " 10%|█         | 1/10 [00:00<00:07,  1.14it/s]\u001b[A\n",
            " 20%|██        | 2/10 [00:01<00:05,  1.41it/s]\u001b[A\n",
            " 30%|███       | 3/10 [00:02<00:04,  1.53it/s]\u001b[A\n",
            " 40%|████      | 4/10 [00:02<00:03,  1.60it/s]\u001b[A\n",
            " 50%|█████     | 5/10 [00:03<00:03,  1.64it/s]\u001b[A\n",
            " 60%|██████    | 6/10 [00:03<00:02,  1.66it/s]\u001b[A\n",
            " 70%|███████   | 7/10 [00:04<00:01,  1.68it/s]\u001b[A\n",
            " 80%|████████  | 8/10 [00:04<00:01,  1.69it/s]\u001b[A\n",
            " 90%|█████████ | 9/10 [00:05<00:00,  1.69it/s]\u001b[A\n",
            "100%|██████████| 10/10 [00:05<00:00,  1.73it/s]\n",
            " 60%|██████    | 6/10 [07:36<05:03, 75.79s/it]"
          ]
        },
        {
          "name": "stdout",
          "output_type": "stream",
          "text": [
            "Validation at epoch 5 Mean IOU: 68.43\n",
            "Validation at epoch 5 Mean F1 best: 0.844\n",
            "Validation at epoch 5 Mean F1 fixed: 0.7607\n",
            "Validation at epoch 5 Mean AP: 0.8635\n",
            "Early Stopping counter: 4 out of 5\n",
            "\n",
            "Epoch: 6\n",
            "Train Loss: 0.0173 at step 350 \t Iter time: 1.38\n",
            "Average Train Loss: 0.0000\n",
            "Train epoch 6 Mean IOU: 90.93\n",
            "Train epoch 6 Mean F1 best: 0.9977\n",
            "Train epoch 6 Mean F1 fixed: 0.9962\n",
            "Train epoch 6 Mean AP: 0.9882\n",
            "Validation:\n",
            "Length of dataset:  300\n"
          ]
        },
        {
          "name": "stderr",
          "output_type": "stream",
          "text": [
            "\n",
            "  0%|          | 0/10 [00:00<?, ?it/s]\u001b[A\n",
            " 10%|█         | 1/10 [00:00<00:07,  1.13it/s]\u001b[A\n",
            " 20%|██        | 2/10 [00:01<00:05,  1.41it/s]\u001b[A\n",
            " 30%|███       | 3/10 [00:02<00:04,  1.53it/s]\u001b[A\n",
            " 40%|████      | 4/10 [00:02<00:03,  1.60it/s]\u001b[A\n",
            " 50%|█████     | 5/10 [00:03<00:03,  1.64it/s]\u001b[A\n",
            " 60%|██████    | 6/10 [00:03<00:02,  1.67it/s]\u001b[A\n",
            " 70%|███████   | 7/10 [00:04<00:01,  1.67it/s]\u001b[A\n",
            " 80%|████████  | 8/10 [00:04<00:01,  1.68it/s]\u001b[A\n",
            " 90%|█████████ | 9/10 [00:05<00:00,  1.69it/s]\u001b[A\n",
            "100%|██████████| 10/10 [00:05<00:00,  1.73it/s]\n",
            " 70%|███████   | 7/10 [08:51<03:47, 75.75s/it]"
          ]
        },
        {
          "name": "stdout",
          "output_type": "stream",
          "text": [
            "Validation at epoch 6 Mean IOU: 69.03\n",
            "Validation at epoch 6 Mean F1 best: 0.8641\n",
            "Validation at epoch 6 Mean F1 fixed: 0.7877\n",
            "Validation at epoch 6 Mean AP: 0.8734\n",
            "Early Stopping counter: 5 out of 5\n",
            "Early stopping triggered\n",
            "Continuing training with a learning rate reduced by a factor of 10\n",
            "\n",
            "Epoch: 7\n",
            "Train Loss: 0.0184 at step 400 \t Iter time: 1.38\n",
            "Average Train Loss: 0.0000\n",
            "Train epoch 7 Mean IOU: 91.94\n",
            "Train epoch 7 Mean F1 best: 0.9971\n",
            "Train epoch 7 Mean F1 fixed: 0.9966\n",
            "Train epoch 7 Mean AP: 0.9901\n",
            "Validation:\n",
            "Length of dataset:  300\n"
          ]
        },
        {
          "name": "stderr",
          "output_type": "stream",
          "text": [
            "\n",
            "  0%|          | 0/10 [00:00<?, ?it/s]\u001b[A\n",
            " 10%|█         | 1/10 [00:00<00:08,  1.09it/s]\u001b[A\n",
            " 20%|██        | 2/10 [00:01<00:05,  1.39it/s]\u001b[A\n",
            " 30%|███       | 3/10 [00:02<00:05,  1.20it/s]\u001b[A\n",
            " 40%|████      | 4/10 [00:03<00:04,  1.36it/s]\u001b[A\n",
            " 50%|█████     | 5/10 [00:03<00:03,  1.47it/s]\u001b[A\n",
            " 60%|██████    | 6/10 [00:04<00:02,  1.55it/s]\u001b[A\n",
            " 70%|███████   | 7/10 [00:04<00:01,  1.60it/s]\u001b[A\n",
            " 80%|████████  | 8/10 [00:05<00:01,  1.63it/s]\u001b[A\n",
            " 90%|█████████ | 9/10 [00:05<00:00,  1.65it/s]\u001b[A\n",
            "100%|██████████| 10/10 [00:06<00:00,  1.61it/s]\n"
          ]
        },
        {
          "name": "stdout",
          "output_type": "stream",
          "text": [
            "Validation at epoch 7 Mean IOU: 69.78\n",
            "Validation at epoch 7 Mean F1 best: 0.8601\n",
            "Validation at epoch 7 Mean F1 fixed: 0.787\n",
            "Validation at epoch 7 Mean AP: 0.8728\n"
          ]
        },
        {
          "name": "stderr",
          "output_type": "stream",
          "text": [
            "\r 80%|████████  | 8/10 [10:08<02:32, 76.12s/it]"
          ]
        },
        {
          "name": "stdout",
          "output_type": "stream",
          "text": [
            "Best model saved at epoch 7!\n",
            "\n",
            "Epoch: 8\n",
            "Train Loss: 0.0152 at step 450 \t Iter time: 1.38\n",
            "Average Train Loss: 0.0000\n",
            "Train epoch 8 Mean IOU: 92.38\n",
            "Train epoch 8 Mean F1 best: 0.9989\n",
            "Train epoch 8 Mean F1 fixed: 0.9986\n",
            "Train epoch 8 Mean AP: 0.9907\n",
            "Validation:\n",
            "Length of dataset:  300\n"
          ]
        },
        {
          "name": "stderr",
          "output_type": "stream",
          "text": [
            "\n",
            "  0%|          | 0/10 [00:00<?, ?it/s]\u001b[A\n",
            " 10%|█         | 1/10 [00:00<00:07,  1.13it/s]\u001b[A\n",
            " 20%|██        | 2/10 [00:01<00:05,  1.40it/s]\u001b[A\n",
            " 30%|███       | 3/10 [00:02<00:04,  1.52it/s]\u001b[A\n",
            " 40%|████      | 4/10 [00:02<00:03,  1.59it/s]\u001b[A\n",
            " 50%|█████     | 5/10 [00:03<00:03,  1.62it/s]\u001b[A\n",
            " 60%|██████    | 6/10 [00:03<00:02,  1.65it/s]\u001b[A\n",
            " 70%|███████   | 7/10 [00:04<00:01,  1.66it/s]\u001b[A\n",
            " 80%|████████  | 8/10 [00:05<00:01,  1.67it/s]\u001b[A\n",
            " 90%|█████████ | 9/10 [00:05<00:00,  1.69it/s]\u001b[A\n",
            "100%|██████████| 10/10 [00:05<00:00,  1.72it/s]\n",
            " 90%|█████████ | 9/10 [11:24<01:15, 75.98s/it]"
          ]
        },
        {
          "name": "stdout",
          "output_type": "stream",
          "text": [
            "Validation at epoch 8 Mean IOU: 69.57\n",
            "Validation at epoch 8 Mean F1 best: 0.8438\n",
            "Validation at epoch 8 Mean F1 fixed: 0.7684\n",
            "Validation at epoch 8 Mean AP: 0.8672\n",
            "Early Stopping counter: 1 out of 5\n",
            "\n",
            "Epoch: 9\n",
            "Train Loss: 0.0200 at step 500 \t Iter time: 1.38\n",
            "Train Loss: 0.0152 at step 550 \t Iter time: 1.37\n",
            "Average Train Loss: 0.0000\n",
            "Train epoch 9 Mean IOU: 92.61\n",
            "Train epoch 9 Mean F1 best: 0.9994\n",
            "Train epoch 9 Mean F1 fixed: 0.9986\n",
            "Train epoch 9 Mean AP: 0.9911\n",
            "Validation:\n",
            "Length of dataset:  300\n"
          ]
        },
        {
          "name": "stderr",
          "output_type": "stream",
          "text": [
            "\n",
            "  0%|          | 0/10 [00:00<?, ?it/s]\u001b[A\n",
            " 10%|█         | 1/10 [00:00<00:07,  1.16it/s]\u001b[A\n",
            " 20%|██        | 2/10 [00:01<00:05,  1.43it/s]\u001b[A\n",
            " 30%|███       | 3/10 [00:02<00:04,  1.54it/s]\u001b[A\n",
            " 40%|████      | 4/10 [00:02<00:03,  1.60it/s]\u001b[A\n",
            " 50%|█████     | 5/10 [00:03<00:03,  1.64it/s]\u001b[A\n",
            " 60%|██████    | 6/10 [00:03<00:02,  1.66it/s]\u001b[A\n",
            " 70%|███████   | 7/10 [00:04<00:01,  1.68it/s]\u001b[A\n",
            " 80%|████████  | 8/10 [00:04<00:01,  1.69it/s]\u001b[A\n",
            " 90%|█████████ | 9/10 [00:05<00:00,  1.69it/s]\u001b[A\n",
            "100%|██████████| 10/10 [00:05<00:00,  1.73it/s]\n",
            "100%|██████████| 10/10 [12:40<00:00, 76.03s/it]\n"
          ]
        },
        {
          "name": "stdout",
          "output_type": "stream",
          "text": [
            "Validation at epoch 9 Mean IOU: 69.75\n",
            "Validation at epoch 9 Mean F1 best: 0.8529\n",
            "Validation at epoch 9 Mean F1 fixed: 0.7792\n",
            "Validation at epoch 9 Mean AP: 0.8718\n",
            "Early Stopping counter: 2 out of 5\n",
            "\n",
            "Round 8, with 2000 samples of the 4th dataset\n",
            "Length of training set: 2000\n",
            "Length of validation set: 300\n"
          ]
        },
        {
          "name": "stderr",
          "output_type": "stream",
          "text": [
            "\r  0%|          | 0/10 [00:00<?, ?it/s]"
          ]
        },
        {
          "name": "stdout",
          "output_type": "stream",
          "text": [
            "Epoch: 0\n",
            "Train Loss: 0.0455 at step 50 \t Iter time: 1.30\n",
            "Average Train Loss: 0.0000\n",
            "Train epoch 0 Mean IOU: 82.4\n",
            "Train epoch 0 Mean F1 best: 0.9718\n",
            "Train epoch 0 Mean F1 fixed: 0.9462\n",
            "Train epoch 0 Mean AP: 0.9596\n",
            "Validation:\n",
            "Length of dataset:  300\n"
          ]
        },
        {
          "name": "stderr",
          "output_type": "stream",
          "text": [
            "\n",
            "  0%|          | 0/10 [00:00<?, ?it/s]\u001b[A\n",
            " 10%|█         | 1/10 [00:00<00:07,  1.24it/s]\u001b[A\n",
            " 20%|██        | 2/10 [00:01<00:05,  1.47it/s]\u001b[A\n",
            " 30%|███       | 3/10 [00:01<00:04,  1.57it/s]\u001b[A\n",
            " 40%|████      | 4/10 [00:02<00:03,  1.62it/s]\u001b[A\n",
            " 50%|█████     | 5/10 [00:03<00:03,  1.65it/s]\u001b[A\n",
            " 60%|██████    | 6/10 [00:03<00:02,  1.67it/s]\u001b[A\n",
            " 70%|███████   | 7/10 [00:04<00:01,  1.69it/s]\u001b[A\n",
            " 80%|████████  | 8/10 [00:04<00:01,  1.69it/s]\u001b[A\n",
            " 90%|█████████ | 9/10 [00:05<00:00,  1.70it/s]\u001b[A\n",
            "100%|██████████| 10/10 [00:05<00:00,  1.75it/s]\n"
          ]
        },
        {
          "name": "stdout",
          "output_type": "stream",
          "text": [
            "Validation at epoch 0 Mean IOU: 66.58\n",
            "Validation at epoch 0 Mean F1 best: 0.8118\n",
            "Validation at epoch 0 Mean F1 fixed: 0.7361\n",
            "Validation at epoch 0 Mean AP: 0.841\n"
          ]
        },
        {
          "name": "stderr",
          "output_type": "stream",
          "text": [
            "\r 10%|█         | 1/10 [01:27<13:05, 87.23s/it]"
          ]
        },
        {
          "name": "stdout",
          "output_type": "stream",
          "text": [
            "Best model saved at epoch 0!\n",
            "\n",
            "Epoch: 1\n",
            "Train Loss: 0.0264 at step 100 \t Iter time: 1.35\n",
            "Average Train Loss: 0.0000\n",
            "Train epoch 1 Mean IOU: 86.86\n",
            "Train epoch 1 Mean F1 best: 0.9921\n",
            "Train epoch 1 Mean F1 fixed: 0.985\n",
            "Train epoch 1 Mean AP: 0.9787\n",
            "Validation:\n",
            "Length of dataset:  300\n"
          ]
        },
        {
          "name": "stderr",
          "output_type": "stream",
          "text": [
            "\n",
            "  0%|          | 0/10 [00:00<?, ?it/s]\u001b[A\n",
            " 10%|█         | 1/10 [00:00<00:07,  1.14it/s]\u001b[A\n",
            " 20%|██        | 2/10 [00:01<00:05,  1.42it/s]\u001b[A\n",
            " 30%|███       | 3/10 [00:02<00:04,  1.54it/s]\u001b[A\n",
            " 40%|████      | 4/10 [00:02<00:03,  1.61it/s]\u001b[A\n",
            " 50%|█████     | 5/10 [00:03<00:03,  1.64it/s]\u001b[A\n",
            " 60%|██████    | 6/10 [00:03<00:02,  1.67it/s]\u001b[A\n",
            " 70%|███████   | 7/10 [00:04<00:01,  1.68it/s]\u001b[A\n",
            " 80%|████████  | 8/10 [00:04<00:01,  1.69it/s]\u001b[A\n",
            " 90%|█████████ | 9/10 [00:05<00:00,  1.69it/s]\u001b[A\n",
            "100%|██████████| 10/10 [00:05<00:00,  1.73it/s]\n"
          ]
        },
        {
          "name": "stdout",
          "output_type": "stream",
          "text": [
            "Validation at epoch 1 Mean IOU: 66.96\n",
            "Validation at epoch 1 Mean F1 best: 0.8519\n",
            "Validation at epoch 1 Mean F1 fixed: 0.7754\n",
            "Validation at epoch 1 Mean AP: 0.8553\n"
          ]
        },
        {
          "name": "stderr",
          "output_type": "stream",
          "text": [
            "\r 20%|██        | 2/10 [02:53<11:34, 86.85s/it]"
          ]
        },
        {
          "name": "stdout",
          "output_type": "stream",
          "text": [
            "Best model saved at epoch 1!\n",
            "\n",
            "Epoch: 2\n",
            "Train Loss: 0.0255 at step 150 \t Iter time: 1.36\n",
            "Average Train Loss: 0.0000\n",
            "Train epoch 2 Mean IOU: 88.42\n",
            "Train epoch 2 Mean F1 best: 0.9951\n",
            "Train epoch 2 Mean F1 fixed: 0.9918\n",
            "Train epoch 2 Mean AP: 0.9821\n",
            "Validation:\n",
            "Length of dataset:  300\n"
          ]
        },
        {
          "name": "stderr",
          "output_type": "stream",
          "text": [
            "\n",
            "  0%|          | 0/10 [00:00<?, ?it/s]\u001b[A\n",
            " 10%|█         | 1/10 [00:00<00:07,  1.24it/s]\u001b[A\n",
            " 20%|██        | 2/10 [00:01<00:05,  1.47it/s]\u001b[A\n",
            " 30%|███       | 3/10 [00:01<00:04,  1.57it/s]\u001b[A\n",
            " 40%|████      | 4/10 [00:02<00:03,  1.62it/s]\u001b[A\n",
            " 50%|█████     | 5/10 [00:03<00:03,  1.65it/s]\u001b[A\n",
            " 60%|██████    | 6/10 [00:03<00:02,  1.67it/s]\u001b[A\n",
            " 70%|███████   | 7/10 [00:04<00:01,  1.68it/s]\u001b[A\n",
            " 80%|████████  | 8/10 [00:04<00:01,  1.69it/s]\u001b[A\n",
            " 90%|█████████ | 9/10 [00:05<00:00,  1.69it/s]\u001b[A\n",
            "100%|██████████| 10/10 [00:05<00:00,  1.75it/s]\n"
          ]
        },
        {
          "name": "stdout",
          "output_type": "stream",
          "text": [
            "Validation at epoch 2 Mean IOU: 69.05\n",
            "Validation at epoch 2 Mean F1 best: 0.8545\n",
            "Validation at epoch 2 Mean F1 fixed: 0.7858\n",
            "Validation at epoch 2 Mean AP: 0.8709\n"
          ]
        },
        {
          "name": "stderr",
          "output_type": "stream",
          "text": [
            "\r 30%|███       | 3/10 [04:20<10:06, 86.67s/it]"
          ]
        },
        {
          "name": "stdout",
          "output_type": "stream",
          "text": [
            "Best model saved at epoch 2!\n",
            "\n",
            "Epoch: 3\n",
            "Train Loss: 0.0240 at step 200 \t Iter time: 1.37\n",
            "Train Loss: 0.0238 at step 250 \t Iter time: 1.35\n",
            "Average Train Loss: 0.0000\n",
            "Train epoch 3 Mean IOU: 88.05\n",
            "Train epoch 3 Mean F1 best: 0.9903\n",
            "Train epoch 3 Mean F1 fixed: 0.9786\n",
            "Train epoch 3 Mean AP: 0.9792\n",
            "Validation:\n",
            "Length of dataset:  300\n"
          ]
        },
        {
          "name": "stderr",
          "output_type": "stream",
          "text": [
            "\n",
            "  0%|          | 0/10 [00:00<?, ?it/s]\u001b[A\n",
            " 10%|█         | 1/10 [00:00<00:07,  1.16it/s]\u001b[A\n",
            " 20%|██        | 2/10 [00:01<00:05,  1.42it/s]\u001b[A\n",
            " 30%|███       | 3/10 [00:02<00:04,  1.54it/s]\u001b[A\n",
            " 40%|████      | 4/10 [00:02<00:03,  1.60it/s]\u001b[A\n",
            " 50%|█████     | 5/10 [00:03<00:03,  1.64it/s]\u001b[A\n",
            " 60%|██████    | 6/10 [00:03<00:02,  1.66it/s]\u001b[A\n",
            " 70%|███████   | 7/10 [00:04<00:01,  1.68it/s]\u001b[A\n",
            " 80%|████████  | 8/10 [00:04<00:01,  1.69it/s]\u001b[A\n",
            " 90%|█████████ | 9/10 [00:05<00:00,  1.69it/s]\u001b[A\n",
            "100%|██████████| 10/10 [00:05<00:00,  1.73it/s]\n",
            " 40%|████      | 4/10 [05:45<08:37, 86.26s/it]"
          ]
        },
        {
          "name": "stdout",
          "output_type": "stream",
          "text": [
            "Validation at epoch 3 Mean IOU: 62.05\n",
            "Validation at epoch 3 Mean F1 best: 0.8025\n",
            "Validation at epoch 3 Mean F1 fixed: 0.7025\n",
            "Validation at epoch 3 Mean AP: 0.8008\n",
            "Early Stopping counter: 1 out of 5\n",
            "\n",
            "Epoch: 4\n",
            "Train Loss: 0.0214 at step 300 \t Iter time: 1.36\n",
            "Average Train Loss: 0.0000\n",
            "Train epoch 4 Mean IOU: 88.28\n",
            "Train epoch 4 Mean F1 best: 0.9914\n",
            "Train epoch 4 Mean F1 fixed: 0.9813\n",
            "Train epoch 4 Mean AP: 0.9805\n",
            "Validation:\n",
            "Length of dataset:  300\n"
          ]
        },
        {
          "name": "stderr",
          "output_type": "stream",
          "text": [
            "\n",
            "  0%|          | 0/10 [00:00<?, ?it/s]\u001b[A\n",
            " 10%|█         | 1/10 [00:00<00:07,  1.15it/s]\u001b[A\n",
            " 20%|██        | 2/10 [00:01<00:05,  1.42it/s]\u001b[A\n",
            " 30%|███       | 3/10 [00:02<00:04,  1.52it/s]\u001b[A\n",
            " 40%|████      | 4/10 [00:02<00:03,  1.59it/s]\u001b[A\n",
            " 50%|█████     | 5/10 [00:03<00:03,  1.63it/s]\u001b[A\n",
            " 60%|██████    | 6/10 [00:03<00:02,  1.66it/s]\u001b[A\n",
            " 70%|███████   | 7/10 [00:04<00:01,  1.68it/s]\u001b[A\n",
            " 80%|████████  | 8/10 [00:04<00:01,  1.69it/s]\u001b[A\n",
            " 90%|█████████ | 9/10 [00:05<00:00,  1.67it/s]\u001b[A\n",
            "100%|██████████| 10/10 [00:05<00:00,  1.72it/s]\n",
            " 50%|█████     | 5/10 [07:11<07:10, 86.07s/it]"
          ]
        },
        {
          "name": "stdout",
          "output_type": "stream",
          "text": [
            "Validation at epoch 4 Mean IOU: 58.16\n",
            "Validation at epoch 4 Mean F1 best: 0.8646\n",
            "Validation at epoch 4 Mean F1 fixed: 0.7227\n",
            "Validation at epoch 4 Mean AP: 0.8488\n",
            "Early Stopping counter: 2 out of 5\n",
            "\n",
            "Epoch: 5\n",
            "Train Loss: 0.0228 at step 350 \t Iter time: 1.36\n",
            "Average Train Loss: 0.0000\n",
            "Train epoch 5 Mean IOU: 89.92\n",
            "Train epoch 5 Mean F1 best: 0.9955\n",
            "Train epoch 5 Mean F1 fixed: 0.9932\n",
            "Train epoch 5 Mean AP: 0.986\n",
            "Validation:\n",
            "Length of dataset:  300\n"
          ]
        },
        {
          "name": "stderr",
          "output_type": "stream",
          "text": [
            "\n",
            "  0%|          | 0/10 [00:00<?, ?it/s]\u001b[A\n",
            " 10%|█         | 1/10 [00:00<00:07,  1.20it/s]\u001b[A\n",
            " 20%|██        | 2/10 [00:01<00:05,  1.45it/s]\u001b[A\n",
            " 30%|███       | 3/10 [00:02<00:04,  1.56it/s]\u001b[A\n",
            " 40%|████      | 4/10 [00:02<00:03,  1.61it/s]\u001b[A\n",
            " 50%|█████     | 5/10 [00:03<00:03,  1.64it/s]\u001b[A\n",
            " 60%|██████    | 6/10 [00:03<00:02,  1.66it/s]\u001b[A\n",
            " 70%|███████   | 7/10 [00:04<00:01,  1.68it/s]\u001b[A\n",
            " 80%|████████  | 8/10 [00:04<00:01,  1.68it/s]\u001b[A\n",
            " 90%|█████████ | 9/10 [00:05<00:00,  1.69it/s]\u001b[A\n",
            "100%|██████████| 10/10 [00:06<00:00,  1.63it/s]\n"
          ]
        },
        {
          "name": "stdout",
          "output_type": "stream",
          "text": [
            "Validation at epoch 5 Mean IOU: 69.06\n",
            "Validation at epoch 5 Mean F1 best: 0.863\n",
            "Validation at epoch 5 Mean F1 fixed: 0.7998\n",
            "Validation at epoch 5 Mean AP: 0.8739\n"
          ]
        },
        {
          "name": "stderr",
          "output_type": "stream",
          "text": [
            "\r 60%|██████    | 6/10 [08:38<05:45, 86.38s/it]"
          ]
        },
        {
          "name": "stdout",
          "output_type": "stream",
          "text": [
            "Best model saved at epoch 5!\n",
            "\n",
            "Epoch: 6\n",
            "Train Loss: 0.0193 at step 400 \t Iter time: 1.37\n",
            "Average Train Loss: 0.0000\n",
            "Train epoch 6 Mean IOU: 90.87\n",
            "Train epoch 6 Mean F1 best: 0.998\n",
            "Train epoch 6 Mean F1 fixed: 0.9964\n",
            "Train epoch 6 Mean AP: 0.9883\n",
            "Validation:\n",
            "Length of dataset:  300\n"
          ]
        },
        {
          "name": "stderr",
          "output_type": "stream",
          "text": [
            "\n",
            "  0%|          | 0/10 [00:00<?, ?it/s]\u001b[A\n",
            " 10%|█         | 1/10 [00:00<00:07,  1.22it/s]\u001b[A\n",
            " 20%|██        | 2/10 [00:01<00:05,  1.46it/s]\u001b[A\n",
            " 30%|███       | 3/10 [00:02<00:04,  1.53it/s]\u001b[A\n",
            " 40%|████      | 4/10 [00:02<00:03,  1.55it/s]\u001b[A\n",
            " 50%|█████     | 5/10 [00:03<00:03,  1.61it/s]\u001b[A\n",
            " 60%|██████    | 6/10 [00:03<00:02,  1.64it/s]\u001b[A\n",
            " 70%|███████   | 7/10 [00:04<00:01,  1.66it/s]\u001b[A\n",
            " 80%|████████  | 8/10 [00:04<00:01,  1.68it/s]\u001b[A\n",
            " 90%|█████████ | 9/10 [00:05<00:00,  1.69it/s]\u001b[A\n",
            "100%|██████████| 10/10 [00:05<00:00,  1.72it/s]\n",
            " 70%|███████   | 7/10 [10:04<04:18, 86.24s/it]"
          ]
        },
        {
          "name": "stdout",
          "output_type": "stream",
          "text": [
            "Validation at epoch 6 Mean IOU: 68.54\n",
            "Validation at epoch 6 Mean F1 best: 0.8589\n",
            "Validation at epoch 6 Mean F1 fixed: 0.7918\n",
            "Validation at epoch 6 Mean AP: 0.8699\n",
            "Early Stopping counter: 1 out of 5\n",
            "\n",
            "Epoch: 7\n",
            "Train Loss: 0.0153 at step 450 \t Iter time: 1.37\n",
            "Train Loss: 0.0222 at step 500 \t Iter time: 1.36\n",
            "Average Train Loss: 0.0000\n",
            "Train epoch 7 Mean IOU: 91.44\n",
            "Train epoch 7 Mean F1 best: 0.998\n",
            "Train epoch 7 Mean F1 fixed: 0.9963\n",
            "Train epoch 7 Mean AP: 0.9892\n",
            "Validation:\n",
            "Length of dataset:  300\n"
          ]
        },
        {
          "name": "stderr",
          "output_type": "stream",
          "text": [
            "\n",
            "  0%|          | 0/10 [00:00<?, ?it/s]\u001b[A\n",
            " 10%|█         | 1/10 [00:00<00:07,  1.25it/s]\u001b[A\n",
            " 20%|██        | 2/10 [00:01<00:05,  1.48it/s]\u001b[A\n",
            " 30%|███       | 3/10 [00:01<00:04,  1.57it/s]\u001b[A\n",
            " 40%|████      | 4/10 [00:02<00:03,  1.62it/s]\u001b[A\n",
            " 50%|█████     | 5/10 [00:03<00:03,  1.65it/s]\u001b[A\n",
            " 60%|██████    | 6/10 [00:03<00:02,  1.67it/s]\u001b[A\n",
            " 70%|███████   | 7/10 [00:04<00:01,  1.68it/s]\u001b[A\n",
            " 80%|████████  | 8/10 [00:04<00:01,  1.69it/s]\u001b[A\n",
            " 90%|█████████ | 9/10 [00:05<00:00,  1.70it/s]\u001b[A\n",
            "100%|██████████| 10/10 [00:05<00:00,  1.75it/s]\n"
          ]
        },
        {
          "name": "stdout",
          "output_type": "stream",
          "text": [
            "Validation at epoch 7 Mean IOU: 69.26\n",
            "Validation at epoch 7 Mean F1 best: 0.8631\n",
            "Validation at epoch 7 Mean F1 fixed: 0.7914\n",
            "Validation at epoch 7 Mean AP: 0.8721\n"
          ]
        },
        {
          "name": "stderr",
          "output_type": "stream",
          "text": [
            "\r 80%|████████  | 8/10 [11:31<02:52, 86.37s/it]"
          ]
        },
        {
          "name": "stdout",
          "output_type": "stream",
          "text": [
            "Best model saved at epoch 7!\n",
            "\n",
            "Epoch: 8\n",
            "Train Loss: 0.0250 at step 550 \t Iter time: 1.36\n",
            "Average Train Loss: 0.0000\n",
            "Train epoch 8 Mean IOU: 91.7\n",
            "Train epoch 8 Mean F1 best: 0.999\n",
            "Train epoch 8 Mean F1 fixed: 0.9988\n",
            "Train epoch 8 Mean AP: 0.9901\n",
            "Validation:\n",
            "Length of dataset:  300\n"
          ]
        },
        {
          "name": "stderr",
          "output_type": "stream",
          "text": [
            "\n",
            "  0%|          | 0/10 [00:00<?, ?it/s]\u001b[A\n",
            " 10%|█         | 1/10 [00:00<00:07,  1.24it/s]\u001b[A\n",
            " 20%|██        | 2/10 [00:01<00:05,  1.48it/s]\u001b[A\n",
            " 30%|███       | 3/10 [00:01<00:04,  1.57it/s]\u001b[A\n",
            " 40%|████      | 4/10 [00:02<00:03,  1.63it/s]\u001b[A\n",
            " 50%|█████     | 5/10 [00:03<00:03,  1.66it/s]\u001b[A\n",
            " 60%|██████    | 6/10 [00:03<00:02,  1.67it/s]\u001b[A\n",
            " 70%|███████   | 7/10 [00:04<00:01,  1.68it/s]\u001b[A\n",
            " 80%|████████  | 8/10 [00:04<00:01,  1.69it/s]\u001b[A\n",
            " 90%|█████████ | 9/10 [00:05<00:00,  1.69it/s]\u001b[A\n",
            "100%|██████████| 10/10 [00:05<00:00,  1.75it/s]\n"
          ]
        },
        {
          "name": "stdout",
          "output_type": "stream",
          "text": [
            "Validation at epoch 8 Mean IOU: 70.51\n",
            "Validation at epoch 8 Mean F1 best: 0.8561\n",
            "Validation at epoch 8 Mean F1 fixed: 0.7898\n",
            "Validation at epoch 8 Mean AP: 0.8737\n"
          ]
        },
        {
          "name": "stderr",
          "output_type": "stream",
          "text": [
            "\r 90%|█████████ | 9/10 [12:57<01:26, 86.49s/it]"
          ]
        },
        {
          "name": "stdout",
          "output_type": "stream",
          "text": [
            "Best model saved at epoch 8!\n",
            "\n",
            "Epoch: 9\n",
            "Train Loss: 0.0165 at step 600 \t Iter time: 1.37\n",
            "Average Train Loss: 0.0000\n",
            "Train epoch 9 Mean IOU: 91.61\n",
            "Train epoch 9 Mean F1 best: 0.9971\n",
            "Train epoch 9 Mean F1 fixed: 0.9954\n",
            "Train epoch 9 Mean AP: 0.9896\n",
            "Validation:\n",
            "Length of dataset:  300\n"
          ]
        },
        {
          "name": "stderr",
          "output_type": "stream",
          "text": [
            "\n",
            "  0%|          | 0/10 [00:00<?, ?it/s]\u001b[A\n",
            " 10%|█         | 1/10 [00:00<00:07,  1.17it/s]\u001b[A\n",
            " 20%|██        | 2/10 [00:01<00:05,  1.43it/s]\u001b[A\n",
            " 30%|███       | 3/10 [00:02<00:04,  1.54it/s]\u001b[A\n",
            " 40%|████      | 4/10 [00:02<00:03,  1.60it/s]\u001b[A\n",
            " 50%|█████     | 5/10 [00:03<00:03,  1.64it/s]\u001b[A\n",
            " 60%|██████    | 6/10 [00:03<00:02,  1.66it/s]\u001b[A\n",
            " 70%|███████   | 7/10 [00:04<00:01,  1.68it/s]\u001b[A\n",
            " 80%|████████  | 8/10 [00:04<00:01,  1.69it/s]\u001b[A\n",
            " 90%|█████████ | 9/10 [00:05<00:00,  1.70it/s]\u001b[A\n",
            "100%|██████████| 10/10 [00:05<00:00,  1.73it/s]\n",
            "100%|██████████| 10/10 [14:23<00:00, 86.38s/it]\n"
          ]
        },
        {
          "name": "stdout",
          "output_type": "stream",
          "text": [
            "Validation at epoch 9 Mean IOU: 69.78\n",
            "Validation at epoch 9 Mean F1 best: 0.8735\n",
            "Validation at epoch 9 Mean F1 fixed: 0.8069\n",
            "Validation at epoch 9 Mean AP: 0.8815\n",
            "Early Stopping counter: 1 out of 5\n",
            "\n",
            "Round 9, with 2250 samples of the 4th dataset\n",
            "Length of training set: 2250\n",
            "Length of validation set: 300\n"
          ]
        },
        {
          "name": "stderr",
          "output_type": "stream",
          "text": [
            "\r  0%|          | 0/10 [00:00<?, ?it/s]"
          ]
        },
        {
          "name": "stdout",
          "output_type": "stream",
          "text": [
            "Epoch: 0\n",
            "Train Loss: 0.0485 at step 50 \t Iter time: 1.30\n",
            "Average Train Loss: 0.0000\n",
            "Train epoch 0 Mean IOU: 83.01\n",
            "Train epoch 0 Mean F1 best: 0.9752\n",
            "Train epoch 0 Mean F1 fixed: 0.9541\n",
            "Train epoch 0 Mean AP: 0.9629\n",
            "Validation:\n",
            "Length of dataset:  300\n"
          ]
        },
        {
          "name": "stderr",
          "output_type": "stream",
          "text": [
            "\n",
            "  0%|          | 0/10 [00:00<?, ?it/s]\u001b[A\n",
            " 10%|█         | 1/10 [00:00<00:07,  1.26it/s]\u001b[A\n",
            " 20%|██        | 2/10 [00:01<00:05,  1.49it/s]\u001b[A\n",
            " 30%|███       | 3/10 [00:01<00:04,  1.59it/s]\u001b[A\n",
            " 40%|████      | 4/10 [00:02<00:03,  1.64it/s]\u001b[A\n",
            " 50%|█████     | 5/10 [00:03<00:03,  1.66it/s]\u001b[A\n",
            " 60%|██████    | 6/10 [00:03<00:02,  1.68it/s]\u001b[A\n",
            " 70%|███████   | 7/10 [00:04<00:01,  1.66it/s]\u001b[A\n",
            " 80%|████████  | 8/10 [00:04<00:01,  1.68it/s]\u001b[A\n",
            " 90%|█████████ | 9/10 [00:05<00:00,  1.69it/s]\u001b[A\n",
            "100%|██████████| 10/10 [00:05<00:00,  1.75it/s]\n"
          ]
        },
        {
          "name": "stdout",
          "output_type": "stream",
          "text": [
            "Validation at epoch 0 Mean IOU: 68.27\n",
            "Validation at epoch 0 Mean F1 best: 0.8512\n",
            "Validation at epoch 0 Mean F1 fixed: 0.7694\n",
            "Validation at epoch 0 Mean AP: 0.8614\n"
          ]
        },
        {
          "name": "stderr",
          "output_type": "stream",
          "text": [
            "\r 10%|█         | 1/10 [01:37<14:37, 97.55s/it]"
          ]
        },
        {
          "name": "stdout",
          "output_type": "stream",
          "text": [
            "Best model saved at epoch 0!\n",
            "\n",
            "Epoch: 1\n",
            "Train Loss: 0.0339 at step 100 \t Iter time: 1.35\n",
            "Average Train Loss: 0.0000\n",
            "Train epoch 1 Mean IOU: 86.95\n",
            "Train epoch 1 Mean F1 best: 0.9852\n",
            "Train epoch 1 Mean F1 fixed: 0.9782\n",
            "Train epoch 1 Mean AP: 0.9785\n",
            "Validation:\n",
            "Length of dataset:  300\n"
          ]
        },
        {
          "name": "stderr",
          "output_type": "stream",
          "text": [
            "\n",
            "  0%|          | 0/10 [00:00<?, ?it/s]\u001b[A\n",
            " 10%|█         | 1/10 [00:00<00:06,  1.29it/s]\u001b[A\n",
            " 20%|██        | 2/10 [00:01<00:05,  1.45it/s]\u001b[A\n",
            " 30%|███       | 3/10 [00:01<00:04,  1.56it/s]\u001b[A\n",
            " 40%|████      | 4/10 [00:02<00:03,  1.59it/s]\u001b[A\n",
            " 50%|█████     | 5/10 [00:03<00:03,  1.63it/s]\u001b[A\n",
            " 60%|██████    | 6/10 [00:03<00:02,  1.65it/s]\u001b[A\n",
            " 70%|███████   | 7/10 [00:04<00:01,  1.67it/s]\u001b[A\n",
            " 80%|████████  | 8/10 [00:04<00:01,  1.68it/s]\u001b[A\n",
            " 90%|█████████ | 9/10 [00:05<00:00,  1.69it/s]\u001b[A\n",
            "100%|██████████| 10/10 [00:05<00:00,  1.74it/s]\n"
          ]
        },
        {
          "name": "stdout",
          "output_type": "stream",
          "text": [
            "Validation at epoch 1 Mean IOU: 69.75\n",
            "Validation at epoch 1 Mean F1 best: 0.8357\n",
            "Validation at epoch 1 Mean F1 fixed: 0.7677\n",
            "Validation at epoch 1 Mean AP: 0.8647\n"
          ]
        },
        {
          "name": "stderr",
          "output_type": "stream",
          "text": [
            "\r 20%|██        | 2/10 [03:14<12:56, 97.01s/it]"
          ]
        },
        {
          "name": "stdout",
          "output_type": "stream",
          "text": [
            "Best model saved at epoch 1!\n",
            "\n",
            "Epoch: 2\n",
            "Train Loss: 0.0274 at step 150 \t Iter time: 1.36\n",
            "Train Loss: 0.0319 at step 200 \t Iter time: 1.34\n",
            "Average Train Loss: 0.0000\n",
            "Train epoch 2 Mean IOU: 88.44\n",
            "Train epoch 2 Mean F1 best: 0.9932\n",
            "Train epoch 2 Mean F1 fixed: 0.9886\n",
            "Train epoch 2 Mean AP: 0.9826\n",
            "Validation:\n",
            "Length of dataset:  300\n"
          ]
        },
        {
          "name": "stderr",
          "output_type": "stream",
          "text": [
            "\n",
            "  0%|          | 0/10 [00:00<?, ?it/s]\u001b[A\n",
            " 10%|█         | 1/10 [00:00<00:07,  1.16it/s]\u001b[A\n",
            " 20%|██        | 2/10 [00:01<00:05,  1.43it/s]\u001b[A\n",
            " 30%|███       | 3/10 [00:02<00:04,  1.54it/s]\u001b[A\n",
            " 40%|████      | 4/10 [00:02<00:03,  1.59it/s]\u001b[A\n",
            " 50%|█████     | 5/10 [00:03<00:03,  1.63it/s]\u001b[A\n",
            " 60%|██████    | 6/10 [00:03<00:02,  1.65it/s]\u001b[A\n",
            " 70%|███████   | 7/10 [00:04<00:01,  1.67it/s]\u001b[A\n",
            " 80%|████████  | 8/10 [00:05<00:01,  1.66it/s]\u001b[A\n",
            " 90%|█████████ | 9/10 [00:05<00:00,  1.67it/s]\u001b[A\n",
            "100%|██████████| 10/10 [00:05<00:00,  1.72it/s]\n",
            " 30%|███       | 3/10 [04:50<11:15, 96.48s/it]"
          ]
        },
        {
          "name": "stdout",
          "output_type": "stream",
          "text": [
            "Validation at epoch 2 Mean IOU: 67.91\n",
            "Validation at epoch 2 Mean F1 best: 0.8363\n",
            "Validation at epoch 2 Mean F1 fixed: 0.7598\n",
            "Validation at epoch 2 Mean AP: 0.8467\n",
            "Early Stopping counter: 1 out of 5\n",
            "\n",
            "Epoch: 3\n",
            "Train Loss: 0.0254 at step 250 \t Iter time: 1.35\n",
            "Average Train Loss: 0.0000\n",
            "Train epoch 3 Mean IOU: 89.29\n",
            "Train epoch 3 Mean F1 best: 0.997\n",
            "Train epoch 3 Mean F1 fixed: 0.993\n",
            "Train epoch 3 Mean AP: 0.9838\n",
            "Validation:\n",
            "Length of dataset:  300\n"
          ]
        },
        {
          "name": "stderr",
          "output_type": "stream",
          "text": [
            "\n",
            "  0%|          | 0/10 [00:00<?, ?it/s]\u001b[A\n",
            " 10%|█         | 1/10 [00:00<00:07,  1.24it/s]\u001b[A\n",
            " 20%|██        | 2/10 [00:01<00:05,  1.48it/s]\u001b[A\n",
            " 30%|███       | 3/10 [00:01<00:04,  1.57it/s]\u001b[A\n",
            " 40%|████      | 4/10 [00:02<00:03,  1.62it/s]\u001b[A\n",
            " 50%|█████     | 5/10 [00:03<00:03,  1.65it/s]\u001b[A\n",
            " 60%|██████    | 6/10 [00:03<00:02,  1.67it/s]\u001b[A\n",
            " 70%|███████   | 7/10 [00:04<00:01,  1.68it/s]\u001b[A\n",
            " 80%|████████  | 8/10 [00:04<00:01,  1.69it/s]\u001b[A\n",
            " 90%|█████████ | 9/10 [00:05<00:00,  1.69it/s]\u001b[A\n",
            "100%|██████████| 10/10 [00:05<00:00,  1.74it/s]\n"
          ]
        },
        {
          "name": "stdout",
          "output_type": "stream",
          "text": [
            "Validation at epoch 3 Mean IOU: 71.06\n",
            "Validation at epoch 3 Mean F1 best: 0.8428\n",
            "Validation at epoch 3 Mean F1 fixed: 0.7809\n",
            "Validation at epoch 3 Mean AP: 0.8719\n"
          ]
        },
        {
          "name": "stderr",
          "output_type": "stream",
          "text": [
            "\r 40%|████      | 4/10 [06:27<09:40, 96.70s/it]"
          ]
        },
        {
          "name": "stdout",
          "output_type": "stream",
          "text": [
            "Best model saved at epoch 3!\n",
            "\n",
            "Epoch: 4\n",
            "Train Loss: 0.0258 at step 300 \t Iter time: 1.36\n",
            "Train Loss: 0.0275 at step 350 \t Iter time: 1.35\n",
            "Average Train Loss: 0.0000\n",
            "Train epoch 4 Mean IOU: 89.68\n",
            "Train epoch 4 Mean F1 best: 0.9932\n",
            "Train epoch 4 Mean F1 fixed: 0.9888\n",
            "Train epoch 4 Mean AP: 0.9852\n",
            "Validation:\n",
            "Length of dataset:  300\n"
          ]
        },
        {
          "name": "stderr",
          "output_type": "stream",
          "text": [
            "\n",
            "  0%|          | 0/10 [00:00<?, ?it/s]\u001b[A\n",
            " 10%|█         | 1/10 [00:00<00:07,  1.15it/s]\u001b[A\n",
            " 20%|██        | 2/10 [00:01<00:05,  1.42it/s]\u001b[A\n",
            " 30%|███       | 3/10 [00:02<00:04,  1.53it/s]\u001b[A\n",
            " 40%|████      | 4/10 [00:02<00:03,  1.60it/s]\u001b[A\n",
            " 50%|█████     | 5/10 [00:03<00:03,  1.62it/s]\u001b[A\n",
            " 60%|██████    | 6/10 [00:03<00:02,  1.65it/s]\u001b[A\n",
            " 70%|███████   | 7/10 [00:04<00:01,  1.66it/s]\u001b[A\n",
            " 80%|████████  | 8/10 [00:05<00:01,  1.64it/s]\u001b[A\n",
            " 90%|█████████ | 9/10 [00:05<00:00,  1.66it/s]\u001b[A\n",
            "100%|██████████| 10/10 [00:05<00:00,  1.71it/s]\n",
            " 50%|█████     | 5/10 [08:03<08:02, 96.47s/it]"
          ]
        },
        {
          "name": "stdout",
          "output_type": "stream",
          "text": [
            "Validation at epoch 4 Mean IOU: 68.42\n",
            "Validation at epoch 4 Mean F1 best: 0.8739\n",
            "Validation at epoch 4 Mean F1 fixed: 0.7963\n",
            "Validation at epoch 4 Mean AP: 0.8711\n",
            "Early Stopping counter: 1 out of 5\n",
            "\n",
            "Epoch: 5\n",
            "Train Loss: 0.0221 at step 400 \t Iter time: 1.35\n",
            "Average Train Loss: 0.0000\n",
            "Train epoch 5 Mean IOU: 89.93\n",
            "Train epoch 5 Mean F1 best: 0.9957\n",
            "Train epoch 5 Mean F1 fixed: 0.9929\n",
            "Train epoch 5 Mean AP: 0.986\n",
            "Validation:\n",
            "Length of dataset:  300\n"
          ]
        },
        {
          "name": "stderr",
          "output_type": "stream",
          "text": [
            "\n",
            "  0%|          | 0/10 [00:00<?, ?it/s]\u001b[A\n",
            " 10%|█         | 1/10 [00:00<00:08,  1.10it/s]\u001b[A\n",
            " 20%|██        | 2/10 [00:01<00:05,  1.39it/s]\u001b[A\n",
            " 30%|███       | 3/10 [00:02<00:04,  1.52it/s]\u001b[A\n",
            " 40%|████      | 4/10 [00:02<00:03,  1.59it/s]\u001b[A\n",
            " 50%|█████     | 5/10 [00:03<00:03,  1.63it/s]\u001b[A\n",
            " 60%|██████    | 6/10 [00:03<00:02,  1.65it/s]\u001b[A\n",
            " 70%|███████   | 7/10 [00:04<00:01,  1.67it/s]\u001b[A\n",
            " 80%|████████  | 8/10 [00:05<00:01,  1.68it/s]\u001b[A\n",
            " 90%|█████████ | 9/10 [00:05<00:00,  1.67it/s]\u001b[A\n",
            "100%|██████████| 10/10 [00:05<00:00,  1.71it/s]\n"
          ]
        },
        {
          "name": "stdout",
          "output_type": "stream",
          "text": [
            "Validation at epoch 5 Mean IOU: 71.67\n",
            "Validation at epoch 5 Mean F1 best: 0.8685\n",
            "Validation at epoch 5 Mean F1 fixed: 0.8008\n",
            "Validation at epoch 5 Mean AP: 0.8813\n"
          ]
        },
        {
          "name": "stderr",
          "output_type": "stream",
          "text": [
            "\r 60%|██████    | 6/10 [09:40<06:26, 96.61s/it]"
          ]
        },
        {
          "name": "stdout",
          "output_type": "stream",
          "text": [
            "Best model saved at epoch 5!\n",
            "\n",
            "Epoch: 6\n",
            "Train Loss: 0.0187 at step 450 \t Iter time: 1.36\n",
            "Average Train Loss: 0.0000\n",
            "Train epoch 6 Mean IOU: 90.41\n",
            "Train epoch 6 Mean F1 best: 0.9916\n",
            "Train epoch 6 Mean F1 fixed: 0.99\n",
            "Train epoch 6 Mean AP: 0.9868\n",
            "Validation:\n",
            "Length of dataset:  300\n"
          ]
        },
        {
          "name": "stderr",
          "output_type": "stream",
          "text": [
            "\n",
            "  0%|          | 0/10 [00:00<?, ?it/s]\u001b[A\n",
            " 10%|█         | 1/10 [00:00<00:08,  1.11it/s]\u001b[A\n",
            " 20%|██        | 2/10 [00:01<00:05,  1.39it/s]\u001b[A\n",
            " 30%|███       | 3/10 [00:02<00:04,  1.51it/s]\u001b[A\n",
            " 40%|████      | 4/10 [00:02<00:03,  1.58it/s]\u001b[A\n",
            " 50%|█████     | 5/10 [00:03<00:03,  1.62it/s]\u001b[A\n",
            " 60%|██████    | 6/10 [00:03<00:02,  1.65it/s]\u001b[A\n",
            " 70%|███████   | 7/10 [00:04<00:01,  1.67it/s]\u001b[A\n",
            " 80%|████████  | 8/10 [00:05<00:01,  1.68it/s]\u001b[A\n",
            " 90%|█████████ | 9/10 [00:05<00:00,  1.68it/s]\u001b[A\n",
            "100%|██████████| 10/10 [00:05<00:00,  1.71it/s]\n",
            " 70%|███████   | 7/10 [11:15<04:49, 96.37s/it]"
          ]
        },
        {
          "name": "stdout",
          "output_type": "stream",
          "text": [
            "Validation at epoch 6 Mean IOU: 68.78\n",
            "Validation at epoch 6 Mean F1 best: 0.8755\n",
            "Validation at epoch 6 Mean F1 fixed: 0.7966\n",
            "Validation at epoch 6 Mean AP: 0.862\n",
            "Early Stopping counter: 1 out of 5\n",
            "\n",
            "Epoch: 7\n",
            "Train Loss: 0.0173 at step 500 \t Iter time: 1.36\n",
            "Train Loss: 0.0232 at step 550 \t Iter time: 1.35\n",
            "Average Train Loss: 0.0000\n",
            "Train epoch 7 Mean IOU: 90.29\n",
            "Train epoch 7 Mean F1 best: 0.9929\n",
            "Train epoch 7 Mean F1 fixed: 0.9898\n",
            "Train epoch 7 Mean AP: 0.9865\n",
            "Validation:\n",
            "Length of dataset:  300\n"
          ]
        },
        {
          "name": "stderr",
          "output_type": "stream",
          "text": [
            "\n",
            "  0%|          | 0/10 [00:00<?, ?it/s]\u001b[A\n",
            " 10%|█         | 1/10 [00:00<00:07,  1.26it/s]\u001b[A\n",
            " 20%|██        | 2/10 [00:01<00:05,  1.48it/s]\u001b[A\n",
            " 30%|███       | 3/10 [00:01<00:04,  1.58it/s]\u001b[A\n",
            " 40%|████      | 4/10 [00:02<00:03,  1.63it/s]\u001b[A\n",
            " 50%|█████     | 5/10 [00:03<00:03,  1.65it/s]\u001b[A\n",
            " 60%|██████    | 6/10 [00:03<00:02,  1.67it/s]\u001b[A\n",
            " 70%|███████   | 7/10 [00:04<00:01,  1.64it/s]\u001b[A\n",
            " 80%|████████  | 8/10 [00:04<00:01,  1.66it/s]\u001b[A\n",
            " 90%|█████████ | 9/10 [00:05<00:00,  1.67it/s]\u001b[A\n",
            "100%|██████████| 10/10 [00:05<00:00,  1.74it/s]\n",
            " 80%|████████  | 8/10 [12:51<03:12, 96.22s/it]"
          ]
        },
        {
          "name": "stdout",
          "output_type": "stream",
          "text": [
            "Validation at epoch 7 Mean IOU: 67.84\n",
            "Validation at epoch 7 Mean F1 best: 0.8505\n",
            "Validation at epoch 7 Mean F1 fixed: 0.78\n",
            "Validation at epoch 7 Mean AP: 0.8637\n",
            "Early Stopping counter: 2 out of 5\n",
            "\n",
            "Epoch: 8\n",
            "Train Loss: 0.0195 at step 600 \t Iter time: 1.36\n",
            "Average Train Loss: 0.0000\n",
            "Train epoch 8 Mean IOU: 90.86\n",
            "Train epoch 8 Mean F1 best: 0.9941\n",
            "Train epoch 8 Mean F1 fixed: 0.9919\n",
            "Train epoch 8 Mean AP: 0.9878\n",
            "Validation:\n",
            "Length of dataset:  300\n"
          ]
        },
        {
          "name": "stderr",
          "output_type": "stream",
          "text": [
            "\n",
            "  0%|          | 0/10 [00:00<?, ?it/s]\u001b[A\n",
            " 10%|█         | 1/10 [00:00<00:07,  1.23it/s]\u001b[A\n",
            " 20%|██        | 2/10 [00:01<00:05,  1.47it/s]\u001b[A\n",
            " 30%|███       | 3/10 [00:02<00:04,  1.55it/s]\u001b[A\n",
            " 40%|████      | 4/10 [00:02<00:03,  1.61it/s]\u001b[A\n",
            " 50%|█████     | 5/10 [00:03<00:03,  1.64it/s]\u001b[A\n",
            " 60%|██████    | 6/10 [00:03<00:02,  1.66it/s]\u001b[A\n",
            " 70%|███████   | 7/10 [00:04<00:01,  1.67it/s]\u001b[A\n",
            " 80%|████████  | 8/10 [00:04<00:01,  1.69it/s]\u001b[A\n",
            " 90%|█████████ | 9/10 [00:05<00:00,  1.69it/s]\u001b[A\n",
            "100%|██████████| 10/10 [00:05<00:00,  1.74it/s]\n",
            " 90%|█████████ | 9/10 [14:27<01:36, 96.19s/it]"
          ]
        },
        {
          "name": "stdout",
          "output_type": "stream",
          "text": [
            "Validation at epoch 8 Mean IOU: 70.98\n",
            "Validation at epoch 8 Mean F1 best: 0.8548\n",
            "Validation at epoch 8 Mean F1 fixed: 0.7808\n",
            "Validation at epoch 8 Mean AP: 0.8769\n",
            "Early Stopping counter: 3 out of 5\n",
            "\n",
            "Epoch: 9\n",
            "Train Loss: 0.0187 at step 650 \t Iter time: 1.36\n",
            "Train Loss: 0.0210 at step 700 \t Iter time: 1.35\n",
            "Average Train Loss: 0.0000\n",
            "Train epoch 9 Mean IOU: 91.29\n",
            "Train epoch 9 Mean F1 best: 0.9957\n",
            "Train epoch 9 Mean F1 fixed: 0.9943\n",
            "Train epoch 9 Mean AP: 0.9891\n",
            "Validation:\n",
            "Length of dataset:  300\n"
          ]
        },
        {
          "name": "stderr",
          "output_type": "stream",
          "text": [
            "\n",
            "  0%|          | 0/10 [00:00<?, ?it/s]\u001b[A\n",
            " 10%|█         | 1/10 [00:00<00:07,  1.26it/s]\u001b[A\n",
            " 20%|██        | 2/10 [00:01<00:05,  1.49it/s]\u001b[A\n",
            " 30%|███       | 3/10 [00:01<00:04,  1.57it/s]\u001b[A\n",
            " 40%|████      | 4/10 [00:02<00:03,  1.63it/s]\u001b[A\n",
            " 50%|█████     | 5/10 [00:03<00:03,  1.65it/s]\u001b[A\n",
            " 60%|██████    | 6/10 [00:03<00:02,  1.67it/s]\u001b[A\n",
            " 70%|███████   | 7/10 [00:04<00:01,  1.68it/s]\u001b[A\n",
            " 80%|████████  | 8/10 [00:04<00:01,  1.69it/s]\u001b[A\n",
            " 90%|█████████ | 9/10 [00:05<00:00,  1.69it/s]\u001b[A\n",
            "100%|██████████| 10/10 [00:05<00:00,  1.75it/s]\n",
            "100%|██████████| 10/10 [16:03<00:00, 96.39s/it]\n"
          ]
        },
        {
          "name": "stdout",
          "output_type": "stream",
          "text": [
            "Validation at epoch 9 Mean IOU: 71.19\n",
            "Validation at epoch 9 Mean F1 best: 0.8627\n",
            "Validation at epoch 9 Mean F1 fixed: 0.7891\n",
            "Validation at epoch 9 Mean AP: 0.8837\n",
            "Early Stopping counter: 4 out of 5\n",
            "\n",
            "Round 10, with 2500 samples of the 4th dataset\n",
            "Length of training set: 2500\n",
            "Length of validation set: 300\n"
          ]
        },
        {
          "name": "stderr",
          "output_type": "stream",
          "text": [
            "\r  0%|          | 0/10 [00:00<?, ?it/s]"
          ]
        },
        {
          "name": "stdout",
          "output_type": "stream",
          "text": [
            "Epoch: 0\n",
            "Train Loss: 0.0352 at step 50 \t Iter time: 1.31\n",
            "Average Train Loss: 0.0000\n",
            "Train epoch 0 Mean IOU: 82.99\n",
            "Train epoch 0 Mean F1 best: 0.9751\n",
            "Train epoch 0 Mean F1 fixed: 0.9514\n",
            "Train epoch 0 Mean AP: 0.965\n",
            "Validation:\n",
            "Length of dataset:  300\n"
          ]
        },
        {
          "name": "stderr",
          "output_type": "stream",
          "text": [
            "\n",
            "  0%|          | 0/10 [00:00<?, ?it/s]\u001b[A\n",
            " 10%|█         | 1/10 [00:00<00:08,  1.11it/s]\u001b[A\n",
            " 20%|██        | 2/10 [00:01<00:05,  1.40it/s]\u001b[A\n",
            " 30%|███       | 3/10 [00:02<00:04,  1.52it/s]\u001b[A\n",
            " 40%|████      | 4/10 [00:02<00:03,  1.59it/s]\u001b[A\n",
            " 50%|█████     | 5/10 [00:03<00:03,  1.63it/s]\u001b[A\n",
            " 60%|██████    | 6/10 [00:03<00:02,  1.65it/s]\u001b[A\n",
            " 70%|███████   | 7/10 [00:04<00:01,  1.67it/s]\u001b[A\n",
            " 80%|████████  | 8/10 [00:05<00:01,  1.68it/s]\u001b[A\n",
            " 90%|█████████ | 9/10 [00:05<00:00,  1.69it/s]\u001b[A\n",
            "100%|██████████| 10/10 [00:05<00:00,  1.72it/s]\n"
          ]
        },
        {
          "name": "stdout",
          "output_type": "stream",
          "text": [
            "Validation at epoch 0 Mean IOU: 67.23\n",
            "Validation at epoch 0 Mean F1 best: 0.8253\n",
            "Validation at epoch 0 Mean F1 fixed: 0.7344\n",
            "Validation at epoch 0 Mean AP: 0.8447\n"
          ]
        },
        {
          "name": "stderr",
          "output_type": "stream",
          "text": [
            "\r 10%|█         | 1/10 [01:48<16:13, 108.17s/it]"
          ]
        },
        {
          "name": "stdout",
          "output_type": "stream",
          "text": [
            "Best model saved at epoch 0!\n",
            "\n",
            "Epoch: 1\n",
            "Train Loss: 0.0297 at step 100 \t Iter time: 1.35\n",
            "Train Loss: 0.0391 at step 150 \t Iter time: 1.33\n",
            "Average Train Loss: 0.0000\n",
            "Train epoch 1 Mean IOU: 86.31\n",
            "Train epoch 1 Mean F1 best: 0.9844\n",
            "Train epoch 1 Mean F1 fixed: 0.9723\n",
            "Train epoch 1 Mean AP: 0.9764\n",
            "Validation:\n",
            "Length of dataset:  300\n"
          ]
        },
        {
          "name": "stderr",
          "output_type": "stream",
          "text": [
            "\n",
            "  0%|          | 0/10 [00:00<?, ?it/s]\u001b[A\n",
            " 10%|█         | 1/10 [00:00<00:07,  1.26it/s]\u001b[A\n",
            " 20%|██        | 2/10 [00:01<00:05,  1.48it/s]\u001b[A\n",
            " 30%|███       | 3/10 [00:01<00:04,  1.58it/s]\u001b[A\n",
            " 40%|████      | 4/10 [00:02<00:03,  1.63it/s]\u001b[A\n",
            " 50%|█████     | 5/10 [00:03<00:03,  1.63it/s]\u001b[A\n",
            " 60%|██████    | 6/10 [00:03<00:02,  1.66it/s]\u001b[A\n",
            " 70%|███████   | 7/10 [00:04<00:01,  1.67it/s]\u001b[A\n",
            " 80%|████████  | 8/10 [00:04<00:01,  1.68it/s]\u001b[A\n",
            " 90%|█████████ | 9/10 [00:05<00:00,  1.69it/s]\u001b[A\n",
            "100%|██████████| 10/10 [00:05<00:00,  1.74it/s]\n"
          ]
        },
        {
          "name": "stdout",
          "output_type": "stream",
          "text": [
            "Validation at epoch 1 Mean IOU: 67.48\n",
            "Validation at epoch 1 Mean F1 best: 0.8376\n",
            "Validation at epoch 1 Mean F1 fixed: 0.7827\n",
            "Validation at epoch 1 Mean AP: 0.8326\n"
          ]
        },
        {
          "name": "stderr",
          "output_type": "stream",
          "text": [
            "\r 20%|██        | 2/10 [03:34<14:18, 107.32s/it]"
          ]
        },
        {
          "name": "stdout",
          "output_type": "stream",
          "text": [
            "Best model saved at epoch 1!\n",
            "\n",
            "Epoch: 2\n",
            "Train Loss: 0.0230 at step 200 \t Iter time: 1.34\n",
            "Average Train Loss: 0.0000\n",
            "Train epoch 2 Mean IOU: 87.93\n",
            "Train epoch 2 Mean F1 best: 0.9925\n",
            "Train epoch 2 Mean F1 fixed: 0.9868\n",
            "Train epoch 2 Mean AP: 0.9808\n",
            "Validation:\n",
            "Length of dataset:  300\n"
          ]
        },
        {
          "name": "stderr",
          "output_type": "stream",
          "text": [
            "\n",
            "  0%|          | 0/10 [00:00<?, ?it/s]\u001b[A\n",
            " 10%|█         | 1/10 [00:00<00:07,  1.21it/s]\u001b[A\n",
            " 20%|██        | 2/10 [00:01<00:05,  1.46it/s]\u001b[A\n",
            " 30%|███       | 3/10 [00:02<00:04,  1.55it/s]\u001b[A\n",
            " 40%|████      | 4/10 [00:02<00:03,  1.61it/s]\u001b[A\n",
            " 50%|█████     | 5/10 [00:03<00:03,  1.64it/s]\u001b[A\n",
            " 60%|██████    | 6/10 [00:03<00:02,  1.66it/s]\u001b[A\n",
            " 70%|███████   | 7/10 [00:04<00:01,  1.67it/s]\u001b[A\n",
            " 80%|████████  | 8/10 [00:04<00:01,  1.68it/s]\u001b[A\n",
            " 90%|█████████ | 9/10 [00:05<00:00,  1.68it/s]\u001b[A\n",
            "100%|██████████| 10/10 [00:05<00:00,  1.73it/s]\n",
            " 30%|███       | 3/10 [05:20<12:26, 106.68s/it]"
          ]
        },
        {
          "name": "stdout",
          "output_type": "stream",
          "text": [
            "Validation at epoch 2 Mean IOU: 62.94\n",
            "Validation at epoch 2 Mean F1 best: 0.8988\n",
            "Validation at epoch 2 Mean F1 fixed: 0.8006\n",
            "Validation at epoch 2 Mean AP: 0.8713\n",
            "Early Stopping counter: 1 out of 5\n",
            "\n",
            "Epoch: 3\n",
            "Train Loss: 0.0611 at step 250 \t Iter time: 1.35\n",
            "Train Loss: 0.0269 at step 300 \t Iter time: 1.34\n",
            "Average Train Loss: 0.0000\n",
            "Train epoch 3 Mean IOU: 84.06\n",
            "Train epoch 3 Mean F1 best: 0.9762\n",
            "Train epoch 3 Mean F1 fixed: 0.9552\n",
            "Train epoch 3 Mean AP: 0.9691\n",
            "Validation:\n",
            "Length of dataset:  300\n"
          ]
        },
        {
          "name": "stderr",
          "output_type": "stream",
          "text": [
            "\n",
            "  0%|          | 0/10 [00:00<?, ?it/s]\u001b[A\n",
            " 10%|█         | 1/10 [00:00<00:07,  1.13it/s]\u001b[A\n",
            " 20%|██        | 2/10 [00:01<00:05,  1.41it/s]\u001b[A\n",
            " 30%|███       | 3/10 [00:02<00:04,  1.53it/s]\u001b[A\n",
            " 40%|████      | 4/10 [00:02<00:03,  1.59it/s]\u001b[A\n",
            " 50%|█████     | 5/10 [00:03<00:03,  1.63it/s]\u001b[A\n",
            " 60%|██████    | 6/10 [00:03<00:02,  1.65it/s]\u001b[A\n",
            " 70%|███████   | 7/10 [00:04<00:01,  1.67it/s]\u001b[A\n",
            " 80%|████████  | 8/10 [00:04<00:01,  1.68it/s]\u001b[A\n",
            " 90%|█████████ | 9/10 [00:05<00:00,  1.69it/s]\u001b[A\n",
            "100%|██████████| 10/10 [00:05<00:00,  1.72it/s]\n"
          ]
        },
        {
          "name": "stdout",
          "output_type": "stream",
          "text": [
            "Validation at epoch 3 Mean IOU: 68.33\n",
            "Validation at epoch 3 Mean F1 best: 0.8654\n",
            "Validation at epoch 3 Mean F1 fixed: 0.7945\n",
            "Validation at epoch 3 Mean AP: 0.8664\n"
          ]
        },
        {
          "name": "stderr",
          "output_type": "stream",
          "text": [
            "\r 40%|████      | 4/10 [07:07<10:40, 106.76s/it]"
          ]
        },
        {
          "name": "stdout",
          "output_type": "stream",
          "text": [
            "Best model saved at epoch 3!\n",
            "\n",
            "Epoch: 4\n",
            "Train Loss: 0.0228 at step 350 \t Iter time: 1.35\n",
            "Average Train Loss: 0.0000\n",
            "Train epoch 4 Mean IOU: 88.35\n",
            "Train epoch 4 Mean F1 best: 0.9911\n",
            "Train epoch 4 Mean F1 fixed: 0.9852\n",
            "Train epoch 4 Mean AP: 0.9821\n",
            "Validation:\n",
            "Length of dataset:  300\n"
          ]
        },
        {
          "name": "stderr",
          "output_type": "stream",
          "text": [
            "\n",
            "  0%|          | 0/10 [00:00<?, ?it/s]\u001b[A\n",
            " 10%|█         | 1/10 [00:00<00:07,  1.25it/s]\u001b[A\n",
            " 20%|██        | 2/10 [00:01<00:05,  1.48it/s]\u001b[A\n",
            " 30%|███       | 3/10 [00:01<00:04,  1.57it/s]\u001b[A\n",
            " 40%|████      | 4/10 [00:02<00:03,  1.62it/s]\u001b[A\n",
            " 50%|█████     | 5/10 [00:03<00:03,  1.65it/s]\u001b[A\n",
            " 60%|██████    | 6/10 [00:03<00:02,  1.66it/s]\u001b[A\n",
            " 70%|███████   | 7/10 [00:04<00:01,  1.67it/s]\u001b[A\n",
            " 80%|████████  | 8/10 [00:04<00:01,  1.67it/s]\u001b[A\n",
            " 90%|█████████ | 9/10 [00:05<00:00,  1.68it/s]\u001b[A\n",
            "100%|██████████| 10/10 [00:05<00:00,  1.74it/s]\n"
          ]
        },
        {
          "name": "stdout",
          "output_type": "stream",
          "text": [
            "Validation at epoch 4 Mean IOU: 73.07\n",
            "Validation at epoch 4 Mean F1 best: 0.8798\n",
            "Validation at epoch 4 Mean F1 fixed: 0.8106\n",
            "Validation at epoch 4 Mean AP: 0.8971\n"
          ]
        },
        {
          "name": "stderr",
          "output_type": "stream",
          "text": [
            "\r 50%|█████     | 5/10 [08:54<08:53, 106.78s/it]"
          ]
        },
        {
          "name": "stdout",
          "output_type": "stream",
          "text": [
            "Best model saved at epoch 4!\n",
            "\n",
            "Epoch: 5\n",
            "Train Loss: 0.0174 at step 400 \t Iter time: 1.35\n",
            "Train Loss: 0.0243 at step 450 \t Iter time: 1.34\n",
            "Average Train Loss: 0.0000\n",
            "Train epoch 5 Mean IOU: 89.86\n",
            "Train epoch 5 Mean F1 best: 0.9968\n",
            "Train epoch 5 Mean F1 fixed: 0.9949\n",
            "Train epoch 5 Mean AP: 0.9854\n",
            "Validation:\n",
            "Length of dataset:  300\n"
          ]
        },
        {
          "name": "stderr",
          "output_type": "stream",
          "text": [
            "\n",
            "  0%|          | 0/10 [00:00<?, ?it/s]\u001b[A\n",
            " 10%|█         | 1/10 [00:00<00:07,  1.17it/s]\u001b[A\n",
            " 20%|██        | 2/10 [00:01<00:05,  1.42it/s]\u001b[A\n",
            " 30%|███       | 3/10 [00:02<00:04,  1.53it/s]\u001b[A\n",
            " 40%|████      | 4/10 [00:02<00:03,  1.60it/s]\u001b[A\n",
            " 50%|█████     | 5/10 [00:03<00:03,  1.63it/s]\u001b[A\n",
            " 60%|██████    | 6/10 [00:03<00:02,  1.66it/s]\u001b[A\n",
            " 70%|███████   | 7/10 [00:04<00:01,  1.67it/s]\u001b[A\n",
            " 80%|████████  | 8/10 [00:04<00:01,  1.68it/s]\u001b[A\n",
            " 90%|█████████ | 9/10 [00:05<00:00,  1.68it/s]\u001b[A\n",
            "100%|██████████| 10/10 [00:05<00:00,  1.72it/s]\n",
            " 60%|██████    | 6/10 [10:40<07:05, 106.49s/it]"
          ]
        },
        {
          "name": "stdout",
          "output_type": "stream",
          "text": [
            "Validation at epoch 5 Mean IOU: 71.12\n",
            "Validation at epoch 5 Mean F1 best: 0.8853\n",
            "Validation at epoch 5 Mean F1 fixed: 0.8283\n",
            "Validation at epoch 5 Mean AP: 0.8873\n",
            "Early Stopping counter: 1 out of 5\n",
            "\n",
            "Epoch: 6\n",
            "Train Loss: 0.0189 at step 500 \t Iter time: 1.35\n",
            "Train Loss: 0.0204 at step 550 \t Iter time: 1.34\n",
            "Average Train Loss: 0.0000\n",
            "Train epoch 6 Mean IOU: 90.39\n",
            "Train epoch 6 Mean F1 best: 0.995\n",
            "Train epoch 6 Mean F1 fixed: 0.9942\n",
            "Train epoch 6 Mean AP: 0.9868\n",
            "Validation:\n",
            "Length of dataset:  300\n"
          ]
        },
        {
          "name": "stderr",
          "output_type": "stream",
          "text": [
            "\n",
            "  0%|          | 0/10 [00:00<?, ?it/s]\u001b[A\n",
            " 10%|█         | 1/10 [00:00<00:07,  1.16it/s]\u001b[A\n",
            " 20%|██        | 2/10 [00:01<00:05,  1.43it/s]\u001b[A\n",
            " 30%|███       | 3/10 [00:02<00:04,  1.54it/s]\u001b[A\n",
            " 40%|████      | 4/10 [00:02<00:03,  1.59it/s]\u001b[A\n",
            " 50%|█████     | 5/10 [00:03<00:03,  1.62it/s]\u001b[A\n",
            " 60%|██████    | 6/10 [00:03<00:02,  1.65it/s]\u001b[A\n",
            " 70%|███████   | 7/10 [00:04<00:01,  1.66it/s]\u001b[A\n",
            " 80%|████████  | 8/10 [00:04<00:01,  1.67it/s]\u001b[A\n",
            " 90%|█████████ | 9/10 [00:05<00:00,  1.68it/s]\u001b[A\n",
            "100%|██████████| 10/10 [00:05<00:00,  1.72it/s]\n",
            " 70%|███████   | 7/10 [12:26<05:18, 106.33s/it]"
          ]
        },
        {
          "name": "stdout",
          "output_type": "stream",
          "text": [
            "Validation at epoch 6 Mean IOU: 71.6\n",
            "Validation at epoch 6 Mean F1 best: 0.8943\n",
            "Validation at epoch 6 Mean F1 fixed: 0.8369\n",
            "Validation at epoch 6 Mean AP: 0.887\n",
            "Early Stopping counter: 2 out of 5\n",
            "\n",
            "Epoch: 7\n",
            "Train Loss: 0.0227 at step 600 \t Iter time: 1.34\n",
            "Average Train Loss: 0.0000\n",
            "Train epoch 7 Mean IOU: 90.96\n",
            "Train epoch 7 Mean F1 best: 0.9976\n",
            "Train epoch 7 Mean F1 fixed: 0.9974\n",
            "Train epoch 7 Mean AP: 0.988\n",
            "Validation:\n",
            "Length of dataset:  300\n"
          ]
        },
        {
          "name": "stderr",
          "output_type": "stream",
          "text": [
            "\n",
            "  0%|          | 0/10 [00:00<?, ?it/s]\u001b[A\n",
            " 10%|█         | 1/10 [00:00<00:07,  1.16it/s]\u001b[A\n",
            " 20%|██        | 2/10 [00:01<00:05,  1.42it/s]\u001b[A\n",
            " 30%|███       | 3/10 [00:02<00:04,  1.53it/s]\u001b[A\n",
            " 40%|████      | 4/10 [00:02<00:03,  1.59it/s]\u001b[A\n",
            " 50%|█████     | 5/10 [00:03<00:03,  1.63it/s]\u001b[A\n",
            " 60%|██████    | 6/10 [00:03<00:02,  1.65it/s]\u001b[A\n",
            " 70%|███████   | 7/10 [00:04<00:01,  1.66it/s]\u001b[A\n",
            " 80%|████████  | 8/10 [00:04<00:01,  1.67it/s]\u001b[A\n",
            " 90%|█████████ | 9/10 [00:05<00:00,  1.68it/s]\u001b[A\n",
            "100%|██████████| 10/10 [00:05<00:00,  1.72it/s]\n",
            " 80%|████████  | 8/10 [14:12<03:32, 106.20s/it]"
          ]
        },
        {
          "name": "stdout",
          "output_type": "stream",
          "text": [
            "Validation at epoch 7 Mean IOU: 71.46\n",
            "Validation at epoch 7 Mean F1 best: 0.8866\n",
            "Validation at epoch 7 Mean F1 fixed: 0.8276\n",
            "Validation at epoch 7 Mean AP: 0.8881\n",
            "Early Stopping counter: 3 out of 5\n",
            "\n",
            "Epoch: 8\n",
            "Train Loss: 0.0238 at step 650 \t Iter time: 1.35\n",
            "Train Loss: 0.0193 at step 700 \t Iter time: 1.34\n",
            "Average Train Loss: 0.0000\n",
            "Train epoch 8 Mean IOU: 91.45\n",
            "Train epoch 8 Mean F1 best: 0.9999\n",
            "Train epoch 8 Mean F1 fixed: 0.9987\n",
            "Train epoch 8 Mean AP: 0.9893\n",
            "Validation:\n",
            "Length of dataset:  300\n"
          ]
        },
        {
          "name": "stderr",
          "output_type": "stream",
          "text": [
            "\n",
            "  0%|          | 0/10 [00:00<?, ?it/s]\u001b[A\n",
            " 10%|█         | 1/10 [00:00<00:07,  1.15it/s]\u001b[A\n",
            " 20%|██        | 2/10 [00:01<00:05,  1.42it/s]\u001b[A\n",
            " 30%|███       | 3/10 [00:02<00:04,  1.54it/s]\u001b[A\n",
            " 40%|████      | 4/10 [00:02<00:03,  1.60it/s]\u001b[A\n",
            " 50%|█████     | 5/10 [00:03<00:03,  1.64it/s]\u001b[A\n",
            " 60%|██████    | 6/10 [00:03<00:02,  1.66it/s]\u001b[A\n",
            " 70%|███████   | 7/10 [00:04<00:01,  1.68it/s]\u001b[A\n",
            " 80%|████████  | 8/10 [00:04<00:01,  1.69it/s]\u001b[A\n",
            " 90%|█████████ | 9/10 [00:05<00:00,  1.69it/s]\u001b[A\n",
            "100%|██████████| 10/10 [00:05<00:00,  1.73it/s]\n",
            " 90%|█████████ | 9/10 [15:58<01:46, 106.15s/it]"
          ]
        },
        {
          "name": "stdout",
          "output_type": "stream",
          "text": [
            "Validation at epoch 8 Mean IOU: 72.19\n",
            "Validation at epoch 8 Mean F1 best: 0.8934\n",
            "Validation at epoch 8 Mean F1 fixed: 0.8284\n",
            "Validation at epoch 8 Mean AP: 0.889\n",
            "Early Stopping counter: 4 out of 5\n",
            "\n",
            "Epoch: 9\n",
            "Train Loss: 0.0166 at step 750 \t Iter time: 1.34\n",
            "Average Train Loss: 0.0000\n",
            "Train epoch 9 Mean IOU: 91.43\n",
            "Train epoch 9 Mean F1 best: 0.9964\n",
            "Train epoch 9 Mean F1 fixed: 0.9958\n",
            "Train epoch 9 Mean AP: 0.9892\n",
            "Validation:\n",
            "Length of dataset:  300\n"
          ]
        },
        {
          "name": "stderr",
          "output_type": "stream",
          "text": [
            "\n",
            "  0%|          | 0/10 [00:00<?, ?it/s]\u001b[A\n",
            " 10%|█         | 1/10 [00:00<00:07,  1.13it/s]\u001b[A\n",
            " 20%|██        | 2/10 [00:01<00:05,  1.41it/s]\u001b[A\n",
            " 30%|███       | 3/10 [00:02<00:04,  1.48it/s]\u001b[A\n",
            " 40%|████      | 4/10 [00:02<00:03,  1.56it/s]\u001b[A\n",
            " 50%|█████     | 5/10 [00:03<00:03,  1.57it/s]\u001b[A\n",
            " 60%|██████    | 6/10 [00:03<00:02,  1.61it/s]\u001b[A\n",
            " 70%|███████   | 7/10 [00:04<00:01,  1.64it/s]\u001b[A\n",
            " 80%|████████  | 8/10 [00:05<00:01,  1.66it/s]\u001b[A\n",
            " 90%|█████████ | 9/10 [00:05<00:00,  1.67it/s]\u001b[A\n",
            "100%|██████████| 10/10 [00:05<00:00,  1.69it/s]\n",
            "100%|██████████| 10/10 [17:44<00:00, 106.43s/it]\n"
          ]
        },
        {
          "name": "stdout",
          "output_type": "stream",
          "text": [
            "Validation at epoch 9 Mean IOU: 72.67\n",
            "Validation at epoch 9 Mean F1 best: 0.8731\n",
            "Validation at epoch 9 Mean F1 fixed: 0.8059\n",
            "Validation at epoch 9 Mean AP: 0.883\n",
            "Early Stopping counter: 5 out of 5\n",
            "Early stopping triggered\n",
            "Continuing training with a learning rate reduced by a factor of 10\n",
            "\n",
            "Round 11, with 2750 samples of the 4th dataset\n",
            "Length of training set: 2750\n",
            "Length of validation set: 300\n"
          ]
        },
        {
          "name": "stderr",
          "output_type": "stream",
          "text": [
            "\r  0%|          | 0/10 [00:00<?, ?it/s]"
          ]
        },
        {
          "name": "stdout",
          "output_type": "stream",
          "text": [
            "Epoch: 0\n",
            "Train Loss: 0.0376 at step 50 \t Iter time: 1.30\n",
            "Average Train Loss: 0.0000\n",
            "Train epoch 0 Mean IOU: 83.14\n",
            "Train epoch 0 Mean F1 best: 0.973\n",
            "Train epoch 0 Mean F1 fixed: 0.9488\n",
            "Train epoch 0 Mean AP: 0.9655\n",
            "Validation:\n",
            "Length of dataset:  300\n"
          ]
        },
        {
          "name": "stderr",
          "output_type": "stream",
          "text": [
            "\n",
            "  0%|          | 0/10 [00:00<?, ?it/s]\u001b[A\n",
            " 10%|█         | 1/10 [00:00<00:08,  1.01it/s]\u001b[A\n",
            " 20%|██        | 2/10 [00:01<00:06,  1.33it/s]\u001b[A\n",
            " 30%|███       | 3/10 [00:02<00:04,  1.48it/s]\u001b[A\n",
            " 40%|████      | 4/10 [00:02<00:03,  1.56it/s]\u001b[A\n",
            " 50%|█████     | 5/10 [00:03<00:03,  1.61it/s]\u001b[A\n",
            " 60%|██████    | 6/10 [00:03<00:02,  1.61it/s]\u001b[A\n",
            " 70%|███████   | 7/10 [00:04<00:01,  1.64it/s]\u001b[A\n",
            " 80%|████████  | 8/10 [00:05<00:01,  1.66it/s]\u001b[A\n",
            " 90%|█████████ | 9/10 [00:05<00:00,  1.68it/s]\u001b[A\n",
            "100%|██████████| 10/10 [00:05<00:00,  1.68it/s]\n"
          ]
        },
        {
          "name": "stdout",
          "output_type": "stream",
          "text": [
            "Validation at epoch 0 Mean IOU: 63.87\n",
            "Validation at epoch 0 Mean F1 best: 0.818\n",
            "Validation at epoch 0 Mean F1 fixed: 0.7475\n",
            "Validation at epoch 0 Mean AP: 0.8223\n"
          ]
        },
        {
          "name": "stderr",
          "output_type": "stream",
          "text": [
            "\r 10%|█         | 1/10 [01:57<17:40, 117.88s/it]"
          ]
        },
        {
          "name": "stdout",
          "output_type": "stream",
          "text": [
            "Best model saved at epoch 0!\n",
            "\n",
            "Epoch: 1\n",
            "Train Loss: 0.0395 at step 100 \t Iter time: 1.36\n",
            "Train Loss: 0.0347 at step 150 \t Iter time: 1.34\n",
            "Average Train Loss: 0.0000\n",
            "Train epoch 1 Mean IOU: 86.11\n",
            "Train epoch 1 Mean F1 best: 0.9811\n",
            "Train epoch 1 Mean F1 fixed: 0.9671\n",
            "Train epoch 1 Mean AP: 0.976\n",
            "Validation:\n",
            "Length of dataset:  300\n"
          ]
        },
        {
          "name": "stderr",
          "output_type": "stream",
          "text": [
            "\n",
            "  0%|          | 0/10 [00:00<?, ?it/s]\u001b[A\n",
            " 10%|█         | 1/10 [00:01<00:09,  1.03s/it]\u001b[A\n",
            " 20%|██        | 2/10 [00:01<00:06,  1.29it/s]\u001b[A\n",
            " 30%|███       | 3/10 [00:02<00:04,  1.44it/s]\u001b[A\n",
            " 40%|████      | 4/10 [00:02<00:03,  1.54it/s]\u001b[A\n",
            " 50%|█████     | 5/10 [00:03<00:03,  1.59it/s]\u001b[A\n",
            " 60%|██████    | 6/10 [00:03<00:02,  1.63it/s]\u001b[A\n",
            " 70%|███████   | 7/10 [00:04<00:01,  1.63it/s]\u001b[A\n",
            " 80%|████████  | 8/10 [00:05<00:01,  1.65it/s]\u001b[A\n",
            " 90%|█████████ | 9/10 [00:05<00:00,  1.67it/s]\u001b[A\n",
            "100%|██████████| 10/10 [00:05<00:00,  1.67it/s]\n"
          ]
        },
        {
          "name": "stdout",
          "output_type": "stream",
          "text": [
            "Validation at epoch 1 Mean IOU: 66.07\n",
            "Validation at epoch 1 Mean F1 best: 0.8692\n",
            "Validation at epoch 1 Mean F1 fixed: 0.8072\n",
            "Validation at epoch 1 Mean AP: 0.8587\n"
          ]
        },
        {
          "name": "stderr",
          "output_type": "stream",
          "text": [
            "\r 20%|██        | 2/10 [03:55<15:40, 117.50s/it]"
          ]
        },
        {
          "name": "stdout",
          "output_type": "stream",
          "text": [
            "Best model saved at epoch 1!\n",
            "\n",
            "Epoch: 2\n",
            "Train Loss: 0.0218 at step 200 \t Iter time: 1.36\n",
            "Train Loss: 0.0303 at step 250 \t Iter time: 1.34\n",
            "Average Train Loss: 0.0000\n",
            "Train epoch 2 Mean IOU: 87.48\n",
            "Train epoch 2 Mean F1 best: 0.9902\n",
            "Train epoch 2 Mean F1 fixed: 0.9819\n",
            "Train epoch 2 Mean AP: 0.9791\n",
            "Validation:\n",
            "Length of dataset:  300\n"
          ]
        },
        {
          "name": "stderr",
          "output_type": "stream",
          "text": [
            "\n",
            "  0%|          | 0/10 [00:00<?, ?it/s]\u001b[A\n",
            " 10%|█         | 1/10 [00:00<00:08,  1.01it/s]\u001b[A\n",
            " 20%|██        | 2/10 [00:01<00:05,  1.34it/s]\u001b[A\n",
            " 30%|███       | 3/10 [00:02<00:04,  1.47it/s]\u001b[A\n",
            " 40%|████      | 4/10 [00:02<00:03,  1.55it/s]\u001b[A\n",
            " 50%|█████     | 5/10 [00:03<00:03,  1.57it/s]\u001b[A\n",
            " 60%|██████    | 6/10 [00:03<00:02,  1.59it/s]\u001b[A\n",
            " 70%|███████   | 7/10 [00:04<00:01,  1.63it/s]\u001b[A\n",
            " 80%|████████  | 8/10 [00:05<00:01,  1.65it/s]\u001b[A\n",
            " 90%|█████████ | 9/10 [00:05<00:00,  1.67it/s]\u001b[A\n",
            "100%|██████████| 10/10 [00:05<00:00,  1.67it/s]\n"
          ]
        },
        {
          "name": "stdout",
          "output_type": "stream",
          "text": [
            "Validation at epoch 2 Mean IOU: 66.43\n",
            "Validation at epoch 2 Mean F1 best: 0.8344\n",
            "Validation at epoch 2 Mean F1 fixed: 0.7531\n",
            "Validation at epoch 2 Mean AP: 0.8449\n"
          ]
        },
        {
          "name": "stderr",
          "output_type": "stream",
          "text": [
            "\r 30%|███       | 3/10 [05:52<13:42, 117.45s/it]"
          ]
        },
        {
          "name": "stdout",
          "output_type": "stream",
          "text": [
            "Best model saved at epoch 2!\n",
            "\n",
            "Epoch: 3\n",
            "Train Loss: 0.0202 at step 300 \t Iter time: 1.36\n",
            "Average Train Loss: 0.0000\n",
            "Train epoch 3 Mean IOU: 88.63\n",
            "Train epoch 3 Mean F1 best: 0.9914\n",
            "Train epoch 3 Mean F1 fixed: 0.9857\n",
            "Train epoch 3 Mean AP: 0.982\n",
            "Validation:\n",
            "Length of dataset:  300\n"
          ]
        },
        {
          "name": "stderr",
          "output_type": "stream",
          "text": [
            "\n",
            "  0%|          | 0/10 [00:00<?, ?it/s]\u001b[A\n",
            " 10%|█         | 1/10 [00:00<00:08,  1.02it/s]\u001b[A\n",
            " 20%|██        | 2/10 [00:01<00:06,  1.33it/s]\u001b[A\n",
            " 30%|███       | 3/10 [00:02<00:04,  1.48it/s]\u001b[A\n",
            " 40%|████      | 4/10 [00:02<00:03,  1.56it/s]\u001b[A\n",
            " 50%|█████     | 5/10 [00:03<00:03,  1.57it/s]\u001b[A\n",
            " 60%|██████    | 6/10 [00:03<00:02,  1.61it/s]\u001b[A\n",
            " 70%|███████   | 7/10 [00:04<00:01,  1.61it/s]\u001b[A\n",
            " 80%|████████  | 8/10 [00:05<00:01,  1.63it/s]\u001b[A\n",
            " 90%|█████████ | 9/10 [00:05<00:00,  1.65it/s]\u001b[A\n",
            "100%|██████████| 10/10 [00:05<00:00,  1.67it/s]\n"
          ]
        },
        {
          "name": "stdout",
          "output_type": "stream",
          "text": [
            "Validation at epoch 3 Mean IOU: 68.57\n",
            "Validation at epoch 3 Mean F1 best: 0.8854\n",
            "Validation at epoch 3 Mean F1 fixed: 0.826\n",
            "Validation at epoch 3 Mean AP: 0.8805\n"
          ]
        },
        {
          "name": "stderr",
          "output_type": "stream",
          "text": [
            "\r 40%|████      | 4/10 [07:49<11:44, 117.37s/it]"
          ]
        },
        {
          "name": "stdout",
          "output_type": "stream",
          "text": [
            "Best model saved at epoch 3!\n",
            "\n",
            "Epoch: 4\n",
            "Train Loss: 0.0246 at step 350 \t Iter time: 1.37\n",
            "Train Loss: 0.0195 at step 400 \t Iter time: 1.36\n",
            "Average Train Loss: 0.0000\n",
            "Train epoch 4 Mean IOU: 89.74\n",
            "Train epoch 4 Mean F1 best: 0.9954\n",
            "Train epoch 4 Mean F1 fixed: 0.993\n",
            "Train epoch 4 Mean AP: 0.9855\n",
            "Validation:\n",
            "Length of dataset:  300\n"
          ]
        },
        {
          "name": "stderr",
          "output_type": "stream",
          "text": [
            "\n",
            "  0%|          | 0/10 [00:00<?, ?it/s]\u001b[A\n",
            " 10%|█         | 1/10 [00:00<00:08,  1.01it/s]\u001b[A\n",
            " 20%|██        | 2/10 [00:01<00:06,  1.29it/s]\u001b[A\n",
            " 30%|███       | 3/10 [00:02<00:04,  1.45it/s]\u001b[A\n",
            " 40%|████      | 4/10 [00:02<00:03,  1.54it/s]\u001b[A\n",
            " 50%|█████     | 5/10 [00:03<00:03,  1.60it/s]\u001b[A\n",
            " 60%|██████    | 6/10 [00:04<00:02,  1.59it/s]\u001b[A\n",
            " 70%|███████   | 7/10 [00:04<00:01,  1.63it/s]\u001b[A\n",
            " 80%|████████  | 8/10 [00:05<00:01,  1.63it/s]\u001b[A\n",
            " 90%|█████████ | 9/10 [00:05<00:00,  1.62it/s]\u001b[A\n",
            "100%|██████████| 10/10 [00:06<00:00,  1.65it/s]\n"
          ]
        },
        {
          "name": "stdout",
          "output_type": "stream",
          "text": [
            "Validation at epoch 4 Mean IOU: 72.05\n",
            "Validation at epoch 4 Mean F1 best: 0.8563\n",
            "Validation at epoch 4 Mean F1 fixed: 0.7889\n",
            "Validation at epoch 4 Mean AP: 0.8836\n"
          ]
        },
        {
          "name": "stderr",
          "output_type": "stream",
          "text": [
            "\r 50%|█████     | 5/10 [09:47<09:47, 117.53s/it]"
          ]
        },
        {
          "name": "stdout",
          "output_type": "stream",
          "text": [
            "Best model saved at epoch 4!\n",
            "\n",
            "Epoch: 5\n",
            "Train Loss: 0.0250 at step 450 \t Iter time: 1.36\n",
            "Train Loss: 0.0201 at step 500 \t Iter time: 1.36\n",
            "Average Train Loss: 0.0000\n",
            "Train epoch 5 Mean IOU: 90.36\n",
            "Train epoch 5 Mean F1 best: 0.996\n",
            "Train epoch 5 Mean F1 fixed: 0.9941\n",
            "Train epoch 5 Mean AP: 0.9866\n",
            "Validation:\n",
            "Length of dataset:  300\n"
          ]
        },
        {
          "name": "stderr",
          "output_type": "stream",
          "text": [
            "\n",
            "  0%|          | 0/10 [00:00<?, ?it/s]\u001b[A\n",
            " 10%|█         | 1/10 [00:01<00:09,  1.01s/it]\u001b[A\n",
            " 20%|██        | 2/10 [00:01<00:06,  1.30it/s]\u001b[A\n",
            " 30%|███       | 3/10 [00:02<00:04,  1.45it/s]\u001b[A\n",
            " 40%|████      | 4/10 [00:02<00:03,  1.54it/s]\u001b[A\n",
            " 50%|█████     | 5/10 [00:03<00:03,  1.59it/s]\u001b[A\n",
            " 60%|██████    | 6/10 [00:03<00:02,  1.63it/s]\u001b[A\n",
            " 70%|███████   | 7/10 [00:04<00:01,  1.65it/s]\u001b[A\n",
            " 80%|████████  | 8/10 [00:05<00:01,  1.63it/s]\u001b[A\n",
            " 90%|█████████ | 9/10 [00:05<00:00,  1.63it/s]\u001b[A\n",
            "100%|██████████| 10/10 [00:06<00:00,  1.66it/s]\n"
          ]
        },
        {
          "name": "stdout",
          "output_type": "stream",
          "text": [
            "Validation at epoch 5 Mean IOU: 72.09\n",
            "Validation at epoch 5 Mean F1 best: 0.8785\n",
            "Validation at epoch 5 Mean F1 fixed: 0.816\n",
            "Validation at epoch 5 Mean AP: 0.8856\n"
          ]
        },
        {
          "name": "stderr",
          "output_type": "stream",
          "text": [
            "\r 60%|██████    | 6/10 [11:44<07:49, 117.47s/it]"
          ]
        },
        {
          "name": "stdout",
          "output_type": "stream",
          "text": [
            "Best model saved at epoch 5!\n",
            "\n",
            "Epoch: 6\n",
            "Train Loss: 0.0203 at step 550 \t Iter time: 1.36\n",
            "Train Loss: 0.0183 at step 600 \t Iter time: 1.36\n",
            "Average Train Loss: 0.0000\n",
            "Train epoch 6 Mean IOU: 90.19\n",
            "Train epoch 6 Mean F1 best: 0.9936\n",
            "Train epoch 6 Mean F1 fixed: 0.9891\n",
            "Train epoch 6 Mean AP: 0.9856\n",
            "Validation:\n",
            "Length of dataset:  300\n"
          ]
        },
        {
          "name": "stderr",
          "output_type": "stream",
          "text": [
            "\n",
            "  0%|          | 0/10 [00:00<?, ?it/s]\u001b[A\n",
            " 10%|█         | 1/10 [00:01<00:09,  1.02s/it]\u001b[A\n",
            " 20%|██        | 2/10 [00:01<00:06,  1.31it/s]\u001b[A\n",
            " 30%|███       | 3/10 [00:02<00:04,  1.46it/s]\u001b[A\n",
            " 40%|████      | 4/10 [00:02<00:03,  1.55it/s]\u001b[A\n",
            " 50%|█████     | 5/10 [00:03<00:03,  1.60it/s]\u001b[A\n",
            " 60%|██████    | 6/10 [00:03<00:02,  1.63it/s]\u001b[A\n",
            " 70%|███████   | 7/10 [00:04<00:01,  1.66it/s]\u001b[A\n",
            " 80%|████████  | 8/10 [00:05<00:01,  1.68it/s]\u001b[A\n",
            " 90%|█████████ | 9/10 [00:05<00:00,  1.69it/s]\u001b[A\n",
            "100%|██████████| 10/10 [00:05<00:00,  1.69it/s]\n",
            " 70%|███████   | 7/10 [13:41<05:51, 117.13s/it]"
          ]
        },
        {
          "name": "stdout",
          "output_type": "stream",
          "text": [
            "Validation at epoch 6 Mean IOU: 71.31\n",
            "Validation at epoch 6 Mean F1 best: 0.8561\n",
            "Validation at epoch 6 Mean F1 fixed: 0.7861\n",
            "Validation at epoch 6 Mean AP: 0.8747\n",
            "Early Stopping counter: 1 out of 5\n",
            "\n",
            "Epoch: 7\n",
            "Train Loss: 0.0204 at step 650 \t Iter time: 1.36\n",
            "Average Train Loss: 0.0000\n",
            "Train epoch 7 Mean IOU: 90.93\n",
            "Train epoch 7 Mean F1 best: 0.9978\n",
            "Train epoch 7 Mean F1 fixed: 0.9959\n",
            "Train epoch 7 Mean AP: 0.9885\n",
            "Validation:\n",
            "Length of dataset:  300\n"
          ]
        },
        {
          "name": "stderr",
          "output_type": "stream",
          "text": [
            "\n",
            "  0%|          | 0/10 [00:00<?, ?it/s]\u001b[A\n",
            " 10%|█         | 1/10 [00:00<00:08,  1.02it/s]\u001b[A\n",
            " 20%|██        | 2/10 [00:01<00:06,  1.33it/s]\u001b[A\n",
            " 30%|███       | 3/10 [00:02<00:04,  1.48it/s]\u001b[A\n",
            " 40%|████      | 4/10 [00:02<00:03,  1.56it/s]\u001b[A\n",
            " 50%|█████     | 5/10 [00:03<00:03,  1.60it/s]\u001b[A\n",
            " 60%|██████    | 6/10 [00:03<00:02,  1.63it/s]\u001b[A\n",
            " 70%|███████   | 7/10 [00:04<00:01,  1.66it/s]\u001b[A\n",
            " 80%|████████  | 8/10 [00:05<00:01,  1.67it/s]\u001b[A\n",
            " 90%|█████████ | 9/10 [00:05<00:00,  1.69it/s]\u001b[A\n",
            "100%|██████████| 10/10 [00:05<00:00,  1.69it/s]\n",
            " 80%|████████  | 8/10 [15:37<03:53, 116.94s/it]"
          ]
        },
        {
          "name": "stdout",
          "output_type": "stream",
          "text": [
            "Validation at epoch 7 Mean IOU: 69.62\n",
            "Validation at epoch 7 Mean F1 best: 0.8255\n",
            "Validation at epoch 7 Mean F1 fixed: 0.7461\n",
            "Validation at epoch 7 Mean AP: 0.8381\n",
            "Early Stopping counter: 2 out of 5\n",
            "\n",
            "Epoch: 8\n",
            "Train Loss: 0.0270 at step 700 \t Iter time: 1.36\n",
            "Train Loss: 0.0159 at step 750 \t Iter time: 1.36\n",
            "Average Train Loss: 0.0000\n",
            "Train epoch 8 Mean IOU: 90.17\n",
            "Train epoch 8 Mean F1 best: 0.9941\n",
            "Train epoch 8 Mean F1 fixed: 0.9877\n",
            "Train epoch 8 Mean AP: 0.9862\n",
            "Validation:\n",
            "Length of dataset:  300\n"
          ]
        },
        {
          "name": "stderr",
          "output_type": "stream",
          "text": [
            "\n",
            "  0%|          | 0/10 [00:00<?, ?it/s]\u001b[A\n",
            " 10%|█         | 1/10 [00:01<00:09,  1.03s/it]\u001b[A\n",
            " 20%|██        | 2/10 [00:01<00:06,  1.30it/s]\u001b[A\n",
            " 30%|███       | 3/10 [00:02<00:04,  1.46it/s]\u001b[A\n",
            " 40%|████      | 4/10 [00:02<00:03,  1.55it/s]\u001b[A\n",
            " 50%|█████     | 5/10 [00:03<00:03,  1.61it/s]\u001b[A\n",
            " 60%|██████    | 6/10 [00:03<00:02,  1.64it/s]\u001b[A\n",
            " 70%|███████   | 7/10 [00:04<00:01,  1.66it/s]\u001b[A\n",
            " 80%|████████  | 8/10 [00:05<00:01,  1.68it/s]\u001b[A\n",
            " 90%|█████████ | 9/10 [00:05<00:00,  1.69it/s]\u001b[A\n",
            "100%|██████████| 10/10 [00:05<00:00,  1.69it/s]\n",
            " 90%|█████████ | 9/10 [17:34<01:56, 116.74s/it]"
          ]
        },
        {
          "name": "stdout",
          "output_type": "stream",
          "text": [
            "Validation at epoch 8 Mean IOU: 70.95\n",
            "Validation at epoch 8 Mean F1 best: 0.8723\n",
            "Validation at epoch 8 Mean F1 fixed: 0.8064\n",
            "Validation at epoch 8 Mean AP: 0.8831\n",
            "Early Stopping counter: 3 out of 5\n",
            "\n",
            "Epoch: 9\n",
            "Train Loss: 0.0159 at step 800 \t Iter time: 1.36\n",
            "Train Loss: 0.0217 at step 850 \t Iter time: 1.36\n",
            "Average Train Loss: 0.0000\n",
            "Train epoch 9 Mean IOU: 90.78\n",
            "Train epoch 9 Mean F1 best: 0.9932\n",
            "Train epoch 9 Mean F1 fixed: 0.9912\n",
            "Train epoch 9 Mean AP: 0.9869\n",
            "Validation:\n",
            "Length of dataset:  300\n"
          ]
        },
        {
          "name": "stderr",
          "output_type": "stream",
          "text": [
            "\n",
            "  0%|          | 0/10 [00:00<?, ?it/s]\u001b[A\n",
            " 10%|█         | 1/10 [00:00<00:08,  1.01it/s]\u001b[A\n",
            " 20%|██        | 2/10 [00:01<00:06,  1.31it/s]\u001b[A\n",
            " 30%|███       | 3/10 [00:02<00:04,  1.47it/s]\u001b[A\n",
            " 40%|████      | 4/10 [00:02<00:03,  1.56it/s]\u001b[A\n",
            " 50%|█████     | 5/10 [00:03<00:03,  1.60it/s]\u001b[A\n",
            " 60%|██████    | 6/10 [00:03<00:02,  1.63it/s]\u001b[A\n",
            " 70%|███████   | 7/10 [00:04<00:01,  1.66it/s]\u001b[A\n",
            " 80%|████████  | 8/10 [00:05<00:01,  1.67it/s]\u001b[A\n",
            " 90%|█████████ | 9/10 [00:05<00:00,  1.68it/s]\u001b[A\n",
            "100%|██████████| 10/10 [00:05<00:00,  1.69it/s]\n",
            "100%|██████████| 10/10 [19:30<00:00, 117.03s/it]\n"
          ]
        },
        {
          "name": "stdout",
          "output_type": "stream",
          "text": [
            "Validation at epoch 9 Mean IOU: 67.24\n",
            "Validation at epoch 9 Mean F1 best: 0.8521\n",
            "Validation at epoch 9 Mean F1 fixed: 0.7723\n",
            "Validation at epoch 9 Mean AP: 0.8619\n",
            "Early Stopping counter: 4 out of 5\n",
            "\n",
            "Round 12, with 3000 samples of the 4th dataset\n",
            "Length of training set: 3000\n",
            "Length of validation set: 300\n"
          ]
        },
        {
          "name": "stderr",
          "output_type": "stream",
          "text": [
            "\r  0%|          | 0/10 [00:00<?, ?it/s]"
          ]
        },
        {
          "name": "stdout",
          "output_type": "stream",
          "text": [
            "Epoch: 0\n",
            "Train Loss: 0.0431 at step 50 \t Iter time: 1.31\n",
            "Average Train Loss: 0.0000\n",
            "Train epoch 0 Mean IOU: 83.29\n",
            "Train epoch 0 Mean F1 best: 0.97\n",
            "Train epoch 0 Mean F1 fixed: 0.9437\n",
            "Train epoch 0 Mean AP: 0.9646\n",
            "Validation:\n",
            "Length of dataset:  300\n"
          ]
        },
        {
          "name": "stderr",
          "output_type": "stream",
          "text": [
            "\n",
            "  0%|          | 0/10 [00:00<?, ?it/s]\u001b[A\n",
            " 10%|█         | 1/10 [00:00<00:08,  1.10it/s]\u001b[A\n",
            " 20%|██        | 2/10 [00:01<00:05,  1.36it/s]\u001b[A\n",
            " 30%|███       | 3/10 [00:02<00:04,  1.49it/s]\u001b[A\n",
            " 40%|████      | 4/10 [00:02<00:03,  1.57it/s]\u001b[A\n",
            " 50%|█████     | 5/10 [00:03<00:03,  1.62it/s]\u001b[A\n",
            " 60%|██████    | 6/10 [00:03<00:02,  1.65it/s]\u001b[A\n",
            " 70%|███████   | 7/10 [00:04<00:01,  1.64it/s]\u001b[A\n",
            " 80%|████████  | 8/10 [00:05<00:01,  1.67it/s]\u001b[A\n",
            " 90%|█████████ | 9/10 [00:05<00:00,  1.68it/s]\u001b[A\n",
            "100%|██████████| 10/10 [00:05<00:00,  1.70it/s]\n"
          ]
        },
        {
          "name": "stdout",
          "output_type": "stream",
          "text": [
            "Validation at epoch 0 Mean IOU: 69.46\n",
            "Validation at epoch 0 Mean F1 best: 0.8532\n",
            "Validation at epoch 0 Mean F1 fixed: 0.7728\n",
            "Validation at epoch 0 Mean AP: 0.8697\n"
          ]
        },
        {
          "name": "stderr",
          "output_type": "stream",
          "text": [
            "\r 10%|█         | 1/10 [02:08<19:13, 128.16s/it]"
          ]
        },
        {
          "name": "stdout",
          "output_type": "stream",
          "text": [
            "Best model saved at epoch 0!\n",
            "\n",
            "Epoch: 1\n",
            "Train Loss: 0.0310 at step 100 \t Iter time: 1.36\n",
            "Train Loss: 0.0347 at step 150 \t Iter time: 1.34\n",
            "Average Train Loss: 0.0000\n",
            "Train epoch 1 Mean IOU: 85.95\n",
            "Train epoch 1 Mean F1 best: 0.9839\n",
            "Train epoch 1 Mean F1 fixed: 0.9704\n",
            "Train epoch 1 Mean AP: 0.9736\n",
            "Validation:\n",
            "Length of dataset:  300\n"
          ]
        },
        {
          "name": "stderr",
          "output_type": "stream",
          "text": [
            "\n",
            "  0%|          | 0/10 [00:00<?, ?it/s]\u001b[A\n",
            " 10%|█         | 1/10 [00:00<00:08,  1.10it/s]\u001b[A\n",
            " 20%|██        | 2/10 [00:01<00:05,  1.40it/s]\u001b[A\n",
            " 30%|███       | 3/10 [00:02<00:04,  1.52it/s]\u001b[A\n",
            " 40%|████      | 4/10 [00:02<00:03,  1.59it/s]\u001b[A\n",
            " 50%|█████     | 5/10 [00:03<00:03,  1.64it/s]\u001b[A\n",
            " 60%|██████    | 6/10 [00:03<00:02,  1.66it/s]\u001b[A\n",
            " 70%|███████   | 7/10 [00:04<00:01,  1.66it/s]\u001b[A\n",
            " 80%|████████  | 8/10 [00:05<00:01,  1.68it/s]\u001b[A\n",
            " 90%|█████████ | 9/10 [00:05<00:00,  1.64it/s]\u001b[A\n",
            "100%|██████████| 10/10 [00:05<00:00,  1.70it/s]\n"
          ]
        },
        {
          "name": "stdout",
          "output_type": "stream",
          "text": [
            "Validation at epoch 1 Mean IOU: 69.87\n",
            "Validation at epoch 1 Mean F1 best: 0.8455\n",
            "Validation at epoch 1 Mean F1 fixed: 0.7435\n",
            "Validation at epoch 1 Mean AP: 0.8736\n"
          ]
        },
        {
          "name": "stderr",
          "output_type": "stream",
          "text": [
            "\r 20%|██        | 2/10 [04:15<17:01, 127.70s/it]"
          ]
        },
        {
          "name": "stdout",
          "output_type": "stream",
          "text": [
            "Best model saved at epoch 1!\n",
            "\n",
            "Epoch: 2\n",
            "Train Loss: 0.0282 at step 200 \t Iter time: 1.36\n",
            "Train Loss: 0.0248 at step 250 \t Iter time: 1.34\n",
            "Average Train Loss: 0.0000\n",
            "Train epoch 2 Mean IOU: 87.36\n",
            "Train epoch 2 Mean F1 best: 0.9851\n",
            "Train epoch 2 Mean F1 fixed: 0.9784\n",
            "Train epoch 2 Mean AP: 0.978\n",
            "Validation:\n",
            "Length of dataset:  300\n"
          ]
        },
        {
          "name": "stderr",
          "output_type": "stream",
          "text": [
            "\n",
            "  0%|          | 0/10 [00:00<?, ?it/s]\u001b[A\n",
            " 10%|█         | 1/10 [00:00<00:08,  1.10it/s]\u001b[A\n",
            " 20%|██        | 2/10 [00:01<00:05,  1.39it/s]\u001b[A\n",
            " 30%|███       | 3/10 [00:02<00:04,  1.52it/s]\u001b[A\n",
            " 40%|████      | 4/10 [00:02<00:03,  1.57it/s]\u001b[A\n",
            " 50%|█████     | 5/10 [00:03<00:03,  1.62it/s]\u001b[A\n",
            " 60%|██████    | 6/10 [00:03<00:02,  1.65it/s]\u001b[A\n",
            " 70%|███████   | 7/10 [00:04<00:01,  1.67it/s]\u001b[A\n",
            " 80%|████████  | 8/10 [00:05<00:01,  1.68it/s]\u001b[A\n",
            " 90%|█████████ | 9/10 [00:05<00:00,  1.69it/s]\u001b[A\n",
            "100%|██████████| 10/10 [00:05<00:00,  1.71it/s]\n",
            " 30%|███       | 3/10 [06:21<14:48, 126.93s/it]"
          ]
        },
        {
          "name": "stdout",
          "output_type": "stream",
          "text": [
            "Validation at epoch 2 Mean IOU: 66.97\n",
            "Validation at epoch 2 Mean F1 best: 0.8536\n",
            "Validation at epoch 2 Mean F1 fixed: 0.7843\n",
            "Validation at epoch 2 Mean AP: 0.8616\n",
            "Early Stopping counter: 1 out of 5\n",
            "\n",
            "Epoch: 3\n",
            "Train Loss: 0.0206 at step 300 \t Iter time: 1.35\n",
            "Train Loss: 0.0256 at step 350 \t Iter time: 1.34\n",
            "Average Train Loss: 0.0000\n",
            "Train epoch 3 Mean IOU: 88.8\n",
            "Train epoch 3 Mean F1 best: 0.9927\n",
            "Train epoch 3 Mean F1 fixed: 0.9886\n",
            "Train epoch 3 Mean AP: 0.983\n",
            "Validation:\n",
            "Length of dataset:  300\n"
          ]
        },
        {
          "name": "stderr",
          "output_type": "stream",
          "text": [
            "\n",
            "  0%|          | 0/10 [00:00<?, ?it/s]\u001b[A\n",
            " 10%|█         | 1/10 [00:00<00:08,  1.10it/s]\u001b[A\n",
            " 20%|██        | 2/10 [00:01<00:05,  1.39it/s]\u001b[A\n",
            " 30%|███       | 3/10 [00:02<00:04,  1.51it/s]\u001b[A\n",
            " 40%|████      | 4/10 [00:02<00:03,  1.57it/s]\u001b[A\n",
            " 50%|█████     | 5/10 [00:03<00:03,  1.60it/s]\u001b[A\n",
            " 60%|██████    | 6/10 [00:03<00:02,  1.64it/s]\u001b[A\n",
            " 70%|███████   | 7/10 [00:04<00:01,  1.66it/s]\u001b[A\n",
            " 80%|████████  | 8/10 [00:05<00:01,  1.68it/s]\u001b[A\n",
            " 90%|█████████ | 9/10 [00:05<00:00,  1.69it/s]\u001b[A\n",
            "100%|██████████| 10/10 [00:05<00:00,  1.71it/s]\n",
            " 40%|████      | 4/10 [08:27<12:39, 126.58s/it]"
          ]
        },
        {
          "name": "stdout",
          "output_type": "stream",
          "text": [
            "Validation at epoch 3 Mean IOU: 69.59\n",
            "Validation at epoch 3 Mean F1 best: 0.8253\n",
            "Validation at epoch 3 Mean F1 fixed: 0.7478\n",
            "Validation at epoch 3 Mean AP: 0.8586\n",
            "Early Stopping counter: 2 out of 5\n",
            "\n",
            "Epoch: 4\n",
            "Train Loss: 0.0277 at step 400 \t Iter time: 1.35\n",
            "Train Loss: 0.0232 at step 450 \t Iter time: 1.34\n",
            "Average Train Loss: 0.0000\n",
            "Train epoch 4 Mean IOU: 89.27\n",
            "Train epoch 4 Mean F1 best: 0.9894\n",
            "Train epoch 4 Mean F1 fixed: 0.9861\n",
            "Train epoch 4 Mean AP: 0.9839\n",
            "Validation:\n",
            "Length of dataset:  300\n"
          ]
        },
        {
          "name": "stderr",
          "output_type": "stream",
          "text": [
            "\n",
            "  0%|          | 0/10 [00:00<?, ?it/s]\u001b[A\n",
            " 10%|█         | 1/10 [00:00<00:08,  1.10it/s]\u001b[A\n",
            " 20%|██        | 2/10 [00:01<00:05,  1.38it/s]\u001b[A\n",
            " 30%|███       | 3/10 [00:02<00:04,  1.51it/s]\u001b[A\n",
            " 40%|████      | 4/10 [00:02<00:03,  1.59it/s]\u001b[A\n",
            " 50%|█████     | 5/10 [00:03<00:03,  1.61it/s]\u001b[A\n",
            " 60%|██████    | 6/10 [00:03<00:02,  1.65it/s]\u001b[A\n",
            " 70%|███████   | 7/10 [00:04<00:01,  1.63it/s]\u001b[A\n",
            " 80%|████████  | 8/10 [00:05<00:01,  1.65it/s]\u001b[A\n",
            " 90%|█████████ | 9/10 [00:05<00:00,  1.63it/s]\u001b[A\n",
            "100%|██████████| 10/10 [00:05<00:00,  1.69it/s]\n"
          ]
        },
        {
          "name": "stdout",
          "output_type": "stream",
          "text": [
            "Validation at epoch 4 Mean IOU: 71.44\n",
            "Validation at epoch 4 Mean F1 best: 0.9105\n",
            "Validation at epoch 4 Mean F1 fixed: 0.848\n",
            "Validation at epoch 4 Mean AP: 0.8957\n"
          ]
        },
        {
          "name": "stderr",
          "output_type": "stream",
          "text": [
            "\r 50%|█████     | 5/10 [10:34<10:34, 126.83s/it]"
          ]
        },
        {
          "name": "stdout",
          "output_type": "stream",
          "text": [
            "Best model saved at epoch 4!\n",
            "\n",
            "Epoch: 5\n",
            "Train Loss: 0.0223 at step 500 \t Iter time: 1.35\n",
            "Train Loss: 0.0248 at step 550 \t Iter time: 1.34\n",
            "Average Train Loss: 0.0000\n",
            "Train epoch 5 Mean IOU: 90.04\n",
            "Train epoch 5 Mean F1 best: 0.9954\n",
            "Train epoch 5 Mean F1 fixed: 0.9906\n",
            "Train epoch 5 Mean AP: 0.9862\n",
            "Validation:\n",
            "Length of dataset:  300\n"
          ]
        },
        {
          "name": "stderr",
          "output_type": "stream",
          "text": [
            "\n",
            "  0%|          | 0/10 [00:00<?, ?it/s]\u001b[A\n",
            " 10%|█         | 1/10 [00:00<00:08,  1.10it/s]\u001b[A\n",
            " 20%|██        | 2/10 [00:01<00:05,  1.35it/s]\u001b[A\n",
            " 30%|███       | 3/10 [00:02<00:04,  1.49it/s]\u001b[A\n",
            " 40%|████      | 4/10 [00:02<00:03,  1.53it/s]\u001b[A\n",
            " 50%|█████     | 5/10 [00:03<00:03,  1.59it/s]\u001b[A\n",
            " 60%|██████    | 6/10 [00:03<00:02,  1.63it/s]\u001b[A\n",
            " 70%|███████   | 7/10 [00:04<00:01,  1.65it/s]\u001b[A\n",
            " 80%|████████  | 8/10 [00:05<00:01,  1.67it/s]\u001b[A\n",
            " 90%|█████████ | 9/10 [00:05<00:00,  1.68it/s]\u001b[A\n",
            "100%|██████████| 10/10 [00:05<00:00,  1.69it/s]\n"
          ]
        },
        {
          "name": "stdout",
          "output_type": "stream",
          "text": [
            "Validation at epoch 5 Mean IOU: 72.33\n",
            "Validation at epoch 5 Mean F1 best: 0.8896\n",
            "Validation at epoch 5 Mean F1 fixed: 0.8241\n",
            "Validation at epoch 5 Mean AP: 0.8984\n"
          ]
        },
        {
          "name": "stderr",
          "output_type": "stream",
          "text": [
            "\r 60%|██████    | 6/10 [12:42<08:27, 126.93s/it]"
          ]
        },
        {
          "name": "stdout",
          "output_type": "stream",
          "text": [
            "Best model saved at epoch 5!\n",
            "\n",
            "Epoch: 6\n",
            "Train Loss: 0.0240 at step 600 \t Iter time: 1.35\n",
            "Train Loss: 0.0207 at step 650 \t Iter time: 1.34\n",
            "Average Train Loss: 0.0000\n",
            "Train epoch 6 Mean IOU: 90.58\n",
            "Train epoch 6 Mean F1 best: 0.9948\n",
            "Train epoch 6 Mean F1 fixed: 0.9929\n",
            "Train epoch 6 Mean AP: 0.9875\n",
            "Validation:\n",
            "Length of dataset:  300\n"
          ]
        },
        {
          "name": "stderr",
          "output_type": "stream",
          "text": [
            "\n",
            "  0%|          | 0/10 [00:00<?, ?it/s]\u001b[A\n",
            " 10%|█         | 1/10 [00:00<00:08,  1.07it/s]\u001b[A\n",
            " 20%|██        | 2/10 [00:01<00:05,  1.37it/s]\u001b[A\n",
            " 30%|███       | 3/10 [00:02<00:04,  1.47it/s]\u001b[A\n",
            " 40%|████      | 4/10 [00:02<00:03,  1.56it/s]\u001b[A\n",
            " 50%|█████     | 5/10 [00:03<00:03,  1.61it/s]\u001b[A\n",
            " 60%|██████    | 6/10 [00:03<00:02,  1.64it/s]\u001b[A\n",
            " 70%|███████   | 7/10 [00:04<00:01,  1.66it/s]\u001b[A\n",
            " 80%|████████  | 8/10 [00:05<00:01,  1.68it/s]\u001b[A\n",
            " 90%|█████████ | 9/10 [00:05<00:00,  1.68it/s]\u001b[A\n",
            "100%|██████████| 10/10 [00:05<00:00,  1.70it/s]\n"
          ]
        },
        {
          "name": "stdout",
          "output_type": "stream",
          "text": [
            "Validation at epoch 6 Mean IOU: 72.86\n",
            "Validation at epoch 6 Mean F1 best: 0.8716\n",
            "Validation at epoch 6 Mean F1 fixed: 0.7962\n",
            "Validation at epoch 6 Mean AP: 0.8925\n"
          ]
        },
        {
          "name": "stderr",
          "output_type": "stream",
          "text": [
            "\r 70%|███████   | 7/10 [14:49<06:20, 126.97s/it]"
          ]
        },
        {
          "name": "stdout",
          "output_type": "stream",
          "text": [
            "Best model saved at epoch 6!\n",
            "\n",
            "Epoch: 7\n",
            "Train Loss: 0.0209 at step 700 \t Iter time: 1.35\n",
            "Train Loss: 0.0221 at step 750 \t Iter time: 1.34\n",
            "Average Train Loss: 0.0000\n",
            "Train epoch 7 Mean IOU: 91.1\n",
            "Train epoch 7 Mean F1 best: 0.9979\n",
            "Train epoch 7 Mean F1 fixed: 0.996\n",
            "Train epoch 7 Mean AP: 0.9883\n",
            "Validation:\n",
            "Length of dataset:  300\n"
          ]
        },
        {
          "name": "stderr",
          "output_type": "stream",
          "text": [
            "\n",
            "  0%|          | 0/10 [00:00<?, ?it/s]\u001b[A\n",
            " 10%|█         | 1/10 [00:00<00:08,  1.10it/s]\u001b[A\n",
            " 20%|██        | 2/10 [00:01<00:05,  1.37it/s]\u001b[A\n",
            " 30%|███       | 3/10 [00:02<00:04,  1.46it/s]\u001b[A\n",
            " 40%|████      | 4/10 [00:02<00:03,  1.55it/s]\u001b[A\n",
            " 50%|█████     | 5/10 [00:03<00:03,  1.58it/s]\u001b[A\n",
            " 60%|██████    | 6/10 [00:03<00:02,  1.58it/s]\u001b[A\n",
            " 70%|███████   | 7/10 [00:04<00:01,  1.62it/s]\u001b[A\n",
            " 80%|████████  | 8/10 [00:05<00:01,  1.62it/s]\u001b[A\n",
            " 90%|█████████ | 9/10 [00:05<00:00,  1.64it/s]\u001b[A\n",
            "100%|██████████| 10/10 [00:05<00:00,  1.67it/s]\n",
            " 80%|████████  | 8/10 [16:55<04:13, 126.91s/it]"
          ]
        },
        {
          "name": "stdout",
          "output_type": "stream",
          "text": [
            "Validation at epoch 7 Mean IOU: 72.55\n",
            "Validation at epoch 7 Mean F1 best: 0.8679\n",
            "Validation at epoch 7 Mean F1 fixed: 0.8043\n",
            "Validation at epoch 7 Mean AP: 0.8891\n",
            "Early Stopping counter: 1 out of 5\n",
            "\n",
            "Epoch: 8\n",
            "Train Loss: 0.0238 at step 800 \t Iter time: 1.35\n",
            "Average Train Loss: 0.0000\n",
            "Train epoch 8 Mean IOU: 91.13\n",
            "Train epoch 8 Mean F1 best: 0.9956\n",
            "Train epoch 8 Mean F1 fixed: 0.9931\n",
            "Train epoch 8 Mean AP: 0.9888\n",
            "Validation:\n",
            "Length of dataset:  300\n"
          ]
        },
        {
          "name": "stderr",
          "output_type": "stream",
          "text": [
            "\n",
            "  0%|          | 0/10 [00:00<?, ?it/s]\u001b[A\n",
            " 10%|█         | 1/10 [00:00<00:08,  1.09it/s]\u001b[A\n",
            " 20%|██        | 2/10 [00:01<00:05,  1.34it/s]\u001b[A\n",
            " 30%|███       | 3/10 [00:02<00:04,  1.48it/s]\u001b[A\n",
            " 40%|████      | 4/10 [00:02<00:03,  1.56it/s]\u001b[A\n",
            " 50%|█████     | 5/10 [00:03<00:03,  1.57it/s]\u001b[A\n",
            " 60%|██████    | 6/10 [00:03<00:02,  1.60it/s]\u001b[A\n",
            " 70%|███████   | 7/10 [00:04<00:01,  1.63it/s]\u001b[A\n",
            " 80%|████████  | 8/10 [00:05<00:01,  1.66it/s]\u001b[A\n",
            " 90%|█████████ | 9/10 [00:05<00:00,  1.67it/s]\u001b[A\n",
            "100%|██████████| 10/10 [00:05<00:00,  1.68it/s]\n"
          ]
        },
        {
          "name": "stdout",
          "output_type": "stream",
          "text": [
            "Validation at epoch 8 Mean IOU: 73.28\n",
            "Validation at epoch 8 Mean F1 best: 0.906\n",
            "Validation at epoch 8 Mean F1 fixed: 0.8505\n",
            "Validation at epoch 8 Mean AP: 0.9043\n"
          ]
        },
        {
          "name": "stderr",
          "output_type": "stream",
          "text": [
            "\r 90%|█████████ | 9/10 [19:03<02:07, 127.05s/it]"
          ]
        },
        {
          "name": "stdout",
          "output_type": "stream",
          "text": [
            "Best model saved at epoch 8!\n",
            "\n",
            "Epoch: 9\n",
            "Train Loss: 0.0169 at step 850 \t Iter time: 1.35\n",
            "Train Loss: 0.0181 at step 900 \t Iter time: 1.35\n",
            "Average Train Loss: 0.0000\n",
            "Train epoch 9 Mean IOU: 91.61\n",
            "Train epoch 9 Mean F1 best: 0.9966\n",
            "Train epoch 9 Mean F1 fixed: 0.9953\n",
            "Train epoch 9 Mean AP: 0.9901\n",
            "Validation:\n",
            "Length of dataset:  300\n"
          ]
        },
        {
          "name": "stderr",
          "output_type": "stream",
          "text": [
            "\n",
            "  0%|          | 0/10 [00:00<?, ?it/s]\u001b[A\n",
            " 10%|█         | 1/10 [00:00<00:08,  1.10it/s]\u001b[A\n",
            " 20%|██        | 2/10 [00:01<00:05,  1.39it/s]\u001b[A\n",
            " 30%|███       | 3/10 [00:02<00:04,  1.52it/s]\u001b[A\n",
            " 40%|████      | 4/10 [00:02<00:03,  1.58it/s]\u001b[A\n",
            " 50%|█████     | 5/10 [00:03<00:03,  1.62it/s]\u001b[A\n",
            " 60%|██████    | 6/10 [00:03<00:02,  1.61it/s]\u001b[A\n",
            " 70%|███████   | 7/10 [00:04<00:01,  1.64it/s]\u001b[A\n",
            " 80%|████████  | 8/10 [00:05<00:01,  1.66it/s]\u001b[A\n",
            " 90%|█████████ | 9/10 [00:05<00:00,  1.67it/s]\u001b[A\n",
            "100%|██████████| 10/10 [00:05<00:00,  1.70it/s]\n",
            "100%|██████████| 10/10 [21:09<00:00, 126.96s/it]"
          ]
        },
        {
          "name": "stdout",
          "output_type": "stream",
          "text": [
            "Validation at epoch 9 Mean IOU: 71.57\n",
            "Validation at epoch 9 Mean F1 best: 0.8764\n",
            "Validation at epoch 9 Mean F1 fixed: 0.8249\n",
            "Validation at epoch 9 Mean AP: 0.8904\n",
            "Early Stopping counter: 1 out of 5\n",
            "\n"
          ]
        },
        {
          "name": "stderr",
          "output_type": "stream",
          "text": [
            "\n"
          ]
        }
      ],
      "source": [
        "num_samples_added = 250 # we will see how well the model learns by gradually adding num_samples_added samples from the 4th dataset\n",
        "accumulated_samples_indices = []\n",
        "\n",
        "for round in range(1, len(full_train_loader.dataset)//num_samples_added+1):\n",
        "    print(f'Round {round}, with {round*num_samples_added} samples of the 4th dataset')\n",
        "\n",
        "    # get the model, along with its trainer - instantiate a new one for each round for independency\n",
        "    model_trainer = Trainer(params)\n",
        "\n",
        "    # get the trained model on the other 3 datasets, which we will finetune on the 4th\n",
        "    state_dict = torch.load('/content/drive/MyDrive/Colab Notebooks/Licenta/DeCLIP-custom/trained_models/combined_training/test_lama/best_localization_model_vit+rn50_conv12_iou_58.0887_test_lama.pth', map_location='cpu')\n",
        "    model_trainer.model.load_state_dict(state_dict['model'], strict=False)\n",
        "    model_trainer.model = model_trainer.model.cuda()\n",
        "\n",
        "    subset_indices = list(range(0, num_samples_added*round)) # already shuffled, only selecting the first needed samples\n",
        "    subset = Subset(full_train_loader.dataset, subset_indices)\n",
        "    train_loader = DataLoader(subset, batch_size=32, shuffle=True,\n",
        "                              num_workers=params.num_threads,\n",
        "                              pin_memory=torch.cuda.is_available(),\n",
        "                              persistent_workers=params.num_threads > 0)\n",
        "\n",
        "    params.experiment_name = f'training_gradually_added_samples_from_4th_round_{round}'\n",
        "    params.create_output_dirs() # new ones for each training round\n",
        "\n",
        "    # start the training loop\n",
        "    early_stopping = EarlyStopping(patience=params.early_stop_epochs, verbose=True, delta=-0.001)\n",
        "    best_metric = 0.0 # iou for localization, ap for detection\n",
        "    print('Length of training set:', len(train_loader.dataset))\n",
        "    print('Length of validation set:', len(val_loader.dataset))\n",
        "    start_time = time.time()\n",
        "    for epoch in tqdm(range(10)): # only 10 epochs for training, should be enough\n",
        "        print('Epoch:', epoch)\n",
        "\n",
        "        epoch_loss = 0\n",
        "        for data in train_loader:\n",
        "            model_trainer.total_steps += 1\n",
        "\n",
        "            model_trainer.set_input(data)\n",
        "            model_trainer.optimize_parameters()\n",
        "\n",
        "            if model_trainer.total_steps % params.show_loss_freq == 0:\n",
        "                epoch_loss += model_trainer.loss.item()\n",
        "                print(f'Train Loss: {model_trainer.loss.item():.4f} at step {model_trainer.total_steps} \\t Iter time: {(time.time() - start_time) / model_trainer.total_steps:.2f}')\n",
        "\n",
        "        epoch_loss /= len(train_loader.dataset)\n",
        "        print(f'Average Train Loss: {epoch_loss:.4f}')\n",
        "\n",
        "        # compute training metrics\n",
        "        if params.task_type == 'fully_supervised_localization':\n",
        "            compute_mean_iou(model_trainer.ious, verbose=True, extra_text=f'Train epoch {epoch} ')\n",
        "            model_trainer.ious = []\n",
        "\n",
        "            compute_mean_f1(model_trainer.f1_best, model_trainer.f1_fixed, verbose=True, extra_text=f'Train epoch {epoch} ')\n",
        "            model_trainer.f1_best = []\n",
        "            model_trainer.f1_fixed = []\n",
        "\n",
        "            compute_mean_ap(model_trainer.ap, verbose=True, extra_text=f'Train epoch {epoch} ')\n",
        "            model_trainer.ap = []\n",
        "\n",
        "\n",
        "        # validate the model\n",
        "        print('Validation:')\n",
        "        if params.task_type == 'fully_supervised_localization':\n",
        "            ious, f1_best, f1_fixed, mean_ap, _ = validate_fully_supervised_localization(model_trainer.model, val_loader, params.train_dataset)\n",
        "\n",
        "            # compute metrics\n",
        "            mean_iou = compute_mean_iou(ious, verbose=True, extra_text=f'Validation at epoch {epoch} ')\n",
        "\n",
        "            mean_f1_best, mean_f1_fixed = compute_mean_f1(f1_best, f1_fixed, verbose=True, extra_text=f'Validation at epoch {epoch} ')\n",
        "\n",
        "            mean_ap = compute_mean_ap(mean_ap, verbose=True, extra_text=f'Validation at epoch {epoch} ')\n",
        "\n",
        "            # save the model if the mean iou is improved\n",
        "            if mean_iou > best_metric:\n",
        "                best_metric = mean_iou\n",
        "                model_trainer.save_model(f'best_localization_model_iou_{mean_iou:.4f}.pth')\n",
        "                print(f'Best model saved at epoch {epoch}!')\n",
        "\n",
        "            # check for early stopping\n",
        "            early_stopping(mean_iou)\n",
        "\n",
        "        # check if early stopping is triggered\n",
        "        if early_stopping.early_stop:\n",
        "            print(\"Early stopping triggered\")\n",
        "            continue_training = model_trainer.adjust_learning_rate()\n",
        "            if continue_training:\n",
        "                print(\"Continuing training with a learning rate reduced by a factor of 10\")\n",
        "                early_stopping = EarlyStopping(patience=params.early_stop_epochs, verbose=True, delta=-0.002) # adjust the delta only once, otherwise stop completely\n",
        "            else:\n",
        "                print(f\"Early stopping training at epoch {epoch}\")\n",
        "                break\n",
        "        print()\n",
        "        torch.cuda.empty_cache()\n"
      ]
    },
    {
      "cell_type": "code",
      "execution_count": null,
      "id": "2zc8PMAQbevR",
      "metadata": {
        "colab": {
          "background_save": true
        },
        "id": "2zc8PMAQbevR"
      },
      "outputs": [],
      "source": [
        "from google.colab import files\n",
        "for round in range(1, len(full_train_loader.dataset)//num_samples_added+1):\n",
        "    model_dir = f'/content/experiments/training_gradually_added_samples_from_4th_round_{round}/models/'\n",
        "    model_files = sorted(\n",
        "        [f for f in os.listdir(model_dir) if f.endswith('.pth')]\n",
        "    )\n",
        "\n",
        "    best_model = model_files[-1]\n",
        "    best_model_path = os.path.join(model_dir, best_model)\n",
        "\n",
        "    shutil.copy(best_model_path, f'/content/drive/MyDrive/Colab Notebooks/Licenta/DeCLIP-custom/trained_models/combined_training/test_lama/finetune_lama/test_{chosen_train_dataset}_round_{round}_{os.path.basename(best_model_path)}')\n",
        "\n",
        "    # files.download(best_model_path)"
      ]
    },
    {
      "cell_type": "code",
      "execution_count": null,
      "id": "sdmSZV4NftE3",
      "metadata": {
        "colab": {
          "background_save": true
        },
        "id": "sdmSZV4NftE3",
        "outputId": "2aa23ae4-f953-44a2-af82-3a4061e0e3eb"
      },
      "outputs": [
        {
          "name": "stdout",
          "output_type": "stream",
          "text": [
            "Drive already mounted at /content/drive; to attempt to forcibly remount, call drive.mount(\"/content/drive\", force_remount=True).\n"
          ]
        }
      ],
      "source": [
        "# mount drive\n",
        "from google.colab import drive\n",
        "drive.mount('/content/drive')"
      ]
    }
  ],
  "metadata": {
    "accelerator": "GPU",
    "colab": {
      "gpuType": "A100",
      "machine_shape": "hm",
      "provenance": []
    },
    "kernelspec": {
      "display_name": "Python 3",
      "name": "python3"
    },
    "language_info": {
      "codemirror_mode": {
        "name": "ipython",
        "version": 3
      },
      "file_extension": ".py",
      "mimetype": "text/x-python",
      "name": "python",
      "nbconvert_exporter": "python",
      "pygments_lexer": "ipython3",
      "version": "3.12.2"
    }
  },
  "nbformat": 4,
  "nbformat_minor": 5
}