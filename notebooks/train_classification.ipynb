{
  "cells": [
    {
      "cell_type": "code",
      "execution_count": null,
      "id": "c92a6c3e",
      "metadata": {
        "colab": {
          "base_uri": "https://localhost:8080/"
        },
        "id": "c92a6c3e",
        "outputId": "267dbc5b-4148-4c21-df31-0f368c45b1c6"
      },
      "outputs": [
        {
          "name": "stdout",
          "output_type": "stream",
          "text": [
            "Drive already mounted at /content/drive; to attempt to forcibly remount, call drive.mount(\"/content/drive\", force_remount=True).\n"
          ]
        }
      ],
      "source": [
        "# mount drive\n",
        "from google.colab import drive\n",
        "drive.mount('/content/drive')"
      ]
    },
    {
      "cell_type": "code",
      "execution_count": null,
      "id": "odcHb42V9rww",
      "metadata": {
        "id": "odcHb42V9rww"
      },
      "outputs": [],
      "source": [
        "# update working directory\n",
        "import sys\n",
        "sys.path.append('/content/drive/MyDrive/Colab Notebooks/Licenta/DeCLIP-custom')"
      ]
    },
    {
      "cell_type": "code",
      "execution_count": null,
      "id": "Za2wYqKP9u3G",
      "metadata": {
        "colab": {
          "base_uri": "https://localhost:8080/"
        },
        "collapsed": true,
        "id": "Za2wYqKP9u3G",
        "outputId": "543787fc-bfdc-4bbb-f2ba-ac7493a0ae21"
      },
      "outputs": [
        {
          "name": "stdout",
          "output_type": "stream",
          "text": [
            "Requirement already satisfied: torchmetrics in /usr/local/lib/python3.11/dist-packages (1.7.1)\n",
            "Requirement already satisfied: numpy>1.20.0 in /usr/local/lib/python3.11/dist-packages (from torchmetrics) (2.0.2)\n",
            "Requirement already satisfied: packaging>17.1 in /usr/local/lib/python3.11/dist-packages (from torchmetrics) (24.2)\n",
            "Requirement already satisfied: torch>=2.0.0 in /usr/local/lib/python3.11/dist-packages (from torchmetrics) (2.6.0+cu124)\n",
            "Requirement already satisfied: lightning-utilities>=0.8.0 in /usr/local/lib/python3.11/dist-packages (from torchmetrics) (0.14.3)\n",
            "Requirement already satisfied: setuptools in /usr/local/lib/python3.11/dist-packages (from lightning-utilities>=0.8.0->torchmetrics) (75.2.0)\n",
            "Requirement already satisfied: typing_extensions in /usr/local/lib/python3.11/dist-packages (from lightning-utilities>=0.8.0->torchmetrics) (4.13.2)\n",
            "Requirement already satisfied: filelock in /usr/local/lib/python3.11/dist-packages (from torch>=2.0.0->torchmetrics) (3.18.0)\n",
            "Requirement already satisfied: networkx in /usr/local/lib/python3.11/dist-packages (from torch>=2.0.0->torchmetrics) (3.4.2)\n",
            "Requirement already satisfied: jinja2 in /usr/local/lib/python3.11/dist-packages (from torch>=2.0.0->torchmetrics) (3.1.6)\n",
            "Requirement already satisfied: fsspec in /usr/local/lib/python3.11/dist-packages (from torch>=2.0.0->torchmetrics) (2025.3.2)\n",
            "Requirement already satisfied: nvidia-cuda-nvrtc-cu12==12.4.127 in /usr/local/lib/python3.11/dist-packages (from torch>=2.0.0->torchmetrics) (12.4.127)\n",
            "Requirement already satisfied: nvidia-cuda-runtime-cu12==12.4.127 in /usr/local/lib/python3.11/dist-packages (from torch>=2.0.0->torchmetrics) (12.4.127)\n",
            "Requirement already satisfied: nvidia-cuda-cupti-cu12==12.4.127 in /usr/local/lib/python3.11/dist-packages (from torch>=2.0.0->torchmetrics) (12.4.127)\n",
            "Requirement already satisfied: nvidia-cudnn-cu12==9.1.0.70 in /usr/local/lib/python3.11/dist-packages (from torch>=2.0.0->torchmetrics) (9.1.0.70)\n",
            "Requirement already satisfied: nvidia-cublas-cu12==12.4.5.8 in /usr/local/lib/python3.11/dist-packages (from torch>=2.0.0->torchmetrics) (12.4.5.8)\n",
            "Requirement already satisfied: nvidia-cufft-cu12==11.2.1.3 in /usr/local/lib/python3.11/dist-packages (from torch>=2.0.0->torchmetrics) (11.2.1.3)\n",
            "Requirement already satisfied: nvidia-curand-cu12==10.3.5.147 in /usr/local/lib/python3.11/dist-packages (from torch>=2.0.0->torchmetrics) (10.3.5.147)\n",
            "Requirement already satisfied: nvidia-cusolver-cu12==11.6.1.9 in /usr/local/lib/python3.11/dist-packages (from torch>=2.0.0->torchmetrics) (11.6.1.9)\n",
            "Requirement already satisfied: nvidia-cusparse-cu12==12.3.1.170 in /usr/local/lib/python3.11/dist-packages (from torch>=2.0.0->torchmetrics) (12.3.1.170)\n",
            "Requirement already satisfied: nvidia-cusparselt-cu12==0.6.2 in /usr/local/lib/python3.11/dist-packages (from torch>=2.0.0->torchmetrics) (0.6.2)\n",
            "Requirement already satisfied: nvidia-nccl-cu12==2.21.5 in /usr/local/lib/python3.11/dist-packages (from torch>=2.0.0->torchmetrics) (2.21.5)\n",
            "Requirement already satisfied: nvidia-nvtx-cu12==12.4.127 in /usr/local/lib/python3.11/dist-packages (from torch>=2.0.0->torchmetrics) (12.4.127)\n",
            "Requirement already satisfied: nvidia-nvjitlink-cu12==12.4.127 in /usr/local/lib/python3.11/dist-packages (from torch>=2.0.0->torchmetrics) (12.4.127)\n",
            "Requirement already satisfied: triton==3.2.0 in /usr/local/lib/python3.11/dist-packages (from torch>=2.0.0->torchmetrics) (3.2.0)\n",
            "Requirement already satisfied: sympy==1.13.1 in /usr/local/lib/python3.11/dist-packages (from torch>=2.0.0->torchmetrics) (1.13.1)\n",
            "Requirement already satisfied: mpmath<1.4,>=1.1.0 in /usr/local/lib/python3.11/dist-packages (from sympy==1.13.1->torch>=2.0.0->torchmetrics) (1.3.0)\n",
            "Requirement already satisfied: MarkupSafe>=2.0 in /usr/local/lib/python3.11/dist-packages (from jinja2->torch>=2.0.0->torchmetrics) (3.0.2)\n"
          ]
        }
      ],
      "source": [
        "!pip install torchmetrics"
      ]
    },
    {
      "cell_type": "code",
      "execution_count": null,
      "id": "xy3QQDZq9sCc",
      "metadata": {
        "id": "xy3QQDZq9sCc"
      },
      "outputs": [],
      "source": [
        "import os\n",
        "import time\n",
        "import torch.multiprocessing\n",
        "from copy import deepcopy\n",
        "from tqdm import tqdm\n",
        "import shutil\n",
        "import numpy as np\n",
        "from sklearn.metrics import average_precision_score, accuracy_score\n",
        "\n",
        "from parameters import Parameters\n",
        "from train.trainer import Trainer\n",
        "from deepfake_datasets.datasets import get_dataloader\n",
        "from train.early_stopping import EarlyStopping\n",
        "from train.validate import validate_detection, validate_fully_supervised_localization\n",
        "from utils.utils import compute_mean_iou, compute_mean_ap, compute_mean_f1, compute_mean_acc_detection, compute_mean_ap_detection, compute_batch_iou, compute_batch_localization_f1, compute_batch_ap, compute_accuracy_detection, compute_average_precision_detection\n"
      ]
    },
    {
      "cell_type": "code",
      "execution_count": null,
      "id": "6c4118cc",
      "metadata": {
        "id": "6c4118cc"
      },
      "outputs": [],
      "source": [
        "torch.multiprocessing.set_sharing_strategy('file_system')"
      ]
    },
    {
      "cell_type": "code",
      "execution_count": null,
      "id": "VFIwhSdfp2t1",
      "metadata": {
        "id": "VFIwhSdfp2t1"
      },
      "outputs": [],
      "source": [
        "new_dataset_name = 'train_all_4_datasets'\n",
        "\n",
        "zip_path = f'/content/drive/MyDrive/Colab Notebooks/Licenta/DeCLIP-main/datasets_zip/combined_training_for_ood/{new_dataset_name}.zip'\n",
        "new_content_root_path = f'/content/datasets/dolos_data/celebahq/fake/'\n",
        "\n",
        "os.makedirs(new_content_root_path, exist_ok=True)\n",
        "\n",
        "# move the dataset from drive to /content (SSD) for better performance in I/O\n",
        "import zipfile\n",
        "with zipfile.ZipFile(zip_path, 'r') as zip_ref:\n",
        "    zip_ref.extractall(new_content_root_path)\n",
        "\n",
        "\n",
        "zip_path = f'/content/drive/MyDrive/Colab Notebooks/Licenta/DeCLIP-main/datasets_zip/real.zip'\n",
        "new_content_root_path = f'/content/datasets/dolos_data/celebahq/'\n",
        "\n",
        "os.makedirs(new_content_root_path, exist_ok=True)\n",
        "\n",
        "# move the dataset from drive to /content (SSD) for better performance in I/O\n",
        "import zipfile\n",
        "with zipfile.ZipFile(zip_path, 'r') as zip_ref:\n",
        "    zip_ref.extractall(new_content_root_path)"
      ]
    },
    {
      "cell_type": "code",
      "execution_count": null,
      "id": "09390516",
      "metadata": {
        "colab": {
          "base_uri": "https://localhost:8080/"
        },
        "id": "09390516",
        "outputId": "a9165491-c415-4164-8f64-502baeefcb2a"
      },
      "outputs": [
        {
          "name": "stdout",
          "output_type": "stream",
          "text": [
            "experiment_name: training_vit_classification\n",
            "task_type: classification\n",
            "data_label: train\n",
            "arch: CLIP:ViT-L/14\n",
            "fix_backbone: True\n",
            "weight_decay: 0.0\n",
            "batch_size: 64\n",
            "num_threads: 8\n",
            "init_type: normal\n",
            "init_gain: 0.02\n",
            "train_dataset: train_all_4_datasets\n",
            "decoder_type: linear\n",
            "feature_layer: layer20\n",
            "early_stop_epochs: 5\n",
            "optim: adam\n",
            "beta1: 0.9\n",
            "lr: 0.001\n",
            "show_loss_freq: 50\n",
            "num_iter: 30\n",
            "data_root_path: /content/datasets/dolos_data/celebahq\n",
            "train_fake_path: /content/datasets/dolos_data/celebahq/fake/train_all_4_datasets/images/train\n",
            "valid_fake_path: /content/datasets/dolos_data/celebahq/fake/train_all_4_datasets/images/valid\n",
            "test_fake_path: /content/datasets/dolos_data/celebahq/fake/train_all_4_datasets/images/test\n",
            "train_masks_ground_truth_path: /content/datasets/dolos_data/celebahq/fake/train_all_4_datasets/masks/train\n",
            "valid_masks_ground_truth_path: /content/datasets/dolos_data/celebahq/fake/train_all_4_datasets/masks/valid\n",
            "test_masks_ground_truth_path: /content/datasets/dolos_data/celebahq/fake/train_all_4_datasets/masks/test\n",
            "train_real_path: /content/datasets/dolos_data/celebahq/real/train\n",
            "valid_real_path: /content/datasets/dolos_data/celebahq/real/valid\n",
            "test_real_path: /content/datasets/dolos_data/celebahq/real/test\n",
            "checkpoint_path: \n",
            "save_dir: experiments/training_vit_classification\n",
            "save_dir_models: experiments/training_vit_classification/models\n",
            "save_dir_results: experiments/training_vit_classification/results\n",
            "loss_type: cross-entropy\n"
          ]
        }
      ],
      "source": [
        "# set parameters\n",
        "params = Parameters()\n",
        "\n",
        "# set experiment name\n",
        "params.experiment_name = 'training_vit_classification'\n",
        "\n",
        "# set backbone\n",
        "params.arch = 'CLIP:ViT-L/14'\n",
        "\n",
        "# create output dirs\n",
        "params.create_output_dirs()\n",
        "\n",
        "# uncomment lines below to set new datasets\n",
        "# new_drive_root_path = '/content/drive/MyDrive/Colab Notebooks/Licenta/DeCLIP-main/datasets/dolos_data/celebahq/'\n",
        "# new_root_path = '/content/dataset'\n",
        "# new_root_path = '..\\\\DeCLIP-main\\\\datasets\\\\dolos_data\\\\celebahq\\\\'\n",
        "# new_root_path = 'D:\\\\Python\\\\DeCLIP-main\\\\datasets\\\\dolos_data\\\\celebahq\\\\'\n",
        "\n",
        "\n",
        "# move the dataset from drive to /content for better performance in I/O\n",
        "# shutil.copytree(new_drive_root_path, new_root_path, dirs_exist_ok=True)\n",
        "\n",
        "new_root_path = '/content/datasets/dolos_data/celebahq/'\n",
        "new_dataset_name = 'train_all_4_datasets'\n",
        "\n",
        "params.update_dolos_data_paths(new_root_path, new_dataset_name)\n",
        "\n",
        "# manually update the real paths (not used until now)\n",
        "params.train_real_path = '/content/datasets/dolos_data/celebahq/real/train'\n",
        "params.valid_real_path = '/content/datasets/dolos_data/celebahq/real/valid'\n",
        "params.test_real_path = '/content/datasets/dolos_data/celebahq/real/test'\n",
        "\n",
        "\n",
        "# fix the backbone - to train only the decoder\n",
        "params.fix_backbone = True\n",
        "\n",
        "# set the feature layer and the decoder type\n",
        "params.feature_layer = 'layer20'\n",
        "params.decoder_type = 'linear'\n",
        "\n",
        "# set the batch size and num threads\n",
        "params.batch_size = 64\n",
        "params.num_threads = 8\n",
        "\n",
        "# set the number of epochs\n",
        "params.num_iter = 30\n",
        "\n",
        "# set loss type\n",
        "params.loss_type = 'cross-entropy'\n",
        "\n",
        "# detection task\n",
        "params.task_type = 'classification'\n",
        "\n",
        "for key, value in params.__dict__.items():\n",
        "    print(f\"{key}: {value}\")"
      ]
    },
    {
      "cell_type": "code",
      "execution_count": null,
      "id": "1d032661",
      "metadata": {
        "id": "1d032661"
      },
      "outputs": [],
      "source": [
        "# get the model, along with its trainer\n",
        "model_trainer = Trainer(params)"
      ]
    },
    {
      "cell_type": "code",
      "execution_count": null,
      "id": "e3c6fd79",
      "metadata": {
        "id": "e3c6fd79"
      },
      "outputs": [],
      "source": [
        "# get the dataloaders\n",
        "train_loader = get_dataloader(params)\n",
        "\n",
        "val_params = deepcopy(params)\n",
        "val_params.data_label = 'valid'\n",
        "val_loader = get_dataloader(val_params)"
      ]
    },
    {
      "cell_type": "code",
      "execution_count": null,
      "id": "afffa2da",
      "metadata": {
        "colab": {
          "base_uri": "https://localhost:8080/",
          "height": 1000
        },
        "id": "afffa2da",
        "outputId": "55f44504-5511-41f4-ff71-0c74fa07ca88"
      },
      "outputs": [
        {
          "name": "stdout",
          "output_type": "stream",
          "text": [
            "Length of training set: 21000\n",
            "Length of validation set: 2100\n"
          ]
        },
        {
          "name": "stderr",
          "output_type": "stream",
          "text": [
            "\r  0%|          | 0/30 [00:00<?, ?it/s]"
          ]
        },
        {
          "name": "stdout",
          "output_type": "stream",
          "text": [
            "Epoch: 0\n",
            "Train Loss: 1.0043 at step 50 \t Iter time: 1.51\n",
            "Train Loss: 1.0092 at step 100 \t Iter time: 1.53\n",
            "Train Loss: 0.7276 at step 150 \t Iter time: 1.54\n",
            "Train Loss: 0.7622 at step 200 \t Iter time: 1.55\n",
            "Train Loss: 0.7871 at step 250 \t Iter time: 1.55\n",
            "Train Loss: 0.5891 at step 300 \t Iter time: 1.55\n",
            "Average Train Loss: 0.0002\n",
            "Validation:\n",
            "Length of dataset:  2100\n"
          ]
        },
        {
          "name": "stderr",
          "output_type": "stream",
          "text": [
            "\n",
            "  0%|          | 0/33 [00:00<?, ?it/s]\u001b[A\n",
            "  3%|▎         | 1/33 [00:02<01:25,  2.67s/it]\u001b[A\n",
            "  9%|▉         | 3/33 [00:04<00:38,  1.27s/it]\u001b[A\n",
            " 12%|█▏        | 4/33 [00:05<00:39,  1.36s/it]\u001b[A\n",
            " 15%|█▌        | 5/33 [00:07<00:39,  1.41s/it]\u001b[A\n",
            " 18%|█▊        | 6/33 [00:08<00:39,  1.45s/it]\u001b[A\n",
            " 21%|██        | 7/33 [00:10<00:38,  1.48s/it]\u001b[A\n",
            " 24%|██▍       | 8/33 [00:11<00:37,  1.49s/it]\u001b[A\n",
            " 27%|██▋       | 9/33 [00:13<00:36,  1.50s/it]\u001b[A\n",
            " 30%|███       | 10/33 [00:14<00:34,  1.51s/it]\u001b[A\n",
            " 33%|███▎      | 11/33 [00:16<00:33,  1.52s/it]\u001b[A\n",
            " 36%|███▋      | 12/33 [00:18<00:32,  1.53s/it]\u001b[A\n",
            " 39%|███▉      | 13/33 [00:19<00:30,  1.54s/it]\u001b[A\n",
            " 42%|████▏     | 14/33 [00:21<00:29,  1.55s/it]\u001b[A\n",
            " 45%|████▌     | 15/33 [00:22<00:27,  1.55s/it]\u001b[A\n",
            " 48%|████▊     | 16/33 [00:24<00:26,  1.56s/it]\u001b[A\n",
            " 52%|█████▏    | 17/33 [00:25<00:24,  1.56s/it]\u001b[A\n",
            " 55%|█████▍    | 18/33 [00:27<00:23,  1.56s/it]\u001b[A\n",
            " 58%|█████▊    | 19/33 [00:28<00:21,  1.57s/it]\u001b[A\n",
            " 61%|██████    | 20/33 [00:30<00:20,  1.57s/it]\u001b[A\n",
            " 64%|██████▎   | 21/33 [00:32<00:18,  1.57s/it]\u001b[A\n",
            " 67%|██████▋   | 22/33 [00:33<00:17,  1.57s/it]\u001b[A\n",
            " 70%|██████▉   | 23/33 [00:35<00:15,  1.57s/it]\u001b[A\n",
            " 73%|███████▎  | 24/33 [00:36<00:14,  1.57s/it]\u001b[A\n",
            " 76%|███████▌  | 25/33 [00:38<00:12,  1.57s/it]\u001b[A\n",
            " 79%|███████▉  | 26/33 [00:39<00:10,  1.57s/it]\u001b[A\n",
            " 82%|████████▏ | 27/33 [00:41<00:09,  1.57s/it]\u001b[A\n",
            " 85%|████████▍ | 28/33 [00:43<00:07,  1.57s/it]\u001b[A\n",
            " 88%|████████▊ | 29/33 [00:44<00:06,  1.57s/it]\u001b[A\n",
            " 91%|█████████ | 30/33 [00:46<00:04,  1.57s/it]\u001b[A\n",
            " 94%|█████████▍| 31/33 [00:47<00:03,  1.56s/it]\u001b[A\n",
            " 97%|█████████▋| 32/33 [00:49<00:01,  1.56s/it]\u001b[A\n",
            "100%|██████████| 33/33 [00:50<00:00,  1.54s/it]\n"
          ]
        },
        {
          "name": "stdout",
          "output_type": "stream",
          "text": [
            "Validation at epoch 0 - AP: 0.7880, Acc: 0.7905\n"
          ]
        },
        {
          "name": "stderr",
          "output_type": "stream",
          "text": [
            "\r  3%|▎         | 1/30 [09:26<4:34:01, 566.95s/it]"
          ]
        },
        {
          "name": "stdout",
          "output_type": "stream",
          "text": [
            "Best model saved at epoch 0!\n",
            "\n",
            "Epoch: 1\n",
            "Train Loss: 0.7520 at step 350 \t Iter time: 1.71\n",
            "Train Loss: 0.5396 at step 400 \t Iter time: 1.70\n",
            "Train Loss: 0.4902 at step 450 \t Iter time: 1.68\n",
            "Train Loss: 0.5648 at step 500 \t Iter time: 1.67\n",
            "Train Loss: 0.6150 at step 550 \t Iter time: 1.66\n",
            "Train Loss: 0.4984 at step 600 \t Iter time: 1.65\n",
            "Train Loss: 0.4652 at step 650 \t Iter time: 1.64\n",
            "Average Train Loss: 0.0002\n",
            "Validation:\n",
            "Length of dataset:  2100\n"
          ]
        },
        {
          "name": "stderr",
          "output_type": "stream",
          "text": [
            "\n",
            "  0%|          | 0/33 [00:00<?, ?it/s]\u001b[A\n",
            "  3%|▎         | 1/33 [00:00<00:18,  1.78it/s]\u001b[A\n",
            "  6%|▌         | 2/33 [00:02<00:34,  1.12s/it]\u001b[A\n",
            "  9%|▉         | 3/33 [00:03<00:39,  1.32s/it]\u001b[A\n",
            " 12%|█▏        | 4/33 [00:05<00:40,  1.41s/it]\u001b[A\n",
            " 15%|█▌        | 5/33 [00:06<00:41,  1.47s/it]\u001b[A\n",
            " 18%|█▊        | 6/33 [00:08<00:40,  1.50s/it]\u001b[A\n",
            " 21%|██        | 7/33 [00:09<00:39,  1.52s/it]\u001b[A\n",
            " 24%|██▍       | 8/33 [00:11<00:38,  1.53s/it]\u001b[A\n",
            " 27%|██▋       | 9/33 [00:12<00:36,  1.54s/it]\u001b[A\n",
            " 30%|███       | 10/33 [00:14<00:35,  1.54s/it]\u001b[A\n",
            " 33%|███▎      | 11/33 [00:16<00:34,  1.55s/it]\u001b[A\n",
            " 36%|███▋      | 12/33 [00:17<00:32,  1.55s/it]\u001b[A\n",
            " 39%|███▉      | 13/33 [00:19<00:31,  1.55s/it]\u001b[A\n",
            " 42%|████▏     | 14/33 [00:20<00:29,  1.56s/it]\u001b[A\n",
            " 45%|████▌     | 15/33 [00:22<00:28,  1.56s/it]\u001b[A\n",
            " 48%|████▊     | 16/33 [00:23<00:26,  1.56s/it]\u001b[A\n",
            " 52%|█████▏    | 17/33 [00:25<00:24,  1.56s/it]\u001b[A\n",
            " 55%|█████▍    | 18/33 [00:27<00:23,  1.56s/it]\u001b[A\n",
            " 58%|█████▊    | 19/33 [00:28<00:21,  1.56s/it]\u001b[A\n",
            " 61%|██████    | 20/33 [00:30<00:20,  1.56s/it]\u001b[A\n",
            " 64%|██████▎   | 21/33 [00:31<00:18,  1.56s/it]\u001b[A\n",
            " 67%|██████▋   | 22/33 [00:33<00:17,  1.56s/it]\u001b[A\n",
            " 70%|██████▉   | 23/33 [00:34<00:15,  1.56s/it]\u001b[A\n",
            " 73%|███████▎  | 24/33 [00:36<00:14,  1.56s/it]\u001b[A\n",
            " 76%|███████▌  | 25/33 [00:37<00:12,  1.56s/it]\u001b[A\n",
            " 79%|███████▉  | 26/33 [00:39<00:10,  1.56s/it]\u001b[A\n",
            " 82%|████████▏ | 27/33 [00:41<00:09,  1.56s/it]\u001b[A\n",
            " 85%|████████▍ | 28/33 [00:42<00:07,  1.56s/it]\u001b[A\n",
            " 88%|████████▊ | 29/33 [00:44<00:06,  1.56s/it]\u001b[A\n",
            " 91%|█████████ | 30/33 [00:45<00:04,  1.56s/it]\u001b[A\n",
            " 94%|█████████▍| 31/33 [00:47<00:03,  1.56s/it]\u001b[A\n",
            " 97%|█████████▋| 32/33 [00:48<00:01,  1.56s/it]\u001b[A\n",
            "100%|██████████| 33/33 [00:50<00:00,  1.53s/it]\n"
          ]
        },
        {
          "name": "stdout",
          "output_type": "stream",
          "text": [
            "Validation at epoch 1 - AP: 0.8071, Acc: 0.8262\n"
          ]
        },
        {
          "name": "stderr",
          "output_type": "stream",
          "text": [
            "\r  7%|▋         | 2/30 [18:53<4:24:27, 566.71s/it]"
          ]
        },
        {
          "name": "stdout",
          "output_type": "stream",
          "text": [
            "Best model saved at epoch 1!\n",
            "\n",
            "Epoch: 2\n",
            "Train Loss: 0.6208 at step 700 \t Iter time: 1.71\n",
            "Train Loss: 0.5702 at step 750 \t Iter time: 1.70\n",
            "Train Loss: 0.5111 at step 800 \t Iter time: 1.69\n",
            "Train Loss: 0.5788 at step 850 \t Iter time: 1.69\n",
            "Train Loss: 0.4894 at step 900 \t Iter time: 1.68\n",
            "Train Loss: 0.4926 at step 950 \t Iter time: 1.67\n",
            "Average Train Loss: 0.0002\n",
            "Validation:\n",
            "Length of dataset:  2100\n"
          ]
        },
        {
          "name": "stderr",
          "output_type": "stream",
          "text": [
            "\n",
            "  0%|          | 0/33 [00:00<?, ?it/s]\u001b[A\n",
            "  3%|▎         | 1/33 [00:00<00:17,  1.79it/s]\u001b[A\n",
            "  6%|▌         | 2/33 [00:02<00:34,  1.10s/it]\u001b[A\n",
            "  9%|▉         | 3/33 [00:03<00:38,  1.30s/it]\u001b[A\n",
            " 12%|█▏        | 4/33 [00:05<00:40,  1.39s/it]\u001b[A\n",
            " 15%|█▌        | 5/33 [00:06<00:40,  1.44s/it]\u001b[A\n",
            " 18%|█▊        | 6/33 [00:08<00:39,  1.48s/it]\u001b[A\n",
            " 21%|██        | 7/33 [00:09<00:39,  1.50s/it]\u001b[A\n",
            " 24%|██▍       | 8/33 [00:11<00:38,  1.52s/it]\u001b[A\n",
            " 27%|██▋       | 9/33 [00:12<00:36,  1.53s/it]\u001b[A\n",
            " 30%|███       | 10/33 [00:14<00:35,  1.54s/it]\u001b[A\n",
            " 33%|███▎      | 11/33 [00:15<00:34,  1.55s/it]\u001b[A\n",
            " 36%|███▋      | 12/33 [00:17<00:32,  1.55s/it]\u001b[A\n",
            " 39%|███▉      | 13/33 [00:19<00:31,  1.55s/it]\u001b[A\n",
            " 42%|████▏     | 14/33 [00:20<00:29,  1.56s/it]\u001b[A\n",
            " 45%|████▌     | 15/33 [00:22<00:28,  1.56s/it]\u001b[A\n",
            " 48%|████▊     | 16/33 [00:23<00:26,  1.56s/it]\u001b[A\n",
            " 52%|█████▏    | 17/33 [00:25<00:24,  1.56s/it]\u001b[A\n",
            " 55%|█████▍    | 18/33 [00:26<00:23,  1.56s/it]\u001b[A\n",
            " 58%|█████▊    | 19/33 [00:28<00:21,  1.56s/it]\u001b[A\n",
            " 61%|██████    | 20/33 [00:30<00:20,  1.56s/it]\u001b[A\n",
            " 64%|██████▎   | 21/33 [00:31<00:18,  1.56s/it]\u001b[A\n",
            " 67%|██████▋   | 22/33 [00:33<00:17,  1.56s/it]\u001b[A\n",
            " 70%|██████▉   | 23/33 [00:34<00:15,  1.56s/it]\u001b[A\n",
            " 73%|███████▎  | 24/33 [00:36<00:14,  1.56s/it]\u001b[A\n",
            " 76%|███████▌  | 25/33 [00:37<00:12,  1.56s/it]\u001b[A\n",
            " 79%|███████▉  | 26/33 [00:39<00:10,  1.56s/it]\u001b[A\n",
            " 82%|████████▏ | 27/33 [00:40<00:09,  1.56s/it]\u001b[A\n",
            " 85%|████████▍ | 28/33 [00:42<00:07,  1.56s/it]\u001b[A\n",
            " 88%|████████▊ | 29/33 [00:44<00:06,  1.56s/it]\u001b[A\n",
            " 91%|█████████ | 30/33 [00:45<00:04,  1.56s/it]\u001b[A\n",
            " 94%|█████████▍| 31/33 [00:47<00:03,  1.56s/it]\u001b[A\n",
            " 97%|█████████▋| 32/33 [00:48<00:01,  1.56s/it]\u001b[A\n",
            "100%|██████████| 33/33 [00:50<00:00,  1.52s/it]\n"
          ]
        },
        {
          "name": "stdout",
          "output_type": "stream",
          "text": [
            "Validation at epoch 2 - AP: 0.8183, Acc: 0.8329\n"
          ]
        },
        {
          "name": "stderr",
          "output_type": "stream",
          "text": [
            "\r 10%|█         | 3/30 [28:23<4:15:44, 568.33s/it]"
          ]
        },
        {
          "name": "stdout",
          "output_type": "stream",
          "text": [
            "Best model saved at epoch 2!\n",
            "\n",
            "Epoch: 3\n",
            "Train Loss: 0.4503 at step 1000 \t Iter time: 1.72\n",
            "Train Loss: 0.3483 at step 1050 \t Iter time: 1.72\n",
            "Train Loss: 0.4367 at step 1100 \t Iter time: 1.71\n",
            "Train Loss: 0.4218 at step 1150 \t Iter time: 1.70\n",
            "Train Loss: 0.3778 at step 1200 \t Iter time: 1.70\n",
            "Train Loss: 0.4024 at step 1250 \t Iter time: 1.69\n",
            "Train Loss: 0.5044 at step 1300 \t Iter time: 1.69\n",
            "Average Train Loss: 0.0001\n",
            "Validation:\n",
            "Length of dataset:  2100\n"
          ]
        },
        {
          "name": "stderr",
          "output_type": "stream",
          "text": [
            "\n",
            "  0%|          | 0/33 [00:00<?, ?it/s]\u001b[A\n",
            "  3%|▎         | 1/33 [00:00<00:16,  1.93it/s]\u001b[A\n",
            "  6%|▌         | 2/33 [00:02<00:33,  1.09s/it]\u001b[A\n",
            "  9%|▉         | 3/33 [00:03<00:38,  1.30s/it]\u001b[A\n",
            " 12%|█▏        | 4/33 [00:05<00:40,  1.40s/it]\u001b[A\n",
            " 15%|█▌        | 5/33 [00:06<00:40,  1.46s/it]\u001b[A\n",
            " 18%|█▊        | 6/33 [00:08<00:40,  1.49s/it]\u001b[A\n",
            " 21%|██        | 7/33 [00:09<00:39,  1.51s/it]\u001b[A\n",
            " 24%|██▍       | 8/33 [00:11<00:38,  1.53s/it]\u001b[A\n",
            " 27%|██▋       | 9/33 [00:12<00:36,  1.53s/it]\u001b[A\n",
            " 30%|███       | 10/33 [00:14<00:35,  1.54s/it]\u001b[A\n",
            " 33%|███▎      | 11/33 [00:15<00:33,  1.54s/it]\u001b[A\n",
            " 36%|███▋      | 12/33 [00:17<00:32,  1.55s/it]\u001b[A\n",
            " 39%|███▉      | 13/33 [00:19<00:31,  1.55s/it]\u001b[A\n",
            " 42%|████▏     | 14/33 [00:20<00:29,  1.55s/it]\u001b[A\n",
            " 45%|████▌     | 15/33 [00:22<00:27,  1.55s/it]\u001b[A\n",
            " 48%|████▊     | 16/33 [00:23<00:26,  1.56s/it]\u001b[A\n",
            " 52%|█████▏    | 17/33 [00:25<00:24,  1.56s/it]\u001b[A\n",
            " 55%|█████▍    | 18/33 [00:26<00:23,  1.56s/it]\u001b[A\n",
            " 58%|█████▊    | 19/33 [00:28<00:21,  1.56s/it]\u001b[A\n",
            " 61%|██████    | 20/33 [00:30<00:20,  1.56s/it]\u001b[A\n",
            " 64%|██████▎   | 21/33 [00:31<00:18,  1.56s/it]\u001b[A\n",
            " 67%|██████▋   | 22/33 [00:33<00:17,  1.56s/it]\u001b[A\n",
            " 70%|██████▉   | 23/33 [00:34<00:15,  1.56s/it]\u001b[A\n",
            " 73%|███████▎  | 24/33 [00:36<00:14,  1.56s/it]\u001b[A\n",
            " 76%|███████▌  | 25/33 [00:37<00:12,  1.56s/it]\u001b[A\n",
            " 79%|███████▉  | 26/33 [00:39<00:10,  1.56s/it]\u001b[A\n",
            " 82%|████████▏ | 27/33 [00:40<00:09,  1.56s/it]\u001b[A\n",
            " 85%|████████▍ | 28/33 [00:42<00:08,  1.65s/it]\u001b[A\n",
            " 88%|████████▊ | 29/33 [00:44<00:06,  1.53s/it]\u001b[A\n",
            " 91%|█████████ | 30/33 [00:45<00:04,  1.54s/it]\u001b[A\n",
            " 94%|█████████▍| 31/33 [00:47<00:03,  1.55s/it]\u001b[A\n",
            " 97%|█████████▋| 32/33 [00:48<00:01,  1.55s/it]\u001b[A\n",
            "100%|██████████| 33/33 [00:50<00:00,  1.52s/it]\n"
          ]
        },
        {
          "name": "stdout",
          "output_type": "stream",
          "text": [
            "Validation at epoch 3 - AP: 0.8222, Acc: 0.8467\n"
          ]
        },
        {
          "name": "stderr",
          "output_type": "stream",
          "text": [
            "\r 13%|█▎        | 4/30 [37:50<4:06:00, 567.71s/it]"
          ]
        },
        {
          "name": "stdout",
          "output_type": "stream",
          "text": [
            "Best model saved at epoch 3!\n",
            "\n",
            "Epoch: 4\n",
            "Train Loss: 0.3244 at step 1350 \t Iter time: 1.72\n",
            "Train Loss: 0.4213 at step 1400 \t Iter time: 1.72\n",
            "Train Loss: 0.4329 at step 1450 \t Iter time: 1.71\n",
            "Train Loss: 0.3330 at step 1500 \t Iter time: 1.71\n",
            "Train Loss: 0.3401 at step 1550 \t Iter time: 1.70\n",
            "Train Loss: 0.3590 at step 1600 \t Iter time: 1.70\n",
            "Average Train Loss: 0.0001\n",
            "Validation:\n",
            "Length of dataset:  2100\n"
          ]
        },
        {
          "name": "stderr",
          "output_type": "stream",
          "text": [
            "\n",
            "  0%|          | 0/33 [00:00<?, ?it/s]\u001b[A\n",
            "  3%|▎         | 1/33 [00:00<00:11,  2.79it/s]\u001b[A\n",
            "  6%|▌         | 2/33 [00:01<00:32,  1.04s/it]\u001b[A\n",
            "  9%|▉         | 3/33 [00:03<00:38,  1.27s/it]\u001b[A\n",
            " 12%|█▏        | 4/33 [00:04<00:40,  1.38s/it]\u001b[A\n",
            " 15%|█▌        | 5/33 [00:06<00:40,  1.45s/it]\u001b[A\n",
            " 18%|█▊        | 6/33 [00:08<00:40,  1.48s/it]\u001b[A\n",
            " 21%|██        | 7/33 [00:09<00:39,  1.51s/it]\u001b[A\n",
            " 24%|██▍       | 8/33 [00:11<00:38,  1.52s/it]\u001b[A\n",
            " 27%|██▋       | 9/33 [00:12<00:36,  1.53s/it]\u001b[A\n",
            " 30%|███       | 10/33 [00:14<00:35,  1.54s/it]\u001b[A\n",
            " 33%|███▎      | 11/33 [00:15<00:33,  1.55s/it]\u001b[A\n",
            " 36%|███▋      | 12/33 [00:17<00:32,  1.55s/it]\u001b[A\n",
            " 39%|███▉      | 13/33 [00:18<00:31,  1.55s/it]\u001b[A\n",
            " 42%|████▏     | 14/33 [00:20<00:29,  1.55s/it]\u001b[A\n",
            " 45%|████▌     | 15/33 [00:22<00:27,  1.55s/it]\u001b[A\n",
            " 48%|████▊     | 16/33 [00:23<00:26,  1.56s/it]\u001b[A\n",
            " 52%|█████▏    | 17/33 [00:25<00:24,  1.56s/it]\u001b[A\n",
            " 55%|█████▍    | 18/33 [00:26<00:23,  1.56s/it]\u001b[A\n",
            " 58%|█████▊    | 19/33 [00:28<00:21,  1.56s/it]\u001b[A\n",
            " 61%|██████    | 20/33 [00:29<00:20,  1.56s/it]\u001b[A\n",
            " 64%|██████▎   | 21/33 [00:31<00:18,  1.56s/it]\u001b[A\n",
            " 67%|██████▋   | 22/33 [00:33<00:17,  1.56s/it]\u001b[A\n",
            " 70%|██████▉   | 23/33 [00:34<00:15,  1.56s/it]\u001b[A\n",
            " 73%|███████▎  | 24/33 [00:36<00:14,  1.56s/it]\u001b[A\n",
            " 76%|███████▌  | 25/33 [00:37<00:12,  1.56s/it]\u001b[A\n",
            " 79%|███████▉  | 26/33 [00:39<00:10,  1.56s/it]\u001b[A\n",
            " 82%|████████▏ | 27/33 [00:40<00:09,  1.56s/it]\u001b[A\n",
            " 85%|████████▍ | 28/33 [00:42<00:07,  1.56s/it]\u001b[A\n",
            " 88%|████████▊ | 29/33 [00:43<00:06,  1.56s/it]\u001b[A\n",
            " 91%|█████████ | 30/33 [00:45<00:04,  1.56s/it]\u001b[A\n",
            " 94%|█████████▍| 31/33 [00:47<00:03,  1.56s/it]\u001b[A\n",
            " 97%|█████████▋| 32/33 [00:48<00:01,  1.56s/it]\u001b[A\n",
            "100%|██████████| 33/33 [00:50<00:00,  1.52s/it]\n"
          ]
        },
        {
          "name": "stdout",
          "output_type": "stream",
          "text": [
            "Validation at epoch 4 - AP: 0.8235, Acc: 0.8471\n"
          ]
        },
        {
          "name": "stderr",
          "output_type": "stream",
          "text": [
            "\r 17%|█▋        | 5/30 [47:17<3:56:22, 567.29s/it]"
          ]
        },
        {
          "name": "stdout",
          "output_type": "stream",
          "text": [
            "Best model saved at epoch 4!\n",
            "\n",
            "Epoch: 5\n",
            "Train Loss: 0.3676 at step 1650 \t Iter time: 1.72\n",
            "Train Loss: 0.4874 at step 1700 \t Iter time: 1.72\n",
            "Train Loss: 0.4023 at step 1750 \t Iter time: 1.71\n",
            "Train Loss: 0.3178 at step 1800 \t Iter time: 1.71\n",
            "Train Loss: 0.4435 at step 1850 \t Iter time: 1.71\n",
            "Train Loss: 0.4995 at step 1900 \t Iter time: 1.70\n",
            "Train Loss: 0.4484 at step 1950 \t Iter time: 1.70\n",
            "Average Train Loss: 0.0001\n",
            "Validation:\n",
            "Length of dataset:  2100\n"
          ]
        },
        {
          "name": "stderr",
          "output_type": "stream",
          "text": [
            "\n",
            "  0%|          | 0/33 [00:00<?, ?it/s]\u001b[A\n",
            "  3%|▎         | 1/33 [00:00<00:12,  2.65it/s]\u001b[A\n",
            "  6%|▌         | 2/33 [00:01<00:32,  1.05s/it]\u001b[A\n",
            "  9%|▉         | 3/33 [00:03<00:38,  1.28s/it]\u001b[A\n",
            " 12%|█▏        | 4/33 [00:04<00:40,  1.39s/it]\u001b[A\n",
            " 15%|█▌        | 5/33 [00:06<00:40,  1.45s/it]\u001b[A\n",
            " 18%|█▊        | 6/33 [00:08<00:40,  1.48s/it]\u001b[A\n",
            " 21%|██        | 7/33 [00:09<00:39,  1.51s/it]\u001b[A\n",
            " 24%|██▍       | 8/33 [00:11<00:38,  1.52s/it]\u001b[A\n",
            " 27%|██▋       | 9/33 [00:12<00:36,  1.54s/it]\u001b[A\n",
            " 30%|███       | 10/33 [00:14<00:35,  1.54s/it]\u001b[A\n",
            " 33%|███▎      | 11/33 [00:15<00:34,  1.55s/it]\u001b[A\n",
            " 36%|███▋      | 12/33 [00:17<00:32,  1.55s/it]\u001b[A\n",
            " 39%|███▉      | 13/33 [00:19<00:31,  1.55s/it]\u001b[A\n",
            " 42%|████▏     | 14/33 [00:20<00:29,  1.56s/it]\u001b[A\n",
            " 45%|████▌     | 15/33 [00:22<00:28,  1.56s/it]\u001b[A\n",
            " 48%|████▊     | 16/33 [00:23<00:26,  1.56s/it]\u001b[A\n",
            " 52%|█████▏    | 17/33 [00:25<00:24,  1.56s/it]\u001b[A\n",
            " 55%|█████▍    | 18/33 [00:26<00:23,  1.56s/it]\u001b[A\n",
            " 58%|█████▊    | 19/33 [00:28<00:21,  1.56s/it]\u001b[A\n",
            " 61%|██████    | 20/33 [00:29<00:20,  1.56s/it]\u001b[A\n",
            " 64%|██████▎   | 21/33 [00:31<00:18,  1.56s/it]\u001b[A\n",
            " 67%|██████▋   | 22/33 [00:33<00:17,  1.56s/it]\u001b[A\n",
            " 70%|██████▉   | 23/33 [00:34<00:15,  1.56s/it]\u001b[A\n",
            " 73%|███████▎  | 24/33 [00:36<00:14,  1.56s/it]\u001b[A\n",
            " 76%|███████▌  | 25/33 [00:37<00:12,  1.56s/it]\u001b[A\n",
            " 79%|███████▉  | 26/33 [00:39<00:10,  1.56s/it]\u001b[A\n",
            " 82%|████████▏ | 27/33 [00:40<00:09,  1.56s/it]\u001b[A\n",
            " 85%|████████▍ | 28/33 [00:42<00:07,  1.56s/it]\u001b[A\n",
            " 88%|████████▊ | 29/33 [00:43<00:06,  1.56s/it]\u001b[A\n",
            " 91%|█████████ | 30/33 [00:45<00:04,  1.56s/it]\u001b[A\n",
            " 94%|█████████▍| 31/33 [00:47<00:03,  1.56s/it]\u001b[A\n",
            " 97%|█████████▋| 32/33 [00:48<00:01,  1.56s/it]\u001b[A\n",
            "100%|██████████| 33/33 [00:50<00:00,  1.52s/it]\n"
          ]
        },
        {
          "name": "stdout",
          "output_type": "stream",
          "text": [
            "Validation at epoch 5 - AP: 0.8258, Acc: 0.8519\n"
          ]
        },
        {
          "name": "stderr",
          "output_type": "stream",
          "text": [
            "\r 20%|██        | 6/30 [56:42<3:46:43, 566.82s/it]"
          ]
        },
        {
          "name": "stdout",
          "output_type": "stream",
          "text": [
            "Best model saved at epoch 5!\n",
            "\n",
            "Epoch: 6\n",
            "Train Loss: 0.3038 at step 2000 \t Iter time: 1.72\n",
            "Train Loss: 0.3842 at step 2050 \t Iter time: 1.72\n",
            "Train Loss: 0.4018 at step 2100 \t Iter time: 1.71\n",
            "Train Loss: 0.4564 at step 2150 \t Iter time: 1.71\n",
            "Train Loss: 0.3539 at step 2200 \t Iter time: 1.71\n",
            "Train Loss: 0.4500 at step 2250 \t Iter time: 1.70\n",
            "Train Loss: 0.4037 at step 2300 \t Iter time: 1.70\n",
            "Average Train Loss: 0.0001\n",
            "Validation:\n",
            "Length of dataset:  2100\n"
          ]
        },
        {
          "name": "stderr",
          "output_type": "stream",
          "text": [
            "\n",
            "  0%|          | 0/33 [00:00<?, ?it/s]\u001b[A\n",
            "  3%|▎         | 1/33 [00:00<00:13,  2.40it/s]\u001b[A\n",
            "  6%|▌         | 2/33 [00:01<00:32,  1.05s/it]\u001b[A\n",
            "  9%|▉         | 3/33 [00:03<00:37,  1.26s/it]\u001b[A\n",
            " 12%|█▏        | 4/33 [00:04<00:39,  1.37s/it]\u001b[A\n",
            " 15%|█▌        | 5/33 [00:06<00:40,  1.43s/it]\u001b[A\n",
            " 18%|█▊        | 6/33 [00:08<00:39,  1.48s/it]\u001b[A\n",
            " 21%|██        | 7/33 [00:09<00:39,  1.50s/it]\u001b[A\n",
            " 24%|██▍       | 8/33 [00:11<00:38,  1.52s/it]\u001b[A\n",
            " 27%|██▋       | 9/33 [00:12<00:36,  1.53s/it]\u001b[A\n",
            " 30%|███       | 10/33 [00:14<00:35,  1.54s/it]\u001b[A\n",
            " 33%|███▎      | 11/33 [00:15<00:34,  1.55s/it]\u001b[A\n",
            " 36%|███▋      | 12/33 [00:17<00:32,  1.55s/it]\u001b[A\n",
            " 39%|███▉      | 13/33 [00:18<00:31,  1.55s/it]\u001b[A\n",
            " 42%|████▏     | 14/33 [00:20<00:29,  1.55s/it]\u001b[A\n",
            " 45%|████▌     | 15/33 [00:22<00:28,  1.56s/it]\u001b[A\n",
            " 48%|████▊     | 16/33 [00:23<00:26,  1.56s/it]\u001b[A\n",
            " 52%|█████▏    | 17/33 [00:25<00:24,  1.56s/it]\u001b[A\n",
            " 55%|█████▍    | 18/33 [00:26<00:23,  1.56s/it]\u001b[A\n",
            " 58%|█████▊    | 19/33 [00:28<00:21,  1.56s/it]\u001b[A\n",
            " 61%|██████    | 20/33 [00:29<00:20,  1.56s/it]\u001b[A\n",
            " 64%|██████▎   | 21/33 [00:31<00:18,  1.56s/it]\u001b[A\n",
            " 67%|██████▋   | 22/33 [00:33<00:17,  1.56s/it]\u001b[A\n",
            " 70%|██████▉   | 23/33 [00:34<00:15,  1.56s/it]\u001b[A\n",
            " 73%|███████▎  | 24/33 [00:36<00:14,  1.56s/it]\u001b[A\n",
            " 76%|███████▌  | 25/33 [00:37<00:12,  1.56s/it]\u001b[A\n",
            " 79%|███████▉  | 26/33 [00:39<00:10,  1.56s/it]\u001b[A\n",
            " 82%|████████▏ | 27/33 [00:40<00:09,  1.56s/it]\u001b[A\n",
            " 85%|████████▍ | 28/33 [00:42<00:07,  1.56s/it]\u001b[A\n",
            " 88%|████████▊ | 29/33 [00:43<00:06,  1.56s/it]\u001b[A\n",
            " 91%|█████████ | 30/33 [00:45<00:04,  1.56s/it]\u001b[A\n",
            " 94%|█████████▍| 31/33 [00:47<00:03,  1.56s/it]\u001b[A\n",
            " 97%|█████████▋| 32/33 [00:48<00:01,  1.56s/it]\u001b[A\n",
            "100%|██████████| 33/33 [00:50<00:00,  1.52s/it]\n"
          ]
        },
        {
          "name": "stdout",
          "output_type": "stream",
          "text": [
            "Validation at epoch 6 - AP: 0.8267, Acc: 0.8486\n"
          ]
        },
        {
          "name": "stderr",
          "output_type": "stream",
          "text": [
            "\r 23%|██▎       | 7/30 [1:06:11<3:37:26, 567.23s/it]"
          ]
        },
        {
          "name": "stdout",
          "output_type": "stream",
          "text": [
            "Best model saved at epoch 6!\n",
            "Early Stopping counter: 1 out of 5\n",
            "\n",
            "Epoch: 7\n",
            "Train Loss: 0.3746 at step 2350 \t Iter time: 1.72\n",
            "Train Loss: 0.3648 at step 2400 \t Iter time: 1.72\n",
            "Train Loss: 0.3302 at step 2450 \t Iter time: 1.71\n",
            "Train Loss: 0.3280 at step 2500 \t Iter time: 1.71\n",
            "Train Loss: 0.3135 at step 2550 \t Iter time: 1.71\n",
            "Train Loss: 0.5693 at step 2600 \t Iter time: 1.71\n",
            "Average Train Loss: 0.0001\n",
            "Validation:\n",
            "Length of dataset:  2100\n"
          ]
        },
        {
          "name": "stderr",
          "output_type": "stream",
          "text": [
            "\n",
            "  0%|          | 0/33 [00:00<?, ?it/s]\u001b[A\n",
            "  3%|▎         | 1/33 [00:00<00:12,  2.59it/s]\u001b[A\n",
            "  6%|▌         | 2/33 [00:01<00:32,  1.04s/it]\u001b[A\n",
            "  9%|▉         | 3/33 [00:03<00:37,  1.26s/it]\u001b[A\n",
            " 12%|█▏        | 4/33 [00:04<00:39,  1.36s/it]\u001b[A\n",
            " 15%|█▌        | 5/33 [00:06<00:40,  1.44s/it]\u001b[A\n",
            " 18%|█▊        | 6/33 [00:08<00:39,  1.48s/it]\u001b[A\n",
            " 21%|██        | 7/33 [00:09<00:39,  1.50s/it]\u001b[A\n",
            " 24%|██▍       | 8/33 [00:11<00:38,  1.52s/it]\u001b[A\n",
            " 27%|██▋       | 9/33 [00:12<00:36,  1.53s/it]\u001b[A\n",
            " 30%|███       | 10/33 [00:14<00:35,  1.54s/it]\u001b[A\n",
            " 33%|███▎      | 11/33 [00:15<00:34,  1.55s/it]\u001b[A\n",
            " 36%|███▋      | 12/33 [00:17<00:32,  1.55s/it]\u001b[A\n",
            " 39%|███▉      | 13/33 [00:18<00:31,  1.55s/it]\u001b[A\n",
            " 42%|████▏     | 14/33 [00:20<00:29,  1.56s/it]\u001b[A\n",
            " 45%|████▌     | 15/33 [00:22<00:28,  1.56s/it]\u001b[A\n",
            " 48%|████▊     | 16/33 [00:23<00:26,  1.56s/it]\u001b[A\n",
            " 52%|█████▏    | 17/33 [00:25<00:24,  1.56s/it]\u001b[A\n",
            " 55%|█████▍    | 18/33 [00:26<00:23,  1.56s/it]\u001b[A\n",
            " 58%|█████▊    | 19/33 [00:28<00:21,  1.56s/it]\u001b[A\n",
            " 61%|██████    | 20/33 [00:29<00:20,  1.56s/it]\u001b[A\n",
            " 64%|██████▎   | 21/33 [00:31<00:18,  1.56s/it]\u001b[A\n",
            " 67%|██████▋   | 22/33 [00:33<00:17,  1.56s/it]\u001b[A\n",
            " 70%|██████▉   | 23/33 [00:34<00:15,  1.56s/it]\u001b[A\n",
            " 73%|███████▎  | 24/33 [00:36<00:14,  1.56s/it]\u001b[A\n",
            " 76%|███████▌  | 25/33 [00:37<00:12,  1.56s/it]\u001b[A\n",
            " 79%|███████▉  | 26/33 [00:39<00:10,  1.56s/it]\u001b[A\n",
            " 82%|████████▏ | 27/33 [00:40<00:09,  1.56s/it]\u001b[A\n",
            " 85%|████████▍ | 28/33 [00:42<00:07,  1.56s/it]\u001b[A\n",
            " 88%|████████▊ | 29/33 [00:43<00:06,  1.56s/it]\u001b[A\n",
            " 91%|█████████ | 30/33 [00:45<00:04,  1.56s/it]\u001b[A\n",
            " 94%|█████████▍| 31/33 [00:47<00:03,  1.56s/it]\u001b[A\n",
            " 97%|█████████▋| 32/33 [00:48<00:01,  1.56s/it]\u001b[A\n",
            "100%|██████████| 33/33 [00:50<00:00,  1.52s/it]\n",
            " 27%|██▋       | 8/30 [1:15:34<3:27:33, 566.07s/it]"
          ]
        },
        {
          "name": "stdout",
          "output_type": "stream",
          "text": [
            "Validation at epoch 7 - AP: 0.8253, Acc: 0.8548\n",
            "Early Stopping counter: 2 out of 5\n",
            "\n",
            "Epoch: 8\n",
            "Train Loss: 0.3661 at step 2650 \t Iter time: 1.72\n",
            "Train Loss: 0.3234 at step 2700 \t Iter time: 1.72\n",
            "Train Loss: 0.3154 at step 2750 \t Iter time: 1.72\n",
            "Train Loss: 0.3468 at step 2800 \t Iter time: 1.71\n",
            "Train Loss: 0.3685 at step 2850 \t Iter time: 1.71\n",
            "Train Loss: 0.2406 at step 2900 \t Iter time: 1.71\n",
            "Train Loss: 0.4241 at step 2950 \t Iter time: 1.71\n",
            "Average Train Loss: 0.0001\n",
            "Validation:\n",
            "Length of dataset:  2100\n"
          ]
        },
        {
          "name": "stderr",
          "output_type": "stream",
          "text": [
            "\n",
            "  0%|          | 0/33 [00:00<?, ?it/s]\u001b[A\n",
            "  3%|▎         | 1/33 [00:00<00:16,  1.89it/s]\u001b[A\n",
            "  6%|▌         | 2/33 [00:02<00:34,  1.10s/it]\u001b[A\n",
            "  9%|▉         | 3/33 [00:03<00:38,  1.29s/it]\u001b[A\n",
            " 12%|█▏        | 4/33 [00:05<00:40,  1.39s/it]\u001b[A\n",
            " 15%|█▌        | 5/33 [00:06<00:40,  1.44s/it]\u001b[A\n",
            " 18%|█▊        | 6/33 [00:08<00:39,  1.47s/it]\u001b[A\n",
            " 21%|██        | 7/33 [00:09<00:38,  1.49s/it]\u001b[A\n",
            " 24%|██▍       | 8/33 [00:11<00:37,  1.50s/it]\u001b[A\n",
            " 27%|██▋       | 9/33 [00:12<00:36,  1.51s/it]\u001b[A\n",
            " 30%|███       | 10/33 [00:14<00:35,  1.53s/it]\u001b[A\n",
            " 33%|███▎      | 11/33 [00:15<00:33,  1.54s/it]\u001b[A\n",
            " 36%|███▋      | 12/33 [00:17<00:32,  1.54s/it]\u001b[A\n",
            " 39%|███▉      | 13/33 [00:18<00:30,  1.55s/it]\u001b[A\n",
            " 42%|████▏     | 14/33 [00:20<00:29,  1.55s/it]\u001b[A\n",
            " 45%|████▌     | 15/33 [00:22<00:27,  1.55s/it]\u001b[A\n",
            " 48%|████▊     | 16/33 [00:23<00:26,  1.56s/it]\u001b[A\n",
            " 52%|█████▏    | 17/33 [00:25<00:24,  1.56s/it]\u001b[A\n",
            " 55%|█████▍    | 18/33 [00:26<00:23,  1.56s/it]\u001b[A\n",
            " 58%|█████▊    | 19/33 [00:28<00:21,  1.56s/it]\u001b[A\n",
            " 61%|██████    | 20/33 [00:29<00:20,  1.56s/it]\u001b[A\n",
            " 64%|██████▎   | 21/33 [00:31<00:18,  1.56s/it]\u001b[A\n",
            " 67%|██████▋   | 22/33 [00:33<00:17,  1.56s/it]\u001b[A\n",
            " 70%|██████▉   | 23/33 [00:34<00:15,  1.56s/it]\u001b[A\n",
            " 73%|███████▎  | 24/33 [00:36<00:14,  1.56s/it]\u001b[A\n",
            " 76%|███████▌  | 25/33 [00:37<00:12,  1.56s/it]\u001b[A\n",
            " 79%|███████▉  | 26/33 [00:39<00:10,  1.56s/it]\u001b[A\n",
            " 82%|████████▏ | 27/33 [00:40<00:09,  1.56s/it]\u001b[A\n",
            " 85%|████████▍ | 28/33 [00:42<00:07,  1.56s/it]\u001b[A\n",
            " 88%|████████▊ | 29/33 [00:43<00:06,  1.56s/it]\u001b[A\n",
            " 91%|█████████ | 30/33 [00:45<00:04,  1.56s/it]\u001b[A\n",
            " 94%|█████████▍| 31/33 [00:47<00:03,  1.56s/it]\u001b[A\n",
            " 97%|█████████▋| 32/33 [00:48<00:01,  1.56s/it]\u001b[A\n",
            "100%|██████████| 33/33 [00:50<00:00,  1.52s/it]\n"
          ]
        },
        {
          "name": "stdout",
          "output_type": "stream",
          "text": [
            "Validation at epoch 8 - AP: 0.8310, Acc: 0.8533\n"
          ]
        },
        {
          "name": "stderr",
          "output_type": "stream",
          "text": [
            "\r 30%|███       | 9/30 [1:25:01<3:18:12, 566.32s/it]"
          ]
        },
        {
          "name": "stdout",
          "output_type": "stream",
          "text": [
            "Best model saved at epoch 8!\n",
            "\n",
            "Epoch: 9\n",
            "Train Loss: 0.4324 at step 3000 \t Iter time: 1.72\n",
            "Train Loss: 0.4970 at step 3050 \t Iter time: 1.72\n",
            "Train Loss: 0.3096 at step 3100 \t Iter time: 1.72\n",
            "Train Loss: 0.4041 at step 3150 \t Iter time: 1.71\n",
            "Train Loss: 0.3784 at step 3200 \t Iter time: 1.71\n",
            "Train Loss: 0.3443 at step 3250 \t Iter time: 1.71\n",
            "Average Train Loss: 0.0001\n",
            "Validation:\n",
            "Length of dataset:  2100\n"
          ]
        },
        {
          "name": "stderr",
          "output_type": "stream",
          "text": [
            "\n",
            "  0%|          | 0/33 [00:00<?, ?it/s]\u001b[A\n",
            "  3%|▎         | 1/33 [00:00<00:11,  2.68it/s]\u001b[A\n",
            "  6%|▌         | 2/33 [00:01<00:32,  1.04s/it]\u001b[A\n",
            "  9%|▉         | 3/33 [00:03<00:38,  1.28s/it]\u001b[A\n",
            " 12%|█▏        | 4/33 [00:04<00:40,  1.39s/it]\u001b[A\n",
            " 15%|█▌        | 5/33 [00:06<00:40,  1.45s/it]\u001b[A\n",
            " 18%|█▊        | 6/33 [00:08<00:40,  1.49s/it]\u001b[A\n",
            " 21%|██        | 7/33 [00:09<00:39,  1.51s/it]\u001b[A\n",
            " 24%|██▍       | 8/33 [00:11<00:38,  1.52s/it]\u001b[A\n",
            " 27%|██▋       | 9/33 [00:12<00:36,  1.54s/it]\u001b[A\n",
            " 30%|███       | 10/33 [00:14<00:35,  1.54s/it]\u001b[A\n",
            " 33%|███▎      | 11/33 [00:15<00:34,  1.55s/it]\u001b[A\n",
            " 36%|███▋      | 12/33 [00:17<00:32,  1.55s/it]\u001b[A\n",
            " 39%|███▉      | 13/33 [00:19<00:31,  1.55s/it]\u001b[A\n",
            " 42%|████▏     | 14/33 [00:20<00:29,  1.55s/it]\u001b[A\n",
            " 45%|████▌     | 15/33 [00:22<00:27,  1.56s/it]\u001b[A\n",
            " 48%|████▊     | 16/33 [00:23<00:26,  1.56s/it]\u001b[A\n",
            " 52%|█████▏    | 17/33 [00:25<00:24,  1.56s/it]\u001b[A\n",
            " 55%|█████▍    | 18/33 [00:26<00:23,  1.56s/it]\u001b[A\n",
            " 58%|█████▊    | 19/33 [00:28<00:21,  1.56s/it]\u001b[A\n",
            " 61%|██████    | 20/33 [00:29<00:20,  1.56s/it]\u001b[A\n",
            " 64%|██████▎   | 21/33 [00:31<00:18,  1.56s/it]\u001b[A\n",
            " 67%|██████▋   | 22/33 [00:33<00:17,  1.56s/it]\u001b[A\n",
            " 70%|██████▉   | 23/33 [00:34<00:15,  1.56s/it]\u001b[A\n",
            " 73%|███████▎  | 24/33 [00:36<00:14,  1.56s/it]\u001b[A\n",
            " 76%|███████▌  | 25/33 [00:37<00:12,  1.56s/it]\u001b[A\n",
            " 79%|███████▉  | 26/33 [00:39<00:10,  1.56s/it]\u001b[A\n",
            " 82%|████████▏ | 27/33 [00:40<00:09,  1.56s/it]\u001b[A\n",
            " 85%|████████▍ | 28/33 [00:42<00:07,  1.56s/it]\u001b[A\n",
            " 88%|████████▊ | 29/33 [00:43<00:06,  1.56s/it]\u001b[A\n",
            " 91%|█████████ | 30/33 [00:45<00:04,  1.56s/it]\u001b[A\n",
            " 94%|█████████▍| 31/33 [00:47<00:03,  1.56s/it]\u001b[A\n",
            " 97%|█████████▋| 32/33 [00:48<00:01,  1.56s/it]\u001b[A\n",
            "100%|██████████| 33/33 [00:50<00:00,  1.52s/it]\n",
            " 33%|███▎      | 10/30 [1:34:24<3:08:27, 565.36s/it]"
          ]
        },
        {
          "name": "stdout",
          "output_type": "stream",
          "text": [
            "Validation at epoch 9 - AP: 0.8277, Acc: 0.8533\n",
            "Early Stopping counter: 1 out of 5\n",
            "\n",
            "Epoch: 10\n",
            "Train Loss: 0.4174 at step 3300 \t Iter time: 1.72\n",
            "Train Loss: 0.4185 at step 3350 \t Iter time: 1.72\n",
            "Train Loss: 0.2847 at step 3400 \t Iter time: 1.72\n",
            "Train Loss: 0.4342 at step 3450 \t Iter time: 1.71\n",
            "Train Loss: 0.2628 at step 3500 \t Iter time: 1.71\n",
            "Train Loss: 0.3486 at step 3550 \t Iter time: 1.71\n",
            "Train Loss: 0.4646 at step 3600 \t Iter time: 1.71\n",
            "Average Train Loss: 0.0001\n",
            "Validation:\n",
            "Length of dataset:  2100\n"
          ]
        },
        {
          "name": "stderr",
          "output_type": "stream",
          "text": [
            "\n",
            "  0%|          | 0/33 [00:00<?, ?it/s]\u001b[A\n",
            "  3%|▎         | 1/33 [00:00<00:17,  1.87it/s]\u001b[A\n",
            "  6%|▌         | 2/33 [00:02<00:34,  1.11s/it]\u001b[A\n",
            "  9%|▉         | 3/33 [00:03<00:39,  1.31s/it]\u001b[A\n",
            " 12%|█▏        | 4/33 [00:05<00:40,  1.41s/it]\u001b[A\n",
            " 15%|█▌        | 5/33 [00:06<00:41,  1.47s/it]\u001b[A\n",
            " 18%|█▊        | 6/33 [00:08<00:40,  1.50s/it]\u001b[A\n",
            " 21%|██        | 7/33 [00:09<00:39,  1.52s/it]\u001b[A\n",
            " 24%|██▍       | 8/33 [00:11<00:38,  1.53s/it]\u001b[A\n",
            " 27%|██▋       | 9/33 [00:12<00:37,  1.54s/it]\u001b[A\n",
            " 30%|███       | 10/33 [00:14<00:35,  1.55s/it]\u001b[A\n",
            " 33%|███▎      | 11/33 [00:16<00:34,  1.56s/it]\u001b[A\n",
            " 36%|███▋      | 12/33 [00:17<00:32,  1.56s/it]\u001b[A\n",
            " 39%|███▉      | 13/33 [00:19<00:31,  1.56s/it]\u001b[A\n",
            " 42%|████▏     | 14/33 [00:20<00:29,  1.56s/it]\u001b[A\n",
            " 45%|████▌     | 15/33 [00:22<00:28,  1.56s/it]\u001b[A\n",
            " 48%|████▊     | 16/33 [00:23<00:26,  1.56s/it]\u001b[A\n",
            " 52%|█████▏    | 17/33 [00:25<00:25,  1.57s/it]\u001b[A\n",
            " 55%|█████▍    | 18/33 [00:27<00:23,  1.57s/it]\u001b[A\n",
            " 58%|█████▊    | 19/33 [00:28<00:21,  1.57s/it]\u001b[A\n",
            " 61%|██████    | 20/33 [00:30<00:20,  1.57s/it]\u001b[A\n",
            " 64%|██████▎   | 21/33 [00:31<00:18,  1.56s/it]\u001b[A\n",
            " 67%|██████▋   | 22/33 [00:33<00:17,  1.56s/it]\u001b[A\n",
            " 70%|██████▉   | 23/33 [00:34<00:15,  1.56s/it]\u001b[A\n",
            " 73%|███████▎  | 24/33 [00:36<00:14,  1.56s/it]\u001b[A\n",
            " 76%|███████▌  | 25/33 [00:38<00:12,  1.56s/it]\u001b[A\n",
            " 79%|███████▉  | 26/33 [00:39<00:10,  1.56s/it]\u001b[A\n",
            " 82%|████████▏ | 27/33 [00:41<00:09,  1.56s/it]\u001b[A\n",
            " 85%|████████▍ | 28/33 [00:42<00:07,  1.56s/it]\u001b[A\n",
            " 88%|████████▊ | 29/33 [00:44<00:06,  1.56s/it]\u001b[A\n",
            " 91%|█████████ | 30/33 [00:45<00:04,  1.56s/it]\u001b[A\n",
            " 94%|█████████▍| 31/33 [00:47<00:03,  1.56s/it]\u001b[A\n",
            " 97%|█████████▋| 32/33 [00:48<00:01,  1.56s/it]\u001b[A\n",
            "100%|██████████| 33/33 [00:50<00:00,  1.53s/it]\n",
            " 37%|███▋      | 11/30 [1:43:48<2:58:50, 564.77s/it]"
          ]
        },
        {
          "name": "stdout",
          "output_type": "stream",
          "text": [
            "Validation at epoch 10 - AP: 0.8267, Acc: 0.8552\n",
            "Early Stopping counter: 2 out of 5\n",
            "\n",
            "Epoch: 11\n",
            "Train Loss: 0.2834 at step 3650 \t Iter time: 1.72\n",
            "Train Loss: 0.5496 at step 3700 \t Iter time: 1.72\n",
            "Train Loss: 0.4420 at step 3750 \t Iter time: 1.72\n",
            "Train Loss: 0.2415 at step 3800 \t Iter time: 1.71\n",
            "Train Loss: 0.4117 at step 3850 \t Iter time: 1.71\n",
            "Train Loss: 0.3132 at step 3900 \t Iter time: 1.71\n",
            "Average Train Loss: 0.0001\n",
            "Validation:\n",
            "Length of dataset:  2100\n"
          ]
        },
        {
          "name": "stderr",
          "output_type": "stream",
          "text": [
            "\n",
            "  0%|          | 0/33 [00:00<?, ?it/s]\u001b[A\n",
            "  3%|▎         | 1/33 [00:00<00:13,  2.42it/s]\u001b[A\n",
            "  6%|▌         | 2/33 [00:01<00:32,  1.05s/it]\u001b[A\n",
            "  9%|▉         | 3/33 [00:03<00:38,  1.27s/it]\u001b[A\n",
            " 12%|█▏        | 4/33 [00:04<00:39,  1.37s/it]\u001b[A\n",
            " 15%|█▌        | 5/33 [00:06<00:39,  1.43s/it]\u001b[A\n",
            " 18%|█▊        | 6/33 [00:08<00:39,  1.47s/it]\u001b[A\n",
            " 21%|██        | 7/33 [00:09<00:39,  1.50s/it]\u001b[A\n",
            " 24%|██▍       | 8/33 [00:11<00:38,  1.52s/it]\u001b[A\n",
            " 27%|██▋       | 9/33 [00:12<00:36,  1.53s/it]\u001b[A\n",
            " 30%|███       | 10/33 [00:14<00:35,  1.54s/it]\u001b[A\n",
            " 33%|███▎      | 11/33 [00:15<00:34,  1.55s/it]\u001b[A\n",
            " 36%|███▋      | 12/33 [00:17<00:32,  1.55s/it]\u001b[A\n",
            " 39%|███▉      | 13/33 [00:18<00:31,  1.55s/it]\u001b[A\n",
            " 42%|████▏     | 14/33 [00:20<00:29,  1.55s/it]\u001b[A\n",
            " 45%|████▌     | 15/33 [00:22<00:28,  1.56s/it]\u001b[A\n",
            " 48%|████▊     | 16/33 [00:23<00:26,  1.56s/it]\u001b[A\n",
            " 52%|█████▏    | 17/33 [00:25<00:24,  1.56s/it]\u001b[A\n",
            " 55%|█████▍    | 18/33 [00:26<00:23,  1.56s/it]\u001b[A\n",
            " 58%|█████▊    | 19/33 [00:28<00:21,  1.56s/it]\u001b[A\n",
            " 61%|██████    | 20/33 [00:29<00:20,  1.56s/it]\u001b[A\n",
            " 64%|██████▎   | 21/33 [00:31<00:18,  1.56s/it]\u001b[A\n",
            " 67%|██████▋   | 22/33 [00:33<00:17,  1.56s/it]\u001b[A\n",
            " 70%|██████▉   | 23/33 [00:34<00:15,  1.56s/it]\u001b[A\n",
            " 73%|███████▎  | 24/33 [00:36<00:14,  1.56s/it]\u001b[A\n",
            " 76%|███████▌  | 25/33 [00:37<00:12,  1.56s/it]\u001b[A\n",
            " 79%|███████▉  | 26/33 [00:39<00:10,  1.56s/it]\u001b[A\n",
            " 82%|████████▏ | 27/33 [00:40<00:09,  1.56s/it]\u001b[A\n",
            " 85%|████████▍ | 28/33 [00:42<00:07,  1.56s/it]\u001b[A\n",
            " 88%|████████▊ | 29/33 [00:43<00:06,  1.56s/it]\u001b[A\n",
            " 91%|█████████ | 30/33 [00:45<00:04,  1.56s/it]\u001b[A\n",
            " 94%|█████████▍| 31/33 [00:47<00:03,  1.56s/it]\u001b[A\n",
            " 97%|█████████▋| 32/33 [00:48<00:01,  1.56s/it]\u001b[A\n",
            "100%|██████████| 33/33 [00:50<00:00,  1.52s/it]\n",
            " 40%|████      | 12/30 [1:53:11<2:49:16, 564.24s/it]"
          ]
        },
        {
          "name": "stdout",
          "output_type": "stream",
          "text": [
            "Validation at epoch 11 - AP: 0.8303, Acc: 0.8514\n",
            "Early Stopping counter: 3 out of 5\n",
            "\n",
            "Epoch: 12\n",
            "Train Loss: 0.2947 at step 3950 \t Iter time: 1.72\n",
            "Train Loss: 0.4901 at step 4000 \t Iter time: 1.72\n",
            "Train Loss: 0.5468 at step 4050 \t Iter time: 1.72\n",
            "Train Loss: 0.4226 at step 4100 \t Iter time: 1.71\n",
            "Train Loss: 0.2086 at step 4150 \t Iter time: 1.71\n",
            "Train Loss: 0.3389 at step 4200 \t Iter time: 1.71\n",
            "Train Loss: 0.2874 at step 4250 \t Iter time: 1.71\n",
            "Average Train Loss: 0.0001\n",
            "Validation:\n",
            "Length of dataset:  2100\n"
          ]
        },
        {
          "name": "stderr",
          "output_type": "stream",
          "text": [
            "\n",
            "  0%|          | 0/33 [00:00<?, ?it/s]\u001b[A\n",
            "  3%|▎         | 1/33 [00:00<00:16,  1.99it/s]\u001b[A\n",
            "  6%|▌         | 2/33 [00:01<00:33,  1.07s/it]\u001b[A\n",
            "  9%|▉         | 3/33 [00:03<00:38,  1.28s/it]\u001b[A\n",
            " 12%|█▏        | 4/33 [00:05<00:39,  1.38s/it]\u001b[A\n",
            " 15%|█▌        | 5/33 [00:06<00:40,  1.43s/it]\u001b[A\n",
            " 18%|█▊        | 6/33 [00:08<00:39,  1.46s/it]\u001b[A\n",
            " 21%|██        | 7/33 [00:09<00:38,  1.48s/it]\u001b[A\n",
            " 24%|██▍       | 8/33 [00:11<00:37,  1.50s/it]\u001b[A\n",
            " 27%|██▋       | 9/33 [00:12<00:36,  1.51s/it]\u001b[A\n",
            " 30%|███       | 10/33 [00:14<00:34,  1.51s/it]\u001b[A\n",
            " 33%|███▎      | 11/33 [00:15<00:33,  1.52s/it]\u001b[A\n",
            " 36%|███▋      | 12/33 [00:17<00:31,  1.52s/it]\u001b[A\n",
            " 39%|███▉      | 13/33 [00:18<00:30,  1.52s/it]\u001b[A\n",
            " 42%|████▏     | 14/33 [00:20<00:28,  1.52s/it]\u001b[A\n",
            " 45%|████▌     | 15/33 [00:21<00:27,  1.52s/it]\u001b[A\n",
            " 48%|████▊     | 16/33 [00:23<00:25,  1.53s/it]\u001b[A\n",
            " 52%|█████▏    | 17/33 [00:24<00:24,  1.53s/it]\u001b[A\n",
            " 55%|█████▍    | 18/33 [00:26<00:22,  1.53s/it]\u001b[A\n",
            " 58%|█████▊    | 19/33 [00:27<00:21,  1.54s/it]\u001b[A\n",
            " 61%|██████    | 20/33 [00:29<00:20,  1.54s/it]\u001b[A\n",
            " 64%|██████▎   | 21/33 [00:31<00:18,  1.55s/it]\u001b[A\n",
            " 67%|██████▋   | 22/33 [00:32<00:17,  1.55s/it]\u001b[A\n",
            " 70%|██████▉   | 23/33 [00:34<00:15,  1.55s/it]\u001b[A\n",
            " 73%|███████▎  | 24/33 [00:35<00:13,  1.56s/it]\u001b[A\n",
            " 76%|███████▌  | 25/33 [00:37<00:12,  1.56s/it]\u001b[A\n",
            " 79%|███████▉  | 26/33 [00:38<00:10,  1.56s/it]\u001b[A\n",
            " 82%|████████▏ | 27/33 [00:40<00:09,  1.56s/it]\u001b[A\n",
            " 85%|████████▍ | 28/33 [00:42<00:07,  1.56s/it]\u001b[A\n",
            " 88%|████████▊ | 29/33 [00:43<00:06,  1.56s/it]\u001b[A\n",
            " 91%|█████████ | 30/33 [00:45<00:04,  1.56s/it]\u001b[A\n",
            " 94%|█████████▍| 31/33 [00:46<00:03,  1.56s/it]\u001b[A\n",
            " 97%|█████████▋| 32/33 [00:48<00:01,  1.56s/it]\u001b[A\n",
            "100%|██████████| 33/33 [00:49<00:00,  1.51s/it]\n",
            " 43%|████▎     | 13/30 [2:02:33<2:39:44, 563.79s/it]"
          ]
        },
        {
          "name": "stdout",
          "output_type": "stream",
          "text": [
            "Validation at epoch 12 - AP: 0.8284, Acc: 0.8552\n",
            "Early Stopping counter: 4 out of 5\n",
            "\n",
            "Epoch: 13\n",
            "Train Loss: 0.3590 at step 4300 \t Iter time: 1.72\n",
            "Train Loss: 0.2990 at step 4350 \t Iter time: 1.72\n",
            "Train Loss: 0.5172 at step 4400 \t Iter time: 1.72\n",
            "Train Loss: 0.3480 at step 4450 \t Iter time: 1.71\n",
            "Train Loss: 0.3467 at step 4500 \t Iter time: 1.71\n",
            "Train Loss: 0.2746 at step 4550 \t Iter time: 1.71\n",
            "Train Loss: 0.5319 at step 4600 \t Iter time: 1.71\n",
            "Average Train Loss: 0.0001\n",
            "Validation:\n",
            "Length of dataset:  2100\n"
          ]
        },
        {
          "name": "stderr",
          "output_type": "stream",
          "text": [
            "\n",
            "  0%|          | 0/33 [00:00<?, ?it/s]\u001b[A\n",
            "  3%|▎         | 1/33 [00:00<00:16,  1.98it/s]\u001b[A\n",
            "  6%|▌         | 2/33 [00:02<00:34,  1.10s/it]\u001b[A\n",
            "  9%|▉         | 3/33 [00:03<00:39,  1.30s/it]\u001b[A\n",
            " 12%|█▏        | 4/33 [00:05<00:40,  1.41s/it]\u001b[A\n",
            " 15%|█▌        | 5/33 [00:06<00:40,  1.46s/it]\u001b[A\n",
            " 18%|█▊        | 6/33 [00:08<00:40,  1.49s/it]\u001b[A\n",
            " 21%|██        | 7/33 [00:09<00:39,  1.51s/it]\u001b[A\n",
            " 24%|██▍       | 8/33 [00:11<00:38,  1.53s/it]\u001b[A\n",
            " 27%|██▋       | 9/33 [00:12<00:36,  1.54s/it]\u001b[A\n",
            " 30%|███       | 10/33 [00:14<00:35,  1.54s/it]\u001b[A\n",
            " 33%|███▎      | 11/33 [00:16<00:34,  1.55s/it]\u001b[A\n",
            " 36%|███▋      | 12/33 [00:17<00:32,  1.55s/it]\u001b[A\n",
            " 39%|███▉      | 13/33 [00:19<00:31,  1.56s/it]\u001b[A\n",
            " 42%|████▏     | 14/33 [00:20<00:29,  1.56s/it]\u001b[A\n",
            " 45%|████▌     | 15/33 [00:22<00:28,  1.56s/it]\u001b[A\n",
            " 48%|████▊     | 16/33 [00:23<00:26,  1.56s/it]\u001b[A\n",
            " 52%|█████▏    | 17/33 [00:25<00:24,  1.56s/it]\u001b[A\n",
            " 55%|█████▍    | 18/33 [00:26<00:23,  1.56s/it]\u001b[A\n",
            " 58%|█████▊    | 19/33 [00:28<00:21,  1.56s/it]\u001b[A\n",
            " 61%|██████    | 20/33 [00:30<00:20,  1.56s/it]\u001b[A\n",
            " 64%|██████▎   | 21/33 [00:31<00:18,  1.56s/it]\u001b[A\n",
            " 67%|██████▋   | 22/33 [00:33<00:17,  1.56s/it]\u001b[A\n",
            " 70%|██████▉   | 23/33 [00:34<00:15,  1.56s/it]\u001b[A\n",
            " 73%|███████▎  | 24/33 [00:36<00:14,  1.56s/it]\u001b[A\n",
            " 76%|███████▌  | 25/33 [00:37<00:12,  1.56s/it]\u001b[A\n",
            " 79%|███████▉  | 26/33 [00:39<00:10,  1.56s/it]\u001b[A\n",
            " 82%|████████▏ | 27/33 [00:41<00:09,  1.56s/it]\u001b[A\n",
            " 85%|████████▍ | 28/33 [00:42<00:07,  1.56s/it]\u001b[A\n",
            " 88%|████████▊ | 29/33 [00:44<00:06,  1.56s/it]\u001b[A\n",
            " 91%|█████████ | 30/33 [00:45<00:04,  1.56s/it]\u001b[A\n",
            " 94%|█████████▍| 31/33 [00:47<00:03,  1.56s/it]\u001b[A\n",
            " 97%|█████████▋| 32/33 [00:48<00:01,  1.56s/it]\u001b[A\n",
            "100%|██████████| 33/33 [00:50<00:00,  1.53s/it]\n",
            " 47%|████▋     | 14/30 [2:11:57<2:30:19, 563.73s/it]"
          ]
        },
        {
          "name": "stdout",
          "output_type": "stream",
          "text": [
            "Validation at epoch 13 - AP: 0.8295, Acc: 0.8543\n",
            "Early Stopping counter: 5 out of 5\n",
            "Early stopping triggered\n",
            "Continuing training with a learning rate reduced by a factor of 10\n",
            "\n",
            "Epoch: 14\n",
            "Train Loss: 0.2817 at step 4650 \t Iter time: 1.72\n",
            "Train Loss: 0.3100 at step 4700 \t Iter time: 1.72\n",
            "Train Loss: 0.3852 at step 4750 \t Iter time: 1.71\n",
            "Train Loss: 0.3974 at step 4800 \t Iter time: 1.71\n",
            "Train Loss: 0.4004 at step 4850 \t Iter time: 1.71\n",
            "Train Loss: 0.5061 at step 4900 \t Iter time: 1.71\n",
            "Average Train Loss: 0.0001\n",
            "Validation:\n",
            "Length of dataset:  2100\n"
          ]
        },
        {
          "name": "stderr",
          "output_type": "stream",
          "text": [
            "\n",
            "  0%|          | 0/33 [00:00<?, ?it/s]\u001b[A\n",
            "  3%|▎         | 1/33 [00:00<00:16,  1.98it/s]\u001b[A\n",
            "  6%|▌         | 2/33 [00:01<00:33,  1.09s/it]\u001b[A\n",
            "  9%|▉         | 3/33 [00:03<00:38,  1.28s/it]\u001b[A\n",
            " 12%|█▏        | 4/33 [00:05<00:39,  1.38s/it]\u001b[A\n",
            " 15%|█▌        | 5/33 [00:06<00:40,  1.43s/it]\u001b[A\n",
            " 18%|█▊        | 6/33 [00:08<00:39,  1.46s/it]\u001b[A\n",
            " 21%|██        | 7/33 [00:09<00:38,  1.48s/it]\u001b[A\n",
            " 24%|██▍       | 8/33 [00:11<00:37,  1.51s/it]\u001b[A\n",
            " 27%|██▋       | 9/33 [00:12<00:36,  1.52s/it]\u001b[A\n",
            " 30%|███       | 10/33 [00:14<00:35,  1.53s/it]\u001b[A\n",
            " 33%|███▎      | 11/33 [00:15<00:33,  1.54s/it]\u001b[A\n",
            " 36%|███▋      | 12/33 [00:17<00:32,  1.55s/it]\u001b[A\n",
            " 39%|███▉      | 13/33 [00:18<00:31,  1.55s/it]\u001b[A\n",
            " 42%|████▏     | 14/33 [00:20<00:29,  1.55s/it]\u001b[A\n",
            " 45%|████▌     | 15/33 [00:22<00:27,  1.56s/it]\u001b[A\n",
            " 48%|████▊     | 16/33 [00:23<00:26,  1.56s/it]\u001b[A\n",
            " 52%|█████▏    | 17/33 [00:25<00:24,  1.56s/it]\u001b[A\n",
            " 55%|█████▍    | 18/33 [00:26<00:23,  1.56s/it]\u001b[A\n",
            " 58%|█████▊    | 19/33 [00:28<00:21,  1.56s/it]\u001b[A\n",
            " 61%|██████    | 20/33 [00:29<00:20,  1.56s/it]\u001b[A\n",
            " 64%|██████▎   | 21/33 [00:31<00:18,  1.56s/it]\u001b[A\n",
            " 67%|██████▋   | 22/33 [00:33<00:17,  1.56s/it]\u001b[A\n",
            " 70%|██████▉   | 23/33 [00:34<00:15,  1.56s/it]\u001b[A\n",
            " 73%|███████▎  | 24/33 [00:36<00:14,  1.56s/it]\u001b[A\n",
            " 76%|███████▌  | 25/33 [00:37<00:12,  1.56s/it]\u001b[A\n",
            " 79%|███████▉  | 26/33 [00:39<00:10,  1.56s/it]\u001b[A\n",
            " 82%|████████▏ | 27/33 [00:40<00:09,  1.56s/it]\u001b[A\n",
            " 85%|████████▍ | 28/33 [00:42<00:07,  1.56s/it]\u001b[A\n",
            " 88%|████████▊ | 29/33 [00:43<00:06,  1.56s/it]\u001b[A\n",
            " 91%|█████████ | 30/33 [00:45<00:04,  1.56s/it]\u001b[A\n",
            " 94%|█████████▍| 31/33 [00:47<00:03,  1.56s/it]\u001b[A\n",
            " 97%|█████████▋| 32/33 [00:48<00:01,  1.56s/it]\u001b[A\n",
            "100%|██████████| 33/33 [00:50<00:00,  1.52s/it]\n",
            " 50%|█████     | 15/30 [2:21:20<2:20:53, 563.59s/it]"
          ]
        },
        {
          "name": "stdout",
          "output_type": "stream",
          "text": [
            "Validation at epoch 14 - AP: 0.8293, Acc: 0.8586\n",
            "\n",
            "Epoch: 15\n",
            "Train Loss: 0.3823 at step 4950 \t Iter time: 1.72\n",
            "Train Loss: 0.2806 at step 5000 \t Iter time: 1.72\n",
            "Train Loss: 0.3716 at step 5050 \t Iter time: 1.71\n",
            "Train Loss: 0.3928 at step 5100 \t Iter time: 1.71\n",
            "Train Loss: 0.3230 at step 5150 \t Iter time: 1.71\n",
            "Train Loss: 0.2760 at step 5200 \t Iter time: 1.71\n",
            "Train Loss: 0.3165 at step 5250 \t Iter time: 1.71\n",
            "Average Train Loss: 0.0001\n",
            "Validation:\n",
            "Length of dataset:  2100\n"
          ]
        },
        {
          "name": "stderr",
          "output_type": "stream",
          "text": [
            "\n",
            "  0%|          | 0/33 [00:00<?, ?it/s]\u001b[A\n",
            "  3%|▎         | 1/33 [00:00<00:17,  1.85it/s]\u001b[A\n",
            "  6%|▌         | 2/33 [00:02<00:34,  1.11s/it]\u001b[A\n",
            "  9%|▉         | 3/33 [00:03<00:39,  1.31s/it]\u001b[A\n",
            " 12%|█▏        | 4/33 [00:05<00:40,  1.41s/it]\u001b[A\n",
            " 15%|█▌        | 5/33 [00:06<00:41,  1.47s/it]\u001b[A\n",
            " 18%|█▊        | 6/33 [00:08<00:40,  1.50s/it]\u001b[A\n",
            " 21%|██        | 7/33 [00:09<00:39,  1.52s/it]\u001b[A\n",
            " 24%|██▍       | 8/33 [00:11<00:38,  1.53s/it]\u001b[A\n",
            " 27%|██▋       | 9/33 [00:12<00:37,  1.54s/it]\u001b[A\n",
            " 30%|███       | 10/33 [00:14<00:35,  1.55s/it]\u001b[A\n",
            " 33%|███▎      | 11/33 [00:16<00:34,  1.55s/it]\u001b[A\n",
            " 36%|███▋      | 12/33 [00:17<00:32,  1.56s/it]\u001b[A\n",
            " 39%|███▉      | 13/33 [00:19<00:31,  1.56s/it]\u001b[A\n",
            " 42%|████▏     | 14/33 [00:20<00:29,  1.56s/it]\u001b[A\n",
            " 45%|████▌     | 15/33 [00:22<00:28,  1.56s/it]\u001b[A\n",
            " 48%|████▊     | 16/33 [00:23<00:26,  1.56s/it]\u001b[A\n",
            " 52%|█████▏    | 17/33 [00:25<00:24,  1.56s/it]\u001b[A\n",
            " 55%|█████▍    | 18/33 [00:27<00:23,  1.56s/it]\u001b[A\n",
            " 58%|█████▊    | 19/33 [00:28<00:21,  1.56s/it]\u001b[A\n",
            " 61%|██████    | 20/33 [00:30<00:20,  1.56s/it]\u001b[A\n",
            " 64%|██████▎   | 21/33 [00:31<00:18,  1.56s/it]\u001b[A\n",
            " 67%|██████▋   | 22/33 [00:33<00:17,  1.56s/it]\u001b[A\n",
            " 70%|██████▉   | 23/33 [00:34<00:15,  1.56s/it]\u001b[A\n",
            " 73%|███████▎  | 24/33 [00:36<00:14,  1.56s/it]\u001b[A\n",
            " 76%|███████▌  | 25/33 [00:37<00:12,  1.56s/it]\u001b[A\n",
            " 79%|███████▉  | 26/33 [00:39<00:10,  1.56s/it]\u001b[A\n",
            " 82%|████████▏ | 27/33 [00:41<00:09,  1.56s/it]\u001b[A\n",
            " 85%|████████▍ | 28/33 [00:42<00:07,  1.56s/it]\u001b[A\n",
            " 88%|████████▊ | 29/33 [00:44<00:06,  1.56s/it]\u001b[A\n",
            " 91%|█████████ | 30/33 [00:45<00:04,  1.56s/it]\u001b[A\n",
            " 94%|█████████▍| 31/33 [00:47<00:03,  1.56s/it]\u001b[A\n",
            " 97%|█████████▋| 32/33 [00:48<00:01,  1.56s/it]\u001b[A\n",
            "100%|██████████| 33/33 [00:50<00:00,  1.53s/it]\n",
            " 53%|█████▎    | 16/30 [2:30:44<2:11:31, 563.65s/it]"
          ]
        },
        {
          "name": "stdout",
          "output_type": "stream",
          "text": [
            "Validation at epoch 15 - AP: 0.8289, Acc: 0.8562\n",
            "Early Stopping counter: 1 out of 5\n",
            "\n",
            "Epoch: 16\n",
            "Train Loss: 0.3071 at step 5300 \t Iter time: 1.72\n",
            "Train Loss: 0.2683 at step 5350 \t Iter time: 1.72\n",
            "Train Loss: 0.3011 at step 5400 \t Iter time: 1.71\n",
            "Train Loss: 0.3210 at step 5450 \t Iter time: 1.71\n",
            "Train Loss: 0.3459 at step 5500 \t Iter time: 1.71\n",
            "Train Loss: 0.2522 at step 5550 \t Iter time: 1.71\n",
            "Average Train Loss: 0.0001\n",
            "Validation:\n",
            "Length of dataset:  2100\n"
          ]
        },
        {
          "name": "stderr",
          "output_type": "stream",
          "text": [
            "\n",
            "  0%|          | 0/33 [00:00<?, ?it/s]\u001b[A\n",
            "  3%|▎         | 1/33 [00:00<00:16,  1.90it/s]\u001b[A\n",
            "  6%|▌         | 2/33 [00:02<00:33,  1.09s/it]\u001b[A\n",
            "  9%|▉         | 3/33 [00:03<00:38,  1.29s/it]\u001b[A\n",
            " 12%|█▏        | 4/33 [00:05<00:40,  1.38s/it]\u001b[A\n",
            " 15%|█▌        | 5/33 [00:06<00:40,  1.43s/it]\u001b[A\n",
            " 18%|█▊        | 6/33 [00:08<00:39,  1.46s/it]\u001b[A\n",
            " 21%|██        | 7/33 [00:09<00:38,  1.48s/it]\u001b[A\n",
            " 24%|██▍       | 8/33 [00:11<00:37,  1.50s/it]\u001b[A\n",
            " 27%|██▋       | 9/33 [00:12<00:36,  1.51s/it]\u001b[A\n",
            " 30%|███       | 10/33 [00:14<00:34,  1.51s/it]\u001b[A\n",
            " 33%|███▎      | 11/33 [00:15<00:33,  1.51s/it]\u001b[A\n",
            " 36%|███▋      | 12/33 [00:17<00:31,  1.52s/it]\u001b[A\n",
            " 39%|███▉      | 13/33 [00:18<00:30,  1.52s/it]\u001b[A\n",
            " 42%|████▏     | 14/33 [00:20<00:28,  1.52s/it]\u001b[A\n",
            " 45%|████▌     | 15/33 [00:21<00:27,  1.52s/it]\u001b[A\n",
            " 48%|████▊     | 16/33 [00:23<00:26,  1.53s/it]\u001b[A\n",
            " 52%|█████▏    | 17/33 [00:24<00:24,  1.54s/it]\u001b[A\n",
            " 55%|█████▍    | 18/33 [00:26<00:23,  1.54s/it]\u001b[A\n",
            " 58%|█████▊    | 19/33 [00:28<00:21,  1.55s/it]\u001b[A\n",
            " 61%|██████    | 20/33 [00:29<00:20,  1.55s/it]\u001b[A\n",
            " 64%|██████▎   | 21/33 [00:31<00:18,  1.55s/it]\u001b[A\n",
            " 67%|██████▋   | 22/33 [00:32<00:17,  1.56s/it]\u001b[A\n",
            " 70%|██████▉   | 23/33 [00:34<00:15,  1.56s/it]\u001b[A\n",
            " 73%|███████▎  | 24/33 [00:35<00:14,  1.56s/it]\u001b[A\n",
            " 76%|███████▌  | 25/33 [00:37<00:12,  1.56s/it]\u001b[A\n",
            " 79%|███████▉  | 26/33 [00:38<00:10,  1.56s/it]\u001b[A\n",
            " 82%|████████▏ | 27/33 [00:40<00:09,  1.56s/it]\u001b[A\n",
            " 85%|████████▍ | 28/33 [00:42<00:07,  1.56s/it]\u001b[A\n",
            " 88%|████████▊ | 29/33 [00:43<00:06,  1.56s/it]\u001b[A\n",
            " 91%|█████████ | 30/33 [00:45<00:04,  1.56s/it]\u001b[A\n",
            " 94%|█████████▍| 31/33 [00:46<00:03,  1.56s/it]\u001b[A\n",
            " 97%|█████████▋| 32/33 [00:48<00:01,  1.56s/it]\u001b[A\n",
            "100%|██████████| 33/33 [00:49<00:00,  1.51s/it]\n",
            " 57%|█████▋    | 17/30 [2:40:07<2:02:05, 563.50s/it]"
          ]
        },
        {
          "name": "stdout",
          "output_type": "stream",
          "text": [
            "Validation at epoch 16 - AP: 0.8286, Acc: 0.8586\n",
            "Early Stopping counter: 2 out of 5\n",
            "\n",
            "Epoch: 17\n",
            "Train Loss: 0.3848 at step 5600 \t Iter time: 1.72\n",
            "Train Loss: 0.4483 at step 5650 \t Iter time: 1.72\n",
            "Train Loss: 0.3413 at step 5700 \t Iter time: 1.71\n",
            "Train Loss: 0.4626 at step 5750 \t Iter time: 1.71\n",
            "Train Loss: 0.3233 at step 5800 \t Iter time: 1.71\n",
            "Train Loss: 0.3521 at step 5850 \t Iter time: 1.71\n",
            "Train Loss: 0.3867 at step 5900 \t Iter time: 1.71\n",
            "Average Train Loss: 0.0001\n",
            "Validation:\n",
            "Length of dataset:  2100\n"
          ]
        },
        {
          "name": "stderr",
          "output_type": "stream",
          "text": [
            "\n",
            "  0%|          | 0/33 [00:00<?, ?it/s]\u001b[A\n",
            "  3%|▎         | 1/33 [00:00<00:12,  2.63it/s]\u001b[A\n",
            "  6%|▌         | 2/33 [00:01<00:32,  1.05s/it]\u001b[A\n",
            "  9%|▉         | 3/33 [00:03<00:38,  1.28s/it]\u001b[A\n",
            " 12%|█▏        | 4/33 [00:05<00:40,  1.39s/it]\u001b[A\n",
            " 15%|█▌        | 5/33 [00:06<00:40,  1.45s/it]\u001b[A\n",
            " 18%|█▊        | 6/33 [00:08<00:40,  1.49s/it]\u001b[A\n",
            " 21%|██        | 7/33 [00:09<00:39,  1.51s/it]\u001b[A\n",
            " 24%|██▍       | 8/33 [00:11<00:38,  1.53s/it]\u001b[A\n",
            " 27%|██▋       | 9/33 [00:12<00:36,  1.54s/it]\u001b[A\n",
            " 30%|███       | 10/33 [00:14<00:35,  1.55s/it]\u001b[A\n",
            " 33%|███▎      | 11/33 [00:15<00:34,  1.55s/it]\u001b[A\n",
            " 36%|███▋      | 12/33 [00:17<00:32,  1.56s/it]\u001b[A\n",
            " 39%|███▉      | 13/33 [00:19<00:31,  1.56s/it]\u001b[A\n",
            " 42%|████▏     | 14/33 [00:20<00:29,  1.56s/it]\u001b[A\n",
            " 45%|████▌     | 15/33 [00:22<00:28,  1.56s/it]\u001b[A\n",
            " 48%|████▊     | 16/33 [00:23<00:26,  1.56s/it]\u001b[A\n",
            " 52%|█████▏    | 17/33 [00:25<00:24,  1.56s/it]\u001b[A\n",
            " 55%|█████▍    | 18/33 [00:26<00:23,  1.56s/it]\u001b[A\n",
            " 58%|█████▊    | 19/33 [00:28<00:21,  1.56s/it]\u001b[A\n",
            " 61%|██████    | 20/33 [00:29<00:20,  1.56s/it]\u001b[A\n",
            " 64%|██████▎   | 21/33 [00:31<00:18,  1.56s/it]\u001b[A\n",
            " 67%|██████▋   | 22/33 [00:33<00:17,  1.56s/it]\u001b[A\n",
            " 70%|██████▉   | 23/33 [00:34<00:15,  1.56s/it]\u001b[A\n",
            " 73%|███████▎  | 24/33 [00:36<00:14,  1.56s/it]\u001b[A\n",
            " 76%|███████▌  | 25/33 [00:37<00:12,  1.56s/it]\u001b[A\n",
            " 79%|███████▉  | 26/33 [00:39<00:10,  1.56s/it]\u001b[A\n",
            " 82%|████████▏ | 27/33 [00:40<00:09,  1.56s/it]\u001b[A\n",
            " 85%|████████▍ | 28/33 [00:42<00:07,  1.56s/it]\u001b[A\n",
            " 88%|████████▊ | 29/33 [00:44<00:06,  1.56s/it]\u001b[A\n",
            " 91%|█████████ | 30/33 [00:45<00:04,  1.56s/it]\u001b[A\n",
            " 94%|█████████▍| 31/33 [00:47<00:03,  1.56s/it]\u001b[A\n",
            " 97%|█████████▋| 32/33 [00:48<00:01,  1.56s/it]\u001b[A\n",
            "100%|██████████| 33/33 [00:50<00:00,  1.52s/it]\n",
            " 60%|██████    | 18/30 [2:49:31<1:52:41, 563.49s/it]"
          ]
        },
        {
          "name": "stdout",
          "output_type": "stream",
          "text": [
            "Validation at epoch 17 - AP: 0.8290, Acc: 0.8586\n",
            "Early Stopping counter: 3 out of 5\n",
            "\n",
            "Epoch: 18\n",
            "Train Loss: 0.5058 at step 5950 \t Iter time: 1.72\n",
            "Train Loss: 0.3883 at step 6000 \t Iter time: 1.72\n",
            "Train Loss: 0.4874 at step 6050 \t Iter time: 1.71\n",
            "Train Loss: 0.3869 at step 6100 \t Iter time: 1.71\n",
            "Train Loss: 0.2722 at step 6150 \t Iter time: 1.71\n",
            "Train Loss: 0.3552 at step 6200 \t Iter time: 1.71\n",
            "Train Loss: 0.1837 at step 6250 \t Iter time: 1.71\n",
            "Average Train Loss: 0.0001\n",
            "Validation:\n",
            "Length of dataset:  2100\n"
          ]
        },
        {
          "name": "stderr",
          "output_type": "stream",
          "text": [
            "\n",
            "  0%|          | 0/33 [00:00<?, ?it/s]\u001b[A\n",
            "  3%|▎         | 1/33 [00:00<00:16,  1.91it/s]\u001b[A\n",
            "  6%|▌         | 2/33 [00:02<00:33,  1.09s/it]\u001b[A\n",
            "  9%|▉         | 3/33 [00:03<00:38,  1.29s/it]\u001b[A\n",
            " 12%|█▏        | 4/33 [00:05<00:40,  1.38s/it]\u001b[A\n",
            " 15%|█▌        | 5/33 [00:06<00:40,  1.43s/it]\u001b[A\n",
            " 18%|█▊        | 6/33 [00:08<00:39,  1.46s/it]\u001b[A\n",
            " 21%|██        | 7/33 [00:09<00:38,  1.48s/it]\u001b[A\n",
            " 24%|██▍       | 8/33 [00:11<00:37,  1.49s/it]\u001b[A\n",
            " 27%|██▋       | 9/33 [00:12<00:36,  1.50s/it]\u001b[A\n",
            " 30%|███       | 10/33 [00:14<00:34,  1.51s/it]\u001b[A\n",
            " 33%|███▎      | 11/33 [00:15<00:33,  1.51s/it]\u001b[A\n",
            " 36%|███▋      | 12/33 [00:17<00:31,  1.52s/it]\u001b[A\n",
            " 39%|███▉      | 13/33 [00:18<00:30,  1.52s/it]\u001b[A\n",
            " 42%|████▏     | 14/33 [00:20<00:28,  1.52s/it]\u001b[A\n",
            " 45%|████▌     | 15/33 [00:21<00:27,  1.52s/it]\u001b[A\n",
            " 48%|████▊     | 16/33 [00:23<00:26,  1.53s/it]\u001b[A\n",
            " 52%|█████▏    | 17/33 [00:24<00:24,  1.54s/it]\u001b[A\n",
            " 55%|█████▍    | 18/33 [00:26<00:23,  1.55s/it]\u001b[A\n",
            " 58%|█████▊    | 19/33 [00:28<00:21,  1.55s/it]\u001b[A\n",
            " 61%|██████    | 20/33 [00:29<00:20,  1.55s/it]\u001b[A\n",
            " 64%|██████▎   | 21/33 [00:31<00:18,  1.55s/it]\u001b[A\n",
            " 67%|██████▋   | 22/33 [00:32<00:17,  1.56s/it]\u001b[A\n",
            " 70%|██████▉   | 23/33 [00:34<00:15,  1.56s/it]\u001b[A\n",
            " 73%|███████▎  | 24/33 [00:35<00:14,  1.56s/it]\u001b[A\n",
            " 76%|███████▌  | 25/33 [00:37<00:12,  1.56s/it]\u001b[A\n",
            " 79%|███████▉  | 26/33 [00:38<00:10,  1.56s/it]\u001b[A\n",
            " 82%|████████▏ | 27/33 [00:40<00:09,  1.56s/it]\u001b[A\n",
            " 85%|████████▍ | 28/33 [00:42<00:07,  1.56s/it]\u001b[A\n",
            " 88%|████████▊ | 29/33 [00:43<00:06,  1.56s/it]\u001b[A\n",
            " 91%|█████████ | 30/33 [00:45<00:04,  1.56s/it]\u001b[A\n",
            " 94%|█████████▍| 31/33 [00:46<00:03,  1.56s/it]\u001b[A\n",
            " 97%|█████████▋| 32/33 [00:48<00:01,  1.56s/it]\u001b[A\n",
            "100%|██████████| 33/33 [00:49<00:00,  1.51s/it]\n",
            " 63%|██████▎   | 19/30 [2:58:54<1:43:16, 563.36s/it]"
          ]
        },
        {
          "name": "stdout",
          "output_type": "stream",
          "text": [
            "Validation at epoch 18 - AP: 0.8290, Acc: 0.8576\n",
            "Early Stopping counter: 4 out of 5\n",
            "\n",
            "Epoch: 19\n"
          ]
        },
        {
          "name": "stderr",
          "output_type": "stream",
          "text": [
            "\r 63%|██████▎   | 19/30 [2:59:39<1:44:00, 567.36s/it]\n"
          ]
        },
        {
          "ename": "KeyboardInterrupt",
          "evalue": "",
          "output_type": "error",
          "traceback": [
            "\u001b[0;31m---------------------------------------------------------------------------\u001b[0m",
            "\u001b[0;31mKeyboardInterrupt\u001b[0m                         Traceback (most recent call last)",
            "\u001b[0;32m<ipython-input-10-70c0cfd94b55>\u001b[0m in \u001b[0;36m<cell line: 0>\u001b[0;34m()\u001b[0m\n\u001b[1;32m     14\u001b[0m         \u001b[0mmodel_trainer\u001b[0m\u001b[0;34m.\u001b[0m\u001b[0mtotal_steps\u001b[0m \u001b[0;34m+=\u001b[0m \u001b[0;36m1\u001b[0m\u001b[0;34m\u001b[0m\u001b[0;34m\u001b[0m\u001b[0m\n\u001b[1;32m     15\u001b[0m \u001b[0;34m\u001b[0m\u001b[0m\n\u001b[0;32m---> 16\u001b[0;31m         \u001b[0mmodel_trainer\u001b[0m\u001b[0;34m.\u001b[0m\u001b[0mset_input\u001b[0m\u001b[0;34m(\u001b[0m\u001b[0mdata\u001b[0m\u001b[0;34m)\u001b[0m\u001b[0;34m\u001b[0m\u001b[0;34m\u001b[0m\u001b[0m\n\u001b[0m\u001b[1;32m     17\u001b[0m         \u001b[0mmodel_trainer\u001b[0m\u001b[0;34m.\u001b[0m\u001b[0moptimize_parameters\u001b[0m\u001b[0;34m(\u001b[0m\u001b[0;34m)\u001b[0m\u001b[0;34m\u001b[0m\u001b[0;34m\u001b[0m\u001b[0m\n\u001b[1;32m     18\u001b[0m \u001b[0;34m\u001b[0m\u001b[0m\n",
            "\u001b[0;32m/content/drive/MyDrive/Colab Notebooks/Licenta/DeCLIP-custom/train/trainer.py\u001b[0m in \u001b[0;36mset_input\u001b[0;34m(self, input_data)\u001b[0m\n\u001b[1;32m    148\u001b[0m \u001b[0;34m\u001b[0m\u001b[0m\n\u001b[1;32m    149\u001b[0m     \u001b[0;32mdef\u001b[0m \u001b[0mset_input\u001b[0m\u001b[0;34m(\u001b[0m\u001b[0mself\u001b[0m\u001b[0;34m,\u001b[0m \u001b[0minput_data\u001b[0m\u001b[0;34m)\u001b[0m\u001b[0;34m:\u001b[0m\u001b[0;34m\u001b[0m\u001b[0;34m\u001b[0m\u001b[0m\n\u001b[0;32m--> 150\u001b[0;31m         \u001b[0mself\u001b[0m\u001b[0;34m.\u001b[0m\u001b[0minput\u001b[0m \u001b[0;34m=\u001b[0m \u001b[0minput_data\u001b[0m\u001b[0;34m[\u001b[0m\u001b[0;36m0\u001b[0m\u001b[0;34m]\u001b[0m\u001b[0;34m.\u001b[0m\u001b[0mto\u001b[0m\u001b[0;34m(\u001b[0m\u001b[0mself\u001b[0m\u001b[0;34m.\u001b[0m\u001b[0mdevice\u001b[0m\u001b[0;34m)\u001b[0m\u001b[0;34m\u001b[0m\u001b[0;34m\u001b[0m\u001b[0m\n\u001b[0m\u001b[1;32m    151\u001b[0m         \u001b[0mself\u001b[0m\u001b[0;34m.\u001b[0m\u001b[0mlabel\u001b[0m \u001b[0;34m=\u001b[0m \u001b[0minput_data\u001b[0m\u001b[0;34m[\u001b[0m\u001b[0;36m1\u001b[0m\u001b[0;34m]\u001b[0m\u001b[0;34m.\u001b[0m\u001b[0mto\u001b[0m\u001b[0;34m(\u001b[0m\u001b[0mself\u001b[0m\u001b[0;34m.\u001b[0m\u001b[0mdevice\u001b[0m\u001b[0;34m)\u001b[0m\u001b[0;34m.\u001b[0m\u001b[0mfloat\u001b[0m\u001b[0;34m(\u001b[0m\u001b[0;34m)\u001b[0m\u001b[0;34m\u001b[0m\u001b[0;34m\u001b[0m\u001b[0m\n\u001b[1;32m    152\u001b[0m \u001b[0;34m\u001b[0m\u001b[0m\n",
            "\u001b[0;31mKeyboardInterrupt\u001b[0m: "
          ]
        }
      ],
      "source": [
        "# start the training loop\n",
        "torch.cuda.empty_cache()\n",
        "# model_trainer.compute_pos_weight_per_dataset(train_loader)\n",
        "early_stopping = EarlyStopping(patience=params.early_stop_epochs, verbose=True, delta=-0.001)\n",
        "best_metric = 0.0 # iou for localization, ap for detection\n",
        "print('Length of training set:', len(train_loader.dataset))\n",
        "print('Length of validation set:', len(val_loader.dataset))\n",
        "start_time = time.time()\n",
        "for epoch in tqdm(range(params.num_iter)):\n",
        "    print('Epoch:', epoch)\n",
        "\n",
        "    epoch_loss = 0\n",
        "    for data in train_loader:\n",
        "        model_trainer.total_steps += 1\n",
        "\n",
        "        model_trainer.set_input(data)\n",
        "        model_trainer.optimize_parameters()\n",
        "\n",
        "        if model_trainer.total_steps % params.show_loss_freq == 0:\n",
        "            epoch_loss += model_trainer.loss.item()\n",
        "            print(f'Train Loss: {model_trainer.loss.item():.4f} at step {model_trainer.total_steps} \\t Iter time: {(time.time() - start_time) / model_trainer.total_steps:.2f}')\n",
        "\n",
        "\n",
        "    epoch_loss /= len(train_loader.dataset)\n",
        "    print(f'Average Train Loss: {epoch_loss:.4f}')\n",
        "\n",
        "    # compute training metrics\n",
        "    if params.task_type == 'fully_supervised_localization':\n",
        "        compute_mean_iou(model_trainer.ious, verbose=True, extra_text=f'Train epoch {epoch} ')\n",
        "        model_trainer.ious = []\n",
        "\n",
        "        compute_mean_f1(model_trainer.f1_best, model_trainer.f1_fixed, verbose=True, extra_text=f'Train epoch {epoch} ')\n",
        "        model_trainer.f1_best = []\n",
        "        model_trainer.f1_fixed = []\n",
        "\n",
        "        compute_mean_ap(model_trainer.ap, verbose=True, extra_text=f'Train epoch {epoch} ')\n",
        "        model_trainer.ap = []\n",
        "\n",
        "    elif params.task_type == 'detection':\n",
        "        model_trainer.format_output_detection()\n",
        "\n",
        "        # compute_mean_acc_detection(model_trainer.logits, model_trainer.labels, verbose=True, extra_text=f'Train epoch {epoch} ')\n",
        "        # compute_mean_ap_detection(model_trainer.logits, model_trainer.labels, verbose=True, extra_text=f'Train epoch {epoch} ')\n",
        "\n",
        "        logits_np = model_trainer.logits.detach().cpu().numpy()\n",
        "        labels_np = model_trainer.labels.detach().cpu().numpy()\n",
        "\n",
        "        num_classes = logits_np.shape[1]\n",
        "        labels_np = labels_np.astype(int)\n",
        "        labels_one_hot = np.eye(num_classes)[labels_np]\n",
        "\n",
        "        ap = average_precision_score(labels_one_hot, logits_np, average='macro')\n",
        "        acc = accuracy_score(labels_np, np.argmax(logits_np, axis=1))\n",
        "\n",
        "        print(f'Train epoch {epoch} Mean ACC: {ap:.4f}')\n",
        "        print(f'Train epoch {epoch} Mean AP: {acc:.4f}')\n",
        "\n",
        "        model_trainer.logits = []\n",
        "        model_trainer.labels = []\n",
        "\n",
        "\n",
        "    # validate the model\n",
        "    print('Validation:')\n",
        "    if params.task_type == 'fully_supervised_localization':\n",
        "        ious, f1_best, f1_fixed, mean_ap, _ = validate_fully_supervised_localization(model_trainer.model, val_loader, params.train_dataset)\n",
        "\n",
        "        # compute metrics\n",
        "        mean_iou = compute_mean_iou(ious, verbose=True, extra_text=f'Validation at epoch {epoch} ')\n",
        "\n",
        "        mean_f1_best, mean_f1_fixed = compute_mean_f1(f1_best, f1_fixed, verbose=True, extra_text=f'Validation at epoch {epoch} ')\n",
        "\n",
        "        mean_ap = compute_mean_ap(mean_ap, verbose=True, extra_text=f'Validation at epoch {epoch} ')\n",
        "\n",
        "        # save the model if the mean iou is improved\n",
        "        if mean_iou > best_metric:\n",
        "            best_metric = mean_iou\n",
        "            model_trainer.save_model(f'best_localization_model_iou_{mean_iou:.4f}.pth')\n",
        "            print(f'Best model saved at epoch {epoch}!')\n",
        "\n",
        "        # check for early stopping\n",
        "        early_stopping(mean_iou)\n",
        "\n",
        "    elif params.task_type == 'detection' or params.task_type == 'classification':\n",
        "        ap, acc, _ = validate_detection(model_trainer.model, val_loader)\n",
        "\n",
        "        print(f'Validation at epoch {epoch} - AP: {ap:.4f}, Acc: {acc:.4f}')\n",
        "\n",
        "        # save the model if the mean ap is improved\n",
        "        if ap > best_metric:\n",
        "            best_metric = ap\n",
        "            model_trainer.save_model(f'best_{params.task_type}_model_ap_{ap:.4f}.pth')\n",
        "            print(f'Best model saved at epoch {epoch}!')\n",
        "\n",
        "        # check for early stopping\n",
        "        early_stopping(ap)\n",
        "\n",
        "    # check if early stopping is triggered\n",
        "    if early_stopping.early_stop:\n",
        "        print(\"Early stopping triggered\")\n",
        "        continue_training = model_trainer.adjust_learning_rate()\n",
        "        if continue_training:\n",
        "            print(\"Continuing training with a learning rate reduced by a factor of 10\")\n",
        "            early_stopping = EarlyStopping(patience=params.early_stop_epochs, verbose=True, delta=-0.002) # adjust the delta only once, otherwise stop completely\n",
        "        else:\n",
        "            print(f\"Early stopping training at epoch {epoch}\")\n",
        "            break\n",
        "    print()\n",
        "    torch.cuda.empty_cache()"
      ]
    },
    {
      "cell_type": "code",
      "execution_count": null,
      "id": "piCscRRUn-C8",
      "metadata": {
        "colab": {
          "base_uri": "https://localhost:8080/",
          "height": 34
        },
        "id": "piCscRRUn-C8",
        "outputId": "a0b4b49c-b384-479b-a9a2-812f1a3a3c52"
      },
      "outputs": [
        {
          "data": {
            "application/javascript": "\n    async function download(id, filename, size) {\n      if (!google.colab.kernel.accessAllowed) {\n        return;\n      }\n      const div = document.createElement('div');\n      const label = document.createElement('label');\n      label.textContent = `Downloading \"${filename}\": `;\n      div.appendChild(label);\n      const progress = document.createElement('progress');\n      progress.max = size;\n      div.appendChild(progress);\n      document.body.appendChild(div);\n\n      const buffers = [];\n      let downloaded = 0;\n\n      const channel = await google.colab.kernel.comms.open(id);\n      // Send a message to notify the kernel that we're ready.\n      channel.send({})\n\n      for await (const message of channel.messages) {\n        // Send a message to notify the kernel that we're ready.\n        channel.send({})\n        if (message.buffers) {\n          for (const buffer of message.buffers) {\n            buffers.push(buffer);\n            downloaded += buffer.byteLength;\n            progress.value = downloaded;\n          }\n        }\n      }\n      const blob = new Blob(buffers, {type: 'application/binary'});\n      const a = document.createElement('a');\n      a.href = window.URL.createObjectURL(blob);\n      a.download = filename;\n      div.appendChild(a);\n      a.click();\n      div.remove();\n    }\n  ",
            "text/plain": [
              "<IPython.core.display.Javascript object>"
            ]
          },
          "metadata": {},
          "output_type": "display_data"
        },
        {
          "data": {
            "application/javascript": "download(\"download_d5a8ffc0-bdaa-4493-b095-7e6a205e8448\", \"best_classification_model_ap_0.8310.pth\", 1710700862)",
            "text/plain": [
              "<IPython.core.display.Javascript object>"
            ]
          },
          "metadata": {},
          "output_type": "display_data"
        }
      ],
      "source": [
        "from google.colab import files\n",
        "\n",
        "model_dir = '/content/experiments/training_vit_classification/models/'\n",
        "model_files = sorted(\n",
        "    [f for f in os.listdir(model_dir) if f.endswith('.pth')]\n",
        ")\n",
        "\n",
        "best_model = model_files[-1]\n",
        "best_model_path = os.path.join(model_dir, best_model)\n",
        "\n",
        "files.download(best_model_path)"
      ]
    },
    {
      "cell_type": "code",
      "execution_count": null,
      "id": "8otWXYGsj7Oz",
      "metadata": {
        "colab": {
          "base_uri": "https://localhost:8080/",
          "height": 35
        },
        "id": "8otWXYGsj7Oz",
        "outputId": "bef1b486-3dce-43d7-eb04-1c03c32843bd"
      },
      "outputs": [
        {
          "data": {
            "application/vnd.google.colaboratory.intrinsic+json": {
              "type": "string"
            },
            "text/plain": [
              "'/content/drive/MyDrive/Colab Notebooks/Licenta/DeCLIP-custom/trained_models/detection/classification_best_classification_model_ap_0.8310.pth'"
            ]
          },
          "execution_count": 13,
          "metadata": {},
          "output_type": "execute_result"
        }
      ],
      "source": [
        "shutil.copy(best_model_path, f'/content/drive/MyDrive/Colab Notebooks/Licenta/DeCLIP-custom/trained_models/detection/classification_{os.path.basename(best_model_path)}')"
      ]
    }
  ],
  "metadata": {
    "accelerator": "GPU",
    "colab": {
      "gpuType": "L4",
      "machine_shape": "hm",
      "provenance": []
    },
    "kernelspec": {
      "display_name": "Python 3",
      "name": "python3"
    },
    "language_info": {
      "codemirror_mode": {
        "name": "ipython",
        "version": 3
      },
      "file_extension": ".py",
      "mimetype": "text/x-python",
      "name": "python",
      "nbconvert_exporter": "python",
      "pygments_lexer": "ipython3",
      "version": "3.12.2"
    }
  },
  "nbformat": 4,
  "nbformat_minor": 5
}
