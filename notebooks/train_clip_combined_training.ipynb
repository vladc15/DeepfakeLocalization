{
  "cells": [
    {
      "cell_type": "code",
      "execution_count": null,
      "id": "c92a6c3e",
      "metadata": {
        "colab": {
          "base_uri": "https://localhost:8080/"
        },
        "id": "c92a6c3e",
        "outputId": "4fbf8100-edd7-4e8a-89b6-5b87693fcaa7"
      },
      "outputs": [
        {
          "output_type": "stream",
          "name": "stdout",
          "text": [
            "Mounted at /content/drive\n"
          ]
        }
      ],
      "source": [
        "# mount drive\n",
        "from google.colab import drive\n",
        "drive.mount('/content/drive')"
      ]
    },
    {
      "cell_type": "code",
      "execution_count": null,
      "id": "odcHb42V9rww",
      "metadata": {
        "id": "odcHb42V9rww"
      },
      "outputs": [],
      "source": [
        "# update working directory\n",
        "import sys\n",
        "sys.path.append('/content/drive/MyDrive/Colab Notebooks/Licenta/DeCLIP-custom')"
      ]
    },
    {
      "cell_type": "code",
      "execution_count": null,
      "id": "Za2wYqKP9u3G",
      "metadata": {
        "colab": {
          "base_uri": "https://localhost:8080/"
        },
        "collapsed": true,
        "id": "Za2wYqKP9u3G",
        "outputId": "b3bcd967-6b72-4d51-fcb4-35a90e2e7fb6"
      },
      "outputs": [
        {
          "output_type": "stream",
          "name": "stdout",
          "text": [
            "Collecting tensorboardX\n",
            "  Downloading tensorboardX-2.6.2.2-py2.py3-none-any.whl.metadata (5.8 kB)\n",
            "Requirement already satisfied: numpy in /usr/local/lib/python3.11/dist-packages (from tensorboardX) (2.0.2)\n",
            "Requirement already satisfied: packaging in /usr/local/lib/python3.11/dist-packages (from tensorboardX) (24.2)\n",
            "Requirement already satisfied: protobuf>=3.20 in /usr/local/lib/python3.11/dist-packages (from tensorboardX) (5.29.4)\n",
            "Downloading tensorboardX-2.6.2.2-py2.py3-none-any.whl (101 kB)\n",
            "\u001b[?25l   \u001b[90m━━━━━━━━━━━━━━━━━━━━━━━━━━━━━━━━━━━━━━━━\u001b[0m \u001b[32m0.0/101.7 kB\u001b[0m \u001b[31m?\u001b[0m eta \u001b[36m-:--:--\u001b[0m\r\u001b[2K   \u001b[91m━━━━━━━━━━━━━━━━━━━━━━━━━━━━━━━━━━━━\u001b[0m\u001b[90m╺\u001b[0m\u001b[90m━━━\u001b[0m \u001b[32m92.2/101.7 kB\u001b[0m \u001b[31m2.9 MB/s\u001b[0m eta \u001b[36m0:00:01\u001b[0m\r\u001b[2K   \u001b[90m━━━━━━━━━━━━━━━━━━━━━━━━━━━━━━━━━━━━━━━━\u001b[0m \u001b[32m101.7/101.7 kB\u001b[0m \u001b[31m2.4 MB/s\u001b[0m eta \u001b[36m0:00:00\u001b[0m\n",
            "\u001b[?25hInstalling collected packages: tensorboardX\n",
            "Successfully installed tensorboardX-2.6.2.2\n",
            "Collecting torchmetrics\n",
            "  Downloading torchmetrics-1.7.1-py3-none-any.whl.metadata (21 kB)\n",
            "Requirement already satisfied: numpy>1.20.0 in /usr/local/lib/python3.11/dist-packages (from torchmetrics) (2.0.2)\n",
            "Requirement already satisfied: packaging>17.1 in /usr/local/lib/python3.11/dist-packages (from torchmetrics) (24.2)\n",
            "Requirement already satisfied: torch>=2.0.0 in /usr/local/lib/python3.11/dist-packages (from torchmetrics) (2.6.0+cu124)\n",
            "Collecting lightning-utilities>=0.8.0 (from torchmetrics)\n",
            "  Downloading lightning_utilities-0.14.3-py3-none-any.whl.metadata (5.6 kB)\n",
            "Requirement already satisfied: setuptools in /usr/local/lib/python3.11/dist-packages (from lightning-utilities>=0.8.0->torchmetrics) (75.2.0)\n",
            "Requirement already satisfied: typing_extensions in /usr/local/lib/python3.11/dist-packages (from lightning-utilities>=0.8.0->torchmetrics) (4.13.2)\n",
            "Requirement already satisfied: filelock in /usr/local/lib/python3.11/dist-packages (from torch>=2.0.0->torchmetrics) (3.18.0)\n",
            "Requirement already satisfied: networkx in /usr/local/lib/python3.11/dist-packages (from torch>=2.0.0->torchmetrics) (3.4.2)\n",
            "Requirement already satisfied: jinja2 in /usr/local/lib/python3.11/dist-packages (from torch>=2.0.0->torchmetrics) (3.1.6)\n",
            "Requirement already satisfied: fsspec in /usr/local/lib/python3.11/dist-packages (from torch>=2.0.0->torchmetrics) (2025.3.2)\n",
            "Collecting nvidia-cuda-nvrtc-cu12==12.4.127 (from torch>=2.0.0->torchmetrics)\n",
            "  Downloading nvidia_cuda_nvrtc_cu12-12.4.127-py3-none-manylinux2014_x86_64.whl.metadata (1.5 kB)\n",
            "Collecting nvidia-cuda-runtime-cu12==12.4.127 (from torch>=2.0.0->torchmetrics)\n",
            "  Downloading nvidia_cuda_runtime_cu12-12.4.127-py3-none-manylinux2014_x86_64.whl.metadata (1.5 kB)\n",
            "Collecting nvidia-cuda-cupti-cu12==12.4.127 (from torch>=2.0.0->torchmetrics)\n",
            "  Downloading nvidia_cuda_cupti_cu12-12.4.127-py3-none-manylinux2014_x86_64.whl.metadata (1.6 kB)\n",
            "Collecting nvidia-cudnn-cu12==9.1.0.70 (from torch>=2.0.0->torchmetrics)\n",
            "  Downloading nvidia_cudnn_cu12-9.1.0.70-py3-none-manylinux2014_x86_64.whl.metadata (1.6 kB)\n",
            "Collecting nvidia-cublas-cu12==12.4.5.8 (from torch>=2.0.0->torchmetrics)\n",
            "  Downloading nvidia_cublas_cu12-12.4.5.8-py3-none-manylinux2014_x86_64.whl.metadata (1.5 kB)\n",
            "Collecting nvidia-cufft-cu12==11.2.1.3 (from torch>=2.0.0->torchmetrics)\n",
            "  Downloading nvidia_cufft_cu12-11.2.1.3-py3-none-manylinux2014_x86_64.whl.metadata (1.5 kB)\n",
            "Collecting nvidia-curand-cu12==10.3.5.147 (from torch>=2.0.0->torchmetrics)\n",
            "  Downloading nvidia_curand_cu12-10.3.5.147-py3-none-manylinux2014_x86_64.whl.metadata (1.5 kB)\n",
            "Collecting nvidia-cusolver-cu12==11.6.1.9 (from torch>=2.0.0->torchmetrics)\n",
            "  Downloading nvidia_cusolver_cu12-11.6.1.9-py3-none-manylinux2014_x86_64.whl.metadata (1.6 kB)\n",
            "Collecting nvidia-cusparse-cu12==12.3.1.170 (from torch>=2.0.0->torchmetrics)\n",
            "  Downloading nvidia_cusparse_cu12-12.3.1.170-py3-none-manylinux2014_x86_64.whl.metadata (1.6 kB)\n",
            "Requirement already satisfied: nvidia-cusparselt-cu12==0.6.2 in /usr/local/lib/python3.11/dist-packages (from torch>=2.0.0->torchmetrics) (0.6.2)\n",
            "Requirement already satisfied: nvidia-nccl-cu12==2.21.5 in /usr/local/lib/python3.11/dist-packages (from torch>=2.0.0->torchmetrics) (2.21.5)\n",
            "Requirement already satisfied: nvidia-nvtx-cu12==12.4.127 in /usr/local/lib/python3.11/dist-packages (from torch>=2.0.0->torchmetrics) (12.4.127)\n",
            "Collecting nvidia-nvjitlink-cu12==12.4.127 (from torch>=2.0.0->torchmetrics)\n",
            "  Downloading nvidia_nvjitlink_cu12-12.4.127-py3-none-manylinux2014_x86_64.whl.metadata (1.5 kB)\n",
            "Requirement already satisfied: triton==3.2.0 in /usr/local/lib/python3.11/dist-packages (from torch>=2.0.0->torchmetrics) (3.2.0)\n",
            "Requirement already satisfied: sympy==1.13.1 in /usr/local/lib/python3.11/dist-packages (from torch>=2.0.0->torchmetrics) (1.13.1)\n",
            "Requirement already satisfied: mpmath<1.4,>=1.1.0 in /usr/local/lib/python3.11/dist-packages (from sympy==1.13.1->torch>=2.0.0->torchmetrics) (1.3.0)\n",
            "Requirement already satisfied: MarkupSafe>=2.0 in /usr/local/lib/python3.11/dist-packages (from jinja2->torch>=2.0.0->torchmetrics) (3.0.2)\n",
            "Downloading torchmetrics-1.7.1-py3-none-any.whl (961 kB)\n",
            "\u001b[2K   \u001b[90m━━━━━━━━━━━━━━━━━━━━━━━━━━━━━━━━━━━━━━━━\u001b[0m \u001b[32m961.5/961.5 kB\u001b[0m \u001b[31m17.8 MB/s\u001b[0m eta \u001b[36m0:00:00\u001b[0m\n",
            "\u001b[?25hDownloading lightning_utilities-0.14.3-py3-none-any.whl (28 kB)\n",
            "Downloading nvidia_cublas_cu12-12.4.5.8-py3-none-manylinux2014_x86_64.whl (363.4 MB)\n",
            "\u001b[2K   \u001b[90m━━━━━━━━━━━━━━━━━━━━━━━━━━━━━━━━━━━━━━━━\u001b[0m \u001b[32m363.4/363.4 MB\u001b[0m \u001b[31m3.1 MB/s\u001b[0m eta \u001b[36m0:00:00\u001b[0m\n",
            "\u001b[?25hDownloading nvidia_cuda_cupti_cu12-12.4.127-py3-none-manylinux2014_x86_64.whl (13.8 MB)\n",
            "\u001b[2K   \u001b[90m━━━━━━━━━━━━━━━━━━━━━━━━━━━━━━━━━━━━━━━━\u001b[0m \u001b[32m13.8/13.8 MB\u001b[0m \u001b[31m127.0 MB/s\u001b[0m eta \u001b[36m0:00:00\u001b[0m\n",
            "\u001b[?25hDownloading nvidia_cuda_nvrtc_cu12-12.4.127-py3-none-manylinux2014_x86_64.whl (24.6 MB)\n",
            "\u001b[2K   \u001b[90m━━━━━━━━━━━━━━━━━━━━━━━━━━━━━━━━━━━━━━━━\u001b[0m \u001b[32m24.6/24.6 MB\u001b[0m \u001b[31m98.8 MB/s\u001b[0m eta \u001b[36m0:00:00\u001b[0m\n",
            "\u001b[?25hDownloading nvidia_cuda_runtime_cu12-12.4.127-py3-none-manylinux2014_x86_64.whl (883 kB)\n",
            "\u001b[2K   \u001b[90m━━━━━━━━━━━━━━━━━━━━━━━━━━━━━━━━━━━━━━━━\u001b[0m \u001b[32m883.7/883.7 kB\u001b[0m \u001b[31m62.0 MB/s\u001b[0m eta \u001b[36m0:00:00\u001b[0m\n",
            "\u001b[?25hDownloading nvidia_cudnn_cu12-9.1.0.70-py3-none-manylinux2014_x86_64.whl (664.8 MB)\n",
            "\u001b[2K   \u001b[90m━━━━━━━━━━━━━━━━━━━━━━━━━━━━━━━━━━━━━━━━\u001b[0m \u001b[32m664.8/664.8 MB\u001b[0m \u001b[31m2.0 MB/s\u001b[0m eta \u001b[36m0:00:00\u001b[0m\n",
            "\u001b[?25hDownloading nvidia_cufft_cu12-11.2.1.3-py3-none-manylinux2014_x86_64.whl (211.5 MB)\n",
            "\u001b[2K   \u001b[90m━━━━━━━━━━━━━━━━━━━━━━━━━━━━━━━━━━━━━━━━\u001b[0m \u001b[32m211.5/211.5 MB\u001b[0m \u001b[31m11.6 MB/s\u001b[0m eta \u001b[36m0:00:00\u001b[0m\n",
            "\u001b[?25hDownloading nvidia_curand_cu12-10.3.5.147-py3-none-manylinux2014_x86_64.whl (56.3 MB)\n",
            "\u001b[2K   \u001b[90m━━━━━━━━━━━━━━━━━━━━━━━━━━━━━━━━━━━━━━━━\u001b[0m \u001b[32m56.3/56.3 MB\u001b[0m \u001b[31m42.3 MB/s\u001b[0m eta \u001b[36m0:00:00\u001b[0m\n",
            "\u001b[?25hDownloading nvidia_cusolver_cu12-11.6.1.9-py3-none-manylinux2014_x86_64.whl (127.9 MB)\n",
            "\u001b[2K   \u001b[90m━━━━━━━━━━━━━━━━━━━━━━━━━━━━━━━━━━━━━━━━\u001b[0m \u001b[32m127.9/127.9 MB\u001b[0m \u001b[31m19.6 MB/s\u001b[0m eta \u001b[36m0:00:00\u001b[0m\n",
            "\u001b[?25hDownloading nvidia_cusparse_cu12-12.3.1.170-py3-none-manylinux2014_x86_64.whl (207.5 MB)\n",
            "\u001b[2K   \u001b[90m━━━━━━━━━━━━━━━━━━━━━━━━━━━━━━━━━━━━━━━━\u001b[0m \u001b[32m207.5/207.5 MB\u001b[0m \u001b[31m4.0 MB/s\u001b[0m eta \u001b[36m0:00:00\u001b[0m\n",
            "\u001b[?25hDownloading nvidia_nvjitlink_cu12-12.4.127-py3-none-manylinux2014_x86_64.whl (21.1 MB)\n",
            "\u001b[2K   \u001b[90m━━━━━━━━━━━━━━━━━━━━━━━━━━━━━━━━━━━━━━━━\u001b[0m \u001b[32m21.1/21.1 MB\u001b[0m \u001b[31m111.1 MB/s\u001b[0m eta \u001b[36m0:00:00\u001b[0m\n",
            "\u001b[?25hInstalling collected packages: nvidia-nvjitlink-cu12, nvidia-curand-cu12, nvidia-cufft-cu12, nvidia-cuda-runtime-cu12, nvidia-cuda-nvrtc-cu12, nvidia-cuda-cupti-cu12, nvidia-cublas-cu12, lightning-utilities, nvidia-cusparse-cu12, nvidia-cudnn-cu12, nvidia-cusolver-cu12, torchmetrics\n",
            "  Attempting uninstall: nvidia-nvjitlink-cu12\n",
            "    Found existing installation: nvidia-nvjitlink-cu12 12.5.82\n",
            "    Uninstalling nvidia-nvjitlink-cu12-12.5.82:\n",
            "      Successfully uninstalled nvidia-nvjitlink-cu12-12.5.82\n",
            "  Attempting uninstall: nvidia-curand-cu12\n",
            "    Found existing installation: nvidia-curand-cu12 10.3.6.82\n",
            "    Uninstalling nvidia-curand-cu12-10.3.6.82:\n",
            "      Successfully uninstalled nvidia-curand-cu12-10.3.6.82\n",
            "  Attempting uninstall: nvidia-cufft-cu12\n",
            "    Found existing installation: nvidia-cufft-cu12 11.2.3.61\n",
            "    Uninstalling nvidia-cufft-cu12-11.2.3.61:\n",
            "      Successfully uninstalled nvidia-cufft-cu12-11.2.3.61\n",
            "  Attempting uninstall: nvidia-cuda-runtime-cu12\n",
            "    Found existing installation: nvidia-cuda-runtime-cu12 12.5.82\n",
            "    Uninstalling nvidia-cuda-runtime-cu12-12.5.82:\n",
            "      Successfully uninstalled nvidia-cuda-runtime-cu12-12.5.82\n",
            "  Attempting uninstall: nvidia-cuda-nvrtc-cu12\n",
            "    Found existing installation: nvidia-cuda-nvrtc-cu12 12.5.82\n",
            "    Uninstalling nvidia-cuda-nvrtc-cu12-12.5.82:\n",
            "      Successfully uninstalled nvidia-cuda-nvrtc-cu12-12.5.82\n",
            "  Attempting uninstall: nvidia-cuda-cupti-cu12\n",
            "    Found existing installation: nvidia-cuda-cupti-cu12 12.5.82\n",
            "    Uninstalling nvidia-cuda-cupti-cu12-12.5.82:\n",
            "      Successfully uninstalled nvidia-cuda-cupti-cu12-12.5.82\n",
            "  Attempting uninstall: nvidia-cublas-cu12\n",
            "    Found existing installation: nvidia-cublas-cu12 12.5.3.2\n",
            "    Uninstalling nvidia-cublas-cu12-12.5.3.2:\n",
            "      Successfully uninstalled nvidia-cublas-cu12-12.5.3.2\n",
            "  Attempting uninstall: nvidia-cusparse-cu12\n",
            "    Found existing installation: nvidia-cusparse-cu12 12.5.1.3\n",
            "    Uninstalling nvidia-cusparse-cu12-12.5.1.3:\n",
            "      Successfully uninstalled nvidia-cusparse-cu12-12.5.1.3\n",
            "  Attempting uninstall: nvidia-cudnn-cu12\n",
            "    Found existing installation: nvidia-cudnn-cu12 9.3.0.75\n",
            "    Uninstalling nvidia-cudnn-cu12-9.3.0.75:\n",
            "      Successfully uninstalled nvidia-cudnn-cu12-9.3.0.75\n",
            "  Attempting uninstall: nvidia-cusolver-cu12\n",
            "    Found existing installation: nvidia-cusolver-cu12 11.6.3.83\n",
            "    Uninstalling nvidia-cusolver-cu12-11.6.3.83:\n",
            "      Successfully uninstalled nvidia-cusolver-cu12-11.6.3.83\n",
            "Successfully installed lightning-utilities-0.14.3 nvidia-cublas-cu12-12.4.5.8 nvidia-cuda-cupti-cu12-12.4.127 nvidia-cuda-nvrtc-cu12-12.4.127 nvidia-cuda-runtime-cu12-12.4.127 nvidia-cudnn-cu12-9.1.0.70 nvidia-cufft-cu12-11.2.1.3 nvidia-curand-cu12-10.3.5.147 nvidia-cusolver-cu12-11.6.1.9 nvidia-cusparse-cu12-12.3.1.170 nvidia-nvjitlink-cu12-12.4.127 torchmetrics-1.7.1\n"
          ]
        }
      ],
      "source": [
        "!pip install tensorboardX\n",
        "!pip install torchmetrics"
      ]
    },
    {
      "cell_type": "code",
      "execution_count": null,
      "id": "xy3QQDZq9sCc",
      "metadata": {
        "id": "xy3QQDZq9sCc"
      },
      "outputs": [],
      "source": [
        "import os\n",
        "import time\n",
        "import torch.multiprocessing\n",
        "from copy import deepcopy\n",
        "from tensorboardX import SummaryWriter\n",
        "from tqdm import tqdm\n",
        "import shutil\n",
        "\n",
        "from parameters import Parameters\n",
        "from train.trainer import Trainer\n",
        "from deepfake_datasets.datasets import get_dataloader\n",
        "from train.early_stopping import EarlyStopping\n",
        "from train.validate import validate_detection, validate_fully_supervised_localization\n",
        "from utils.utils import compute_mean_iou, compute_mean_ap, compute_mean_f1, compute_mean_acc_detection, compute_mean_ap_detection, compute_batch_iou, compute_batch_localization_f1, compute_batch_ap, compute_accuracy_detection, compute_average_precision_detection\n"
      ]
    },
    {
      "cell_type": "code",
      "execution_count": null,
      "id": "6c4118cc",
      "metadata": {
        "id": "6c4118cc"
      },
      "outputs": [],
      "source": [
        "torch.multiprocessing.set_sharing_strategy('file_system')"
      ]
    },
    {
      "cell_type": "code",
      "execution_count": null,
      "id": "VFIwhSdfp2t1",
      "metadata": {
        "id": "VFIwhSdfp2t1"
      },
      "outputs": [],
      "source": [
        "new_dataset_name = 'train_repaint-p2-9k_ldm_pluralistic_test_lama'\n",
        "\n",
        "zip_path = f'/content/drive/MyDrive/Colab Notebooks/Licenta/DeCLIP-main/datasets_zip/combined_training_for_ood/{new_dataset_name}.zip'\n",
        "new_content_root_path = f'/content/datasets/dolos_data/celebahq/fake/'\n",
        "\n",
        "os.makedirs(new_content_root_path, exist_ok=True)\n",
        "\n",
        "# move the dataset from drive to /content (SSD) for better performance in I/O\n",
        "import zipfile\n",
        "with zipfile.ZipFile(zip_path, 'r') as zip_ref:\n",
        "    zip_ref.extractall(new_content_root_path)"
      ]
    },
    {
      "cell_type": "code",
      "execution_count": null,
      "id": "09390516",
      "metadata": {
        "colab": {
          "base_uri": "https://localhost:8080/"
        },
        "id": "09390516",
        "outputId": "f775011e-e271-4153-c9eb-935788608002"
      },
      "outputs": [
        {
          "output_type": "stream",
          "name": "stdout",
          "text": [
            "experiment_name: training_inital\n",
            "task_type: fully_supervised_localization\n",
            "data_label: train\n",
            "arch: CLIP:ViT-L/14,RN50\n",
            "fix_backbone: True\n",
            "weight_decay: 0.0\n",
            "batch_size: 32\n",
            "num_threads: 8\n",
            "init_type: normal\n",
            "init_gain: 0.02\n",
            "train_dataset: train_repaint-p2-9k_ldm_pluralistic_test_lama\n",
            "decoder_type: conv-12\n",
            "feature_layer: layer20\n",
            "early_stop_epochs: 5\n",
            "optim: adam\n",
            "beta1: 0.9\n",
            "lr: 0.001\n",
            "show_loss_freq: 50\n",
            "num_iter: 30\n",
            "data_root_path: /content/datasets/dolos_data/celebahq\n",
            "train_fake_path: /content/datasets/dolos_data/celebahq/fake/train_repaint-p2-9k_ldm_pluralistic_test_lama/images/train\n",
            "valid_fake_path: /content/datasets/dolos_data/celebahq/fake/train_repaint-p2-9k_ldm_pluralistic_test_lama/images/valid\n",
            "test_fake_path: /content/datasets/dolos_data/celebahq/fake/train_repaint-p2-9k_ldm_pluralistic_test_lama/images/test\n",
            "train_masks_ground_truth_path: /content/datasets/dolos_data/celebahq/fake/train_repaint-p2-9k_ldm_pluralistic_test_lama/masks/train\n",
            "valid_masks_ground_truth_path: /content/datasets/dolos_data/celebahq/fake/train_repaint-p2-9k_ldm_pluralistic_test_lama/masks/valid\n",
            "test_masks_ground_truth_path: /content/datasets/dolos_data/celebahq/fake/train_repaint-p2-9k_ldm_pluralistic_test_lama/masks/test\n",
            "train_real_path: /content/datasets/dolos_data/celebahq/real/train\n",
            "valid_real_path: /content/datasets/dolos_data/celebahq/real/valid\n",
            "test_real_path: /content/datasets/dolos_data/celebahq/real/test\n",
            "checkpoint_path: \n",
            "save_dir: experiments/training_inital\n",
            "save_dir_models: experiments/training_inital/models\n",
            "save_dir_results: experiments/training_inital/results\n",
            "loss_type: bce\n"
          ]
        }
      ],
      "source": [
        "# set parameters\n",
        "params = Parameters()\n",
        "\n",
        "# set experiment name\n",
        "params.experiment_name = 'training_inital'\n",
        "\n",
        "# set backbone\n",
        "params.arch = 'CLIP:ViT-L/14,RN50'\n",
        "\n",
        "# create output dirs\n",
        "params.create_output_dirs()\n",
        "\n",
        "# uncomment lines below to set new datasets\n",
        "# new_drive_root_path = '/content/drive/MyDrive/Colab Notebooks/Licenta/DeCLIP-main/datasets/dolos_data/celebahq/'\n",
        "# new_root_path = '/content/dataset'\n",
        "# new_root_path = '..\\\\DeCLIP-main\\\\datasets\\\\dolos_data\\\\celebahq\\\\'\n",
        "# new_root_path = 'D:\\\\Python\\\\DeCLIP-main\\\\datasets\\\\dolos_data\\\\celebahq\\\\'\n",
        "\n",
        "\n",
        "# move the dataset from drive to /content for better performance in I/O\n",
        "# shutil.copytree(new_drive_root_path, new_root_path, dirs_exist_ok=True)\n",
        "\n",
        "new_root_path = '/content/datasets/dolos_data/celebahq/'\n",
        "new_dataset_name = 'train_repaint-p2-9k_ldm_pluralistic_test_lama'\n",
        "\n",
        "params.update_dolos_data_paths(new_root_path, new_dataset_name)\n",
        "\n",
        "# fix the backbone - to train only the decoder\n",
        "params.fix_backbone = True\n",
        "\n",
        "# set the feature layer and the decoder type\n",
        "params.feature_layer = 'layer20'\n",
        "params.decoder_type = 'conv-12'\n",
        "\n",
        "# set the batch size and num threads\n",
        "params.batch_size = 32\n",
        "params.num_threads = 8\n",
        "\n",
        "# set the number of epochs\n",
        "params.num_iter = 30\n",
        "\n",
        "# set loss type\n",
        "params.loss_type = 'bce'\n",
        "\n",
        "for key, value in params.__dict__.items():\n",
        "    print(f\"{key}: {value}\")"
      ]
    },
    {
      "cell_type": "code",
      "execution_count": null,
      "id": "1d032661",
      "metadata": {
        "id": "1d032661",
        "colab": {
          "base_uri": "https://localhost:8080/"
        },
        "outputId": "700fc753-87ed-4381-c341-68586ea41f8a"
      },
      "outputs": [
        {
          "output_type": "stream",
          "name": "stderr",
          "text": [
            "100%|███████████████████████████████████████| 890M/890M [00:43<00:00, 21.6MiB/s]\n",
            "100%|███████████████████████████████████████| 244M/244M [00:18<00:00, 13.9MiB/s]\n"
          ]
        }
      ],
      "source": [
        "# get the model, along with its trainer\n",
        "model_trainer = Trainer(params)\n",
        "\n",
        "# state_dict = torch.load('/content/drive/MyDrive/Colab Notebooks/Licenta/DeCLIP-custom/trained_models/initial_training/vit+rn50/best_localization_model_vit+rn50_conv12_iou_84.9035_lama_epoch_22.pth', map_location='cpu')\n",
        "# model_trainer.model.load_state_dict(state_dict['model'], strict=False)\n",
        "# model_trainer.model = model_trainer.model.cuda()\n",
        "\n",
        "# model_trainer.optimizer.load_state_dict(state_dict['optimizer'])\n",
        "# model_trainer.total_steps = state_dict['total_steps']"
      ]
    },
    {
      "cell_type": "code",
      "execution_count": null,
      "id": "e3c6fd79",
      "metadata": {
        "id": "e3c6fd79"
      },
      "outputs": [],
      "source": [
        "# get the dataloaders\n",
        "train_loader = get_dataloader(params)\n",
        "\n",
        "val_params = deepcopy(params)\n",
        "val_params.data_label = 'valid'\n",
        "val_loader = get_dataloader(val_params)"
      ]
    },
    {
      "cell_type": "code",
      "execution_count": null,
      "id": "15ac3281",
      "metadata": {
        "id": "15ac3281"
      },
      "outputs": [],
      "source": [
        "# use summary writers to log training and validation metrics\n",
        "train_writer = SummaryWriter(os.path.join(params.save_dir_results, 'train'))\n",
        "val_writer = SummaryWriter(os.path.join(params.save_dir_results, 'valid'))"
      ]
    },
    {
      "cell_type": "code",
      "source": [
        "torch.cuda.empty_cache()"
      ],
      "metadata": {
        "id": "MMHhabE3rYBU"
      },
      "id": "MMHhabE3rYBU",
      "execution_count": null,
      "outputs": []
    },
    {
      "cell_type": "code",
      "execution_count": null,
      "id": "afffa2da",
      "metadata": {
        "id": "afffa2da",
        "colab": {
          "base_uri": "https://localhost:8080/"
        },
        "outputId": "55934c5f-7051-4958-fbe5-63baf9688384"
      },
      "outputs": [
        {
          "metadata": {
            "tags": null
          },
          "name": "stdout",
          "output_type": "stream",
          "text": [
            "Length of training set: 9000\n",
            "Length of validation set: 900\n"
          ]
        },
        {
          "metadata": {
            "tags": null
          },
          "name": "stderr",
          "output_type": "stream",
          "text": [
            "\r  0%|          | 0/30 [00:00<?, ?it/s]"
          ]
        },
        {
          "metadata": {
            "tags": null
          },
          "name": "stdout",
          "output_type": "stream",
          "text": [
            "Epoch: 0\n",
            "Train Loss: 0.2755 at step 50 \t Iter time: 1.34\n",
            "Train Loss: 0.3132 at step 100 \t Iter time: 1.30\n",
            "Train Loss: 0.2529 at step 150 \t Iter time: 1.29\n",
            "Train Loss: 0.2490 at step 200 \t Iter time: 1.29\n",
            "Train Loss: 0.1956 at step 250 \t Iter time: 1.29\n",
            "Average Train Loss: 0.0001\n",
            "Train epoch 0 Mean IOU: 31.23\n",
            "Train epoch 0 Mean F1 best: 0.6667\n",
            "Train epoch 0 Mean F1 fixed: 0.4722\n",
            "Train epoch 0 Mean AP: 0.5944\n",
            "Validation:\n",
            "Length of dataset:  900\n"
          ]
        },
        {
          "metadata": {
            "tags": null
          },
          "name": "stderr",
          "output_type": "stream",
          "text": [
            "\n",
            "  0%|          | 0/29 [00:00<?, ?it/s]\u001b[A\n",
            "  3%|▎         | 1/29 [00:01<00:37,  1.35s/it]\u001b[A\n",
            "  7%|▋         | 2/29 [00:01<00:24,  1.11it/s]\u001b[A\n",
            " 10%|█         | 3/29 [00:02<00:19,  1.32it/s]\u001b[A\n",
            " 14%|█▍        | 4/29 [00:03<00:17,  1.43it/s]\u001b[A\n",
            " 17%|█▋        | 5/29 [00:03<00:15,  1.52it/s]\u001b[A\n",
            " 21%|██        | 6/29 [00:04<00:14,  1.58it/s]\u001b[A\n",
            " 24%|██▍       | 7/29 [00:04<00:13,  1.59it/s]\u001b[A\n",
            " 28%|██▊       | 8/29 [00:05<00:12,  1.63it/s]\u001b[A\n",
            " 31%|███       | 9/29 [00:06<00:12,  1.65it/s]\u001b[A\n",
            " 34%|███▍      | 10/29 [00:06<00:11,  1.65it/s]\u001b[A\n",
            " 38%|███▊      | 11/29 [00:07<00:10,  1.67it/s]\u001b[A\n",
            " 41%|████▏     | 12/29 [00:07<00:10,  1.69it/s]\u001b[A\n",
            " 45%|████▍     | 13/29 [00:08<00:09,  1.68it/s]\u001b[A\n",
            " 48%|████▊     | 14/29 [00:09<00:08,  1.69it/s]\u001b[A\n",
            " 52%|█████▏    | 15/29 [00:09<00:08,  1.70it/s]\u001b[A\n",
            " 55%|█████▌    | 16/29 [00:10<00:07,  1.70it/s]\u001b[A\n",
            " 59%|█████▊    | 17/29 [00:10<00:07,  1.71it/s]\u001b[A\n",
            " 62%|██████▏   | 18/29 [00:11<00:06,  1.71it/s]\u001b[A\n",
            " 66%|██████▌   | 19/29 [00:11<00:05,  1.71it/s]\u001b[A\n",
            " 69%|██████▉   | 20/29 [00:12<00:05,  1.71it/s]\u001b[A\n",
            " 72%|███████▏  | 21/29 [00:13<00:04,  1.70it/s]\u001b[A\n",
            " 76%|███████▌  | 22/29 [00:13<00:04,  1.71it/s]\u001b[A\n",
            " 79%|███████▉  | 23/29 [00:14<00:03,  1.71it/s]\u001b[A\n",
            " 83%|████████▎ | 24/29 [00:14<00:02,  1.69it/s]\u001b[A\n",
            " 86%|████████▌ | 25/29 [00:15<00:02,  1.70it/s]\u001b[A\n",
            " 90%|████████▉ | 26/29 [00:16<00:01,  1.70it/s]\u001b[A\n",
            " 93%|█████████▎| 27/29 [00:16<00:01,  1.70it/s]\u001b[A\n",
            " 97%|█████████▋| 28/29 [00:17<00:00,  1.71it/s]\u001b[A\n",
            "100%|██████████| 29/29 [00:17<00:00,  1.67it/s]\n"
          ]
        },
        {
          "metadata": {
            "tags": null
          },
          "name": "stdout",
          "output_type": "stream",
          "text": [
            "Validation at epoch 0 Mean IOU: 37.68\n",
            "Validation at epoch 0 Mean F1 best: 0.7125\n",
            "Validation at epoch 0 Mean F1 fixed: 0.53\n",
            "Validation at epoch 0 Mean AP: 0.6642\n"
          ]
        },
        {
          "metadata": {
            "tags": null
          },
          "name": "stderr",
          "output_type": "stream",
          "text": [
            "\r  3%|▎         | 1/30 [06:19<3:03:24, 379.47s/it]"
          ]
        },
        {
          "metadata": {
            "tags": null
          },
          "name": "stdout",
          "output_type": "stream",
          "text": [
            "Best model saved at epoch 0!\n",
            "\n",
            "Epoch: 1\n",
            "Train Loss: 0.1965 at step 300 \t Iter time: 1.34\n",
            "Train Loss: 0.1670 at step 350 \t Iter time: 1.33\n",
            "Train Loss: 0.1764 at step 400 \t Iter time: 1.33\n",
            "Train Loss: 0.1989 at step 450 \t Iter time: 1.32\n",
            "Train Loss: 0.1595 at step 500 \t Iter time: 1.32\n",
            "Train Loss: 0.2071 at step 550 \t Iter time: 1.31\n",
            "Average Train Loss: 0.0001\n",
            "Train epoch 1 Mean IOU: 47.05\n",
            "Train epoch 1 Mean F1 best: 0.7631\n",
            "Train epoch 1 Mean F1 fixed: 0.6298\n",
            "Train epoch 1 Mean AP: 0.7186\n",
            "Validation:\n",
            "Length of dataset:  900\n"
          ]
        },
        {
          "metadata": {
            "tags": null
          },
          "name": "stderr",
          "output_type": "stream",
          "text": [
            "\n",
            "  0%|          | 0/29 [00:00<?, ?it/s]\u001b[A\n",
            "  3%|▎         | 1/29 [00:00<00:25,  1.12it/s]\u001b[A\n",
            "  7%|▋         | 2/29 [00:01<00:19,  1.40it/s]\u001b[A\n",
            " 10%|█         | 3/29 [00:02<00:17,  1.52it/s]\u001b[A\n",
            " 14%|█▍        | 4/29 [00:02<00:15,  1.59it/s]\u001b[A\n",
            " 17%|█▋        | 5/29 [00:03<00:14,  1.63it/s]\u001b[A\n",
            " 21%|██        | 6/29 [00:03<00:13,  1.66it/s]\u001b[A\n",
            " 24%|██▍       | 7/29 [00:04<00:13,  1.67it/s]\u001b[A\n",
            " 28%|██▊       | 8/29 [00:04<00:12,  1.69it/s]\u001b[A\n",
            " 31%|███       | 9/29 [00:05<00:11,  1.70it/s]\u001b[A\n",
            " 34%|███▍      | 10/29 [00:06<00:11,  1.70it/s]\u001b[A\n",
            " 38%|███▊      | 11/29 [00:06<00:10,  1.71it/s]\u001b[A\n",
            " 41%|████▏     | 12/29 [00:07<00:09,  1.71it/s]\u001b[A\n",
            " 45%|████▍     | 13/29 [00:07<00:09,  1.71it/s]\u001b[A\n",
            " 48%|████▊     | 14/29 [00:08<00:08,  1.72it/s]\u001b[A\n",
            " 52%|█████▏    | 15/29 [00:09<00:08,  1.72it/s]\u001b[A\n",
            " 55%|█████▌    | 16/29 [00:09<00:07,  1.72it/s]\u001b[A\n",
            " 59%|█████▊    | 17/29 [00:10<00:06,  1.72it/s]\u001b[A\n",
            " 62%|██████▏   | 18/29 [00:10<00:06,  1.72it/s]\u001b[A\n",
            " 66%|██████▌   | 19/29 [00:11<00:05,  1.72it/s]\u001b[A\n",
            " 69%|██████▉   | 20/29 [00:11<00:05,  1.72it/s]\u001b[A\n",
            " 72%|███████▏  | 21/29 [00:12<00:04,  1.72it/s]\u001b[A\n",
            " 76%|███████▌  | 22/29 [00:13<00:04,  1.71it/s]\u001b[A\n",
            " 79%|███████▉  | 23/29 [00:13<00:03,  1.71it/s]\u001b[A\n",
            " 83%|████████▎ | 24/29 [00:14<00:02,  1.71it/s]\u001b[A\n",
            " 86%|████████▌ | 25/29 [00:14<00:02,  1.71it/s]\u001b[A\n",
            " 90%|████████▉ | 26/29 [00:15<00:01,  1.71it/s]\u001b[A\n",
            " 93%|█████████▎| 27/29 [00:16<00:01,  1.72it/s]\u001b[A\n",
            "100%|██████████| 29/29 [00:16<00:00,  1.73it/s]\n",
            "  7%|▋         | 2/30 [12:34<2:55:56, 377.02s/it]"
          ]
        },
        {
          "metadata": {
            "tags": null
          },
          "name": "stdout",
          "output_type": "stream",
          "text": [
            "Validation at epoch 1 Mean IOU: 27.16\n",
            "Validation at epoch 1 Mean F1 best: 0.7786\n",
            "Validation at epoch 1 Mean F1 fixed: 0.4468\n",
            "Validation at epoch 1 Mean AP: 0.7065\n",
            "Early Stopping counter: 1 out of 5\n",
            "\n",
            "Epoch: 2\n",
            "Train Loss: 0.1185 at step 600 \t Iter time: 1.33\n",
            "Train Loss: 0.1152 at step 650 \t Iter time: 1.33\n",
            "Train Loss: 0.1416 at step 700 \t Iter time: 1.33\n",
            "Train Loss: 0.1188 at step 750 \t Iter time: 1.32\n",
            "Train Loss: 0.0996 at step 800 \t Iter time: 1.32\n",
            "Average Train Loss: 0.0001\n",
            "Train epoch 2 Mean IOU: 54.49\n",
            "Train epoch 2 Mean F1 best: 0.8167\n",
            "Train epoch 2 Mean F1 fixed: 0.7018\n",
            "Train epoch 2 Mean AP: 0.7754\n",
            "Validation:\n",
            "Length of dataset:  900\n"
          ]
        },
        {
          "metadata": {
            "tags": null
          },
          "name": "stderr",
          "output_type": "stream",
          "text": [
            "\n",
            "  0%|          | 0/29 [00:00<?, ?it/s]\u001b[A\n",
            "  3%|▎         | 1/29 [00:00<00:24,  1.17it/s]\u001b[A\n",
            "  7%|▋         | 2/29 [00:01<00:18,  1.43it/s]\u001b[A\n",
            " 10%|█         | 3/29 [00:02<00:16,  1.54it/s]\u001b[A\n",
            " 14%|█▍        | 4/29 [00:02<00:15,  1.60it/s]\u001b[A\n",
            " 17%|█▋        | 5/29 [00:03<00:14,  1.63it/s]\u001b[A\n",
            " 21%|██        | 6/29 [00:03<00:13,  1.66it/s]\u001b[A\n",
            " 24%|██▍       | 7/29 [00:04<00:13,  1.68it/s]\u001b[A\n",
            " 28%|██▊       | 8/29 [00:04<00:12,  1.69it/s]\u001b[A\n",
            " 31%|███       | 9/29 [00:05<00:11,  1.70it/s]\u001b[A\n",
            " 34%|███▍      | 10/29 [00:06<00:11,  1.70it/s]\u001b[A\n",
            " 38%|███▊      | 11/29 [00:06<00:10,  1.71it/s]\u001b[A\n",
            " 41%|████▏     | 12/29 [00:07<00:09,  1.71it/s]\u001b[A\n",
            " 45%|████▍     | 13/29 [00:07<00:09,  1.71it/s]\u001b[A\n",
            " 48%|████▊     | 14/29 [00:08<00:08,  1.71it/s]\u001b[A\n",
            " 52%|█████▏    | 15/29 [00:09<00:08,  1.71it/s]\u001b[A\n",
            " 55%|█████▌    | 16/29 [00:09<00:07,  1.71it/s]\u001b[A\n",
            " 59%|█████▊    | 17/29 [00:10<00:07,  1.71it/s]\u001b[A\n",
            " 62%|██████▏   | 18/29 [00:10<00:06,  1.71it/s]\u001b[A\n",
            " 66%|██████▌   | 19/29 [00:11<00:05,  1.71it/s]\u001b[A\n",
            " 69%|██████▉   | 20/29 [00:11<00:05,  1.71it/s]\u001b[A\n",
            " 72%|███████▏  | 21/29 [00:12<00:04,  1.71it/s]\u001b[A\n",
            " 76%|███████▌  | 22/29 [00:13<00:04,  1.71it/s]\u001b[A\n",
            " 79%|███████▉  | 23/29 [00:13<00:03,  1.71it/s]\u001b[A\n",
            " 83%|████████▎ | 24/29 [00:14<00:02,  1.67it/s]\u001b[A\n",
            " 86%|████████▌ | 25/29 [00:14<00:02,  1.68it/s]\u001b[A\n",
            " 90%|████████▉ | 26/29 [00:15<00:01,  1.69it/s]\u001b[A\n",
            " 93%|█████████▎| 27/29 [00:16<00:01,  1.67it/s]\u001b[A\n",
            "100%|██████████| 29/29 [00:16<00:00,  1.73it/s]\n"
          ]
        },
        {
          "metadata": {
            "tags": null
          },
          "name": "stdout",
          "output_type": "stream",
          "text": [
            "Validation at epoch 2 Mean IOU: 41.25\n",
            "Validation at epoch 2 Mean F1 best: 0.7894\n",
            "Validation at epoch 2 Mean F1 fixed: 0.6019\n",
            "Validation at epoch 2 Mean AP: 0.7306\n"
          ]
        },
        {
          "metadata": {
            "tags": null
          },
          "name": "stderr",
          "output_type": "stream",
          "text": [
            "\r 10%|█         | 3/30 [18:50<2:49:27, 376.58s/it]"
          ]
        },
        {
          "metadata": {
            "tags": null
          },
          "name": "stdout",
          "output_type": "stream",
          "text": [
            "Best model saved at epoch 2!\n",
            "\n",
            "Epoch: 3\n",
            "Train Loss: 0.1329 at step 850 \t Iter time: 1.34\n",
            "Train Loss: 0.1272 at step 900 \t Iter time: 1.33\n",
            "Train Loss: 0.1041 at step 950 \t Iter time: 1.33\n",
            "Train Loss: 0.1088 at step 1000 \t Iter time: 1.33\n",
            "Train Loss: 0.1172 at step 1050 \t Iter time: 1.33\n",
            "Train Loss: 0.0922 at step 1100 \t Iter time: 1.32\n",
            "Average Train Loss: 0.0001\n",
            "Train epoch 3 Mean IOU: 59.16\n",
            "Train epoch 3 Mean F1 best: 0.8467\n",
            "Train epoch 3 Mean F1 fixed: 0.7469\n",
            "Train epoch 3 Mean AP: 0.8118\n",
            "Validation:\n",
            "Length of dataset:  900\n"
          ]
        },
        {
          "metadata": {
            "tags": null
          },
          "name": "stderr",
          "output_type": "stream",
          "text": [
            "\n",
            "  0%|          | 0/29 [00:00<?, ?it/s]\u001b[A\n",
            "  3%|▎         | 1/29 [00:00<00:24,  1.12it/s]\u001b[A\n",
            "  7%|▋         | 2/29 [00:01<00:19,  1.41it/s]\u001b[A\n",
            " 10%|█         | 3/29 [00:02<00:16,  1.53it/s]\u001b[A\n",
            " 14%|█▍        | 4/29 [00:02<00:15,  1.60it/s]\u001b[A\n",
            " 17%|█▋        | 5/29 [00:03<00:14,  1.64it/s]\u001b[A\n",
            " 21%|██        | 6/29 [00:03<00:13,  1.66it/s]\u001b[A\n",
            " 24%|██▍       | 7/29 [00:04<00:13,  1.68it/s]\u001b[A\n",
            " 28%|██▊       | 8/29 [00:04<00:12,  1.69it/s]\u001b[A\n",
            " 31%|███       | 9/29 [00:05<00:11,  1.69it/s]\u001b[A\n",
            " 34%|███▍      | 10/29 [00:06<00:11,  1.69it/s]\u001b[A\n",
            " 38%|███▊      | 11/29 [00:06<00:10,  1.70it/s]\u001b[A\n",
            " 41%|████▏     | 12/29 [00:07<00:09,  1.71it/s]\u001b[A\n",
            " 45%|████▍     | 13/29 [00:07<00:09,  1.71it/s]\u001b[A\n",
            " 48%|████▊     | 14/29 [00:08<00:08,  1.71it/s]\u001b[A\n",
            " 52%|█████▏    | 15/29 [00:09<00:08,  1.71it/s]\u001b[A\n",
            " 55%|█████▌    | 16/29 [00:09<00:07,  1.71it/s]\u001b[A\n",
            " 59%|█████▊    | 17/29 [00:10<00:06,  1.72it/s]\u001b[A\n",
            " 62%|██████▏   | 18/29 [00:10<00:06,  1.72it/s]\u001b[A\n",
            " 66%|██████▌   | 19/29 [00:11<00:05,  1.72it/s]\u001b[A\n",
            " 69%|██████▉   | 20/29 [00:11<00:05,  1.72it/s]\u001b[A\n",
            " 72%|███████▏  | 21/29 [00:12<00:04,  1.72it/s]\u001b[A\n",
            " 76%|███████▌  | 22/29 [00:13<00:04,  1.72it/s]\u001b[A\n",
            " 79%|███████▉  | 23/29 [00:13<00:03,  1.72it/s]\u001b[A\n",
            " 83%|████████▎ | 24/29 [00:14<00:02,  1.72it/s]\u001b[A\n",
            " 86%|████████▌ | 25/29 [00:14<00:02,  1.72it/s]\u001b[A\n",
            " 90%|████████▉ | 26/29 [00:15<00:01,  1.71it/s]\u001b[A\n",
            " 93%|█████████▎| 27/29 [00:16<00:01,  1.71it/s]\u001b[A\n",
            "100%|██████████| 29/29 [00:16<00:00,  1.73it/s]\n"
          ]
        },
        {
          "metadata": {
            "tags": null
          },
          "name": "stdout",
          "output_type": "stream",
          "text": [
            "Validation at epoch 3 Mean IOU: 45.36\n",
            "Validation at epoch 3 Mean F1 best: 0.6496\n",
            "Validation at epoch 3 Mean F1 fixed: 0.5664\n",
            "Validation at epoch 3 Mean AP: 0.6325\n"
          ]
        },
        {
          "metadata": {
            "tags": null
          },
          "name": "stderr",
          "output_type": "stream",
          "text": [
            "\r 13%|█▎        | 4/30 [25:07<2:43:11, 376.58s/it]"
          ]
        },
        {
          "metadata": {
            "tags": null
          },
          "name": "stdout",
          "output_type": "stream",
          "text": [
            "Best model saved at epoch 3!\n",
            "\n",
            "Epoch: 4\n",
            "Train Loss: 0.1029 at step 1150 \t Iter time: 1.34\n",
            "Train Loss: 0.0930 at step 1200 \t Iter time: 1.33\n",
            "Train Loss: 0.0689 at step 1250 \t Iter time: 1.33\n",
            "Train Loss: 0.1648 at step 1300 \t Iter time: 1.33\n",
            "Train Loss: 0.1361 at step 1350 \t Iter time: 1.33\n",
            "Train Loss: 0.0935 at step 1400 \t Iter time: 1.32\n",
            "Average Train Loss: 0.0001\n",
            "Train epoch 4 Mean IOU: 62.65\n",
            "Train epoch 4 Mean F1 best: 0.8672\n",
            "Train epoch 4 Mean F1 fixed: 0.7789\n",
            "Train epoch 4 Mean AP: 0.8375\n",
            "Validation:\n",
            "Length of dataset:  900\n"
          ]
        },
        {
          "metadata": {
            "tags": null
          },
          "name": "stderr",
          "output_type": "stream",
          "text": [
            "\n",
            "  0%|          | 0/29 [00:00<?, ?it/s]\u001b[A\n",
            "  3%|▎         | 1/29 [00:00<00:23,  1.21it/s]\u001b[A\n",
            "  7%|▋         | 2/29 [00:01<00:18,  1.46it/s]\u001b[A\n",
            " 10%|█         | 3/29 [00:01<00:16,  1.57it/s]\u001b[A\n",
            " 14%|█▍        | 4/29 [00:02<00:15,  1.62it/s]\u001b[A\n",
            " 17%|█▋        | 5/29 [00:03<00:14,  1.65it/s]\u001b[A\n",
            " 21%|██        | 6/29 [00:03<00:13,  1.68it/s]\u001b[A\n",
            " 24%|██▍       | 7/29 [00:04<00:13,  1.69it/s]\u001b[A\n",
            " 28%|██▊       | 8/29 [00:04<00:12,  1.70it/s]\u001b[A\n",
            " 31%|███       | 9/29 [00:05<00:11,  1.70it/s]\u001b[A\n",
            " 34%|███▍      | 10/29 [00:06<00:11,  1.71it/s]\u001b[A\n",
            " 38%|███▊      | 11/29 [00:06<00:10,  1.71it/s]\u001b[A\n",
            " 41%|████▏     | 12/29 [00:07<00:09,  1.71it/s]\u001b[A\n",
            " 45%|████▍     | 13/29 [00:07<00:09,  1.71it/s]\u001b[A\n",
            " 48%|████▊     | 14/29 [00:08<00:08,  1.71it/s]\u001b[A\n",
            " 52%|█████▏    | 15/29 [00:08<00:08,  1.72it/s]\u001b[A\n",
            " 55%|█████▌    | 16/29 [00:09<00:07,  1.72it/s]\u001b[A\n",
            " 59%|█████▊    | 17/29 [00:10<00:06,  1.71it/s]\u001b[A\n",
            " 62%|██████▏   | 18/29 [00:10<00:06,  1.72it/s]\u001b[A\n",
            " 66%|██████▌   | 19/29 [00:11<00:05,  1.72it/s]\u001b[A\n",
            " 69%|██████▉   | 20/29 [00:11<00:05,  1.71it/s]\u001b[A\n",
            " 72%|███████▏  | 21/29 [00:12<00:04,  1.71it/s]\u001b[A\n",
            " 76%|███████▌  | 22/29 [00:13<00:04,  1.71it/s]\u001b[A\n",
            " 79%|███████▉  | 23/29 [00:13<00:03,  1.71it/s]\u001b[A\n",
            " 83%|████████▎ | 24/29 [00:14<00:02,  1.71it/s]\u001b[A\n",
            " 86%|████████▌ | 25/29 [00:14<00:02,  1.70it/s]\u001b[A\n",
            " 90%|████████▉ | 26/29 [00:15<00:01,  1.70it/s]\u001b[A\n",
            " 93%|█████████▎| 27/29 [00:16<00:01,  1.70it/s]\u001b[A\n",
            "100%|██████████| 29/29 [00:16<00:00,  1.74it/s]\n",
            " 17%|█▋        | 5/30 [31:22<2:36:43, 376.12s/it]"
          ]
        },
        {
          "metadata": {
            "tags": null
          },
          "name": "stdout",
          "output_type": "stream",
          "text": [
            "Validation at epoch 4 Mean IOU: 37.53\n",
            "Validation at epoch 4 Mean F1 best: 0.786\n",
            "Validation at epoch 4 Mean F1 fixed: 0.5727\n",
            "Validation at epoch 4 Mean AP: 0.7336\n",
            "Early Stopping counter: 1 out of 5\n",
            "\n",
            "Epoch: 5\n",
            "Train Loss: 0.0776 at step 1450 \t Iter time: 1.33\n",
            "Train Loss: 0.0834 at step 1500 \t Iter time: 1.33\n",
            "Train Loss: 0.0913 at step 1550 \t Iter time: 1.33\n",
            "Train Loss: 0.0846 at step 1600 \t Iter time: 1.33\n",
            "Train Loss: 0.0865 at step 1650 \t Iter time: 1.33\n",
            "Average Train Loss: 0.0000\n",
            "Train epoch 5 Mean IOU: 66.61\n",
            "Train epoch 5 Mean F1 best: 0.891\n",
            "Train epoch 5 Mean F1 fixed: 0.8165\n",
            "Train epoch 5 Mean AP: 0.8655\n",
            "Validation:\n",
            "Length of dataset:  900\n"
          ]
        },
        {
          "metadata": {
            "tags": null
          },
          "name": "stderr",
          "output_type": "stream",
          "text": [
            "\n",
            "  0%|          | 0/29 [00:00<?, ?it/s]\u001b[A\n",
            "  3%|▎         | 1/29 [00:00<00:25,  1.09it/s]\u001b[A\n",
            "  7%|▋         | 2/29 [00:01<00:19,  1.38it/s]\u001b[A\n",
            " 10%|█         | 3/29 [00:02<00:17,  1.52it/s]\u001b[A\n",
            " 14%|█▍        | 4/29 [00:02<00:15,  1.59it/s]\u001b[A\n",
            " 17%|█▋        | 5/29 [00:03<00:14,  1.63it/s]\u001b[A\n",
            " 21%|██        | 6/29 [00:03<00:13,  1.66it/s]\u001b[A\n",
            " 24%|██▍       | 7/29 [00:04<00:13,  1.67it/s]\u001b[A\n",
            " 28%|██▊       | 8/29 [00:05<00:12,  1.69it/s]\u001b[A\n",
            " 31%|███       | 9/29 [00:05<00:11,  1.69it/s]\u001b[A\n",
            " 34%|███▍      | 10/29 [00:06<00:11,  1.69it/s]\u001b[A\n",
            " 38%|███▊      | 11/29 [00:06<00:10,  1.69it/s]\u001b[A\n",
            " 41%|████▏     | 12/29 [00:07<00:09,  1.70it/s]\u001b[A\n",
            " 45%|████▍     | 13/29 [00:07<00:09,  1.70it/s]\u001b[A\n",
            " 48%|████▊     | 14/29 [00:08<00:08,  1.70it/s]\u001b[A\n",
            " 52%|█████▏    | 15/29 [00:09<00:08,  1.71it/s]\u001b[A\n",
            " 55%|█████▌    | 16/29 [00:09<00:07,  1.71it/s]\u001b[A\n",
            " 59%|█████▊    | 17/29 [00:10<00:07,  1.71it/s]\u001b[A\n",
            " 62%|██████▏   | 18/29 [00:10<00:06,  1.71it/s]\u001b[A\n",
            " 66%|██████▌   | 19/29 [00:11<00:05,  1.71it/s]\u001b[A\n",
            " 69%|██████▉   | 20/29 [00:12<00:05,  1.72it/s]\u001b[A\n",
            " 72%|███████▏  | 21/29 [00:12<00:04,  1.72it/s]\u001b[A\n",
            " 76%|███████▌  | 22/29 [00:13<00:04,  1.72it/s]\u001b[A\n",
            " 79%|███████▉  | 23/29 [00:13<00:03,  1.72it/s]\u001b[A\n",
            " 83%|████████▎ | 24/29 [00:14<00:02,  1.72it/s]\u001b[A\n",
            " 86%|████████▌ | 25/29 [00:14<00:02,  1.71it/s]\u001b[A\n",
            " 90%|████████▉ | 26/29 [00:15<00:01,  1.72it/s]\u001b[A\n",
            " 93%|█████████▎| 27/29 [00:16<00:01,  1.72it/s]\u001b[A\n",
            "100%|██████████| 29/29 [00:16<00:00,  1.73it/s]\n",
            " 20%|██        | 6/30 [37:37<2:30:17, 375.75s/it]"
          ]
        },
        {
          "metadata": {
            "tags": null
          },
          "name": "stdout",
          "output_type": "stream",
          "text": [
            "Validation at epoch 5 Mean IOU: 44.43\n",
            "Validation at epoch 5 Mean F1 best: 0.6889\n",
            "Validation at epoch 5 Mean F1 fixed: 0.5573\n",
            "Validation at epoch 5 Mean AP: 0.6872\n",
            "Early Stopping counter: 2 out of 5\n",
            "\n",
            "Epoch: 6\n",
            "Train Loss: 0.0768 at step 1700 \t Iter time: 1.33\n",
            "Train Loss: 0.0731 at step 1750 \t Iter time: 1.33\n",
            "Train Loss: 0.1130 at step 1800 \t Iter time: 1.33\n",
            "Train Loss: 0.0815 at step 1850 \t Iter time: 1.33\n",
            "Train Loss: 0.0675 at step 1900 \t Iter time: 1.33\n",
            "Train Loss: 0.0776 at step 1950 \t Iter time: 1.33\n",
            "Average Train Loss: 0.0001\n",
            "Train epoch 6 Mean IOU: 69.78\n",
            "Train epoch 6 Mean F1 best: 0.9053\n",
            "Train epoch 6 Mean F1 fixed: 0.8433\n",
            "Train epoch 6 Mean AP: 0.8849\n",
            "Validation:\n",
            "Length of dataset:  900\n"
          ]
        },
        {
          "metadata": {
            "tags": null
          },
          "name": "stderr",
          "output_type": "stream",
          "text": [
            "\n",
            "  0%|          | 0/29 [00:00<?, ?it/s]\u001b[A\n",
            "  3%|▎         | 1/29 [00:00<00:25,  1.09it/s]\u001b[A\n",
            "  7%|▋         | 2/29 [00:01<00:19,  1.38it/s]\u001b[A\n",
            " 10%|█         | 3/29 [00:02<00:17,  1.52it/s]\u001b[A\n",
            " 14%|█▍        | 4/29 [00:02<00:15,  1.59it/s]\u001b[A\n",
            " 17%|█▋        | 5/29 [00:03<00:14,  1.63it/s]\u001b[A\n",
            " 21%|██        | 6/29 [00:03<00:13,  1.65it/s]\u001b[A\n",
            " 24%|██▍       | 7/29 [00:04<00:13,  1.67it/s]\u001b[A\n",
            " 28%|██▊       | 8/29 [00:05<00:12,  1.68it/s]\u001b[A\n",
            " 31%|███       | 9/29 [00:05<00:11,  1.69it/s]\u001b[A\n",
            " 34%|███▍      | 10/29 [00:06<00:11,  1.69it/s]\u001b[A\n",
            " 38%|███▊      | 11/29 [00:06<00:10,  1.70it/s]\u001b[A\n",
            " 41%|████▏     | 12/29 [00:07<00:10,  1.70it/s]\u001b[A\n",
            " 45%|████▍     | 13/29 [00:07<00:09,  1.70it/s]\u001b[A\n",
            " 48%|████▊     | 14/29 [00:08<00:08,  1.70it/s]\u001b[A\n",
            " 52%|█████▏    | 15/29 [00:09<00:08,  1.70it/s]\u001b[A\n",
            " 55%|█████▌    | 16/29 [00:09<00:07,  1.70it/s]\u001b[A\n",
            " 59%|█████▊    | 17/29 [00:10<00:07,  1.70it/s]\u001b[A\n",
            " 62%|██████▏   | 18/29 [00:10<00:06,  1.70it/s]\u001b[A\n",
            " 66%|██████▌   | 19/29 [00:11<00:05,  1.70it/s]\u001b[A\n",
            " 69%|██████▉   | 20/29 [00:12<00:05,  1.70it/s]\u001b[A\n",
            " 72%|███████▏  | 21/29 [00:12<00:04,  1.70it/s]\u001b[A\n",
            " 76%|███████▌  | 22/29 [00:13<00:04,  1.70it/s]\u001b[A\n",
            " 79%|███████▉  | 23/29 [00:13<00:03,  1.70it/s]\u001b[A\n",
            " 83%|████████▎ | 24/29 [00:14<00:02,  1.70it/s]\u001b[A\n",
            " 86%|████████▌ | 25/29 [00:14<00:02,  1.71it/s]\u001b[A\n",
            " 90%|████████▉ | 26/29 [00:15<00:01,  1.71it/s]\u001b[A\n",
            " 93%|█████████▎| 27/29 [00:16<00:01,  1.71it/s]\u001b[A\n",
            "100%|██████████| 29/29 [00:16<00:00,  1.72it/s]\n",
            " 23%|██▎       | 7/30 [43:53<2:24:04, 375.85s/it]"
          ]
        },
        {
          "metadata": {
            "tags": null
          },
          "name": "stdout",
          "output_type": "stream",
          "text": [
            "Validation at epoch 6 Mean IOU: 40.43\n",
            "Validation at epoch 6 Mean F1 best: 0.7488\n",
            "Validation at epoch 6 Mean F1 fixed: 0.5598\n",
            "Validation at epoch 6 Mean AP: 0.711\n",
            "Early Stopping counter: 3 out of 5\n",
            "\n",
            "Epoch: 7\n",
            "Train Loss: 0.0680 at step 2000 \t Iter time: 1.33\n",
            "Train Loss: 0.0787 at step 2050 \t Iter time: 1.33\n",
            "Train Loss: 0.0533 at step 2100 \t Iter time: 1.33\n",
            "Train Loss: 0.0668 at step 2150 \t Iter time: 1.33\n",
            "Train Loss: 0.0594 at step 2200 \t Iter time: 1.33\n",
            "Train Loss: 0.0880 at step 2250 \t Iter time: 1.33\n",
            "Average Train Loss: 0.0000\n",
            "Train epoch 7 Mean IOU: 72.12\n",
            "Train epoch 7 Mean F1 best: 0.9186\n",
            "Train epoch 7 Mean F1 fixed: 0.8637\n",
            "Train epoch 7 Mean AP: 0.8999\n",
            "Validation:\n",
            "Length of dataset:  900\n"
          ]
        },
        {
          "metadata": {
            "tags": null
          },
          "name": "stderr",
          "output_type": "stream",
          "text": [
            "\n",
            "  0%|          | 0/29 [00:00<?, ?it/s]\u001b[A\n",
            "  3%|▎         | 1/29 [00:00<00:24,  1.13it/s]\u001b[A\n",
            "  7%|▋         | 2/29 [00:01<00:19,  1.41it/s]\u001b[A\n",
            " 10%|█         | 3/29 [00:02<00:16,  1.53it/s]\u001b[A\n",
            " 14%|█▍        | 4/29 [00:02<00:15,  1.59it/s]\u001b[A\n",
            " 17%|█▋        | 5/29 [00:03<00:14,  1.63it/s]\u001b[A\n",
            " 21%|██        | 6/29 [00:03<00:13,  1.66it/s]\u001b[A\n",
            " 24%|██▍       | 7/29 [00:04<00:13,  1.68it/s]\u001b[A\n",
            " 28%|██▊       | 8/29 [00:04<00:12,  1.69it/s]\u001b[A\n",
            " 31%|███       | 9/29 [00:05<00:11,  1.70it/s]\u001b[A\n",
            " 34%|███▍      | 10/29 [00:06<00:11,  1.70it/s]\u001b[A\n",
            " 38%|███▊      | 11/29 [00:06<00:10,  1.71it/s]\u001b[A\n",
            " 41%|████▏     | 12/29 [00:07<00:09,  1.71it/s]\u001b[A\n",
            " 45%|████▍     | 13/29 [00:07<00:09,  1.71it/s]\u001b[A\n",
            " 48%|████▊     | 14/29 [00:08<00:08,  1.71it/s]\u001b[A\n",
            " 52%|█████▏    | 15/29 [00:09<00:08,  1.71it/s]\u001b[A\n",
            " 55%|█████▌    | 16/29 [00:09<00:07,  1.71it/s]\u001b[A\n",
            " 59%|█████▊    | 17/29 [00:10<00:06,  1.72it/s]\u001b[A\n",
            " 62%|██████▏   | 18/29 [00:10<00:06,  1.71it/s]\u001b[A\n",
            " 66%|██████▌   | 19/29 [00:11<00:05,  1.71it/s]\u001b[A\n",
            " 69%|██████▉   | 20/29 [00:11<00:05,  1.71it/s]\u001b[A\n",
            " 72%|███████▏  | 21/29 [00:12<00:04,  1.70it/s]\u001b[A\n",
            " 76%|███████▌  | 22/29 [00:13<00:04,  1.70it/s]\u001b[A\n",
            " 79%|███████▉  | 23/29 [00:13<00:03,  1.71it/s]\u001b[A\n",
            " 83%|████████▎ | 24/29 [00:14<00:02,  1.71it/s]\u001b[A\n",
            " 86%|████████▌ | 25/29 [00:14<00:02,  1.71it/s]\u001b[A\n",
            " 90%|████████▉ | 26/29 [00:15<00:01,  1.71it/s]\u001b[A\n",
            " 93%|█████████▎| 27/29 [00:16<00:01,  1.71it/s]\u001b[A\n",
            "100%|██████████| 29/29 [00:16<00:00,  1.73it/s]\n"
          ]
        },
        {
          "metadata": {
            "tags": null
          },
          "name": "stdout",
          "output_type": "stream",
          "text": [
            "Validation at epoch 7 Mean IOU: 52.87\n",
            "Validation at epoch 7 Mean F1 best: 0.7139\n",
            "Validation at epoch 7 Mean F1 fixed: 0.6256\n",
            "Validation at epoch 7 Mean AP: 0.7212\n"
          ]
        },
        {
          "metadata": {
            "tags": null
          },
          "name": "stderr",
          "output_type": "stream",
          "text": [
            "\r 27%|██▋       | 8/30 [50:11<2:17:59, 376.35s/it]"
          ]
        },
        {
          "metadata": {
            "tags": null
          },
          "name": "stdout",
          "output_type": "stream",
          "text": [
            "Best model saved at epoch 7!\n",
            "\n",
            "Epoch: 8\n",
            "Train Loss: 0.0694 at step 2300 \t Iter time: 1.33\n",
            "Train Loss: 0.0530 at step 2350 \t Iter time: 1.33\n",
            "Train Loss: 0.0608 at step 2400 \t Iter time: 1.33\n",
            "Train Loss: 0.0542 at step 2450 \t Iter time: 1.33\n",
            "Train Loss: 0.0683 at step 2500 \t Iter time: 1.33\n",
            "Average Train Loss: 0.0000\n",
            "Train epoch 8 Mean IOU: 73.81\n",
            "Train epoch 8 Mean F1 best: 0.9271\n",
            "Train epoch 8 Mean F1 fixed: 0.872\n",
            "Train epoch 8 Mean AP: 0.9101\n",
            "Validation:\n",
            "Length of dataset:  900\n"
          ]
        },
        {
          "metadata": {
            "tags": null
          },
          "name": "stderr",
          "output_type": "stream",
          "text": [
            "\n",
            "  0%|          | 0/29 [00:00<?, ?it/s]\u001b[A\n",
            "  3%|▎         | 1/29 [00:00<00:22,  1.25it/s]\u001b[A\n",
            "  7%|▋         | 2/29 [00:01<00:18,  1.48it/s]\u001b[A\n",
            " 10%|█         | 3/29 [00:01<00:16,  1.58it/s]\u001b[A\n",
            " 14%|█▍        | 4/29 [00:02<00:15,  1.62it/s]\u001b[A\n",
            " 17%|█▋        | 5/29 [00:03<00:14,  1.65it/s]\u001b[A\n",
            " 21%|██        | 6/29 [00:03<00:13,  1.67it/s]\u001b[A\n",
            " 24%|██▍       | 7/29 [00:04<00:13,  1.68it/s]\u001b[A\n",
            " 28%|██▊       | 8/29 [00:04<00:12,  1.69it/s]\u001b[A\n",
            " 31%|███       | 9/29 [00:05<00:11,  1.68it/s]\u001b[A\n",
            " 34%|███▍      | 10/29 [00:06<00:11,  1.68it/s]\u001b[A\n",
            " 38%|███▊      | 11/29 [00:06<00:10,  1.69it/s]\u001b[A\n",
            " 41%|████▏     | 12/29 [00:07<00:10,  1.69it/s]\u001b[A\n",
            " 45%|████▍     | 13/29 [00:07<00:09,  1.69it/s]\u001b[A\n",
            " 48%|████▊     | 14/29 [00:08<00:08,  1.69it/s]\u001b[A\n",
            " 52%|█████▏    | 15/29 [00:09<00:08,  1.70it/s]\u001b[A\n",
            " 55%|█████▌    | 16/29 [00:09<00:07,  1.70it/s]\u001b[A\n",
            " 59%|█████▊    | 17/29 [00:10<00:07,  1.70it/s]\u001b[A\n",
            " 62%|██████▏   | 18/29 [00:10<00:06,  1.70it/s]\u001b[A\n",
            " 66%|██████▌   | 19/29 [00:11<00:05,  1.70it/s]\u001b[A\n",
            " 69%|██████▉   | 20/29 [00:11<00:05,  1.70it/s]\u001b[A\n",
            " 72%|███████▏  | 21/29 [00:12<00:04,  1.70it/s]\u001b[A\n",
            " 76%|███████▌  | 22/29 [00:13<00:04,  1.71it/s]\u001b[A\n",
            " 79%|███████▉  | 23/29 [00:13<00:03,  1.70it/s]\u001b[A\n",
            " 83%|████████▎ | 24/29 [00:14<00:02,  1.70it/s]\u001b[A\n",
            " 86%|████████▌ | 25/29 [00:14<00:02,  1.70it/s]\u001b[A\n",
            " 90%|████████▉ | 26/29 [00:15<00:01,  1.70it/s]\u001b[A\n",
            " 93%|█████████▎| 27/29 [00:16<00:01,  1.70it/s]\u001b[A\n",
            "100%|██████████| 29/29 [00:16<00:00,  1.73it/s]\n",
            " 30%|███       | 9/30 [56:26<2:11:35, 375.98s/it]"
          ]
        },
        {
          "metadata": {
            "tags": null
          },
          "name": "stdout",
          "output_type": "stream",
          "text": [
            "Validation at epoch 8 Mean IOU: 47.55\n",
            "Validation at epoch 8 Mean F1 best: 0.7908\n",
            "Validation at epoch 8 Mean F1 fixed: 0.6586\n",
            "Validation at epoch 8 Mean AP: 0.7643\n",
            "Early Stopping counter: 1 out of 5\n",
            "\n",
            "Epoch: 9\n",
            "Train Loss: 0.0526 at step 2550 \t Iter time: 1.33\n",
            "Train Loss: 0.0535 at step 2600 \t Iter time: 1.33\n",
            "Train Loss: 0.0558 at step 2650 \t Iter time: 1.33\n",
            "Train Loss: 0.0575 at step 2700 \t Iter time: 1.33\n",
            "Train Loss: 0.0779 at step 2750 \t Iter time: 1.33\n",
            "Train Loss: 0.0638 at step 2800 \t Iter time: 1.33\n",
            "Average Train Loss: 0.0000\n",
            "Train epoch 9 Mean IOU: 75.62\n",
            "Train epoch 9 Mean F1 best: 0.9352\n",
            "Train epoch 9 Mean F1 fixed: 0.8886\n",
            "Train epoch 9 Mean AP: 0.9198\n",
            "Validation:\n",
            "Length of dataset:  900\n"
          ]
        },
        {
          "metadata": {
            "tags": null
          },
          "name": "stderr",
          "output_type": "stream",
          "text": [
            "\n",
            "  0%|          | 0/29 [00:00<?, ?it/s]\u001b[A\n",
            "  3%|▎         | 1/29 [00:00<00:23,  1.18it/s]\u001b[A\n",
            "  7%|▋         | 2/29 [00:01<00:18,  1.44it/s]\u001b[A\n",
            " 10%|█         | 3/29 [00:02<00:16,  1.55it/s]\u001b[A\n",
            " 14%|█▍        | 4/29 [00:02<00:15,  1.61it/s]\u001b[A\n",
            " 17%|█▋        | 5/29 [00:03<00:14,  1.63it/s]\u001b[A\n",
            " 21%|██        | 6/29 [00:03<00:13,  1.65it/s]\u001b[A\n",
            " 24%|██▍       | 7/29 [00:04<00:13,  1.66it/s]\u001b[A\n",
            " 28%|██▊       | 8/29 [00:04<00:12,  1.67it/s]\u001b[A\n",
            " 31%|███       | 9/29 [00:05<00:11,  1.68it/s]\u001b[A\n",
            " 34%|███▍      | 10/29 [00:06<00:11,  1.68it/s]\u001b[A\n",
            " 38%|███▊      | 11/29 [00:06<00:10,  1.69it/s]\u001b[A\n",
            " 41%|████▏     | 12/29 [00:07<00:10,  1.68it/s]\u001b[A\n",
            " 45%|████▍     | 13/29 [00:07<00:09,  1.69it/s]\u001b[A\n",
            " 48%|████▊     | 14/29 [00:08<00:08,  1.69it/s]\u001b[A\n",
            " 52%|█████▏    | 15/29 [00:09<00:08,  1.70it/s]\u001b[A\n",
            " 55%|█████▌    | 16/29 [00:09<00:07,  1.70it/s]\u001b[A\n",
            " 59%|█████▊    | 17/29 [00:10<00:07,  1.71it/s]\u001b[A\n",
            " 62%|██████▏   | 18/29 [00:10<00:06,  1.71it/s]\u001b[A\n",
            " 66%|██████▌   | 19/29 [00:11<00:05,  1.71it/s]\u001b[A\n",
            " 69%|██████▉   | 20/29 [00:12<00:05,  1.70it/s]\u001b[A\n",
            " 72%|███████▏  | 21/29 [00:12<00:04,  1.71it/s]\u001b[A\n",
            " 76%|███████▌  | 22/29 [00:13<00:04,  1.71it/s]\u001b[A\n",
            " 79%|███████▉  | 23/29 [00:13<00:03,  1.71it/s]\u001b[A\n",
            " 83%|████████▎ | 24/29 [00:14<00:02,  1.71it/s]\u001b[A\n",
            " 86%|████████▌ | 25/29 [00:14<00:02,  1.71it/s]\u001b[A\n",
            " 90%|████████▉ | 26/29 [00:15<00:01,  1.71it/s]\u001b[A\n",
            " 93%|█████████▎| 27/29 [00:16<00:01,  1.69it/s]\u001b[A\n",
            "100%|██████████| 29/29 [00:16<00:00,  1.72it/s]\n"
          ]
        },
        {
          "metadata": {
            "tags": null
          },
          "name": "stdout",
          "output_type": "stream",
          "text": [
            "Validation at epoch 9 Mean IOU: 55.1\n",
            "Validation at epoch 9 Mean F1 best: 0.7722\n",
            "Validation at epoch 9 Mean F1 fixed: 0.6721\n",
            "Validation at epoch 9 Mean AP: 0.7676\n"
          ]
        },
        {
          "metadata": {
            "tags": null
          },
          "name": "stderr",
          "output_type": "stream",
          "text": [
            "\r 33%|███▎      | 10/30 [1:02:42<2:05:22, 376.12s/it]"
          ]
        },
        {
          "metadata": {
            "tags": null
          },
          "name": "stdout",
          "output_type": "stream",
          "text": [
            "Best model saved at epoch 9!\n",
            "\n",
            "Epoch: 10\n",
            "Train Loss: 0.0491 at step 2850 \t Iter time: 1.33\n",
            "Train Loss: 0.0450 at step 2900 \t Iter time: 1.33\n",
            "Train Loss: 0.0580 at step 2950 \t Iter time: 1.33\n",
            "Train Loss: 0.0513 at step 3000 \t Iter time: 1.33\n",
            "Train Loss: 0.0566 at step 3050 \t Iter time: 1.33\n",
            "Train Loss: 0.0525 at step 3100 \t Iter time: 1.33\n",
            "Average Train Loss: 0.0000\n",
            "Train epoch 10 Mean IOU: 77.57\n",
            "Train epoch 10 Mean F1 best: 0.9429\n",
            "Train epoch 10 Mean F1 fixed: 0.9035\n",
            "Train epoch 10 Mean AP: 0.9304\n",
            "Validation:\n",
            "Length of dataset:  900\n"
          ]
        },
        {
          "metadata": {
            "tags": null
          },
          "name": "stderr",
          "output_type": "stream",
          "text": [
            "\n",
            "  0%|          | 0/29 [00:00<?, ?it/s]\u001b[A\n",
            "  3%|▎         | 1/29 [00:00<00:25,  1.11it/s]\u001b[A\n",
            "  7%|▋         | 2/29 [00:01<00:19,  1.40it/s]\u001b[A\n",
            " 10%|█         | 3/29 [00:02<00:17,  1.52it/s]\u001b[A\n",
            " 14%|█▍        | 4/29 [00:02<00:15,  1.59it/s]\u001b[A\n",
            " 17%|█▋        | 5/29 [00:03<00:14,  1.64it/s]\u001b[A\n",
            " 21%|██        | 6/29 [00:03<00:13,  1.66it/s]\u001b[A\n",
            " 24%|██▍       | 7/29 [00:04<00:13,  1.68it/s]\u001b[A\n",
            " 28%|██▊       | 8/29 [00:04<00:12,  1.69it/s]\u001b[A\n",
            " 31%|███       | 9/29 [00:05<00:11,  1.70it/s]\u001b[A\n",
            " 34%|███▍      | 10/29 [00:06<00:11,  1.69it/s]\u001b[A\n",
            " 38%|███▊      | 11/29 [00:06<00:10,  1.70it/s]\u001b[A\n",
            " 41%|████▏     | 12/29 [00:07<00:09,  1.70it/s]\u001b[A\n",
            " 45%|████▍     | 13/29 [00:07<00:09,  1.71it/s]\u001b[A\n",
            " 48%|████▊     | 14/29 [00:08<00:08,  1.71it/s]\u001b[A\n",
            " 52%|█████▏    | 15/29 [00:09<00:08,  1.71it/s]\u001b[A\n",
            " 55%|█████▌    | 16/29 [00:09<00:07,  1.71it/s]\u001b[A\n",
            " 59%|█████▊    | 17/29 [00:10<00:07,  1.70it/s]\u001b[A\n",
            " 62%|██████▏   | 18/29 [00:10<00:06,  1.71it/s]\u001b[A\n",
            " 66%|██████▌   | 19/29 [00:11<00:05,  1.71it/s]\u001b[A\n",
            " 69%|██████▉   | 20/29 [00:12<00:05,  1.71it/s]\u001b[A\n",
            " 72%|███████▏  | 21/29 [00:12<00:04,  1.71it/s]\u001b[A\n",
            " 76%|███████▌  | 22/29 [00:13<00:04,  1.71it/s]\u001b[A\n",
            " 79%|███████▉  | 23/29 [00:13<00:03,  1.71it/s]\u001b[A\n",
            " 83%|████████▎ | 24/29 [00:14<00:02,  1.71it/s]\u001b[A\n",
            " 86%|████████▌ | 25/29 [00:14<00:02,  1.71it/s]\u001b[A\n",
            " 90%|████████▉ | 26/29 [00:15<00:01,  1.71it/s]\u001b[A\n",
            " 93%|█████████▎| 27/29 [00:16<00:01,  1.71it/s]\u001b[A\n",
            "100%|██████████| 29/29 [00:16<00:00,  1.73it/s]\n",
            " 37%|███▋      | 11/30 [1:08:58<1:59:00, 375.83s/it]"
          ]
        },
        {
          "metadata": {
            "tags": null
          },
          "name": "stdout",
          "output_type": "stream",
          "text": [
            "Validation at epoch 10 Mean IOU: 53.95\n",
            "Validation at epoch 10 Mean F1 best: 0.7888\n",
            "Validation at epoch 10 Mean F1 fixed: 0.6809\n",
            "Validation at epoch 10 Mean AP: 0.7734\n",
            "Early Stopping counter: 1 out of 5\n",
            "\n",
            "Epoch: 11\n",
            "Train Loss: 0.0512 at step 3150 \t Iter time: 1.33\n",
            "Train Loss: 0.0485 at step 3200 \t Iter time: 1.33\n",
            "Train Loss: 0.0414 at step 3250 \t Iter time: 1.33\n",
            "Train Loss: 0.0661 at step 3300 \t Iter time: 1.33\n",
            "Train Loss: 0.0541 at step 3350 \t Iter time: 1.33\n",
            "Average Train Loss: 0.0000\n",
            "Train epoch 11 Mean IOU: 78.34\n",
            "Train epoch 11 Mean F1 best: 0.9491\n",
            "Train epoch 11 Mean F1 fixed: 0.9127\n",
            "Train epoch 11 Mean AP: 0.9361\n",
            "Validation:\n",
            "Length of dataset:  900\n"
          ]
        },
        {
          "metadata": {
            "tags": null
          },
          "name": "stderr",
          "output_type": "stream",
          "text": [
            "\n",
            "  0%|          | 0/29 [00:00<?, ?it/s]\u001b[A\n",
            "  3%|▎         | 1/29 [00:00<00:22,  1.24it/s]\u001b[A\n",
            "  7%|▋         | 2/29 [00:01<00:18,  1.48it/s]\u001b[A\n",
            " 10%|█         | 3/29 [00:01<00:16,  1.58it/s]\u001b[A\n",
            " 14%|█▍        | 4/29 [00:02<00:15,  1.63it/s]\u001b[A\n",
            " 17%|█▋        | 5/29 [00:03<00:14,  1.66it/s]\u001b[A\n",
            " 21%|██        | 6/29 [00:03<00:13,  1.68it/s]\u001b[A\n",
            " 24%|██▍       | 7/29 [00:04<00:13,  1.69it/s]\u001b[A\n",
            " 28%|██▊       | 8/29 [00:04<00:12,  1.70it/s]\u001b[A\n",
            " 31%|███       | 9/29 [00:05<00:11,  1.70it/s]\u001b[A\n",
            " 34%|███▍      | 10/29 [00:06<00:11,  1.70it/s]\u001b[A\n",
            " 38%|███▊      | 11/29 [00:06<00:10,  1.70it/s]\u001b[A\n",
            " 41%|████▏     | 12/29 [00:07<00:10,  1.69it/s]\u001b[A\n",
            " 45%|████▍     | 13/29 [00:07<00:09,  1.68it/s]\u001b[A\n",
            " 48%|████▊     | 14/29 [00:08<00:08,  1.69it/s]\u001b[A\n",
            " 52%|█████▏    | 15/29 [00:09<00:08,  1.69it/s]\u001b[A\n",
            " 55%|█████▌    | 16/29 [00:09<00:07,  1.70it/s]\u001b[A\n",
            " 59%|█████▊    | 17/29 [00:10<00:07,  1.70it/s]\u001b[A\n",
            " 62%|██████▏   | 18/29 [00:10<00:06,  1.70it/s]\u001b[A\n",
            " 66%|██████▌   | 19/29 [00:11<00:05,  1.70it/s]\u001b[A\n",
            " 69%|██████▉   | 20/29 [00:11<00:05,  1.70it/s]\u001b[A\n",
            " 72%|███████▏  | 21/29 [00:12<00:04,  1.70it/s]\u001b[A\n",
            " 76%|███████▌  | 22/29 [00:13<00:04,  1.70it/s]\u001b[A\n",
            " 79%|███████▉  | 23/29 [00:13<00:03,  1.70it/s]\u001b[A\n",
            " 83%|████████▎ | 24/29 [00:14<00:02,  1.70it/s]\u001b[A\n",
            " 86%|████████▌ | 25/29 [00:14<00:02,  1.70it/s]\u001b[A\n",
            " 90%|████████▉ | 26/29 [00:15<00:01,  1.71it/s]\u001b[A\n",
            " 93%|█████████▎| 27/29 [00:16<00:01,  1.71it/s]\u001b[A\n",
            "100%|██████████| 29/29 [00:16<00:00,  1.73it/s]\n",
            " 40%|████      | 12/30 [1:15:13<1:52:42, 375.70s/it]"
          ]
        },
        {
          "metadata": {
            "tags": null
          },
          "name": "stdout",
          "output_type": "stream",
          "text": [
            "Validation at epoch 11 Mean IOU: 54.71\n",
            "Validation at epoch 11 Mean F1 best: 0.7445\n",
            "Validation at epoch 11 Mean F1 fixed: 0.6543\n",
            "Validation at epoch 11 Mean AP: 0.7387\n",
            "Early Stopping counter: 2 out of 5\n",
            "\n",
            "Epoch: 12\n",
            "Train Loss: 0.0841 at step 3400 \t Iter time: 1.33\n",
            "Train Loss: 0.0501 at step 3450 \t Iter time: 1.33\n",
            "Train Loss: 0.0469 at step 3500 \t Iter time: 1.33\n",
            "Train Loss: 0.0350 at step 3550 \t Iter time: 1.33\n",
            "Train Loss: 0.0491 at step 3600 \t Iter time: 1.33\n",
            "Train Loss: 0.0551 at step 3650 \t Iter time: 1.33\n",
            "Average Train Loss: 0.0000\n",
            "Train epoch 12 Mean IOU: 78.56\n",
            "Train epoch 12 Mean F1 best: 0.9514\n",
            "Train epoch 12 Mean F1 fixed: 0.9135\n",
            "Train epoch 12 Mean AP: 0.9361\n",
            "Validation:\n",
            "Length of dataset:  900\n"
          ]
        },
        {
          "metadata": {
            "tags": null
          },
          "name": "stderr",
          "output_type": "stream",
          "text": [
            "\n",
            "  0%|          | 0/29 [00:00<?, ?it/s]\u001b[A\n",
            "  3%|▎         | 1/29 [00:00<00:22,  1.26it/s]\u001b[A\n",
            "  7%|▋         | 2/29 [00:01<00:18,  1.49it/s]\u001b[A\n",
            " 10%|█         | 3/29 [00:01<00:16,  1.58it/s]\u001b[A\n",
            " 14%|█▍        | 4/29 [00:02<00:15,  1.63it/s]\u001b[A\n",
            " 17%|█▋        | 5/29 [00:03<00:14,  1.66it/s]\u001b[A\n",
            " 21%|██        | 6/29 [00:03<00:13,  1.67it/s]\u001b[A\n",
            " 24%|██▍       | 7/29 [00:04<00:13,  1.69it/s]\u001b[A\n",
            " 28%|██▊       | 8/29 [00:04<00:12,  1.70it/s]\u001b[A\n",
            " 31%|███       | 9/29 [00:05<00:11,  1.70it/s]\u001b[A\n",
            " 34%|███▍      | 10/29 [00:06<00:11,  1.71it/s]\u001b[A\n",
            " 38%|███▊      | 11/29 [00:06<00:10,  1.71it/s]\u001b[A\n",
            " 41%|████▏     | 12/29 [00:07<00:09,  1.71it/s]\u001b[A\n",
            " 45%|████▍     | 13/29 [00:07<00:09,  1.71it/s]\u001b[A\n",
            " 48%|████▊     | 14/29 [00:08<00:08,  1.72it/s]\u001b[A\n",
            " 52%|█████▏    | 15/29 [00:08<00:08,  1.72it/s]\u001b[A\n",
            " 55%|█████▌    | 16/29 [00:09<00:07,  1.72it/s]\u001b[A\n",
            " 59%|█████▊    | 17/29 [00:10<00:06,  1.72it/s]\u001b[A\n",
            " 62%|██████▏   | 18/29 [00:10<00:06,  1.72it/s]\u001b[A\n",
            " 66%|██████▌   | 19/29 [00:11<00:05,  1.72it/s]\u001b[A\n",
            " 69%|██████▉   | 20/29 [00:11<00:05,  1.72it/s]\u001b[A\n",
            " 72%|███████▏  | 21/29 [00:12<00:04,  1.72it/s]\u001b[A\n",
            " 76%|███████▌  | 22/29 [00:13<00:04,  1.72it/s]\u001b[A\n",
            " 79%|███████▉  | 23/29 [00:13<00:03,  1.72it/s]\u001b[A\n",
            " 83%|████████▎ | 24/29 [00:14<00:02,  1.72it/s]\u001b[A\n",
            " 86%|████████▌ | 25/29 [00:14<00:02,  1.72it/s]\u001b[A\n",
            " 90%|████████▉ | 26/29 [00:15<00:01,  1.72it/s]\u001b[A\n",
            " 93%|█████████▎| 27/29 [00:15<00:01,  1.72it/s]\u001b[A\n",
            "100%|██████████| 29/29 [00:16<00:00,  1.75it/s]\n",
            " 43%|████▎     | 13/30 [1:21:28<1:46:25, 375.59s/it]"
          ]
        },
        {
          "metadata": {
            "tags": null
          },
          "name": "stdout",
          "output_type": "stream",
          "text": [
            "Validation at epoch 12 Mean IOU: 54.4\n",
            "Validation at epoch 12 Mean F1 best: 0.7353\n",
            "Validation at epoch 12 Mean F1 fixed: 0.6253\n",
            "Validation at epoch 12 Mean AP: 0.7414\n",
            "Early Stopping counter: 3 out of 5\n",
            "\n",
            "Epoch: 13\n",
            "Train Loss: 0.0428 at step 3700 \t Iter time: 1.33\n",
            "Train Loss: 0.0421 at step 3750 \t Iter time: 1.33\n",
            "Train Loss: 0.0410 at step 3800 \t Iter time: 1.33\n",
            "Train Loss: 0.0419 at step 3850 \t Iter time: 1.33\n",
            "Train Loss: 0.0420 at step 3900 \t Iter time: 1.33\n",
            "Average Train Loss: 0.0000\n",
            "Train epoch 13 Mean IOU: 80.73\n",
            "Train epoch 13 Mean F1 best: 0.9606\n",
            "Train epoch 13 Mean F1 fixed: 0.9345\n",
            "Train epoch 13 Mean AP: 0.9491\n",
            "Validation:\n",
            "Length of dataset:  900\n"
          ]
        },
        {
          "metadata": {
            "tags": null
          },
          "name": "stderr",
          "output_type": "stream",
          "text": [
            "\n",
            "  0%|          | 0/29 [00:00<?, ?it/s]\u001b[A\n",
            "  3%|▎         | 1/29 [00:00<00:25,  1.08it/s]\u001b[A\n",
            "  7%|▋         | 2/29 [00:01<00:19,  1.38it/s]\u001b[A\n",
            " 10%|█         | 3/29 [00:02<00:17,  1.51it/s]\u001b[A\n",
            " 14%|█▍        | 4/29 [00:02<00:15,  1.58it/s]\u001b[A\n",
            " 17%|█▋        | 5/29 [00:03<00:14,  1.63it/s]\u001b[A\n",
            " 21%|██        | 6/29 [00:03<00:13,  1.66it/s]\u001b[A\n",
            " 24%|██▍       | 7/29 [00:04<00:13,  1.67it/s]\u001b[A\n",
            " 28%|██▊       | 8/29 [00:05<00:12,  1.69it/s]\u001b[A\n",
            " 31%|███       | 9/29 [00:05<00:11,  1.69it/s]\u001b[A\n",
            " 34%|███▍      | 10/29 [00:06<00:11,  1.70it/s]\u001b[A\n",
            " 38%|███▊      | 11/29 [00:06<00:10,  1.70it/s]\u001b[A\n",
            " 41%|████▏     | 12/29 [00:07<00:09,  1.71it/s]\u001b[A\n",
            " 45%|████▍     | 13/29 [00:07<00:09,  1.71it/s]\u001b[A\n",
            " 48%|████▊     | 14/29 [00:08<00:08,  1.71it/s]\u001b[A\n",
            " 52%|█████▏    | 15/29 [00:09<00:08,  1.71it/s]\u001b[A\n",
            " 55%|█████▌    | 16/29 [00:09<00:07,  1.71it/s]\u001b[A\n",
            " 59%|█████▊    | 17/29 [00:10<00:06,  1.72it/s]\u001b[A\n",
            " 62%|██████▏   | 18/29 [00:10<00:06,  1.72it/s]\u001b[A\n",
            " 66%|██████▌   | 19/29 [00:11<00:05,  1.72it/s]\u001b[A\n",
            " 69%|██████▉   | 20/29 [00:12<00:05,  1.72it/s]\u001b[A\n",
            " 72%|███████▏  | 21/29 [00:12<00:04,  1.71it/s]\u001b[A\n",
            " 76%|███████▌  | 22/29 [00:13<00:04,  1.71it/s]\u001b[A\n",
            " 79%|███████▉  | 23/29 [00:13<00:03,  1.71it/s]\u001b[A\n",
            " 83%|████████▎ | 24/29 [00:14<00:02,  1.71it/s]\u001b[A\n",
            " 86%|████████▌ | 25/29 [00:14<00:02,  1.71it/s]\u001b[A\n",
            " 90%|████████▉ | 26/29 [00:15<00:01,  1.71it/s]\u001b[A\n",
            " 93%|█████████▎| 27/29 [00:16<00:01,  1.71it/s]\u001b[A\n",
            "100%|██████████| 29/29 [00:16<00:00,  1.73it/s]\n",
            " 47%|████▋     | 14/30 [1:27:43<1:40:06, 375.44s/it]"
          ]
        },
        {
          "metadata": {
            "tags": null
          },
          "name": "stdout",
          "output_type": "stream",
          "text": [
            "Validation at epoch 13 Mean IOU: 52.52\n",
            "Validation at epoch 13 Mean F1 best: 0.7313\n",
            "Validation at epoch 13 Mean F1 fixed: 0.6143\n",
            "Validation at epoch 13 Mean AP: 0.7325\n",
            "Early Stopping counter: 4 out of 5\n",
            "\n",
            "Epoch: 14\n",
            "Train Loss: 0.0366 at step 3950 \t Iter time: 1.33\n",
            "Train Loss: 0.0324 at step 4000 \t Iter time: 1.33\n",
            "Train Loss: 0.0319 at step 4050 \t Iter time: 1.33\n",
            "Train Loss: 0.0384 at step 4100 \t Iter time: 1.33\n",
            "Train Loss: 0.0278 at step 4150 \t Iter time: 1.33\n",
            "Train Loss: 0.0343 at step 4200 \t Iter time: 1.33\n",
            "Average Train Loss: 0.0000\n",
            "Train epoch 14 Mean IOU: 82.9\n",
            "Train epoch 14 Mean F1 best: 0.9714\n",
            "Train epoch 14 Mean F1 fixed: 0.9513\n",
            "Train epoch 14 Mean AP: 0.9578\n",
            "Validation:\n",
            "Length of dataset:  900\n"
          ]
        },
        {
          "metadata": {
            "tags": null
          },
          "name": "stderr",
          "output_type": "stream",
          "text": [
            "\n",
            "  0%|          | 0/29 [00:00<?, ?it/s]\u001b[A\n",
            "  3%|▎         | 1/29 [00:00<00:25,  1.11it/s]\u001b[A\n",
            "  7%|▋         | 2/29 [00:01<00:19,  1.40it/s]\u001b[A\n",
            " 10%|█         | 3/29 [00:02<00:17,  1.53it/s]\u001b[A\n",
            " 14%|█▍        | 4/29 [00:02<00:15,  1.60it/s]\u001b[A\n",
            " 17%|█▋        | 5/29 [00:03<00:14,  1.65it/s]\u001b[A\n",
            " 21%|██        | 6/29 [00:03<00:13,  1.67it/s]\u001b[A\n",
            " 24%|██▍       | 7/29 [00:04<00:13,  1.68it/s]\u001b[A\n",
            " 28%|██▊       | 8/29 [00:04<00:12,  1.69it/s]\u001b[A\n",
            " 31%|███       | 9/29 [00:05<00:11,  1.70it/s]\u001b[A\n",
            " 34%|███▍      | 10/29 [00:06<00:11,  1.71it/s]\u001b[A\n",
            " 38%|███▊      | 11/29 [00:06<00:10,  1.71it/s]\u001b[A\n",
            " 41%|████▏     | 12/29 [00:07<00:09,  1.71it/s]\u001b[A\n",
            " 45%|████▍     | 13/29 [00:07<00:09,  1.71it/s]\u001b[A\n",
            " 48%|████▊     | 14/29 [00:08<00:08,  1.71it/s]\u001b[A\n",
            " 52%|█████▏    | 15/29 [00:09<00:08,  1.71it/s]\u001b[A\n",
            " 55%|█████▌    | 16/29 [00:09<00:07,  1.71it/s]\u001b[A\n",
            " 59%|█████▊    | 17/29 [00:10<00:07,  1.71it/s]\u001b[A\n",
            " 62%|██████▏   | 18/29 [00:10<00:06,  1.71it/s]\u001b[A\n",
            " 66%|██████▌   | 19/29 [00:11<00:05,  1.71it/s]\u001b[A\n",
            " 69%|██████▉   | 20/29 [00:11<00:05,  1.72it/s]\u001b[A\n",
            " 72%|███████▏  | 21/29 [00:12<00:04,  1.72it/s]\u001b[A\n",
            " 76%|███████▌  | 22/29 [00:13<00:04,  1.72it/s]\u001b[A\n",
            " 79%|███████▉  | 23/29 [00:13<00:03,  1.72it/s]\u001b[A\n",
            " 83%|████████▎ | 24/29 [00:14<00:02,  1.72it/s]\u001b[A\n",
            " 86%|████████▌ | 25/29 [00:14<00:02,  1.71it/s]\u001b[A\n",
            " 90%|████████▉ | 26/29 [00:15<00:01,  1.71it/s]\u001b[A\n",
            " 93%|█████████▎| 27/29 [00:16<00:01,  1.71it/s]\u001b[A\n",
            "100%|██████████| 29/29 [00:16<00:00,  1.73it/s]\n"
          ]
        },
        {
          "metadata": {
            "tags": null
          },
          "name": "stdout",
          "output_type": "stream",
          "text": [
            "Validation at epoch 14 Mean IOU: 57.38\n",
            "Validation at epoch 14 Mean F1 best: 0.7675\n",
            "Validation at epoch 14 Mean F1 fixed: 0.6644\n",
            "Validation at epoch 14 Mean AP: 0.7729\n"
          ]
        },
        {
          "metadata": {
            "tags": null
          },
          "name": "stderr",
          "output_type": "stream",
          "text": [
            "\r 50%|█████     | 15/30 [1:33:59<1:33:54, 375.64s/it]"
          ]
        },
        {
          "metadata": {
            "tags": null
          },
          "name": "stdout",
          "output_type": "stream",
          "text": [
            "Best model saved at epoch 14!\n",
            "\n",
            "Epoch: 15\n",
            "Train Loss: 0.0296 at step 4250 \t Iter time: 1.33\n",
            "Train Loss: 0.0333 at step 4300 \t Iter time: 1.33\n",
            "Train Loss: 0.0380 at step 4350 \t Iter time: 1.33\n",
            "Train Loss: 0.0280 at step 4400 \t Iter time: 1.33\n",
            "Train Loss: 0.0297 at step 4450 \t Iter time: 1.33\n",
            "Train Loss: 0.0383 at step 4500 \t Iter time: 1.33\n",
            "Average Train Loss: 0.0000\n",
            "Train epoch 15 Mean IOU: 84.67\n",
            "Train epoch 15 Mean F1 best: 0.9786\n",
            "Train epoch 15 Mean F1 fixed: 0.9669\n",
            "Train epoch 15 Mean AP: 0.9656\n",
            "Validation:\n",
            "Length of dataset:  900\n"
          ]
        },
        {
          "metadata": {
            "tags": null
          },
          "name": "stderr",
          "output_type": "stream",
          "text": [
            "\n",
            "  0%|          | 0/29 [00:00<?, ?it/s]\u001b[A\n",
            "  3%|▎         | 1/29 [00:00<00:25,  1.08it/s]\u001b[A\n",
            "  7%|▋         | 2/29 [00:01<00:19,  1.37it/s]\u001b[A\n",
            " 10%|█         | 3/29 [00:02<00:17,  1.50it/s]\u001b[A\n",
            " 14%|█▍        | 4/29 [00:02<00:15,  1.58it/s]\u001b[A\n",
            " 17%|█▋        | 5/29 [00:03<00:14,  1.61it/s]\u001b[A\n",
            " 21%|██        | 6/29 [00:03<00:13,  1.64it/s]\u001b[A\n",
            " 24%|██▍       | 7/29 [00:04<00:13,  1.66it/s]\u001b[A\n",
            " 28%|██▊       | 8/29 [00:05<00:12,  1.67it/s]\u001b[A\n",
            " 31%|███       | 9/29 [00:05<00:11,  1.68it/s]\u001b[A\n",
            " 34%|███▍      | 10/29 [00:06<00:11,  1.69it/s]\u001b[A\n",
            " 38%|███▊      | 11/29 [00:06<00:10,  1.69it/s]\u001b[A\n",
            " 41%|████▏     | 12/29 [00:07<00:10,  1.69it/s]\u001b[A\n",
            " 45%|████▍     | 13/29 [00:07<00:09,  1.69it/s]\u001b[A\n",
            " 48%|████▊     | 14/29 [00:08<00:08,  1.69it/s]\u001b[A\n",
            " 52%|█████▏    | 15/29 [00:09<00:08,  1.69it/s]\u001b[A\n",
            " 55%|█████▌    | 16/29 [00:09<00:07,  1.69it/s]\u001b[A\n",
            " 59%|█████▊    | 17/29 [00:10<00:07,  1.70it/s]\u001b[A\n",
            " 62%|██████▏   | 18/29 [00:10<00:06,  1.70it/s]\u001b[A\n",
            " 66%|██████▌   | 19/29 [00:11<00:05,  1.70it/s]\u001b[A\n",
            " 69%|██████▉   | 20/29 [00:12<00:05,  1.70it/s]\u001b[A\n",
            " 72%|███████▏  | 21/29 [00:12<00:04,  1.70it/s]\u001b[A\n",
            " 76%|███████▌  | 22/29 [00:13<00:04,  1.71it/s]\u001b[A\n",
            " 79%|███████▉  | 23/29 [00:13<00:03,  1.70it/s]\u001b[A\n",
            " 83%|████████▎ | 24/29 [00:14<00:02,  1.70it/s]\u001b[A\n",
            " 86%|████████▌ | 25/29 [00:15<00:02,  1.70it/s]\u001b[A\n",
            " 90%|████████▉ | 26/29 [00:15<00:01,  1.70it/s]\u001b[A\n",
            " 93%|█████████▎| 27/29 [00:16<00:01,  1.70it/s]\u001b[A\n",
            "100%|██████████| 29/29 [00:16<00:00,  1.72it/s]\n"
          ]
        },
        {
          "metadata": {
            "tags": null
          },
          "name": "stdout",
          "output_type": "stream",
          "text": [
            "Validation at epoch 15 Mean IOU: 57.69\n",
            "Validation at epoch 15 Mean F1 best: 0.7532\n",
            "Validation at epoch 15 Mean F1 fixed: 0.6666\n",
            "Validation at epoch 15 Mean AP: 0.7663\n"
          ]
        },
        {
          "metadata": {
            "tags": null
          },
          "name": "stderr",
          "output_type": "stream",
          "text": [
            "\r 53%|█████▎    | 16/30 [1:40:16<1:27:41, 375.81s/it]"
          ]
        },
        {
          "metadata": {
            "tags": null
          },
          "name": "stdout",
          "output_type": "stream",
          "text": [
            "Best model saved at epoch 15!\n",
            "\n",
            "Epoch: 16\n",
            "Train Loss: 0.0300 at step 4550 \t Iter time: 1.33\n",
            "Train Loss: 0.0287 at step 4600 \t Iter time: 1.33\n",
            "Train Loss: 0.0276 at step 4650 \t Iter time: 1.33\n",
            "Train Loss: 0.0288 at step 4700 \t Iter time: 1.33\n",
            "Train Loss: 0.0298 at step 4750 \t Iter time: 1.33\n",
            "Average Train Loss: 0.0000\n",
            "Train epoch 16 Mean IOU: 85.53\n",
            "Train epoch 16 Mean F1 best: 0.9814\n",
            "Train epoch 16 Mean F1 fixed: 0.9703\n",
            "Train epoch 16 Mean AP: 0.9691\n",
            "Validation:\n",
            "Length of dataset:  900\n"
          ]
        },
        {
          "metadata": {
            "tags": null
          },
          "name": "stderr",
          "output_type": "stream",
          "text": [
            "\n",
            "  0%|          | 0/29 [00:00<?, ?it/s]\u001b[A\n",
            "  3%|▎         | 1/29 [00:00<00:25,  1.08it/s]\u001b[A\n",
            "  7%|▋         | 2/29 [00:01<00:19,  1.38it/s]\u001b[A\n",
            " 10%|█         | 3/29 [00:02<00:17,  1.51it/s]\u001b[A\n",
            " 14%|█▍        | 4/29 [00:02<00:15,  1.59it/s]\u001b[A\n",
            " 17%|█▋        | 5/29 [00:03<00:14,  1.62it/s]\u001b[A\n",
            " 21%|██        | 6/29 [00:03<00:13,  1.65it/s]\u001b[A\n",
            " 24%|██▍       | 7/29 [00:04<00:13,  1.68it/s]\u001b[A\n",
            " 28%|██▊       | 8/29 [00:05<00:12,  1.69it/s]\u001b[A\n",
            " 31%|███       | 9/29 [00:05<00:11,  1.70it/s]\u001b[A\n",
            " 34%|███▍      | 10/29 [00:06<00:11,  1.71it/s]\u001b[A\n",
            " 38%|███▊      | 11/29 [00:06<00:10,  1.71it/s]\u001b[A\n",
            " 41%|████▏     | 12/29 [00:07<00:09,  1.71it/s]\u001b[A\n",
            " 45%|████▍     | 13/29 [00:07<00:09,  1.71it/s]\u001b[A\n",
            " 48%|████▊     | 14/29 [00:08<00:08,  1.71it/s]\u001b[A\n",
            " 52%|█████▏    | 15/29 [00:09<00:08,  1.71it/s]\u001b[A\n",
            " 55%|█████▌    | 16/29 [00:09<00:07,  1.71it/s]\u001b[A\n",
            " 59%|█████▊    | 17/29 [00:10<00:07,  1.71it/s]\u001b[A\n",
            " 62%|██████▏   | 18/29 [00:10<00:06,  1.71it/s]\u001b[A\n",
            " 66%|██████▌   | 19/29 [00:11<00:05,  1.71it/s]\u001b[A\n",
            " 69%|██████▉   | 20/29 [00:12<00:05,  1.71it/s]\u001b[A\n",
            " 72%|███████▏  | 21/29 [00:12<00:04,  1.72it/s]\u001b[A\n",
            " 76%|███████▌  | 22/29 [00:13<00:04,  1.72it/s]\u001b[A\n",
            " 79%|███████▉  | 23/29 [00:13<00:03,  1.71it/s]\u001b[A\n",
            " 83%|████████▎ | 24/29 [00:14<00:02,  1.71it/s]\u001b[A\n",
            " 86%|████████▌ | 25/29 [00:14<00:02,  1.71it/s]\u001b[A\n",
            " 90%|████████▉ | 26/29 [00:15<00:01,  1.71it/s]\u001b[A\n",
            " 93%|█████████▎| 27/29 [00:16<00:01,  1.72it/s]\u001b[A\n",
            "100%|██████████| 29/29 [00:16<00:00,  1.73it/s]\n",
            " 57%|█████▋    | 17/30 [1:46:31<1:21:24, 375.74s/it]"
          ]
        },
        {
          "metadata": {
            "tags": null
          },
          "name": "stdout",
          "output_type": "stream",
          "text": [
            "Validation at epoch 16 Mean IOU: 54.73\n",
            "Validation at epoch 16 Mean F1 best: 0.7809\n",
            "Validation at epoch 16 Mean F1 fixed: 0.676\n",
            "Validation at epoch 16 Mean AP: 0.7795\n",
            "Early Stopping counter: 1 out of 5\n",
            "\n",
            "Epoch: 17\n",
            "Train Loss: 0.0254 at step 4800 \t Iter time: 1.33\n",
            "Train Loss: 0.0246 at step 4850 \t Iter time: 1.33\n",
            "Train Loss: 0.0214 at step 4900 \t Iter time: 1.33\n",
            "Train Loss: 0.0325 at step 4950 \t Iter time: 1.33\n",
            "Train Loss: 0.0352 at step 5000 \t Iter time: 1.33\n",
            "Train Loss: 0.0632 at step 5050 \t Iter time: 1.33\n",
            "Average Train Loss: 0.0000\n",
            "Train epoch 17 Mean IOU: 84.24\n",
            "Train epoch 17 Mean F1 best: 0.9764\n",
            "Train epoch 17 Mean F1 fixed: 0.9592\n",
            "Train epoch 17 Mean AP: 0.9645\n",
            "Validation:\n",
            "Length of dataset:  900\n"
          ]
        },
        {
          "metadata": {
            "tags": null
          },
          "name": "stderr",
          "output_type": "stream",
          "text": [
            "\n",
            "  0%|          | 0/29 [00:00<?, ?it/s]\u001b[A\n",
            "  3%|▎         | 1/29 [00:00<00:23,  1.20it/s]\u001b[A\n",
            "  7%|▋         | 2/29 [00:01<00:18,  1.46it/s]\u001b[A\n",
            " 10%|█         | 3/29 [00:01<00:16,  1.57it/s]\u001b[A\n",
            " 14%|█▍        | 4/29 [00:02<00:15,  1.62it/s]\u001b[A\n",
            " 17%|█▋        | 5/29 [00:03<00:14,  1.66it/s]\u001b[A\n",
            " 21%|██        | 6/29 [00:03<00:13,  1.68it/s]\u001b[A\n",
            " 24%|██▍       | 7/29 [00:04<00:13,  1.69it/s]\u001b[A\n",
            " 28%|██▊       | 8/29 [00:04<00:12,  1.69it/s]\u001b[A\n",
            " 31%|███       | 9/29 [00:05<00:11,  1.69it/s]\u001b[A\n",
            " 34%|███▍      | 10/29 [00:06<00:11,  1.70it/s]\u001b[A\n",
            " 38%|███▊      | 11/29 [00:06<00:10,  1.70it/s]\u001b[A\n",
            " 41%|████▏     | 12/29 [00:07<00:09,  1.70it/s]\u001b[A\n",
            " 45%|████▍     | 13/29 [00:07<00:09,  1.71it/s]\u001b[A\n",
            " 48%|████▊     | 14/29 [00:08<00:08,  1.71it/s]\u001b[A\n",
            " 52%|█████▏    | 15/29 [00:09<00:08,  1.71it/s]\u001b[A\n",
            " 55%|█████▌    | 16/29 [00:09<00:07,  1.71it/s]\u001b[A\n",
            " 59%|█████▊    | 17/29 [00:10<00:07,  1.71it/s]\u001b[A\n",
            " 62%|██████▏   | 18/29 [00:10<00:06,  1.71it/s]\u001b[A\n",
            " 66%|██████▌   | 19/29 [00:11<00:05,  1.71it/s]\u001b[A\n",
            " 69%|██████▉   | 20/29 [00:11<00:05,  1.72it/s]\u001b[A\n",
            " 72%|███████▏  | 21/29 [00:12<00:04,  1.72it/s]\u001b[A\n",
            " 76%|███████▌  | 22/29 [00:13<00:04,  1.71it/s]\u001b[A\n",
            " 79%|███████▉  | 23/29 [00:13<00:03,  1.71it/s]\u001b[A\n",
            " 83%|████████▎ | 24/29 [00:14<00:02,  1.72it/s]\u001b[A\n",
            " 86%|████████▌ | 25/29 [00:14<00:02,  1.71it/s]\u001b[A\n",
            " 90%|████████▉ | 26/29 [00:15<00:01,  1.71it/s]\u001b[A\n",
            " 93%|█████████▎| 27/29 [00:16<00:01,  1.72it/s]\u001b[A\n",
            "100%|██████████| 29/29 [00:16<00:00,  1.74it/s]\n",
            " 60%|██████    | 18/30 [1:52:46<1:15:06, 375.52s/it]"
          ]
        },
        {
          "metadata": {
            "tags": null
          },
          "name": "stdout",
          "output_type": "stream",
          "text": [
            "Validation at epoch 17 Mean IOU: 48.99\n",
            "Validation at epoch 17 Mean F1 best: 0.7809\n",
            "Validation at epoch 17 Mean F1 fixed: 0.639\n",
            "Validation at epoch 17 Mean AP: 0.7484\n",
            "Early Stopping counter: 2 out of 5\n",
            "\n",
            "Epoch: 18\n",
            "Train Loss: 0.0353 at step 5100 \t Iter time: 1.33\n",
            "Train Loss: 0.0501 at step 5150 \t Iter time: 1.33\n",
            "Train Loss: 0.0332 at step 5200 \t Iter time: 1.33\n",
            "Train Loss: 0.0587 at step 5250 \t Iter time: 1.33\n",
            "Train Loss: 0.0381 at step 5300 \t Iter time: 1.33\n",
            "Train Loss: 0.0447 at step 5350 \t Iter time: 1.33\n",
            "Average Train Loss: 0.0000\n",
            "Train epoch 18 Mean IOU: 82.24\n",
            "Train epoch 18 Mean F1 best: 0.9655\n",
            "Train epoch 18 Mean F1 fixed: 0.9406\n",
            "Train epoch 18 Mean AP: 0.9551\n",
            "Validation:\n",
            "Length of dataset:  900\n"
          ]
        },
        {
          "metadata": {
            "tags": null
          },
          "name": "stderr",
          "output_type": "stream",
          "text": [
            "\n",
            "  0%|          | 0/29 [00:00<?, ?it/s]\u001b[A\n",
            "  3%|▎         | 1/29 [00:00<00:25,  1.11it/s]\u001b[A\n",
            "  7%|▋         | 2/29 [00:01<00:19,  1.39it/s]\u001b[A\n",
            " 10%|█         | 3/29 [00:02<00:17,  1.52it/s]\u001b[A\n",
            " 14%|█▍        | 4/29 [00:02<00:15,  1.59it/s]\u001b[A\n",
            " 17%|█▋        | 5/29 [00:03<00:14,  1.63it/s]\u001b[A\n",
            " 21%|██        | 6/29 [00:03<00:13,  1.66it/s]\u001b[A\n",
            " 24%|██▍       | 7/29 [00:04<00:13,  1.68it/s]\u001b[A\n",
            " 28%|██▊       | 8/29 [00:04<00:12,  1.69it/s]\u001b[A\n",
            " 31%|███       | 9/29 [00:05<00:11,  1.70it/s]\u001b[A\n",
            " 34%|███▍      | 10/29 [00:06<00:11,  1.71it/s]\u001b[A\n",
            " 38%|███▊      | 11/29 [00:06<00:10,  1.71it/s]\u001b[A\n",
            " 41%|████▏     | 12/29 [00:07<00:09,  1.71it/s]\u001b[A\n",
            " 45%|████▍     | 13/29 [00:07<00:09,  1.71it/s]\u001b[A\n",
            " 48%|████▊     | 14/29 [00:08<00:08,  1.71it/s]\u001b[A\n",
            " 52%|█████▏    | 15/29 [00:09<00:08,  1.71it/s]\u001b[A\n",
            " 55%|█████▌    | 16/29 [00:09<00:07,  1.71it/s]\u001b[A\n",
            " 59%|█████▊    | 17/29 [00:10<00:06,  1.71it/s]\u001b[A\n",
            " 62%|██████▏   | 18/29 [00:10<00:06,  1.72it/s]\u001b[A\n",
            " 66%|██████▌   | 19/29 [00:11<00:05,  1.71it/s]\u001b[A\n",
            " 69%|██████▉   | 20/29 [00:11<00:05,  1.71it/s]\u001b[A\n",
            " 72%|███████▏  | 21/29 [00:12<00:04,  1.72it/s]\u001b[A\n",
            " 76%|███████▌  | 22/29 [00:13<00:04,  1.72it/s]\u001b[A\n",
            " 79%|███████▉  | 23/29 [00:13<00:03,  1.72it/s]\u001b[A\n",
            " 83%|████████▎ | 24/29 [00:14<00:02,  1.72it/s]\u001b[A\n",
            " 86%|████████▌ | 25/29 [00:14<00:02,  1.72it/s]\u001b[A\n",
            " 90%|████████▉ | 26/29 [00:15<00:01,  1.72it/s]\u001b[A\n",
            " 93%|█████████▎| 27/29 [00:16<00:01,  1.72it/s]\u001b[A\n",
            "100%|██████████| 29/29 [00:16<00:00,  1.73it/s]\n",
            " 63%|██████▎   | 19/30 [1:59:02<1:08:51, 375.63s/it]"
          ]
        },
        {
          "metadata": {
            "tags": null
          },
          "name": "stdout",
          "output_type": "stream",
          "text": [
            "Validation at epoch 18 Mean IOU: 49.92\n",
            "Validation at epoch 18 Mean F1 best: 0.7342\n",
            "Validation at epoch 18 Mean F1 fixed: 0.6171\n",
            "Validation at epoch 18 Mean AP: 0.7223\n",
            "Early Stopping counter: 3 out of 5\n",
            "\n",
            "Epoch: 19\n",
            "Train Loss: 0.0375 at step 5400 \t Iter time: 1.33\n",
            "Train Loss: 0.0313 at step 5450 \t Iter time: 1.33\n",
            "Train Loss: 0.0351 at step 5500 \t Iter time: 1.33\n",
            "Train Loss: 0.0358 at step 5550 \t Iter time: 1.33\n",
            "Train Loss: 0.0316 at step 5600 \t Iter time: 1.33\n",
            "Average Train Loss: 0.0000\n",
            "Train epoch 19 Mean IOU: 83.23\n",
            "Train epoch 19 Mean F1 best: 0.9666\n",
            "Train epoch 19 Mean F1 fixed: 0.9458\n",
            "Train epoch 19 Mean AP: 0.9587\n",
            "Validation:\n",
            "Length of dataset:  900\n"
          ]
        },
        {
          "metadata": {
            "tags": null
          },
          "name": "stderr",
          "output_type": "stream",
          "text": [
            "\n",
            "  0%|          | 0/29 [00:00<?, ?it/s]\u001b[A\n",
            "  3%|▎         | 1/29 [00:00<00:22,  1.27it/s]\u001b[A\n",
            "  7%|▋         | 2/29 [00:01<00:17,  1.50it/s]\u001b[A\n",
            " 10%|█         | 3/29 [00:01<00:16,  1.59it/s]\u001b[A\n",
            " 14%|█▍        | 4/29 [00:02<00:15,  1.64it/s]\u001b[A\n",
            " 17%|█▋        | 5/29 [00:03<00:14,  1.67it/s]\u001b[A\n",
            " 21%|██        | 6/29 [00:03<00:13,  1.68it/s]\u001b[A\n",
            " 24%|██▍       | 7/29 [00:04<00:12,  1.70it/s]\u001b[A\n",
            " 28%|██▊       | 8/29 [00:04<00:12,  1.70it/s]\u001b[A\n",
            " 31%|███       | 9/29 [00:05<00:11,  1.70it/s]\u001b[A\n",
            " 34%|███▍      | 10/29 [00:06<00:11,  1.70it/s]\u001b[A\n",
            " 38%|███▊      | 11/29 [00:06<00:10,  1.71it/s]\u001b[A\n",
            " 41%|████▏     | 12/29 [00:07<00:09,  1.71it/s]\u001b[A\n",
            " 45%|████▍     | 13/29 [00:07<00:09,  1.71it/s]\u001b[A\n",
            " 48%|████▊     | 14/29 [00:08<00:08,  1.71it/s]\u001b[A\n",
            " 52%|█████▏    | 15/29 [00:08<00:08,  1.71it/s]\u001b[A\n",
            " 55%|█████▌    | 16/29 [00:09<00:07,  1.70it/s]\u001b[A\n",
            " 59%|█████▊    | 17/29 [00:10<00:07,  1.71it/s]\u001b[A\n",
            " 62%|██████▏   | 18/29 [00:10<00:06,  1.71it/s]\u001b[A\n",
            " 66%|██████▌   | 19/29 [00:11<00:05,  1.71it/s]\u001b[A\n",
            " 69%|██████▉   | 20/29 [00:11<00:05,  1.71it/s]\u001b[A\n",
            " 72%|███████▏  | 21/29 [00:12<00:04,  1.71it/s]\u001b[A\n",
            " 76%|███████▌  | 22/29 [00:13<00:04,  1.72it/s]\u001b[A\n",
            " 79%|███████▉  | 23/29 [00:13<00:03,  1.72it/s]\u001b[A\n",
            " 83%|████████▎ | 24/29 [00:14<00:02,  1.72it/s]\u001b[A\n",
            " 86%|████████▌ | 25/29 [00:14<00:02,  1.72it/s]\u001b[A\n",
            " 90%|████████▉ | 26/29 [00:15<00:01,  1.72it/s]\u001b[A\n",
            " 93%|█████████▎| 27/29 [00:15<00:01,  1.72it/s]\u001b[A\n",
            "100%|██████████| 29/29 [00:16<00:00,  1.75it/s]\n",
            " 67%|██████▋   | 20/30 [2:05:17<1:02:34, 375.49s/it]"
          ]
        },
        {
          "metadata": {
            "tags": null
          },
          "name": "stdout",
          "output_type": "stream",
          "text": [
            "Validation at epoch 19 Mean IOU: 55.01\n",
            "Validation at epoch 19 Mean F1 best: 0.7717\n",
            "Validation at epoch 19 Mean F1 fixed: 0.6554\n",
            "Validation at epoch 19 Mean AP: 0.7772\n",
            "Early Stopping counter: 4 out of 5\n",
            "\n",
            "Epoch: 20\n",
            "Train Loss: 0.0408 at step 5650 \t Iter time: 1.33\n",
            "Train Loss: 0.0373 at step 5700 \t Iter time: 1.33\n",
            "Train Loss: 0.0380 at step 5750 \t Iter time: 1.33\n",
            "Train Loss: 0.0280 at step 5800 \t Iter time: 1.33\n",
            "Train Loss: 0.0315 at step 5850 \t Iter time: 1.33\n",
            "Train Loss: 0.0277 at step 5900 \t Iter time: 1.33\n",
            "Average Train Loss: 0.0000\n",
            "Train epoch 20 Mean IOU: 85.82\n",
            "Train epoch 20 Mean F1 best: 0.9796\n",
            "Train epoch 20 Mean F1 fixed: 0.9673\n",
            "Train epoch 20 Mean AP: 0.9707\n",
            "Validation:\n",
            "Length of dataset:  900\n"
          ]
        },
        {
          "metadata": {
            "tags": null
          },
          "name": "stderr",
          "output_type": "stream",
          "text": [
            "\n",
            "  0%|          | 0/29 [00:00<?, ?it/s]\u001b[A\n",
            "  3%|▎         | 1/29 [00:00<00:22,  1.23it/s]\u001b[A\n",
            "  7%|▋         | 2/29 [00:01<00:18,  1.47it/s]\u001b[A\n",
            " 10%|█         | 3/29 [00:01<00:16,  1.57it/s]\u001b[A\n",
            " 14%|█▍        | 4/29 [00:02<00:15,  1.63it/s]\u001b[A\n",
            " 17%|█▋        | 5/29 [00:03<00:14,  1.66it/s]\u001b[A\n",
            " 21%|██        | 6/29 [00:03<00:13,  1.68it/s]\u001b[A\n",
            " 24%|██▍       | 7/29 [00:04<00:12,  1.69it/s]\u001b[A\n",
            " 28%|██▊       | 8/29 [00:04<00:12,  1.70it/s]\u001b[A\n",
            " 31%|███       | 9/29 [00:05<00:11,  1.71it/s]\u001b[A\n",
            " 34%|███▍      | 10/29 [00:06<00:11,  1.71it/s]\u001b[A\n",
            " 38%|███▊      | 11/29 [00:06<00:10,  1.71it/s]\u001b[A\n",
            " 41%|████▏     | 12/29 [00:07<00:09,  1.70it/s]\u001b[A\n",
            " 45%|████▍     | 13/29 [00:07<00:09,  1.70it/s]\u001b[A\n",
            " 48%|████▊     | 14/29 [00:08<00:08,  1.71it/s]\u001b[A\n",
            " 52%|█████▏    | 15/29 [00:08<00:08,  1.71it/s]\u001b[A\n",
            " 55%|█████▌    | 16/29 [00:09<00:07,  1.71it/s]\u001b[A\n",
            " 59%|█████▊    | 17/29 [00:10<00:07,  1.71it/s]\u001b[A\n",
            " 62%|██████▏   | 18/29 [00:10<00:06,  1.71it/s]\u001b[A\n",
            " 66%|██████▌   | 19/29 [00:11<00:05,  1.71it/s]\u001b[A\n",
            " 69%|██████▉   | 20/29 [00:11<00:05,  1.71it/s]\u001b[A\n",
            " 72%|███████▏  | 21/29 [00:12<00:04,  1.71it/s]\u001b[A\n",
            " 76%|███████▌  | 22/29 [00:13<00:04,  1.72it/s]\u001b[A\n",
            " 79%|███████▉  | 23/29 [00:13<00:03,  1.72it/s]\u001b[A\n",
            " 83%|████████▎ | 24/29 [00:14<00:02,  1.72it/s]\u001b[A\n",
            " 86%|████████▌ | 25/29 [00:14<00:02,  1.72it/s]\u001b[A\n",
            " 90%|████████▉ | 26/29 [00:15<00:01,  1.72it/s]\u001b[A\n",
            " 93%|█████████▎| 27/29 [00:15<00:01,  1.71it/s]\u001b[A\n",
            "100%|██████████| 29/29 [00:16<00:00,  1.74it/s]\n",
            " 70%|███████   | 21/30 [2:11:32<56:18, 375.35s/it]  "
          ]
        },
        {
          "metadata": {
            "tags": null
          },
          "name": "stdout",
          "output_type": "stream",
          "text": [
            "Validation at epoch 20 Mean IOU: 56.67\n",
            "Validation at epoch 20 Mean F1 best: 0.753\n",
            "Validation at epoch 20 Mean F1 fixed: 0.6623\n",
            "Validation at epoch 20 Mean AP: 0.7648\n",
            "Early Stopping counter: 5 out of 5\n",
            "Early stopping triggered\n",
            "Continuing training with a learning rate reduced by a factor of 10\n",
            "\n",
            "Epoch: 21\n",
            "Train Loss: 0.0261 at step 5950 \t Iter time: 1.33\n",
            "Train Loss: 0.0293 at step 6000 \t Iter time: 1.33\n",
            "Train Loss: 0.0198 at step 6050 \t Iter time: 1.33\n",
            "Train Loss: 0.0236 at step 6100 \t Iter time: 1.33\n",
            "Train Loss: 0.0233 at step 6150 \t Iter time: 1.33\n",
            "Train Loss: 0.0179 at step 6200 \t Iter time: 1.33\n",
            "Average Train Loss: 0.0000\n",
            "Train epoch 21 Mean IOU: 88.4\n",
            "Train epoch 21 Mean F1 best: 0.9892\n",
            "Train epoch 21 Mean F1 fixed: 0.9848\n",
            "Train epoch 21 Mean AP: 0.9801\n",
            "Validation:\n",
            "Length of dataset:  900\n"
          ]
        },
        {
          "metadata": {
            "tags": null
          },
          "name": "stderr",
          "output_type": "stream",
          "text": [
            "\n",
            "  0%|          | 0/29 [00:00<?, ?it/s]\u001b[A\n",
            "  3%|▎         | 1/29 [00:00<00:26,  1.07it/s]\u001b[A\n",
            "  7%|▋         | 2/29 [00:01<00:19,  1.36it/s]\u001b[A\n",
            " 10%|█         | 3/29 [00:02<00:17,  1.50it/s]\u001b[A\n",
            " 14%|█▍        | 4/29 [00:02<00:15,  1.57it/s]\u001b[A\n",
            " 17%|█▋        | 5/29 [00:03<00:14,  1.62it/s]\u001b[A\n",
            " 21%|██        | 6/29 [00:03<00:13,  1.65it/s]\u001b[A\n",
            " 24%|██▍       | 7/29 [00:04<00:13,  1.67it/s]\u001b[A\n",
            " 28%|██▊       | 8/29 [00:05<00:12,  1.69it/s]\u001b[A\n",
            " 31%|███       | 9/29 [00:05<00:11,  1.70it/s]\u001b[A\n",
            " 34%|███▍      | 10/29 [00:06<00:11,  1.70it/s]\u001b[A\n",
            " 38%|███▊      | 11/29 [00:06<00:10,  1.71it/s]\u001b[A\n",
            " 41%|████▏     | 12/29 [00:07<00:09,  1.71it/s]\u001b[A\n",
            " 45%|████▍     | 13/29 [00:07<00:09,  1.71it/s]\u001b[A\n",
            " 48%|████▊     | 14/29 [00:08<00:08,  1.71it/s]\u001b[A\n",
            " 52%|█████▏    | 15/29 [00:09<00:08,  1.72it/s]\u001b[A\n",
            " 55%|█████▌    | 16/29 [00:09<00:07,  1.71it/s]\u001b[A\n",
            " 59%|█████▊    | 17/29 [00:10<00:07,  1.71it/s]\u001b[A\n",
            " 62%|██████▏   | 18/29 [00:10<00:06,  1.71it/s]\u001b[A\n",
            " 66%|██████▌   | 19/29 [00:11<00:05,  1.71it/s]\u001b[A\n",
            " 69%|██████▉   | 20/29 [00:12<00:05,  1.71it/s]\u001b[A\n",
            " 72%|███████▏  | 21/29 [00:12<00:04,  1.71it/s]\u001b[A\n",
            " 76%|███████▌  | 22/29 [00:13<00:04,  1.71it/s]\u001b[A\n",
            " 79%|███████▉  | 23/29 [00:13<00:03,  1.71it/s]\u001b[A\n",
            " 83%|████████▎ | 24/29 [00:14<00:02,  1.70it/s]\u001b[A\n",
            " 86%|████████▌ | 25/29 [00:14<00:02,  1.71it/s]\u001b[A\n",
            " 90%|████████▉ | 26/29 [00:15<00:01,  1.70it/s]\u001b[A\n",
            " 93%|█████████▎| 27/29 [00:16<00:01,  1.71it/s]\u001b[A\n",
            "100%|██████████| 29/29 [00:16<00:00,  1.73it/s]\n",
            " 73%|███████▎  | 22/30 [2:17:48<50:03, 375.38s/it]"
          ]
        },
        {
          "metadata": {
            "tags": null
          },
          "name": "stdout",
          "output_type": "stream",
          "text": [
            "Validation at epoch 21 Mean IOU: 57.51\n",
            "Validation at epoch 21 Mean F1 best: 0.7572\n",
            "Validation at epoch 21 Mean F1 fixed: 0.671\n",
            "Validation at epoch 21 Mean AP: 0.7689\n",
            "\n",
            "Epoch: 22\n",
            "Train Loss: 0.0218 at step 6250 \t Iter time: 1.33\n",
            "Train Loss: 0.0298 at step 6300 \t Iter time: 1.33\n",
            "Train Loss: 0.0222 at step 6350 \t Iter time: 1.33\n",
            "Train Loss: 0.0213 at step 6400 \t Iter time: 1.33\n",
            "Train Loss: 0.0243 at step 6450 \t Iter time: 1.33\n",
            "Average Train Loss: 0.0000\n",
            "Train epoch 22 Mean IOU: 89.2\n",
            "Train epoch 22 Mean F1 best: 0.9939\n",
            "Train epoch 22 Mean F1 fixed: 0.9914\n",
            "Train epoch 22 Mean AP: 0.9825\n",
            "Validation:\n",
            "Length of dataset:  900\n"
          ]
        },
        {
          "metadata": {
            "tags": null
          },
          "name": "stderr",
          "output_type": "stream",
          "text": [
            "\n",
            "  0%|          | 0/29 [00:00<?, ?it/s]\u001b[A\n",
            "  3%|▎         | 1/29 [00:00<00:22,  1.22it/s]\u001b[A\n",
            "  7%|▋         | 2/29 [00:01<00:18,  1.46it/s]\u001b[A\n",
            " 10%|█         | 3/29 [00:01<00:16,  1.57it/s]\u001b[A\n",
            " 14%|█▍        | 4/29 [00:02<00:15,  1.62it/s]\u001b[A\n",
            " 17%|█▋        | 5/29 [00:03<00:14,  1.65it/s]\u001b[A\n",
            " 21%|██        | 6/29 [00:03<00:13,  1.67it/s]\u001b[A\n",
            " 24%|██▍       | 7/29 [00:04<00:13,  1.68it/s]\u001b[A\n",
            " 28%|██▊       | 8/29 [00:04<00:12,  1.69it/s]\u001b[A\n",
            " 31%|███       | 9/29 [00:05<00:11,  1.70it/s]\u001b[A\n",
            " 34%|███▍      | 10/29 [00:06<00:11,  1.70it/s]\u001b[A\n",
            " 38%|███▊      | 11/29 [00:06<00:10,  1.71it/s]\u001b[A\n",
            " 41%|████▏     | 12/29 [00:07<00:09,  1.71it/s]\u001b[A\n",
            " 45%|████▍     | 13/29 [00:07<00:09,  1.71it/s]\u001b[A\n",
            " 48%|████▊     | 14/29 [00:08<00:08,  1.71it/s]\u001b[A\n",
            " 52%|█████▏    | 15/29 [00:09<00:08,  1.71it/s]\u001b[A\n",
            " 55%|█████▌    | 16/29 [00:09<00:07,  1.71it/s]\u001b[A\n",
            " 59%|█████▊    | 17/29 [00:10<00:07,  1.71it/s]\u001b[A\n",
            " 62%|██████▏   | 18/29 [00:10<00:06,  1.71it/s]\u001b[A\n",
            " 66%|██████▌   | 19/29 [00:11<00:05,  1.71it/s]\u001b[A\n",
            " 69%|██████▉   | 20/29 [00:11<00:05,  1.71it/s]\u001b[A\n",
            " 72%|███████▏  | 21/29 [00:12<00:04,  1.71it/s]\u001b[A\n",
            " 76%|███████▌  | 22/29 [00:13<00:04,  1.71it/s]\u001b[A\n",
            " 79%|███████▉  | 23/29 [00:13<00:03,  1.72it/s]\u001b[A\n",
            " 83%|████████▎ | 24/29 [00:14<00:02,  1.72it/s]\u001b[A\n",
            " 86%|████████▌ | 25/29 [00:14<00:02,  1.72it/s]\u001b[A\n",
            " 90%|████████▉ | 26/29 [00:15<00:01,  1.72it/s]\u001b[A\n",
            " 93%|█████████▎| 27/29 [00:16<00:01,  1.72it/s]\u001b[A\n",
            "100%|██████████| 29/29 [00:16<00:00,  1.74it/s]\n",
            " 77%|███████▋  | 23/30 [2:24:03<43:47, 375.39s/it]"
          ]
        },
        {
          "metadata": {
            "tags": null
          },
          "name": "stdout",
          "output_type": "stream",
          "text": [
            "Validation at epoch 22 Mean IOU: 57.2\n",
            "Validation at epoch 22 Mean F1 best: 0.7588\n",
            "Validation at epoch 22 Mean F1 fixed: 0.6714\n",
            "Validation at epoch 22 Mean AP: 0.7696\n",
            "Early Stopping counter: 1 out of 5\n",
            "\n",
            "Epoch: 23\n",
            "Train Loss: 0.0164 at step 6500 \t Iter time: 1.33\n",
            "Train Loss: 0.0265 at step 6550 \t Iter time: 1.33\n",
            "Train Loss: 0.0218 at step 6600 \t Iter time: 1.33\n",
            "Train Loss: 0.0219 at step 6650 \t Iter time: 1.33\n",
            "Train Loss: 0.0195 at step 6700 \t Iter time: 1.33\n",
            "Train Loss: 0.0196 at step 6750 \t Iter time: 1.33\n",
            "Average Train Loss: 0.0000\n",
            "Train epoch 23 Mean IOU: 89.55\n",
            "Train epoch 23 Mean F1 best: 0.9942\n",
            "Train epoch 23 Mean F1 fixed: 0.9923\n",
            "Train epoch 23 Mean AP: 0.9836\n",
            "Validation:\n",
            "Length of dataset:  900\n"
          ]
        },
        {
          "metadata": {
            "tags": null
          },
          "name": "stderr",
          "output_type": "stream",
          "text": [
            "\n",
            "  0%|          | 0/29 [00:00<?, ?it/s]\u001b[A\n",
            "  3%|▎         | 1/29 [00:00<00:23,  1.21it/s]\u001b[A\n",
            "  7%|▋         | 2/29 [00:01<00:18,  1.47it/s]\u001b[A\n",
            " 10%|█         | 3/29 [00:01<00:16,  1.56it/s]\u001b[A\n",
            " 14%|█▍        | 4/29 [00:02<00:15,  1.62it/s]\u001b[A\n",
            " 17%|█▋        | 5/29 [00:03<00:14,  1.65it/s]\u001b[A\n",
            " 21%|██        | 6/29 [00:03<00:13,  1.67it/s]\u001b[A\n",
            " 24%|██▍       | 7/29 [00:04<00:13,  1.69it/s]\u001b[A\n",
            " 28%|██▊       | 8/29 [00:04<00:12,  1.70it/s]\u001b[A\n",
            " 31%|███       | 9/29 [00:05<00:11,  1.70it/s]\u001b[A\n",
            " 34%|███▍      | 10/29 [00:06<00:11,  1.70it/s]\u001b[A\n",
            " 38%|███▊      | 11/29 [00:06<00:10,  1.71it/s]\u001b[A\n",
            " 41%|████▏     | 12/29 [00:07<00:09,  1.71it/s]\u001b[A\n",
            " 45%|████▍     | 13/29 [00:07<00:09,  1.71it/s]\u001b[A\n",
            " 48%|████▊     | 14/29 [00:08<00:08,  1.71it/s]\u001b[A\n",
            " 52%|█████▏    | 15/29 [00:08<00:08,  1.71it/s]\u001b[A\n",
            " 55%|█████▌    | 16/29 [00:09<00:07,  1.71it/s]\u001b[A\n",
            " 59%|█████▊    | 17/29 [00:10<00:07,  1.71it/s]\u001b[A\n",
            " 62%|██████▏   | 18/29 [00:10<00:06,  1.71it/s]\u001b[A\n",
            " 66%|██████▌   | 19/29 [00:11<00:05,  1.71it/s]\u001b[A\n",
            " 69%|██████▉   | 20/29 [00:11<00:05,  1.71it/s]\u001b[A\n",
            " 72%|███████▏  | 21/29 [00:12<00:04,  1.72it/s]\u001b[A\n",
            " 76%|███████▌  | 22/29 [00:13<00:04,  1.71it/s]\u001b[A\n",
            " 79%|███████▉  | 23/29 [00:13<00:03,  1.72it/s]\u001b[A\n",
            " 83%|████████▎ | 24/29 [00:14<00:02,  1.72it/s]\u001b[A\n",
            " 86%|████████▌ | 25/29 [00:14<00:02,  1.72it/s]\u001b[A\n",
            " 90%|████████▉ | 26/29 [00:15<00:01,  1.72it/s]\u001b[A\n",
            " 93%|█████████▎| 27/29 [00:15<00:01,  1.72it/s]\u001b[A\n",
            "100%|██████████| 29/29 [00:16<00:00,  1.74it/s]\n",
            " 80%|████████  | 24/30 [2:30:18<37:31, 375.33s/it]"
          ]
        },
        {
          "metadata": {
            "tags": null
          },
          "name": "stdout",
          "output_type": "stream",
          "text": [
            "Validation at epoch 23 Mean IOU: 57.16\n",
            "Validation at epoch 23 Mean F1 best: 0.7491\n",
            "Validation at epoch 23 Mean F1 fixed: 0.6666\n",
            "Validation at epoch 23 Mean AP: 0.7603\n",
            "Early Stopping counter: 2 out of 5\n",
            "\n",
            "Epoch: 24\n",
            "Train Loss: 0.0237 at step 6800 \t Iter time: 1.33\n",
            "Train Loss: 0.0222 at step 6850 \t Iter time: 1.33\n",
            "Train Loss: 0.0239 at step 6900 \t Iter time: 1.33\n",
            "Train Loss: 0.0250 at step 6950 \t Iter time: 1.33\n",
            "Train Loss: 0.0171 at step 7000 \t Iter time: 1.33\n",
            "Train Loss: 0.0281 at step 7050 \t Iter time: 1.33\n",
            "Average Train Loss: 0.0000\n",
            "Train epoch 24 Mean IOU: 89.82\n",
            "Train epoch 24 Mean F1 best: 0.9952\n",
            "Train epoch 24 Mean F1 fixed: 0.9932\n",
            "Train epoch 24 Mean AP: 0.9845\n",
            "Validation:\n",
            "Length of dataset:  900\n"
          ]
        },
        {
          "metadata": {
            "tags": null
          },
          "name": "stderr",
          "output_type": "stream",
          "text": [
            "\n",
            "  0%|          | 0/29 [00:00<?, ?it/s]\u001b[A\n",
            "  3%|▎         | 1/29 [00:00<00:26,  1.07it/s]\u001b[A\n",
            "  7%|▋         | 2/29 [00:01<00:19,  1.37it/s]\u001b[A\n",
            " 10%|█         | 3/29 [00:02<00:17,  1.51it/s]\u001b[A\n",
            " 14%|█▍        | 4/29 [00:02<00:15,  1.58it/s]\u001b[A\n",
            " 17%|█▋        | 5/29 [00:03<00:14,  1.63it/s]\u001b[A\n",
            " 21%|██        | 6/29 [00:03<00:13,  1.65it/s]\u001b[A\n",
            " 24%|██▍       | 7/29 [00:04<00:13,  1.67it/s]\u001b[A\n",
            " 28%|██▊       | 8/29 [00:05<00:12,  1.68it/s]\u001b[A\n",
            " 31%|███       | 9/29 [00:05<00:11,  1.69it/s]\u001b[A\n",
            " 34%|███▍      | 10/29 [00:06<00:11,  1.70it/s]\u001b[A\n",
            " 38%|███▊      | 11/29 [00:06<00:10,  1.70it/s]\u001b[A\n",
            " 41%|████▏     | 12/29 [00:07<00:09,  1.70it/s]\u001b[A\n",
            " 45%|████▍     | 13/29 [00:07<00:09,  1.70it/s]\u001b[A\n",
            " 48%|████▊     | 14/29 [00:08<00:08,  1.70it/s]\u001b[A\n",
            " 52%|█████▏    | 15/29 [00:09<00:08,  1.70it/s]\u001b[A\n",
            " 55%|█████▌    | 16/29 [00:09<00:07,  1.71it/s]\u001b[A\n",
            " 59%|█████▊    | 17/29 [00:10<00:07,  1.71it/s]\u001b[A\n",
            " 62%|██████▏   | 18/29 [00:10<00:06,  1.71it/s]\u001b[A\n",
            " 66%|██████▌   | 19/29 [00:11<00:05,  1.71it/s]\u001b[A\n",
            " 69%|██████▉   | 20/29 [00:12<00:05,  1.71it/s]\u001b[A\n",
            " 72%|███████▏  | 21/29 [00:12<00:04,  1.71it/s]\u001b[A\n",
            " 76%|███████▌  | 22/29 [00:13<00:04,  1.71it/s]\u001b[A\n",
            " 79%|███████▉  | 23/29 [00:13<00:03,  1.72it/s]\u001b[A\n",
            " 83%|████████▎ | 24/29 [00:14<00:02,  1.71it/s]\u001b[A\n",
            " 86%|████████▌ | 25/29 [00:14<00:02,  1.71it/s]\u001b[A\n",
            " 90%|████████▉ | 26/29 [00:15<00:01,  1.70it/s]\u001b[A\n",
            " 93%|█████████▎| 27/29 [00:16<00:01,  1.71it/s]\u001b[A\n",
            "100%|██████████| 29/29 [00:16<00:00,  1.73it/s]\n",
            " 83%|████████▎ | 25/30 [2:36:34<31:16, 375.30s/it]"
          ]
        },
        {
          "metadata": {
            "tags": null
          },
          "name": "stdout",
          "output_type": "stream",
          "text": [
            "Validation at epoch 24 Mean IOU: 57.55\n",
            "Validation at epoch 24 Mean F1 best: 0.7565\n",
            "Validation at epoch 24 Mean F1 fixed: 0.671\n",
            "Validation at epoch 24 Mean AP: 0.7719\n",
            "\n",
            "Epoch: 25\n",
            "Train Loss: 0.0175 at step 7100 \t Iter time: 1.33\n",
            "Train Loss: 0.0205 at step 7150 \t Iter time: 1.33\n",
            "Train Loss: 0.0189 at step 7200 \t Iter time: 1.33\n",
            "Train Loss: 0.0246 at step 7250 \t Iter time: 1.33\n",
            "Train Loss: 0.0181 at step 7300 \t Iter time: 1.33\n",
            "Average Train Loss: 0.0000\n",
            "Train epoch 25 Mean IOU: 90.07\n",
            "Train epoch 25 Mean F1 best: 0.9961\n",
            "Train epoch 25 Mean F1 fixed: 0.9941\n",
            "Train epoch 25 Mean AP: 0.9853\n",
            "Validation:\n",
            "Length of dataset:  900\n"
          ]
        },
        {
          "metadata": {
            "tags": null
          },
          "name": "stderr",
          "output_type": "stream",
          "text": [
            "\n",
            "  0%|          | 0/29 [00:00<?, ?it/s]\u001b[A\n",
            "  3%|▎         | 1/29 [00:00<00:24,  1.13it/s]\u001b[A\n",
            "  7%|▋         | 2/29 [00:01<00:19,  1.41it/s]\u001b[A\n",
            " 10%|█         | 3/29 [00:02<00:16,  1.54it/s]\u001b[A\n",
            " 14%|█▍        | 4/29 [00:02<00:15,  1.60it/s]\u001b[A\n",
            " 17%|█▋        | 5/29 [00:03<00:14,  1.64it/s]\u001b[A\n",
            " 21%|██        | 6/29 [00:03<00:13,  1.66it/s]\u001b[A\n",
            " 24%|██▍       | 7/29 [00:04<00:13,  1.67it/s]\u001b[A\n",
            " 28%|██▊       | 8/29 [00:04<00:12,  1.69it/s]\u001b[A\n",
            " 31%|███       | 9/29 [00:05<00:11,  1.69it/s]\u001b[A\n",
            " 34%|███▍      | 10/29 [00:06<00:11,  1.70it/s]\u001b[A\n",
            " 38%|███▊      | 11/29 [00:06<00:10,  1.70it/s]\u001b[A\n",
            " 41%|████▏     | 12/29 [00:07<00:09,  1.70it/s]\u001b[A\n",
            " 45%|████▍     | 13/29 [00:07<00:09,  1.70it/s]\u001b[A\n",
            " 48%|████▊     | 14/29 [00:08<00:08,  1.70it/s]\u001b[A\n",
            " 52%|█████▏    | 15/29 [00:09<00:08,  1.71it/s]\u001b[A\n",
            " 55%|█████▌    | 16/29 [00:09<00:07,  1.70it/s]\u001b[A\n",
            " 59%|█████▊    | 17/29 [00:10<00:07,  1.70it/s]\u001b[A\n",
            " 62%|██████▏   | 18/29 [00:10<00:06,  1.70it/s]\u001b[A\n",
            " 66%|██████▌   | 19/29 [00:11<00:05,  1.70it/s]\u001b[A\n",
            " 69%|██████▉   | 20/29 [00:12<00:05,  1.70it/s]\u001b[A\n",
            " 72%|███████▏  | 21/29 [00:12<00:04,  1.71it/s]\u001b[A\n",
            " 76%|███████▌  | 22/29 [00:13<00:04,  1.71it/s]\u001b[A\n",
            " 79%|███████▉  | 23/29 [00:13<00:03,  1.71it/s]\u001b[A\n",
            " 83%|████████▎ | 24/29 [00:14<00:02,  1.70it/s]\u001b[A\n",
            " 86%|████████▌ | 25/29 [00:14<00:02,  1.70it/s]\u001b[A\n",
            " 90%|████████▉ | 26/29 [00:15<00:01,  1.70it/s]\u001b[A\n",
            " 93%|█████████▎| 27/29 [00:16<00:01,  1.71it/s]\u001b[A\n",
            "100%|██████████| 29/29 [00:16<00:00,  1.73it/s]\n",
            " 87%|████████▋ | 26/30 [2:42:49<25:01, 375.46s/it]"
          ]
        },
        {
          "metadata": {
            "tags": null
          },
          "name": "stdout",
          "output_type": "stream",
          "text": [
            "Validation at epoch 25 Mean IOU: 57.23\n",
            "Validation at epoch 25 Mean F1 best: 0.7615\n",
            "Validation at epoch 25 Mean F1 fixed: 0.6748\n",
            "Validation at epoch 25 Mean AP: 0.7725\n",
            "Early Stopping counter: 1 out of 5\n",
            "\n",
            "Epoch: 26\n",
            "Train Loss: 0.0172 at step 7350 \t Iter time: 1.33\n",
            "Train Loss: 0.0229 at step 7400 \t Iter time: 1.33\n",
            "Train Loss: 0.0216 at step 7450 \t Iter time: 1.33\n",
            "Train Loss: 0.0239 at step 7500 \t Iter time: 1.33\n",
            "Train Loss: 0.0171 at step 7550 \t Iter time: 1.33\n",
            "Train Loss: 0.0230 at step 7600 \t Iter time: 1.33\n",
            "Average Train Loss: 0.0000\n",
            "Train epoch 26 Mean IOU: 90.28\n",
            "Train epoch 26 Mean F1 best: 0.9965\n",
            "Train epoch 26 Mean F1 fixed: 0.9948\n",
            "Train epoch 26 Mean AP: 0.9858\n",
            "Validation:\n",
            "Length of dataset:  900\n"
          ]
        },
        {
          "metadata": {
            "tags": null
          },
          "name": "stderr",
          "output_type": "stream",
          "text": [
            "\n",
            "  0%|          | 0/29 [00:00<?, ?it/s]\u001b[A\n",
            "  3%|▎         | 1/29 [00:00<00:23,  1.19it/s]\u001b[A\n",
            "  7%|▋         | 2/29 [00:01<00:18,  1.45it/s]\u001b[A\n",
            " 10%|█         | 3/29 [00:02<00:16,  1.56it/s]\u001b[A\n",
            " 14%|█▍        | 4/29 [00:02<00:15,  1.62it/s]\u001b[A\n",
            " 17%|█▋        | 5/29 [00:03<00:14,  1.65it/s]\u001b[A\n",
            " 21%|██        | 6/29 [00:03<00:13,  1.67it/s]\u001b[A\n",
            " 24%|██▍       | 7/29 [00:04<00:13,  1.69it/s]\u001b[A\n",
            " 28%|██▊       | 8/29 [00:04<00:12,  1.69it/s]\u001b[A\n",
            " 31%|███       | 9/29 [00:05<00:11,  1.70it/s]\u001b[A\n",
            " 34%|███▍      | 10/29 [00:06<00:11,  1.71it/s]\u001b[A\n",
            " 38%|███▊      | 11/29 [00:06<00:10,  1.71it/s]\u001b[A\n",
            " 41%|████▏     | 12/29 [00:07<00:09,  1.71it/s]\u001b[A\n",
            " 45%|████▍     | 13/29 [00:07<00:09,  1.72it/s]\u001b[A\n",
            " 48%|████▊     | 14/29 [00:08<00:08,  1.72it/s]\u001b[A\n",
            " 52%|█████▏    | 15/29 [00:08<00:08,  1.72it/s]\u001b[A\n",
            " 55%|█████▌    | 16/29 [00:09<00:07,  1.72it/s]\u001b[A\n",
            " 59%|█████▊    | 17/29 [00:10<00:06,  1.72it/s]\u001b[A\n",
            " 62%|██████▏   | 18/29 [00:10<00:06,  1.72it/s]\u001b[A\n",
            " 66%|██████▌   | 19/29 [00:11<00:05,  1.72it/s]\u001b[A\n",
            " 69%|██████▉   | 20/29 [00:11<00:05,  1.72it/s]\u001b[A\n",
            " 72%|███████▏  | 21/29 [00:12<00:04,  1.72it/s]\u001b[A\n",
            " 76%|███████▌  | 22/29 [00:13<00:04,  1.72it/s]\u001b[A\n",
            " 79%|███████▉  | 23/29 [00:13<00:03,  1.72it/s]\u001b[A\n",
            " 83%|████████▎ | 24/29 [00:14<00:02,  1.72it/s]\u001b[A\n",
            " 86%|████████▌ | 25/29 [00:14<00:02,  1.72it/s]\u001b[A\n",
            " 90%|████████▉ | 26/29 [00:15<00:01,  1.72it/s]\u001b[A\n",
            " 93%|█████████▎| 27/29 [00:15<00:01,  1.72it/s]\u001b[A\n",
            "100%|██████████| 29/29 [00:16<00:00,  1.74it/s]\n"
          ]
        },
        {
          "metadata": {
            "tags": null
          },
          "name": "stdout",
          "output_type": "stream",
          "text": [
            "Validation at epoch 26 Mean IOU: 58.09\n",
            "Validation at epoch 26 Mean F1 best: 0.7562\n",
            "Validation at epoch 26 Mean F1 fixed: 0.6719\n",
            "Validation at epoch 26 Mean AP: 0.7732\n"
          ]
        },
        {
          "metadata": {
            "tags": null
          },
          "name": "stderr",
          "output_type": "stream",
          "text": [
            "\r 90%|█████████ | 27/30 [2:49:06<18:47, 375.69s/it]"
          ]
        },
        {
          "metadata": {
            "tags": null
          },
          "name": "stdout",
          "output_type": "stream",
          "text": [
            "Best model saved at epoch 26!\n",
            "\n",
            "Epoch: 27\n",
            "Train Loss: 0.0238 at step 7650 \t Iter time: 1.33\n",
            "Train Loss: 0.0162 at step 7700 \t Iter time: 1.33\n",
            "Train Loss: 0.0254 at step 7750 \t Iter time: 1.33\n",
            "Train Loss: 0.0203 at step 7800 \t Iter time: 1.33\n",
            "Train Loss: 0.0228 at step 7850 \t Iter time: 1.33\n",
            "Average Train Loss: 0.0000\n",
            "Train epoch 27 Mean IOU: 90.51\n",
            "Train epoch 27 Mean F1 best: 0.996\n",
            "Train epoch 27 Mean F1 fixed: 0.9943\n",
            "Train epoch 27 Mean AP: 0.9864\n",
            "Validation:\n",
            "Length of dataset:  900\n"
          ]
        },
        {
          "metadata": {
            "tags": null
          },
          "name": "stderr",
          "output_type": "stream",
          "text": [
            "\n",
            "  0%|          | 0/29 [00:00<?, ?it/s]\u001b[A\n",
            "  3%|▎         | 1/29 [00:00<00:22,  1.26it/s]\u001b[A\n",
            "  7%|▋         | 2/29 [00:01<00:18,  1.49it/s]\u001b[A\n",
            " 10%|█         | 3/29 [00:01<00:16,  1.59it/s]\u001b[A\n",
            " 14%|█▍        | 4/29 [00:02<00:15,  1.64it/s]\u001b[A\n",
            " 17%|█▋        | 5/29 [00:03<00:14,  1.66it/s]\u001b[A\n",
            " 21%|██        | 6/29 [00:03<00:13,  1.68it/s]\u001b[A\n",
            " 24%|██▍       | 7/29 [00:04<00:12,  1.70it/s]\u001b[A\n",
            " 28%|██▊       | 8/29 [00:04<00:12,  1.71it/s]\u001b[A\n",
            " 31%|███       | 9/29 [00:05<00:11,  1.71it/s]\u001b[A\n",
            " 34%|███▍      | 10/29 [00:06<00:11,  1.71it/s]\u001b[A\n",
            " 38%|███▊      | 11/29 [00:06<00:10,  1.71it/s]\u001b[A\n",
            " 41%|████▏     | 12/29 [00:07<00:09,  1.71it/s]\u001b[A\n",
            " 45%|████▍     | 13/29 [00:07<00:09,  1.71it/s]\u001b[A\n",
            " 48%|████▊     | 14/29 [00:08<00:08,  1.71it/s]\u001b[A\n",
            " 52%|█████▏    | 15/29 [00:08<00:08,  1.71it/s]\u001b[A\n",
            " 55%|█████▌    | 16/29 [00:09<00:07,  1.72it/s]\u001b[A\n",
            " 59%|█████▊    | 17/29 [00:10<00:06,  1.72it/s]\u001b[A\n",
            " 62%|██████▏   | 18/29 [00:10<00:06,  1.72it/s]\u001b[A\n",
            " 66%|██████▌   | 19/29 [00:11<00:05,  1.72it/s]\u001b[A\n",
            " 69%|██████▉   | 20/29 [00:11<00:05,  1.72it/s]\u001b[A\n",
            " 72%|███████▏  | 21/29 [00:12<00:04,  1.72it/s]\u001b[A\n",
            " 76%|███████▌  | 22/29 [00:13<00:04,  1.72it/s]\u001b[A\n",
            " 79%|███████▉  | 23/29 [00:13<00:03,  1.72it/s]\u001b[A\n",
            " 83%|████████▎ | 24/29 [00:14<00:02,  1.72it/s]\u001b[A\n",
            " 86%|████████▌ | 25/29 [00:14<00:02,  1.72it/s]\u001b[A\n",
            " 90%|████████▉ | 26/29 [00:15<00:01,  1.72it/s]\u001b[A\n",
            " 93%|█████████▎| 27/29 [00:15<00:01,  1.72it/s]\u001b[A\n",
            "100%|██████████| 29/29 [00:16<00:00,  1.75it/s]\n",
            " 93%|█████████▎| 28/30 [2:55:21<12:31, 375.62s/it]"
          ]
        },
        {
          "metadata": {
            "tags": null
          },
          "name": "stdout",
          "output_type": "stream",
          "text": [
            "Validation at epoch 27 Mean IOU: 58.02\n",
            "Validation at epoch 27 Mean F1 best: 0.7529\n",
            "Validation at epoch 27 Mean F1 fixed: 0.6722\n",
            "Validation at epoch 27 Mean AP: 0.771\n",
            "Early Stopping counter: 1 out of 5\n",
            "\n",
            "Epoch: 28\n",
            "Train Loss: 0.0235 at step 7900 \t Iter time: 1.33\n",
            "Train Loss: 0.0210 at step 7950 \t Iter time: 1.33\n",
            "Train Loss: 0.0218 at step 8000 \t Iter time: 1.33\n",
            "Train Loss: 0.0170 at step 8050 \t Iter time: 1.33\n",
            "Train Loss: 0.0211 at step 8100 \t Iter time: 1.33\n",
            "Train Loss: 0.0281 at step 8150 \t Iter time: 1.33\n",
            "Average Train Loss: 0.0000\n",
            "Train epoch 28 Mean IOU: 90.71\n",
            "Train epoch 28 Mean F1 best: 0.996\n",
            "Train epoch 28 Mean F1 fixed: 0.9941\n",
            "Train epoch 28 Mean AP: 0.9868\n",
            "Validation:\n",
            "Length of dataset:  900\n"
          ]
        },
        {
          "metadata": {
            "tags": null
          },
          "name": "stderr",
          "output_type": "stream",
          "text": [
            "\n",
            "  0%|          | 0/29 [00:00<?, ?it/s]\u001b[A\n",
            "  3%|▎         | 1/29 [00:00<00:24,  1.12it/s]\u001b[A\n",
            "  7%|▋         | 2/29 [00:01<00:19,  1.41it/s]\u001b[A\n",
            " 10%|█         | 3/29 [00:02<00:16,  1.53it/s]\u001b[A\n",
            " 14%|█▍        | 4/29 [00:02<00:15,  1.60it/s]\u001b[A\n",
            " 17%|█▋        | 5/29 [00:03<00:14,  1.64it/s]\u001b[A\n",
            " 21%|██        | 6/29 [00:03<00:13,  1.66it/s]\u001b[A\n",
            " 24%|██▍       | 7/29 [00:04<00:13,  1.68it/s]\u001b[A\n",
            " 28%|██▊       | 8/29 [00:04<00:12,  1.69it/s]\u001b[A\n",
            " 31%|███       | 9/29 [00:05<00:11,  1.70it/s]\u001b[A\n",
            " 34%|███▍      | 10/29 [00:06<00:11,  1.70it/s]\u001b[A\n",
            " 38%|███▊      | 11/29 [00:06<00:10,  1.71it/s]\u001b[A\n",
            " 41%|████▏     | 12/29 [00:07<00:09,  1.71it/s]\u001b[A\n",
            " 45%|████▍     | 13/29 [00:07<00:09,  1.71it/s]\u001b[A\n",
            " 48%|████▊     | 14/29 [00:08<00:08,  1.71it/s]\u001b[A\n",
            " 52%|█████▏    | 15/29 [00:09<00:08,  1.71it/s]\u001b[A\n",
            " 55%|█████▌    | 16/29 [00:09<00:07,  1.71it/s]\u001b[A\n",
            " 59%|█████▊    | 17/29 [00:10<00:07,  1.71it/s]\u001b[A\n",
            " 62%|██████▏   | 18/29 [00:10<00:06,  1.71it/s]\u001b[A\n",
            " 66%|██████▌   | 19/29 [00:11<00:05,  1.72it/s]\u001b[A\n",
            " 69%|██████▉   | 20/29 [00:11<00:05,  1.71it/s]\u001b[A\n",
            " 72%|███████▏  | 21/29 [00:12<00:04,  1.72it/s]\u001b[A\n",
            " 76%|███████▌  | 22/29 [00:13<00:04,  1.72it/s]\u001b[A\n",
            " 79%|███████▉  | 23/29 [00:13<00:03,  1.72it/s]\u001b[A\n",
            " 83%|████████▎ | 24/29 [00:14<00:02,  1.72it/s]\u001b[A\n",
            " 86%|████████▌ | 25/29 [00:14<00:02,  1.72it/s]\u001b[A\n",
            " 90%|████████▉ | 26/29 [00:15<00:01,  1.72it/s]\u001b[A\n",
            " 93%|█████████▎| 27/29 [00:16<00:01,  1.72it/s]\u001b[A\n",
            "100%|██████████| 29/29 [00:16<00:00,  1.74it/s]\n",
            " 97%|█████████▋| 29/30 [3:01:36<06:15, 375.50s/it]"
          ]
        },
        {
          "output_type": "stream",
          "name": "stdout",
          "text": [
            "Validation at epoch 28 Mean IOU: 58.0\n",
            "Validation at epoch 28 Mean F1 best: 0.7557\n",
            "Validation at epoch 28 Mean F1 fixed: 0.6726\n",
            "Validation at epoch 28 Mean AP: 0.7737\n",
            "Early Stopping counter: 2 out of 5\n",
            "\n",
            "Epoch: 29\n",
            "Train Loss: 0.0148 at step 8200 \t Iter time: 1.33\n",
            "Train Loss: 0.0205 at step 8250 \t Iter time: 1.33\n",
            "Train Loss: 0.0220 at step 8300 \t Iter time: 1.33\n",
            "Train Loss: 0.0221 at step 8350 \t Iter time: 1.33\n",
            "Train Loss: 0.0164 at step 8400 \t Iter time: 1.33\n",
            "Train Loss: 0.0280 at step 8450 \t Iter time: 1.33\n",
            "Average Train Loss: 0.0000\n",
            "Train epoch 29 Mean IOU: 90.91\n",
            "Train epoch 29 Mean F1 best: 0.9967\n",
            "Train epoch 29 Mean F1 fixed: 0.9953\n",
            "Train epoch 29 Mean AP: 0.9876\n",
            "Validation:\n",
            "Length of dataset:  900\n"
          ]
        },
        {
          "output_type": "stream",
          "name": "stderr",
          "text": [
            "\n",
            "  0%|          | 0/29 [00:00<?, ?it/s]\u001b[A\n",
            "  3%|▎         | 1/29 [00:00<00:22,  1.25it/s]\u001b[A\n",
            "  7%|▋         | 2/29 [00:01<00:18,  1.49it/s]\u001b[A\n",
            " 10%|█         | 3/29 [00:01<00:16,  1.58it/s]\u001b[A\n",
            " 14%|█▍        | 4/29 [00:02<00:15,  1.63it/s]\u001b[A\n",
            " 17%|█▋        | 5/29 [00:03<00:14,  1.66it/s]\u001b[A\n",
            " 21%|██        | 6/29 [00:03<00:13,  1.67it/s]\u001b[A\n",
            " 24%|██▍       | 7/29 [00:04<00:13,  1.68it/s]\u001b[A\n",
            " 28%|██▊       | 8/29 [00:04<00:12,  1.69it/s]\u001b[A\n",
            " 31%|███       | 9/29 [00:05<00:11,  1.70it/s]\u001b[A\n",
            " 34%|███▍      | 10/29 [00:06<00:11,  1.71it/s]\u001b[A\n",
            " 38%|███▊      | 11/29 [00:06<00:10,  1.71it/s]\u001b[A\n",
            " 41%|████▏     | 12/29 [00:07<00:09,  1.71it/s]\u001b[A\n",
            " 45%|████▍     | 13/29 [00:07<00:09,  1.72it/s]\u001b[A\n",
            " 48%|████▊     | 14/29 [00:08<00:08,  1.72it/s]\u001b[A\n",
            " 52%|█████▏    | 15/29 [00:08<00:08,  1.72it/s]\u001b[A\n",
            " 55%|█████▌    | 16/29 [00:09<00:07,  1.72it/s]\u001b[A\n",
            " 59%|█████▊    | 17/29 [00:10<00:06,  1.72it/s]\u001b[A\n",
            " 62%|██████▏   | 18/29 [00:10<00:06,  1.72it/s]\u001b[A\n",
            " 66%|██████▌   | 19/29 [00:11<00:05,  1.72it/s]\u001b[A\n",
            " 69%|██████▉   | 20/29 [00:11<00:05,  1.72it/s]\u001b[A\n",
            " 72%|███████▏  | 21/29 [00:12<00:04,  1.72it/s]\u001b[A\n",
            " 76%|███████▌  | 22/29 [00:13<00:04,  1.71it/s]\u001b[A\n",
            " 79%|███████▉  | 23/29 [00:13<00:03,  1.71it/s]\u001b[A\n",
            " 83%|████████▎ | 24/29 [00:14<00:02,  1.71it/s]\u001b[A\n",
            " 86%|████████▌ | 25/29 [00:14<00:02,  1.71it/s]\u001b[A\n",
            " 90%|████████▉ | 26/29 [00:15<00:01,  1.71it/s]\u001b[A\n",
            " 93%|█████████▎| 27/29 [00:15<00:01,  1.71it/s]\u001b[A\n",
            "100%|██████████| 29/29 [00:16<00:00,  1.74it/s]\n",
            "100%|██████████| 30/30 [3:07:51<00:00, 375.73s/it]"
          ]
        },
        {
          "output_type": "stream",
          "name": "stdout",
          "text": [
            "Validation at epoch 29 Mean IOU: 57.39\n",
            "Validation at epoch 29 Mean F1 best: 0.7501\n",
            "Validation at epoch 29 Mean F1 fixed: 0.6655\n",
            "Validation at epoch 29 Mean AP: 0.7694\n",
            "Early Stopping counter: 3 out of 5\n",
            "\n"
          ]
        },
        {
          "output_type": "stream",
          "name": "stderr",
          "text": [
            "\n"
          ]
        }
      ],
      "source": [
        "# start the training loop\n",
        "# model_trainer.compute_pos_weight_per_dataset(train_loader)\n",
        "# print('Pos weight for fake pixels', model_trainer.pos_weights)\n",
        "early_stopping = EarlyStopping(patience=params.early_stop_epochs, verbose=True, delta=-0.001)\n",
        "best_metric = 0.0 # iou for localization, ap for detection\n",
        "print('Length of training set:', len(train_loader.dataset))\n",
        "print('Length of validation set:', len(val_loader.dataset))\n",
        "start_time = time.time()\n",
        "for epoch in tqdm(range(params.num_iter)):\n",
        "    print('Epoch:', epoch)\n",
        "\n",
        "    epoch_loss = 0\n",
        "    for data in train_loader:\n",
        "        model_trainer.total_steps += 1\n",
        "\n",
        "        model_trainer.set_input(data)\n",
        "        model_trainer.optimize_parameters()\n",
        "\n",
        "        if model_trainer.total_steps % params.show_loss_freq == 0:\n",
        "            epoch_loss += model_trainer.loss.item()\n",
        "            print(f'Train Loss: {model_trainer.loss.item():.4f} at step {model_trainer.total_steps} \\t Iter time: {(time.time() - start_time) / model_trainer.total_steps:.2f}')\n",
        "            train_writer.add_scalar('loss', model_trainer.loss.item(), model_trainer.total_steps)\n",
        "\n",
        "\n",
        "    epoch_loss /= len(train_loader.dataset)\n",
        "    print(f'Average Train Loss: {epoch_loss:.4f}')\n",
        "\n",
        "    # compute training metrics\n",
        "    if params.task_type == 'fully_supervised_localization':\n",
        "        compute_mean_iou(model_trainer.ious, verbose=True, extra_text=f'Train epoch {epoch} ')\n",
        "        model_trainer.ious = []\n",
        "\n",
        "        compute_mean_f1(model_trainer.f1_best, model_trainer.f1_fixed, verbose=True, extra_text=f'Train epoch {epoch} ')\n",
        "        model_trainer.f1_best = []\n",
        "        model_trainer.f1_fixed = []\n",
        "\n",
        "        compute_mean_ap(model_trainer.ap, verbose=True, extra_text=f'Train epoch {epoch} ')\n",
        "        model_trainer.ap = []\n",
        "\n",
        "    elif params.task_type == 'detection':\n",
        "        model_trainer.format_output_detection()\n",
        "\n",
        "        compute_mean_acc_detection(model_trainer.logits, model_trainer.labels, verbose=True, extra_text=f'Train epoch {epoch} ')\n",
        "        compute_mean_ap_detection(model_trainer.logits, model_trainer.labels, verbose=True, extra_text=f'Train epoch {epoch} ')\n",
        "\n",
        "        model_trainer.logits = []\n",
        "        model_trainer.labels = []\n",
        "\n",
        "\n",
        "    # validate the model\n",
        "    print('Validation:')\n",
        "    if params.task_type == 'fully_supervised_localization':\n",
        "        ious, f1_best, f1_fixed, mean_ap, _ = validate_fully_supervised_localization(model_trainer.model, val_loader, params.train_dataset)\n",
        "\n",
        "        # compute metrics\n",
        "        mean_iou = compute_mean_iou(ious, verbose=True, extra_text=f'Validation at epoch {epoch} ')\n",
        "        val_writer.add_scalar('iou', mean_iou, model_trainer.total_steps)\n",
        "\n",
        "        mean_f1_best, mean_f1_fixed = compute_mean_f1(f1_best, f1_fixed, verbose=True, extra_text=f'Validation at epoch {epoch} ')\n",
        "        val_writer.add_scalar('f1_best', mean_f1_best, model_trainer.total_steps)\n",
        "        val_writer.add_scalar('f1_fixed', mean_f1_fixed, model_trainer.total_steps)\n",
        "\n",
        "        mean_ap = compute_mean_ap(mean_ap, verbose=True, extra_text=f'Validation at epoch {epoch} ')\n",
        "        val_writer.add_scalar('mean_ap', mean_ap, model_trainer.total_steps)\n",
        "\n",
        "        # save the model if the mean iou is improved\n",
        "        if mean_iou > best_metric:\n",
        "            best_metric = mean_iou\n",
        "            model_trainer.save_model(f'best_localization_model_iou_{mean_iou:.4f}.pth')\n",
        "            print(f'Best model saved at epoch {epoch}!')\n",
        "\n",
        "        # check for early stopping\n",
        "        early_stopping(mean_iou)\n",
        "\n",
        "    elif params.task_type == 'detection':\n",
        "        ap, acc, _, _, _ = validate_detection(model_trainer.model, val_loader, params.train_dataset)\n",
        "\n",
        "        print(f'Validation at epoch {epoch} - AP: {ap:.4f}, Acc: {acc:.4f}')\n",
        "        val_writer.add_scalar('ap', ap, model_trainer.total_steps)\n",
        "        val_writer.add_scalar('acc', acc, model_trainer.total_steps)\n",
        "\n",
        "        # save the model if the mean ap is improved\n",
        "        if ap > best_metric:\n",
        "            best_metric = ap\n",
        "            model_trainer.save_model(f'best_detection_model_ap_{ap:.4f}.pth')\n",
        "            print(f'Best model saved at epoch {epoch}!')\n",
        "\n",
        "        # check for early stopping\n",
        "        early_stopping(ap)\n",
        "\n",
        "    # check if early stopping is triggered\n",
        "    if early_stopping.early_stop:\n",
        "        print(\"Early stopping triggered\")\n",
        "        continue_training = model_trainer.adjust_learning_rate()\n",
        "        if continue_training:\n",
        "            print(\"Continuing training with a learning rate reduced by a factor of 10\")\n",
        "            early_stopping = EarlyStopping(patience=params.early_stop_epochs, verbose=True, delta=-0.002) # adjust the delta only once, otherwise stop completely\n",
        "        else:\n",
        "            print(f\"Early stopping training at epoch {epoch}\")\n",
        "            break\n",
        "    print()\n",
        "    torch.cuda.empty_cache()"
      ]
    },
    {
      "cell_type": "code",
      "source": [
        "model_dir = '/content/experiments/training_inital/models/'\n",
        "model_files = sorted(\n",
        "    [f for f in os.listdir(model_dir) if f.endswith('.pth')]\n",
        ")\n",
        "\n",
        "best_model = model_files[-1]\n",
        "best_model_path = os.path.join(model_dir, best_model)"
      ],
      "metadata": {
        "id": "0KHmNbwv1gCd"
      },
      "id": "0KHmNbwv1gCd",
      "execution_count": null,
      "outputs": []
    },
    {
      "cell_type": "code",
      "source": [
        "shutil.copy(best_model_path, f'/content/drive/MyDrive/Colab Notebooks/Licenta/DeCLIP-custom/trained_models/combined_training/{os.path.basename(best_model_path)}')"
      ],
      "metadata": {
        "id": "petVdd7B0b7s",
        "colab": {
          "base_uri": "https://localhost:8080/",
          "height": 35
        },
        "outputId": "b14221f6-3133-4ac3-c626-f138b4d7f61e"
      },
      "id": "petVdd7B0b7s",
      "execution_count": null,
      "outputs": [
        {
          "output_type": "execute_result",
          "data": {
            "text/plain": [
              "'/content/drive/MyDrive/Colab Notebooks/Licenta/DeCLIP-custom/trained_models/initial_training/best_localization_model_iou_58.0887.pth'"
            ],
            "application/vnd.google.colaboratory.intrinsic+json": {
              "type": "string"
            }
          },
          "metadata": {},
          "execution_count": 14
        }
      ]
    }
  ],
  "metadata": {
    "accelerator": "GPU",
    "colab": {
      "gpuType": "A100",
      "machine_shape": "hm",
      "provenance": []
    },
    "kernelspec": {
      "display_name": "Python 3",
      "name": "python3"
    },
    "language_info": {
      "codemirror_mode": {
        "name": "ipython",
        "version": 3
      },
      "file_extension": ".py",
      "mimetype": "text/x-python",
      "name": "python",
      "nbconvert_exporter": "python",
      "pygments_lexer": "ipython3",
      "version": "3.12.2"
    }
  },
  "nbformat": 4,
  "nbformat_minor": 5
}