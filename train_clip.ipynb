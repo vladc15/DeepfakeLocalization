{
  "cells": [
    {
      "cell_type": "code",
      "execution_count": null,
      "id": "c92a6c3e",
      "metadata": {
        "colab": {
          "base_uri": "https://localhost:8080/"
        },
        "id": "c92a6c3e",
        "outputId": "31ff0279-b6fa-4e7d-cdfd-3bffc335f50d"
      },
      "outputs": [
        {
          "output_type": "stream",
          "name": "stdout",
          "text": [
            "Mounted at /content/drive\n"
          ]
        }
      ],
      "source": [
        "# mount drive\n",
        "from google.colab import drive\n",
        "drive.mount('/content/drive')"
      ]
    },
    {
      "cell_type": "code",
      "execution_count": null,
      "id": "odcHb42V9rww",
      "metadata": {
        "id": "odcHb42V9rww"
      },
      "outputs": [],
      "source": [
        "# update working directory\n",
        "import sys\n",
        "sys.path.append('/content/drive/MyDrive/Colab Notebooks/Licenta/DeCLIP-custom')"
      ]
    },
    {
      "cell_type": "code",
      "execution_count": null,
      "id": "Za2wYqKP9u3G",
      "metadata": {
        "colab": {
          "base_uri": "https://localhost:8080/"
        },
        "collapsed": true,
        "id": "Za2wYqKP9u3G",
        "outputId": "9fa59c99-42b4-4d38-dec9-4737edd3e4c1"
      },
      "outputs": [
        {
          "output_type": "stream",
          "name": "stdout",
          "text": [
            "Collecting tensorboardX\n",
            "  Downloading tensorboardX-2.6.2.2-py2.py3-none-any.whl.metadata (5.8 kB)\n",
            "Requirement already satisfied: numpy in /usr/local/lib/python3.11/dist-packages (from tensorboardX) (2.0.2)\n",
            "Requirement already satisfied: packaging in /usr/local/lib/python3.11/dist-packages (from tensorboardX) (24.2)\n",
            "Requirement already satisfied: protobuf>=3.20 in /usr/local/lib/python3.11/dist-packages (from tensorboardX) (5.29.4)\n",
            "Downloading tensorboardX-2.6.2.2-py2.py3-none-any.whl (101 kB)\n",
            "\u001b[?25l   \u001b[90m━━━━━━━━━━━━━━━━━━━━━━━━━━━━━━━━━━━━━━━━\u001b[0m \u001b[32m0.0/101.7 kB\u001b[0m \u001b[31m?\u001b[0m eta \u001b[36m-:--:--\u001b[0m\r\u001b[2K   \u001b[90m━━━━━━━━━━━━━━━━━━━━━━━━━━━━━━━━━━━━━━━━\u001b[0m \u001b[32m101.7/101.7 kB\u001b[0m \u001b[31m3.2 MB/s\u001b[0m eta \u001b[36m0:00:00\u001b[0m\n",
            "\u001b[?25hInstalling collected packages: tensorboardX\n",
            "Successfully installed tensorboardX-2.6.2.2\n",
            "Collecting torchmetrics\n",
            "  Downloading torchmetrics-1.7.1-py3-none-any.whl.metadata (21 kB)\n",
            "Requirement already satisfied: numpy>1.20.0 in /usr/local/lib/python3.11/dist-packages (from torchmetrics) (2.0.2)\n",
            "Requirement already satisfied: packaging>17.1 in /usr/local/lib/python3.11/dist-packages (from torchmetrics) (24.2)\n",
            "Requirement already satisfied: torch>=2.0.0 in /usr/local/lib/python3.11/dist-packages (from torchmetrics) (2.6.0+cu124)\n",
            "Collecting lightning-utilities>=0.8.0 (from torchmetrics)\n",
            "  Downloading lightning_utilities-0.14.3-py3-none-any.whl.metadata (5.6 kB)\n",
            "Requirement already satisfied: setuptools in /usr/local/lib/python3.11/dist-packages (from lightning-utilities>=0.8.0->torchmetrics) (75.2.0)\n",
            "Requirement already satisfied: typing_extensions in /usr/local/lib/python3.11/dist-packages (from lightning-utilities>=0.8.0->torchmetrics) (4.13.2)\n",
            "Requirement already satisfied: filelock in /usr/local/lib/python3.11/dist-packages (from torch>=2.0.0->torchmetrics) (3.18.0)\n",
            "Requirement already satisfied: networkx in /usr/local/lib/python3.11/dist-packages (from torch>=2.0.0->torchmetrics) (3.4.2)\n",
            "Requirement already satisfied: jinja2 in /usr/local/lib/python3.11/dist-packages (from torch>=2.0.0->torchmetrics) (3.1.6)\n",
            "Requirement already satisfied: fsspec in /usr/local/lib/python3.11/dist-packages (from torch>=2.0.0->torchmetrics) (2025.3.2)\n",
            "Collecting nvidia-cuda-nvrtc-cu12==12.4.127 (from torch>=2.0.0->torchmetrics)\n",
            "  Downloading nvidia_cuda_nvrtc_cu12-12.4.127-py3-none-manylinux2014_x86_64.whl.metadata (1.5 kB)\n",
            "Collecting nvidia-cuda-runtime-cu12==12.4.127 (from torch>=2.0.0->torchmetrics)\n",
            "  Downloading nvidia_cuda_runtime_cu12-12.4.127-py3-none-manylinux2014_x86_64.whl.metadata (1.5 kB)\n",
            "Collecting nvidia-cuda-cupti-cu12==12.4.127 (from torch>=2.0.0->torchmetrics)\n",
            "  Downloading nvidia_cuda_cupti_cu12-12.4.127-py3-none-manylinux2014_x86_64.whl.metadata (1.6 kB)\n",
            "Collecting nvidia-cudnn-cu12==9.1.0.70 (from torch>=2.0.0->torchmetrics)\n",
            "  Downloading nvidia_cudnn_cu12-9.1.0.70-py3-none-manylinux2014_x86_64.whl.metadata (1.6 kB)\n",
            "Collecting nvidia-cublas-cu12==12.4.5.8 (from torch>=2.0.0->torchmetrics)\n",
            "  Downloading nvidia_cublas_cu12-12.4.5.8-py3-none-manylinux2014_x86_64.whl.metadata (1.5 kB)\n",
            "Collecting nvidia-cufft-cu12==11.2.1.3 (from torch>=2.0.0->torchmetrics)\n",
            "  Downloading nvidia_cufft_cu12-11.2.1.3-py3-none-manylinux2014_x86_64.whl.metadata (1.5 kB)\n",
            "Collecting nvidia-curand-cu12==10.3.5.147 (from torch>=2.0.0->torchmetrics)\n",
            "  Downloading nvidia_curand_cu12-10.3.5.147-py3-none-manylinux2014_x86_64.whl.metadata (1.5 kB)\n",
            "Collecting nvidia-cusolver-cu12==11.6.1.9 (from torch>=2.0.0->torchmetrics)\n",
            "  Downloading nvidia_cusolver_cu12-11.6.1.9-py3-none-manylinux2014_x86_64.whl.metadata (1.6 kB)\n",
            "Collecting nvidia-cusparse-cu12==12.3.1.170 (from torch>=2.0.0->torchmetrics)\n",
            "  Downloading nvidia_cusparse_cu12-12.3.1.170-py3-none-manylinux2014_x86_64.whl.metadata (1.6 kB)\n",
            "Requirement already satisfied: nvidia-cusparselt-cu12==0.6.2 in /usr/local/lib/python3.11/dist-packages (from torch>=2.0.0->torchmetrics) (0.6.2)\n",
            "Requirement already satisfied: nvidia-nccl-cu12==2.21.5 in /usr/local/lib/python3.11/dist-packages (from torch>=2.0.0->torchmetrics) (2.21.5)\n",
            "Requirement already satisfied: nvidia-nvtx-cu12==12.4.127 in /usr/local/lib/python3.11/dist-packages (from torch>=2.0.0->torchmetrics) (12.4.127)\n",
            "Collecting nvidia-nvjitlink-cu12==12.4.127 (from torch>=2.0.0->torchmetrics)\n",
            "  Downloading nvidia_nvjitlink_cu12-12.4.127-py3-none-manylinux2014_x86_64.whl.metadata (1.5 kB)\n",
            "Requirement already satisfied: triton==3.2.0 in /usr/local/lib/python3.11/dist-packages (from torch>=2.0.0->torchmetrics) (3.2.0)\n",
            "Requirement already satisfied: sympy==1.13.1 in /usr/local/lib/python3.11/dist-packages (from torch>=2.0.0->torchmetrics) (1.13.1)\n",
            "Requirement already satisfied: mpmath<1.4,>=1.1.0 in /usr/local/lib/python3.11/dist-packages (from sympy==1.13.1->torch>=2.0.0->torchmetrics) (1.3.0)\n",
            "Requirement already satisfied: MarkupSafe>=2.0 in /usr/local/lib/python3.11/dist-packages (from jinja2->torch>=2.0.0->torchmetrics) (3.0.2)\n",
            "Downloading torchmetrics-1.7.1-py3-none-any.whl (961 kB)\n",
            "\u001b[2K   \u001b[90m━━━━━━━━━━━━━━━━━━━━━━━━━━━━━━━━━━━━━━━━\u001b[0m \u001b[32m961.5/961.5 kB\u001b[0m \u001b[31m23.5 MB/s\u001b[0m eta \u001b[36m0:00:00\u001b[0m\n",
            "\u001b[?25hDownloading lightning_utilities-0.14.3-py3-none-any.whl (28 kB)\n",
            "Downloading nvidia_cublas_cu12-12.4.5.8-py3-none-manylinux2014_x86_64.whl (363.4 MB)\n",
            "\u001b[2K   \u001b[90m━━━━━━━━━━━━━━━━━━━━━━━━━━━━━━━━━━━━━━━━\u001b[0m \u001b[32m363.4/363.4 MB\u001b[0m \u001b[31m3.4 MB/s\u001b[0m eta \u001b[36m0:00:00\u001b[0m\n",
            "\u001b[?25hDownloading nvidia_cuda_cupti_cu12-12.4.127-py3-none-manylinux2014_x86_64.whl (13.8 MB)\n",
            "\u001b[2K   \u001b[90m━━━━━━━━━━━━━━━━━━━━━━━━━━━━━━━━━━━━━━━━\u001b[0m \u001b[32m13.8/13.8 MB\u001b[0m \u001b[31m132.2 MB/s\u001b[0m eta \u001b[36m0:00:00\u001b[0m\n",
            "\u001b[?25hDownloading nvidia_cuda_nvrtc_cu12-12.4.127-py3-none-manylinux2014_x86_64.whl (24.6 MB)\n",
            "\u001b[2K   \u001b[90m━━━━━━━━━━━━━━━━━━━━━━━━━━━━━━━━━━━━━━━━\u001b[0m \u001b[32m24.6/24.6 MB\u001b[0m \u001b[31m104.1 MB/s\u001b[0m eta \u001b[36m0:00:00\u001b[0m\n",
            "\u001b[?25hDownloading nvidia_cuda_runtime_cu12-12.4.127-py3-none-manylinux2014_x86_64.whl (883 kB)\n",
            "\u001b[2K   \u001b[90m━━━━━━━━━━━━━━━━━━━━━━━━━━━━━━━━━━━━━━━━\u001b[0m \u001b[32m883.7/883.7 kB\u001b[0m \u001b[31m63.7 MB/s\u001b[0m eta \u001b[36m0:00:00\u001b[0m\n",
            "\u001b[?25hDownloading nvidia_cudnn_cu12-9.1.0.70-py3-none-manylinux2014_x86_64.whl (664.8 MB)\n",
            "\u001b[2K   \u001b[90m━━━━━━━━━━━━━━━━━━━━━━━━━━━━━━━━━━━━━━━━\u001b[0m \u001b[32m664.8/664.8 MB\u001b[0m \u001b[31m2.1 MB/s\u001b[0m eta \u001b[36m0:00:00\u001b[0m\n",
            "\u001b[?25hDownloading nvidia_cufft_cu12-11.2.1.3-py3-none-manylinux2014_x86_64.whl (211.5 MB)\n",
            "\u001b[2K   \u001b[90m━━━━━━━━━━━━━━━━━━━━━━━━━━━━━━━━━━━━━━━━\u001b[0m \u001b[32m211.5/211.5 MB\u001b[0m \u001b[31m4.8 MB/s\u001b[0m eta \u001b[36m0:00:00\u001b[0m\n",
            "\u001b[?25hDownloading nvidia_curand_cu12-10.3.5.147-py3-none-manylinux2014_x86_64.whl (56.3 MB)\n",
            "\u001b[2K   \u001b[90m━━━━━━━━━━━━━━━━━━━━━━━━━━━━━━━━━━━━━━━━\u001b[0m \u001b[32m56.3/56.3 MB\u001b[0m \u001b[31m42.9 MB/s\u001b[0m eta \u001b[36m0:00:00\u001b[0m\n",
            "\u001b[?25hDownloading nvidia_cusolver_cu12-11.6.1.9-py3-none-manylinux2014_x86_64.whl (127.9 MB)\n",
            "\u001b[2K   \u001b[90m━━━━━━━━━━━━━━━━━━━━━━━━━━━━━━━━━━━━━━━━\u001b[0m \u001b[32m127.9/127.9 MB\u001b[0m \u001b[31m20.0 MB/s\u001b[0m eta \u001b[36m0:00:00\u001b[0m\n",
            "\u001b[?25hDownloading nvidia_cusparse_cu12-12.3.1.170-py3-none-manylinux2014_x86_64.whl (207.5 MB)\n",
            "\u001b[2K   \u001b[90m━━━━━━━━━━━━━━━━━━━━━━━━━━━━━━━━━━━━━━━━\u001b[0m \u001b[32m207.5/207.5 MB\u001b[0m \u001b[31m5.1 MB/s\u001b[0m eta \u001b[36m0:00:00\u001b[0m\n",
            "\u001b[?25hDownloading nvidia_nvjitlink_cu12-12.4.127-py3-none-manylinux2014_x86_64.whl (21.1 MB)\n",
            "\u001b[2K   \u001b[90m━━━━━━━━━━━━━━━━━━━━━━━━━━━━━━━━━━━━━━━━\u001b[0m \u001b[32m21.1/21.1 MB\u001b[0m \u001b[31m110.4 MB/s\u001b[0m eta \u001b[36m0:00:00\u001b[0m\n",
            "\u001b[?25hInstalling collected packages: nvidia-nvjitlink-cu12, nvidia-curand-cu12, nvidia-cufft-cu12, nvidia-cuda-runtime-cu12, nvidia-cuda-nvrtc-cu12, nvidia-cuda-cupti-cu12, nvidia-cublas-cu12, lightning-utilities, nvidia-cusparse-cu12, nvidia-cudnn-cu12, nvidia-cusolver-cu12, torchmetrics\n",
            "  Attempting uninstall: nvidia-nvjitlink-cu12\n",
            "    Found existing installation: nvidia-nvjitlink-cu12 12.5.82\n",
            "    Uninstalling nvidia-nvjitlink-cu12-12.5.82:\n",
            "      Successfully uninstalled nvidia-nvjitlink-cu12-12.5.82\n",
            "  Attempting uninstall: nvidia-curand-cu12\n",
            "    Found existing installation: nvidia-curand-cu12 10.3.6.82\n",
            "    Uninstalling nvidia-curand-cu12-10.3.6.82:\n",
            "      Successfully uninstalled nvidia-curand-cu12-10.3.6.82\n",
            "  Attempting uninstall: nvidia-cufft-cu12\n",
            "    Found existing installation: nvidia-cufft-cu12 11.2.3.61\n",
            "    Uninstalling nvidia-cufft-cu12-11.2.3.61:\n",
            "      Successfully uninstalled nvidia-cufft-cu12-11.2.3.61\n",
            "  Attempting uninstall: nvidia-cuda-runtime-cu12\n",
            "    Found existing installation: nvidia-cuda-runtime-cu12 12.5.82\n",
            "    Uninstalling nvidia-cuda-runtime-cu12-12.5.82:\n",
            "      Successfully uninstalled nvidia-cuda-runtime-cu12-12.5.82\n",
            "  Attempting uninstall: nvidia-cuda-nvrtc-cu12\n",
            "    Found existing installation: nvidia-cuda-nvrtc-cu12 12.5.82\n",
            "    Uninstalling nvidia-cuda-nvrtc-cu12-12.5.82:\n",
            "      Successfully uninstalled nvidia-cuda-nvrtc-cu12-12.5.82\n",
            "  Attempting uninstall: nvidia-cuda-cupti-cu12\n",
            "    Found existing installation: nvidia-cuda-cupti-cu12 12.5.82\n",
            "    Uninstalling nvidia-cuda-cupti-cu12-12.5.82:\n",
            "      Successfully uninstalled nvidia-cuda-cupti-cu12-12.5.82\n",
            "  Attempting uninstall: nvidia-cublas-cu12\n",
            "    Found existing installation: nvidia-cublas-cu12 12.5.3.2\n",
            "    Uninstalling nvidia-cublas-cu12-12.5.3.2:\n",
            "      Successfully uninstalled nvidia-cublas-cu12-12.5.3.2\n",
            "  Attempting uninstall: nvidia-cusparse-cu12\n",
            "    Found existing installation: nvidia-cusparse-cu12 12.5.1.3\n",
            "    Uninstalling nvidia-cusparse-cu12-12.5.1.3:\n",
            "      Successfully uninstalled nvidia-cusparse-cu12-12.5.1.3\n",
            "  Attempting uninstall: nvidia-cudnn-cu12\n",
            "    Found existing installation: nvidia-cudnn-cu12 9.3.0.75\n",
            "    Uninstalling nvidia-cudnn-cu12-9.3.0.75:\n",
            "      Successfully uninstalled nvidia-cudnn-cu12-9.3.0.75\n",
            "  Attempting uninstall: nvidia-cusolver-cu12\n",
            "    Found existing installation: nvidia-cusolver-cu12 11.6.3.83\n",
            "    Uninstalling nvidia-cusolver-cu12-11.6.3.83:\n",
            "      Successfully uninstalled nvidia-cusolver-cu12-11.6.3.83\n",
            "Successfully installed lightning-utilities-0.14.3 nvidia-cublas-cu12-12.4.5.8 nvidia-cuda-cupti-cu12-12.4.127 nvidia-cuda-nvrtc-cu12-12.4.127 nvidia-cuda-runtime-cu12-12.4.127 nvidia-cudnn-cu12-9.1.0.70 nvidia-cufft-cu12-11.2.1.3 nvidia-curand-cu12-10.3.5.147 nvidia-cusolver-cu12-11.6.1.9 nvidia-cusparse-cu12-12.3.1.170 nvidia-nvjitlink-cu12-12.4.127 torchmetrics-1.7.1\n"
          ]
        }
      ],
      "source": [
        "!pip install tensorboardX\n",
        "!pip install torchmetrics"
      ]
    },
    {
      "cell_type": "code",
      "execution_count": null,
      "id": "xy3QQDZq9sCc",
      "metadata": {
        "id": "xy3QQDZq9sCc"
      },
      "outputs": [],
      "source": [
        "import os\n",
        "import time\n",
        "import torch.multiprocessing\n",
        "from copy import deepcopy\n",
        "from tensorboardX import SummaryWriter\n",
        "from tqdm import tqdm\n",
        "import shutil\n",
        "\n",
        "from parameters import Parameters\n",
        "from train.trainer import Trainer\n",
        "from deepfake_datasets.datasets import get_dataloader\n",
        "from train.early_stopping import EarlyStopping\n",
        "from train.validate import validate_detection, validate_fully_supervised_localization\n",
        "from utils.utils import compute_mean_iou, compute_mean_ap, compute_mean_f1, compute_mean_acc_detection, compute_mean_ap_detection, compute_batch_iou, compute_batch_localization_f1, compute_batch_ap, compute_accuracy_detection, compute_average_precision_detection\n"
      ]
    },
    {
      "cell_type": "code",
      "execution_count": null,
      "id": "6c4118cc",
      "metadata": {
        "id": "6c4118cc"
      },
      "outputs": [],
      "source": [
        "torch.multiprocessing.set_sharing_strategy('file_system')"
      ]
    },
    {
      "cell_type": "code",
      "execution_count": null,
      "id": "VFIwhSdfp2t1",
      "metadata": {
        "id": "VFIwhSdfp2t1"
      },
      "outputs": [],
      "source": [
        "new_dataset_name = 'ldm'\n",
        "\n",
        "zip_path = f'/content/drive/MyDrive/Colab Notebooks/Licenta/DeCLIP-main/datasets_zip/{new_dataset_name}.zip'\n",
        "new_content_root_path = f'/content/datasets/dolos_data/celebahq/fake/'\n",
        "\n",
        "os.makedirs(new_content_root_path, exist_ok=True)\n",
        "\n",
        "# move the dataset from drive to /content (SSD) for better performance in I/O\n",
        "import zipfile\n",
        "with zipfile.ZipFile(zip_path, 'r') as zip_ref:\n",
        "    zip_ref.extractall(new_content_root_path)"
      ]
    },
    {
      "cell_type": "code",
      "execution_count": null,
      "id": "09390516",
      "metadata": {
        "colab": {
          "base_uri": "https://localhost:8080/"
        },
        "id": "09390516",
        "outputId": "54e13e4e-ca40-46a6-aec4-cb6a6310cfce"
      },
      "outputs": [
        {
          "output_type": "stream",
          "name": "stdout",
          "text": [
            "experiment_name: training_inital\n",
            "task_type: fully_supervised_localization\n",
            "data_label: train\n",
            "arch: CLIP:ViT-L/14\n",
            "fix_backbone: True\n",
            "weight_decay: 0.0\n",
            "batch_size: 64\n",
            "num_threads: 8\n",
            "init_type: normal\n",
            "init_gain: 0.02\n",
            "train_dataset: ldm\n",
            "decoder_type: conv-20\n",
            "feature_layer: layer20\n",
            "early_stop_epochs: 5\n",
            "optim: adam\n",
            "beta1: 0.9\n",
            "lr: 0.001\n",
            "show_loss_freq: 50\n",
            "num_iter: 30\n",
            "data_root_path: /content/datasets/dolos_data/celebahq\n",
            "train_fake_path: /content/datasets/dolos_data/celebahq/fake/ldm/images/train\n",
            "valid_fake_path: /content/datasets/dolos_data/celebahq/fake/ldm/images/valid\n",
            "test_fake_path: /content/datasets/dolos_data/celebahq/fake/ldm/images/test\n",
            "train_masks_ground_truth_path: /content/datasets/dolos_data/celebahq/fake/ldm/masks/train\n",
            "valid_masks_ground_truth_path: /content/datasets/dolos_data/celebahq/fake/ldm/masks/valid\n",
            "test_masks_ground_truth_path: /content/datasets/dolos_data/celebahq/fake/ldm/masks/test\n",
            "train_real_path: /content/datasets/dolos_data/celebahq/real/train\n",
            "valid_real_path: /content/datasets/dolos_data/celebahq/real/valid\n",
            "test_real_path: /content/datasets/dolos_data/celebahq/real/test\n",
            "checkpoint_path: \n",
            "save_dir: experiments/training_inital\n",
            "save_dir_models: experiments/training_inital/models\n",
            "save_dir_results: experiments/training_inital/results\n",
            "loss_type: bce\n"
          ]
        }
      ],
      "source": [
        "# set parameters\n",
        "params = Parameters()\n",
        "\n",
        "# set experiment name\n",
        "params.experiment_name = 'training_inital'\n",
        "\n",
        "# set backbone\n",
        "params.arch = 'CLIP:ViT-L/14'\n",
        "\n",
        "# create output dirs\n",
        "params.create_output_dirs()\n",
        "\n",
        "# uncomment lines below to set new datasets\n",
        "# new_drive_root_path = '/content/drive/MyDrive/Colab Notebooks/Licenta/DeCLIP-main/datasets/dolos_data/celebahq/'\n",
        "# new_root_path = '/content/dataset'\n",
        "# new_root_path = '..\\\\DeCLIP-main\\\\datasets\\\\dolos_data\\\\celebahq\\\\'\n",
        "# new_root_path = 'D:\\\\Python\\\\DeCLIP-main\\\\datasets\\\\dolos_data\\\\celebahq\\\\'\n",
        "\n",
        "\n",
        "# move the dataset from drive to /content for better performance in I/O\n",
        "# shutil.copytree(new_drive_root_path, new_root_path, dirs_exist_ok=True)\n",
        "\n",
        "new_root_path = '/content/datasets/dolos_data/celebahq/'\n",
        "new_dataset_name = 'ldm'\n",
        "\n",
        "params.update_dolos_data_paths(new_root_path, new_dataset_name)\n",
        "\n",
        "# fix the backbone - to train only the decoder\n",
        "params.fix_backbone = True\n",
        "\n",
        "# set the feature layer and the decoder type\n",
        "params.feature_layer = 'layer20'\n",
        "params.decoder_type = 'conv-20'\n",
        "\n",
        "# set the batch size and num threads\n",
        "params.batch_size = 64\n",
        "params.num_threads = 8\n",
        "\n",
        "# set the number of epochs\n",
        "params.num_iter = 30\n",
        "\n",
        "# set loss type\n",
        "params.loss_type = 'bce'\n",
        "\n",
        "for key, value in params.__dict__.items():\n",
        "    print(f\"{key}: {value}\")"
      ]
    },
    {
      "cell_type": "code",
      "execution_count": null,
      "id": "1d032661",
      "metadata": {
        "id": "1d032661",
        "colab": {
          "base_uri": "https://localhost:8080/"
        },
        "outputId": "4984fd5e-a120-4637-a287-1ab64464cfb9"
      },
      "outputs": [
        {
          "output_type": "stream",
          "name": "stderr",
          "text": [
            "100%|███████████████████████████████████████| 890M/890M [00:18<00:00, 50.8MiB/s]\n"
          ]
        }
      ],
      "source": [
        "# get the model, along with its trainer\n",
        "model_trainer = Trainer(params)\n",
        "\n",
        "# state_dict = torch.load('/content/drive/MyDrive/Colab Notebooks/Licenta/DeCLIP-custom/trained_models/combined_training/train_all_4/interrupted/best_localization_model_vit_conv20_iou_54.5470_epoch_22.pth', map_location='cpu')\n",
        "# model_trainer.model.load_state_dict(state_dict['model'], strict=False)\n",
        "# model_trainer.model = model_trainer.model.cuda()"
      ]
    },
    {
      "cell_type": "code",
      "execution_count": null,
      "id": "e3c6fd79",
      "metadata": {
        "id": "e3c6fd79"
      },
      "outputs": [],
      "source": [
        "# get the dataloaders\n",
        "train_loader = get_dataloader(params)\n",
        "\n",
        "val_params = deepcopy(params)\n",
        "val_params.data_label = 'valid'\n",
        "val_loader = get_dataloader(val_params)"
      ]
    },
    {
      "cell_type": "code",
      "execution_count": null,
      "id": "15ac3281",
      "metadata": {
        "id": "15ac3281"
      },
      "outputs": [],
      "source": [
        "# use summary writers to log training and validation metrics\n",
        "train_writer = SummaryWriter(os.path.join(params.save_dir_results, 'train'))\n",
        "val_writer = SummaryWriter(os.path.join(params.save_dir_results, 'valid'))"
      ]
    },
    {
      "cell_type": "code",
      "source": [
        "torch.cuda.empty_cache()"
      ],
      "metadata": {
        "id": "MMHhabE3rYBU"
      },
      "id": "MMHhabE3rYBU",
      "execution_count": null,
      "outputs": []
    },
    {
      "cell_type": "code",
      "execution_count": null,
      "id": "afffa2da",
      "metadata": {
        "id": "afffa2da",
        "colab": {
          "base_uri": "https://localhost:8080/"
        },
        "outputId": "13c1d9e5-a79c-4687-f9f7-5ca0f25058c8"
      },
      "outputs": [
        {
          "output_type": "stream",
          "name": "stdout",
          "text": [
            "Length of training set: 9000\n",
            "Length of validation set: 900\n"
          ]
        },
        {
          "output_type": "stream",
          "name": "stderr",
          "text": [
            "\r  0%|          | 0/30 [00:00<?, ?it/s]"
          ]
        },
        {
          "output_type": "stream",
          "name": "stdout",
          "text": [
            "Epoch: 0\n",
            "Train Loss: 0.3378 at step 50 \t Iter time: 2.89\n",
            "Train Loss: 0.3830 at step 100 \t Iter time: 2.86\n",
            "Average Train Loss: 0.0001\n",
            "Train epoch 0 Mean IOU: 0.08\n",
            "Train epoch 0 Mean F1 best: 0.5874\n",
            "Train epoch 0 Mean F1 fixed: 0.1041\n",
            "Train epoch 0 Mean AP: 0.4629\n",
            "Validation:\n",
            "Length of dataset:  900\n"
          ]
        },
        {
          "output_type": "stream",
          "name": "stderr",
          "text": [
            "\n",
            "  0%|          | 0/15 [00:00<?, ?it/s]\u001b[A\n",
            "  7%|▋         | 1/15 [00:03<00:54,  3.86s/it]\u001b[A\n",
            " 13%|█▎        | 2/15 [00:06<00:37,  2.88s/it]\u001b[A\n",
            " 20%|██        | 3/15 [00:08<00:30,  2.57s/it]\u001b[A\n",
            " 27%|██▋       | 4/15 [00:10<00:26,  2.43s/it]\u001b[A\n",
            " 33%|███▎      | 5/15 [00:12<00:23,  2.34s/it]\u001b[A\n",
            " 40%|████      | 6/15 [00:14<00:20,  2.29s/it]\u001b[A\n",
            " 47%|████▋     | 7/15 [00:17<00:18,  2.26s/it]\u001b[A\n",
            " 53%|█████▎    | 8/15 [00:19<00:15,  2.26s/it]\u001b[A\n",
            " 60%|██████    | 9/15 [00:21<00:13,  2.24s/it]\u001b[A\n",
            " 67%|██████▋   | 10/15 [00:23<00:11,  2.22s/it]\u001b[A\n",
            " 73%|███████▎  | 11/15 [00:25<00:08,  2.22s/it]\u001b[A\n",
            " 80%|████████  | 12/15 [00:28<00:06,  2.21s/it]\u001b[A\n",
            " 87%|████████▋ | 13/15 [00:30<00:04,  2.21s/it]\u001b[A\n",
            " 93%|█████████▎| 14/15 [00:32<00:02,  2.21s/it]\u001b[A\n",
            "100%|██████████| 15/15 [00:32<00:00,  2.18s/it]\n"
          ]
        },
        {
          "output_type": "stream",
          "name": "stdout",
          "text": [
            "Validation at epoch 0 Mean IOU: 0.0\n",
            "Validation at epoch 0 Mean F1 best: 0.6257\n",
            "Validation at epoch 0 Mean F1 fixed: 0.0989\n",
            "Validation at epoch 0 Mean AP: 0.5122\n"
          ]
        },
        {
          "output_type": "stream",
          "name": "stderr",
          "text": [
            "\r  3%|▎         | 1/30 [07:18<3:32:09, 438.94s/it]"
          ]
        },
        {
          "output_type": "stream",
          "name": "stdout",
          "text": [
            "Best model saved at epoch 0!\n",
            "\n",
            "Epoch: 1\n",
            "Train Loss: 0.3059 at step 150 \t Iter time: 3.10\n",
            "Train Loss: 0.3138 at step 200 \t Iter time: 3.03\n",
            "Train Loss: 0.2346 at step 250 \t Iter time: 2.99\n",
            "Average Train Loss: 0.0001\n",
            "Train epoch 1 Mean IOU: 23.98\n",
            "Train epoch 1 Mean F1 best: 0.6406\n",
            "Train epoch 1 Mean F1 fixed: 0.3851\n",
            "Train epoch 1 Mean AP: 0.5438\n",
            "Validation:\n",
            "Length of dataset:  900\n"
          ]
        },
        {
          "output_type": "stream",
          "name": "stderr",
          "text": [
            "\n",
            "  0%|          | 0/15 [00:00<?, ?it/s]\u001b[A\n",
            "  7%|▋         | 1/15 [00:02<00:38,  2.78s/it]\u001b[A\n",
            " 13%|█▎        | 2/15 [00:04<00:31,  2.42s/it]\u001b[A\n",
            " 20%|██        | 3/15 [00:07<00:27,  2.31s/it]\u001b[A\n",
            " 27%|██▋       | 4/15 [00:09<00:24,  2.25s/it]\u001b[A\n",
            " 33%|███▎      | 5/15 [00:11<00:22,  2.24s/it]\u001b[A\n",
            " 40%|████      | 6/15 [00:13<00:19,  2.21s/it]\u001b[A\n",
            " 47%|████▋     | 7/15 [00:15<00:17,  2.20s/it]\u001b[A\n",
            " 53%|█████▎    | 8/15 [00:18<00:15,  2.19s/it]\u001b[A\n",
            " 60%|██████    | 9/15 [00:20<00:13,  2.19s/it]\u001b[A\n",
            " 67%|██████▋   | 10/15 [00:22<00:10,  2.20s/it]\u001b[A\n",
            " 73%|███████▎  | 11/15 [00:24<00:08,  2.20s/it]\u001b[A\n",
            " 80%|████████  | 12/15 [00:26<00:06,  2.20s/it]\u001b[A\n",
            " 87%|████████▋ | 13/15 [00:29<00:04,  2.20s/it]\u001b[A\n",
            " 93%|█████████▎| 14/15 [00:31<00:02,  2.20s/it]\u001b[A\n",
            "100%|██████████| 15/15 [00:31<00:00,  2.09s/it]\n"
          ]
        },
        {
          "output_type": "stream",
          "name": "stdout",
          "text": [
            "Validation at epoch 1 Mean IOU: 28.26\n",
            "Validation at epoch 1 Mean F1 best: 0.6352\n",
            "Validation at epoch 1 Mean F1 fixed: 0.4216\n",
            "Validation at epoch 1 Mean AP: 0.5564\n"
          ]
        },
        {
          "output_type": "stream",
          "name": "stderr",
          "text": [
            "\r  7%|▋         | 2/30 [14:34<3:23:51, 436.85s/it]"
          ]
        },
        {
          "output_type": "stream",
          "name": "stdout",
          "text": [
            "Best model saved at epoch 1!\n",
            "\n",
            "Epoch: 2\n",
            "Train Loss: 0.2575 at step 300 \t Iter time: 3.09\n",
            "Train Loss: 0.2718 at step 350 \t Iter time: 3.05\n",
            "Train Loss: 0.2272 at step 400 \t Iter time: 3.02\n",
            "Average Train Loss: 0.0001\n",
            "Train epoch 2 Mean IOU: 34.31\n",
            "Train epoch 2 Mean F1 best: 0.6606\n",
            "Train epoch 2 Mean F1 fixed: 0.4934\n",
            "Train epoch 2 Mean AP: 0.5785\n",
            "Validation:\n",
            "Length of dataset:  900\n"
          ]
        },
        {
          "output_type": "stream",
          "name": "stderr",
          "text": [
            "\n",
            "  0%|          | 0/15 [00:00<?, ?it/s]\u001b[A\n",
            "  7%|▋         | 1/15 [00:02<00:37,  2.68s/it]\u001b[A\n",
            " 13%|█▎        | 2/15 [00:04<00:31,  2.40s/it]\u001b[A\n",
            " 20%|██        | 3/15 [00:07<00:27,  2.31s/it]\u001b[A\n",
            " 27%|██▋       | 4/15 [00:09<00:24,  2.27s/it]\u001b[A\n",
            " 33%|███▎      | 5/15 [00:11<00:22,  2.25s/it]\u001b[A\n",
            " 40%|████      | 6/15 [00:13<00:20,  2.24s/it]\u001b[A\n",
            " 47%|████▋     | 7/15 [00:15<00:17,  2.23s/it]\u001b[A\n",
            " 53%|█████▎    | 8/15 [00:18<00:15,  2.22s/it]\u001b[A\n",
            " 60%|██████    | 9/15 [00:20<00:13,  2.21s/it]\u001b[A\n",
            " 67%|██████▋   | 10/15 [00:22<00:11,  2.21s/it]\u001b[A\n",
            " 73%|███████▎  | 11/15 [00:24<00:08,  2.21s/it]\u001b[A\n",
            " 80%|████████  | 12/15 [00:26<00:06,  2.21s/it]\u001b[A\n",
            " 87%|████████▋ | 13/15 [00:29<00:04,  2.21s/it]\u001b[A\n",
            " 93%|█████████▎| 14/15 [00:31<00:02,  2.21s/it]\u001b[A\n",
            "100%|██████████| 15/15 [00:31<00:00,  2.10s/it]\n"
          ]
        },
        {
          "output_type": "stream",
          "name": "stdout",
          "text": [
            "Validation at epoch 2 Mean IOU: 34.68\n",
            "Validation at epoch 2 Mean F1 best: 0.6469\n",
            "Validation at epoch 2 Mean F1 fixed: 0.4767\n",
            "Validation at epoch 2 Mean AP: 0.5923\n"
          ]
        },
        {
          "output_type": "stream",
          "name": "stderr",
          "text": [
            "\r 10%|█         | 3/30 [21:49<3:16:10, 435.93s/it]"
          ]
        },
        {
          "output_type": "stream",
          "name": "stdout",
          "text": [
            "Best model saved at epoch 2!\n",
            "\n",
            "Epoch: 3\n",
            "Train Loss: 0.2253 at step 450 \t Iter time: 3.08\n",
            "Train Loss: 0.2336 at step 500 \t Iter time: 3.06\n",
            "Train Loss: 0.2766 at step 550 \t Iter time: 3.04\n",
            "Average Train Loss: 0.0001\n",
            "Train epoch 3 Mean IOU: 38.87\n",
            "Train epoch 3 Mean F1 best: 0.6849\n",
            "Train epoch 3 Mean F1 fixed: 0.536\n",
            "Train epoch 3 Mean AP: 0.622\n",
            "Validation:\n",
            "Length of dataset:  900\n"
          ]
        },
        {
          "output_type": "stream",
          "name": "stderr",
          "text": [
            "\n",
            "  0%|          | 0/15 [00:00<?, ?it/s]\u001b[A\n",
            "  7%|▋         | 1/15 [00:02<00:39,  2.80s/it]\u001b[A\n",
            " 13%|█▎        | 2/15 [00:05<00:31,  2.45s/it]\u001b[A\n",
            " 20%|██        | 3/15 [00:07<00:28,  2.34s/it]\u001b[A\n",
            " 27%|██▋       | 4/15 [00:09<00:25,  2.29s/it]\u001b[A\n",
            " 33%|███▎      | 5/15 [00:11<00:22,  2.26s/it]\u001b[A\n",
            " 40%|████      | 6/15 [00:13<00:20,  2.24s/it]\u001b[A\n",
            " 47%|████▋     | 7/15 [00:16<00:17,  2.23s/it]\u001b[A\n",
            " 53%|█████▎    | 8/15 [00:18<00:15,  2.22s/it]\u001b[A\n",
            " 60%|██████    | 9/15 [00:20<00:13,  2.22s/it]\u001b[A\n",
            " 67%|██████▋   | 10/15 [00:22<00:11,  2.21s/it]\u001b[A\n",
            " 73%|███████▎  | 11/15 [00:24<00:08,  2.21s/it]\u001b[A\n",
            " 80%|████████  | 12/15 [00:27<00:06,  2.21s/it]\u001b[A\n",
            " 87%|████████▋ | 13/15 [00:29<00:04,  2.20s/it]\u001b[A\n",
            " 93%|█████████▎| 14/15 [00:31<00:02,  2.20s/it]\u001b[A\n",
            "100%|██████████| 15/15 [00:31<00:00,  2.11s/it]\n"
          ]
        },
        {
          "output_type": "stream",
          "name": "stdout",
          "text": [
            "Validation at epoch 3 Mean IOU: 36.98\n",
            "Validation at epoch 3 Mean F1 best: 0.6308\n",
            "Validation at epoch 3 Mean F1 fixed: 0.4987\n",
            "Validation at epoch 3 Mean AP: 0.5958\n"
          ]
        },
        {
          "output_type": "stream",
          "name": "stderr",
          "text": [
            "\r 13%|█▎        | 4/30 [29:05<3:08:56, 436.00s/it]"
          ]
        },
        {
          "output_type": "stream",
          "name": "stdout",
          "text": [
            "Best model saved at epoch 3!\n",
            "\n",
            "Epoch: 4\n",
            "Train Loss: 0.1826 at step 600 \t Iter time: 3.08\n",
            "Train Loss: 0.2294 at step 650 \t Iter time: 3.06\n",
            "Train Loss: 0.2063 at step 700 \t Iter time: 3.04\n",
            "Average Train Loss: 0.0001\n",
            "Train epoch 4 Mean IOU: 42.58\n",
            "Train epoch 4 Mean F1 best: 0.7013\n",
            "Train epoch 4 Mean F1 fixed: 0.5713\n",
            "Train epoch 4 Mean AP: 0.6484\n",
            "Validation:\n",
            "Length of dataset:  900\n"
          ]
        },
        {
          "output_type": "stream",
          "name": "stderr",
          "text": [
            "\n",
            "  0%|          | 0/15 [00:00<?, ?it/s]\u001b[A\n",
            "  7%|▋         | 1/15 [00:02<00:39,  2.82s/it]\u001b[A\n",
            " 13%|█▎        | 2/15 [00:05<00:32,  2.46s/it]\u001b[A\n",
            " 20%|██        | 3/15 [00:07<00:28,  2.35s/it]\u001b[A\n",
            " 27%|██▋       | 4/15 [00:09<00:25,  2.29s/it]\u001b[A\n",
            " 33%|███▎      | 5/15 [00:11<00:22,  2.26s/it]\u001b[A\n",
            " 40%|████      | 6/15 [00:13<00:20,  2.25s/it]\u001b[A\n",
            " 47%|████▋     | 7/15 [00:16<00:17,  2.23s/it]\u001b[A\n",
            " 53%|█████▎    | 8/15 [00:18<00:15,  2.22s/it]\u001b[A\n",
            " 60%|██████    | 9/15 [00:20<00:13,  2.22s/it]\u001b[A\n",
            " 67%|██████▋   | 10/15 [00:22<00:11,  2.21s/it]\u001b[A\n",
            " 73%|███████▎  | 11/15 [00:24<00:08,  2.21s/it]\u001b[A\n",
            " 80%|████████  | 12/15 [00:27<00:06,  2.20s/it]\u001b[A\n",
            " 87%|████████▋ | 13/15 [00:29<00:04,  2.20s/it]\u001b[A\n",
            " 93%|█████████▎| 14/15 [00:31<00:02,  2.20s/it]\u001b[A\n",
            "100%|██████████| 15/15 [00:31<00:00,  2.11s/it]\n"
          ]
        },
        {
          "output_type": "stream",
          "name": "stdout",
          "text": [
            "Validation at epoch 4 Mean IOU: 38.66\n",
            "Validation at epoch 4 Mean F1 best: 0.6294\n",
            "Validation at epoch 4 Mean F1 fixed: 0.4985\n",
            "Validation at epoch 4 Mean AP: 0.599\n"
          ]
        },
        {
          "output_type": "stream",
          "name": "stderr",
          "text": [
            "\r 17%|█▋        | 5/30 [36:23<3:02:02, 436.88s/it]"
          ]
        },
        {
          "output_type": "stream",
          "name": "stdout",
          "text": [
            "Best model saved at epoch 4!\n",
            "\n",
            "Epoch: 5\n",
            "Train Loss: 0.2783 at step 750 \t Iter time: 3.08\n",
            "Train Loss: 0.1801 at step 800 \t Iter time: 3.07\n",
            "Average Train Loss: 0.0001\n",
            "Train epoch 5 Mean IOU: 45.98\n",
            "Train epoch 5 Mean F1 best: 0.7266\n",
            "Train epoch 5 Mean F1 fixed: 0.6029\n",
            "Train epoch 5 Mean AP: 0.6782\n",
            "Validation:\n",
            "Length of dataset:  900\n"
          ]
        },
        {
          "output_type": "stream",
          "name": "stderr",
          "text": [
            "\n",
            "  0%|          | 0/15 [00:00<?, ?it/s]\u001b[A\n",
            "  7%|▋         | 1/15 [00:02<00:39,  2.85s/it]\u001b[A\n",
            " 13%|█▎        | 2/15 [00:05<00:32,  2.47s/it]\u001b[A\n",
            " 20%|██        | 3/15 [00:07<00:28,  2.37s/it]\u001b[A\n",
            " 27%|██▋       | 4/15 [00:09<00:25,  2.31s/it]\u001b[A\n",
            " 33%|███▎      | 5/15 [00:11<00:22,  2.27s/it]\u001b[A\n",
            " 40%|████      | 6/15 [00:13<00:20,  2.25s/it]\u001b[A\n",
            " 47%|████▋     | 7/15 [00:16<00:17,  2.23s/it]\u001b[A\n",
            " 53%|█████▎    | 8/15 [00:18<00:15,  2.22s/it]\u001b[A\n",
            " 60%|██████    | 9/15 [00:20<00:13,  2.21s/it]\u001b[A\n",
            " 67%|██████▋   | 10/15 [00:22<00:11,  2.21s/it]\u001b[A\n",
            " 73%|███████▎  | 11/15 [00:24<00:08,  2.21s/it]\u001b[A\n",
            " 80%|████████  | 12/15 [00:27<00:06,  2.20s/it]\u001b[A\n",
            " 87%|████████▋ | 13/15 [00:29<00:04,  2.20s/it]\u001b[A\n",
            " 93%|█████████▎| 14/15 [00:31<00:02,  2.20s/it]\u001b[A\n",
            "100%|██████████| 15/15 [00:31<00:00,  2.11s/it]\n",
            " 20%|██        | 6/30 [43:33<2:53:46, 434.44s/it]"
          ]
        },
        {
          "output_type": "stream",
          "name": "stdout",
          "text": [
            "Validation at epoch 5 Mean IOU: 36.14\n",
            "Validation at epoch 5 Mean F1 best: 0.6456\n",
            "Validation at epoch 5 Mean F1 fixed: 0.484\n",
            "Validation at epoch 5 Mean AP: 0.5986\n",
            "Early Stopping counter: 1 out of 5\n",
            "\n",
            "Epoch: 6\n",
            "Train Loss: 0.1725 at step 850 \t Iter time: 3.09\n",
            "Train Loss: 0.1818 at step 900 \t Iter time: 3.07\n",
            "Train Loss: 0.2070 at step 950 \t Iter time: 3.06\n",
            "Average Train Loss: 0.0001\n",
            "Train epoch 6 Mean IOU: 48.81\n",
            "Train epoch 6 Mean F1 best: 0.7462\n",
            "Train epoch 6 Mean F1 fixed: 0.6269\n",
            "Train epoch 6 Mean AP: 0.7022\n",
            "Validation:\n",
            "Length of dataset:  900\n"
          ]
        },
        {
          "output_type": "stream",
          "name": "stderr",
          "text": [
            "\n",
            "  0%|          | 0/15 [00:00<?, ?it/s]\u001b[A\n",
            "  7%|▋         | 1/15 [00:02<00:41,  2.97s/it]\u001b[A\n",
            " 13%|█▎        | 2/15 [00:05<00:32,  2.51s/it]\u001b[A\n",
            " 20%|██        | 3/15 [00:07<00:28,  2.37s/it]\u001b[A\n",
            " 27%|██▋       | 4/15 [00:09<00:25,  2.30s/it]\u001b[A\n",
            " 33%|███▎      | 5/15 [00:11<00:22,  2.27s/it]\u001b[A\n",
            " 40%|████      | 6/15 [00:13<00:20,  2.24s/it]\u001b[A\n",
            " 47%|████▋     | 7/15 [00:16<00:17,  2.23s/it]\u001b[A\n",
            " 53%|█████▎    | 8/15 [00:18<00:15,  2.22s/it]\u001b[A\n",
            " 60%|██████    | 9/15 [00:20<00:13,  2.21s/it]\u001b[A\n",
            " 67%|██████▋   | 10/15 [00:22<00:11,  2.21s/it]\u001b[A\n",
            " 73%|███████▎  | 11/15 [00:24<00:08,  2.21s/it]\u001b[A\n",
            " 80%|████████  | 12/15 [00:27<00:06,  2.21s/it]\u001b[A\n",
            " 87%|████████▋ | 13/15 [00:29<00:04,  2.21s/it]\u001b[A\n",
            " 93%|█████████▎| 14/15 [00:31<00:02,  2.21s/it]\u001b[A\n",
            "100%|██████████| 15/15 [00:31<00:00,  2.11s/it]\n",
            " 23%|██▎       | 7/30 [50:43<2:46:00, 433.08s/it]"
          ]
        },
        {
          "output_type": "stream",
          "name": "stdout",
          "text": [
            "Validation at epoch 6 Mean IOU: 35.01\n",
            "Validation at epoch 6 Mean F1 best: 0.6954\n",
            "Validation at epoch 6 Mean F1 fixed: 0.5024\n",
            "Validation at epoch 6 Mean AP: 0.629\n",
            "Early Stopping counter: 2 out of 5\n",
            "\n",
            "Epoch: 7\n",
            "Train Loss: 0.1657 at step 1000 \t Iter time: 3.08\n",
            "Train Loss: 0.1514 at step 1050 \t Iter time: 3.07\n",
            "Train Loss: 0.1608 at step 1100 \t Iter time: 3.06\n",
            "Average Train Loss: 0.0001\n",
            "Train epoch 7 Mean IOU: 51.35\n",
            "Train epoch 7 Mean F1 best: 0.7735\n",
            "Train epoch 7 Mean F1 fixed: 0.6586\n",
            "Train epoch 7 Mean AP: 0.7293\n",
            "Validation:\n",
            "Length of dataset:  900\n"
          ]
        },
        {
          "output_type": "stream",
          "name": "stderr",
          "text": [
            "\n",
            "  0%|          | 0/15 [00:00<?, ?it/s]\u001b[A\n",
            "  7%|▋         | 1/15 [00:02<00:37,  2.68s/it]\u001b[A\n",
            " 13%|█▎        | 2/15 [00:04<00:31,  2.39s/it]\u001b[A\n",
            " 20%|██        | 3/15 [00:07<00:27,  2.30s/it]\u001b[A\n",
            " 27%|██▋       | 4/15 [00:09<00:24,  2.26s/it]\u001b[A\n",
            " 33%|███▎      | 5/15 [00:11<00:22,  2.23s/it]\u001b[A\n",
            " 40%|████      | 6/15 [00:13<00:19,  2.22s/it]\u001b[A\n",
            " 47%|████▋     | 7/15 [00:15<00:17,  2.21s/it]\u001b[A\n",
            " 53%|█████▎    | 8/15 [00:18<00:15,  2.21s/it]\u001b[A\n",
            " 60%|██████    | 9/15 [00:20<00:13,  2.21s/it]\u001b[A\n",
            " 67%|██████▋   | 10/15 [00:22<00:11,  2.20s/it]\u001b[A\n",
            " 73%|███████▎  | 11/15 [00:24<00:08,  2.20s/it]\u001b[A\n",
            " 80%|████████  | 12/15 [00:26<00:06,  2.20s/it]\u001b[A\n",
            " 87%|████████▋ | 13/15 [00:29<00:04,  2.20s/it]\u001b[A\n",
            " 93%|█████████▎| 14/15 [00:31<00:02,  2.20s/it]\u001b[A\n",
            "100%|██████████| 15/15 [00:31<00:00,  2.09s/it]\n"
          ]
        },
        {
          "output_type": "stream",
          "name": "stdout",
          "text": [
            "Validation at epoch 7 Mean IOU: 40.71\n",
            "Validation at epoch 7 Mean F1 best: 0.6641\n",
            "Validation at epoch 7 Mean F1 fixed: 0.535\n",
            "Validation at epoch 7 Mean AP: 0.6146\n"
          ]
        },
        {
          "output_type": "stream",
          "name": "stderr",
          "text": [
            "\r 27%|██▋       | 8/30 [57:57<2:38:50, 433.21s/it]"
          ]
        },
        {
          "output_type": "stream",
          "name": "stdout",
          "text": [
            "Best model saved at epoch 7!\n",
            "\n",
            "Epoch: 8\n",
            "Train Loss: 0.1852 at step 1150 \t Iter time: 3.08\n",
            "Train Loss: 0.1527 at step 1200 \t Iter time: 3.07\n",
            "Train Loss: 0.1502 at step 1250 \t Iter time: 3.06\n",
            "Average Train Loss: 0.0001\n",
            "Train epoch 8 Mean IOU: 53.38\n",
            "Train epoch 8 Mean F1 best: 0.7887\n",
            "Train epoch 8 Mean F1 fixed: 0.6772\n",
            "Train epoch 8 Mean AP: 0.7469\n",
            "Validation:\n",
            "Length of dataset:  900\n"
          ]
        },
        {
          "output_type": "stream",
          "name": "stderr",
          "text": [
            "\n",
            "  0%|          | 0/15 [00:00<?, ?it/s]\u001b[A\n",
            "  7%|▋         | 1/15 [00:02<00:36,  2.64s/it]\u001b[A\n",
            " 13%|█▎        | 2/15 [00:04<00:30,  2.38s/it]\u001b[A\n",
            " 20%|██        | 3/15 [00:07<00:27,  2.30s/it]\u001b[A\n",
            " 27%|██▋       | 4/15 [00:09<00:24,  2.26s/it]\u001b[A\n",
            " 33%|███▎      | 5/15 [00:11<00:22,  2.24s/it]\u001b[A\n",
            " 40%|████      | 6/15 [00:13<00:20,  2.23s/it]\u001b[A\n",
            " 47%|████▋     | 7/15 [00:15<00:17,  2.22s/it]\u001b[A\n",
            " 53%|█████▎    | 8/15 [00:18<00:15,  2.21s/it]\u001b[A\n",
            " 60%|██████    | 9/15 [00:20<00:13,  2.21s/it]\u001b[A\n",
            " 67%|██████▋   | 10/15 [00:22<00:11,  2.21s/it]\u001b[A\n",
            " 73%|███████▎  | 11/15 [00:24<00:08,  2.21s/it]\u001b[A\n",
            " 80%|████████  | 12/15 [00:26<00:06,  2.21s/it]\u001b[A\n",
            " 87%|████████▋ | 13/15 [00:29<00:04,  2.21s/it]\u001b[A\n",
            " 93%|█████████▎| 14/15 [00:31<00:02,  2.21s/it]\u001b[A\n",
            "100%|██████████| 15/15 [00:31<00:00,  2.09s/it]\n"
          ]
        },
        {
          "output_type": "stream",
          "name": "stdout",
          "text": [
            "Validation at epoch 8 Mean IOU: 47.29\n",
            "Validation at epoch 8 Mean F1 best: 0.6325\n",
            "Validation at epoch 8 Mean F1 fixed: 0.5439\n",
            "Validation at epoch 8 Mean AP: 0.625\n"
          ]
        },
        {
          "output_type": "stream",
          "name": "stderr",
          "text": [
            "\r 30%|███       | 9/30 [1:05:11<2:31:43, 433.49s/it]"
          ]
        },
        {
          "output_type": "stream",
          "name": "stdout",
          "text": [
            "Best model saved at epoch 8!\n",
            "\n",
            "Epoch: 9\n",
            "Train Loss: 0.1465 at step 1300 \t Iter time: 3.08\n",
            "Train Loss: 0.1495 at step 1350 \t Iter time: 3.07\n",
            "Train Loss: 0.1447 at step 1400 \t Iter time: 3.06\n",
            "Average Train Loss: 0.0000\n",
            "Train epoch 9 Mean IOU: 56.38\n",
            "Train epoch 9 Mean F1 best: 0.8016\n",
            "Train epoch 9 Mean F1 fixed: 0.702\n",
            "Train epoch 9 Mean AP: 0.7654\n",
            "Validation:\n",
            "Length of dataset:  900\n"
          ]
        },
        {
          "output_type": "stream",
          "name": "stderr",
          "text": [
            "\n",
            "  0%|          | 0/15 [00:00<?, ?it/s]\u001b[A\n",
            "  7%|▋         | 1/15 [00:02<00:38,  2.72s/it]\u001b[A\n",
            " 13%|█▎        | 2/15 [00:05<00:32,  2.54s/it]\u001b[A\n",
            " 20%|██        | 3/15 [00:07<00:28,  2.37s/it]\u001b[A\n",
            " 27%|██▋       | 4/15 [00:09<00:25,  2.30s/it]\u001b[A\n",
            " 33%|███▎      | 5/15 [00:11<00:22,  2.26s/it]\u001b[A\n",
            " 40%|████      | 6/15 [00:13<00:20,  2.23s/it]\u001b[A\n",
            " 47%|████▋     | 7/15 [00:16<00:17,  2.22s/it]\u001b[A\n",
            " 53%|█████▎    | 8/15 [00:18<00:15,  2.21s/it]\u001b[A\n",
            " 60%|██████    | 9/15 [00:20<00:13,  2.20s/it]\u001b[A\n",
            " 67%|██████▋   | 10/15 [00:22<00:11,  2.20s/it]\u001b[A\n",
            " 73%|███████▎  | 11/15 [00:24<00:08,  2.20s/it]\u001b[A\n",
            " 80%|████████  | 12/15 [00:27<00:06,  2.20s/it]\u001b[A\n",
            " 87%|████████▋ | 13/15 [00:29<00:04,  2.21s/it]\u001b[A\n",
            " 93%|█████████▎| 14/15 [00:31<00:02,  2.20s/it]\u001b[A\n",
            "100%|██████████| 15/15 [00:31<00:00,  2.10s/it]\n",
            " 33%|███▎      | 10/30 [1:12:20<2:24:03, 432.18s/it]"
          ]
        },
        {
          "output_type": "stream",
          "name": "stdout",
          "text": [
            "Validation at epoch 9 Mean IOU: 42.99\n",
            "Validation at epoch 9 Mean F1 best: 0.6232\n",
            "Validation at epoch 9 Mean F1 fixed: 0.5151\n",
            "Validation at epoch 9 Mean AP: 0.5655\n",
            "Early Stopping counter: 1 out of 5\n",
            "\n",
            "Epoch: 10\n",
            "Train Loss: 0.1412 at step 1450 \t Iter time: 3.07\n",
            "Train Loss: 0.1197 at step 1500 \t Iter time: 3.06\n",
            "Train Loss: 0.1701 at step 1550 \t Iter time: 3.06\n",
            "Average Train Loss: 0.0000\n",
            "Train epoch 10 Mean IOU: 58.01\n",
            "Train epoch 10 Mean F1 best: 0.8211\n",
            "Train epoch 10 Mean F1 fixed: 0.7222\n",
            "Train epoch 10 Mean AP: 0.7833\n",
            "Validation:\n",
            "Length of dataset:  900\n"
          ]
        },
        {
          "output_type": "stream",
          "name": "stderr",
          "text": [
            "\n",
            "  0%|          | 0/15 [00:00<?, ?it/s]\u001b[A\n",
            "  7%|▋         | 1/15 [00:02<00:37,  2.65s/it]\u001b[A\n",
            " 13%|█▎        | 2/15 [00:04<00:30,  2.38s/it]\u001b[A\n",
            " 20%|██        | 3/15 [00:07<00:27,  2.30s/it]\u001b[A\n",
            " 27%|██▋       | 4/15 [00:09<00:24,  2.26s/it]\u001b[A\n",
            " 33%|███▎      | 5/15 [00:11<00:22,  2.24s/it]\u001b[A\n",
            " 40%|████      | 6/15 [00:13<00:20,  2.23s/it]\u001b[A\n",
            " 47%|████▋     | 7/15 [00:15<00:17,  2.22s/it]\u001b[A\n",
            " 53%|█████▎    | 8/15 [00:18<00:15,  2.21s/it]\u001b[A\n",
            " 60%|██████    | 9/15 [00:20<00:13,  2.20s/it]\u001b[A\n",
            " 67%|██████▋   | 10/15 [00:22<00:11,  2.20s/it]\u001b[A\n",
            " 73%|███████▎  | 11/15 [00:24<00:08,  2.20s/it]\u001b[A\n",
            " 80%|████████  | 12/15 [00:26<00:06,  2.19s/it]\u001b[A\n",
            " 87%|████████▋ | 13/15 [00:29<00:04,  2.20s/it]\u001b[A\n",
            " 93%|█████████▎| 14/15 [00:31<00:02,  2.19s/it]\u001b[A\n",
            "100%|██████████| 15/15 [00:31<00:00,  2.09s/it]\n",
            " 37%|███▋      | 11/30 [1:19:29<2:16:32, 431.21s/it]"
          ]
        },
        {
          "output_type": "stream",
          "name": "stdout",
          "text": [
            "Validation at epoch 10 Mean IOU: 44.55\n",
            "Validation at epoch 10 Mean F1 best: 0.6059\n",
            "Validation at epoch 10 Mean F1 fixed: 0.5227\n",
            "Validation at epoch 10 Mean AP: 0.5913\n",
            "Early Stopping counter: 2 out of 5\n",
            "\n",
            "Epoch: 11\n",
            "Train Loss: 0.1061 at step 1600 \t Iter time: 3.07\n",
            "Train Loss: 0.1404 at step 1650 \t Iter time: 3.06\n",
            "Average Train Loss: 0.0000\n",
            "Train epoch 11 Mean IOU: 59.49\n",
            "Train epoch 11 Mean F1 best: 0.8263\n",
            "Train epoch 11 Mean F1 fixed: 0.7315\n",
            "Train epoch 11 Mean AP: 0.7958\n",
            "Validation:\n",
            "Length of dataset:  900\n"
          ]
        },
        {
          "output_type": "stream",
          "name": "stderr",
          "text": [
            "\n",
            "  0%|          | 0/15 [00:00<?, ?it/s]\u001b[A\n",
            "  7%|▋         | 1/15 [00:02<00:38,  2.72s/it]\u001b[A\n",
            " 13%|█▎        | 2/15 [00:04<00:31,  2.42s/it]\u001b[A\n",
            " 20%|██        | 3/15 [00:07<00:27,  2.31s/it]\u001b[A\n",
            " 27%|██▋       | 4/15 [00:09<00:24,  2.27s/it]\u001b[A\n",
            " 33%|███▎      | 5/15 [00:11<00:22,  2.24s/it]\u001b[A\n",
            " 40%|████      | 6/15 [00:13<00:20,  2.22s/it]\u001b[A\n",
            " 47%|████▋     | 7/15 [00:15<00:17,  2.21s/it]\u001b[A\n",
            " 53%|█████▎    | 8/15 [00:18<00:15,  2.21s/it]\u001b[A\n",
            " 60%|██████    | 9/15 [00:20<00:13,  2.20s/it]\u001b[A\n",
            " 67%|██████▋   | 10/15 [00:22<00:11,  2.20s/it]\u001b[A\n",
            " 73%|███████▎  | 11/15 [00:24<00:08,  2.20s/it]\u001b[A\n",
            " 80%|████████  | 12/15 [00:26<00:06,  2.20s/it]\u001b[A\n",
            " 87%|████████▋ | 13/15 [00:29<00:04,  2.19s/it]\u001b[A\n",
            " 93%|█████████▎| 14/15 [00:31<00:02,  2.19s/it]\u001b[A\n",
            "100%|██████████| 15/15 [00:31<00:00,  2.09s/it]\n",
            " 40%|████      | 12/30 [1:26:38<2:09:10, 430.56s/it]"
          ]
        },
        {
          "output_type": "stream",
          "name": "stdout",
          "text": [
            "Validation at epoch 11 Mean IOU: 40.7\n",
            "Validation at epoch 11 Mean F1 best: 0.7075\n",
            "Validation at epoch 11 Mean F1 fixed: 0.5405\n",
            "Validation at epoch 11 Mean AP: 0.6702\n",
            "Early Stopping counter: 3 out of 5\n",
            "\n",
            "Epoch: 12\n",
            "Train Loss: 0.1778 at step 1700 \t Iter time: 3.07\n",
            "Train Loss: 0.1262 at step 1750 \t Iter time: 3.06\n",
            "Train Loss: 0.1154 at step 1800 \t Iter time: 3.06\n",
            "Average Train Loss: 0.0000\n",
            "Train epoch 12 Mean IOU: 61.92\n",
            "Train epoch 12 Mean F1 best: 0.8453\n",
            "Train epoch 12 Mean F1 fixed: 0.7594\n",
            "Train epoch 12 Mean AP: 0.815\n",
            "Validation:\n",
            "Length of dataset:  900\n"
          ]
        },
        {
          "output_type": "stream",
          "name": "stderr",
          "text": [
            "\n",
            "  0%|          | 0/15 [00:00<?, ?it/s]\u001b[A\n",
            "  7%|▋         | 1/15 [00:02<00:37,  2.66s/it]\u001b[A\n",
            " 13%|█▎        | 2/15 [00:04<00:31,  2.39s/it]\u001b[A\n",
            " 20%|██        | 3/15 [00:07<00:27,  2.30s/it]\u001b[A\n",
            " 27%|██▋       | 4/15 [00:09<00:24,  2.26s/it]\u001b[A\n",
            " 33%|███▎      | 5/15 [00:11<00:22,  2.24s/it]\u001b[A\n",
            " 40%|████      | 6/15 [00:13<00:19,  2.22s/it]\u001b[A\n",
            " 47%|████▋     | 7/15 [00:15<00:17,  2.21s/it]\u001b[A\n",
            " 53%|█████▎    | 8/15 [00:18<00:15,  2.21s/it]\u001b[A\n",
            " 60%|██████    | 9/15 [00:20<00:13,  2.20s/it]\u001b[A\n",
            " 67%|██████▋   | 10/15 [00:22<00:10,  2.20s/it]\u001b[A\n",
            " 73%|███████▎  | 11/15 [00:24<00:08,  2.20s/it]\u001b[A\n",
            " 80%|████████  | 12/15 [00:26<00:06,  2.19s/it]\u001b[A\n",
            " 87%|████████▋ | 13/15 [00:28<00:04,  2.19s/it]\u001b[A\n",
            " 93%|█████████▎| 14/15 [00:31<00:02,  2.19s/it]\u001b[A\n",
            "100%|██████████| 15/15 [00:31<00:00,  2.09s/it]\n",
            " 43%|████▎     | 13/30 [1:33:47<2:01:51, 430.10s/it]"
          ]
        },
        {
          "output_type": "stream",
          "name": "stdout",
          "text": [
            "Validation at epoch 12 Mean IOU: 45.36\n",
            "Validation at epoch 12 Mean F1 best: 0.7056\n",
            "Validation at epoch 12 Mean F1 fixed: 0.5691\n",
            "Validation at epoch 12 Mean AP: 0.6773\n",
            "Early Stopping counter: 4 out of 5\n",
            "\n",
            "Epoch: 13\n",
            "Train Loss: 0.1089 at step 1850 \t Iter time: 3.07\n",
            "Train Loss: 0.1089 at step 1900 \t Iter time: 3.06\n",
            "Train Loss: 0.1025 at step 1950 \t Iter time: 3.06\n",
            "Average Train Loss: 0.0000\n",
            "Train epoch 13 Mean IOU: 63.01\n",
            "Train epoch 13 Mean F1 best: 0.8509\n",
            "Train epoch 13 Mean F1 fixed: 0.7685\n",
            "Train epoch 13 Mean AP: 0.8222\n",
            "Validation:\n",
            "Length of dataset:  900\n"
          ]
        },
        {
          "output_type": "stream",
          "name": "stderr",
          "text": [
            "\n",
            "  0%|          | 0/15 [00:00<?, ?it/s]\u001b[A\n",
            "  7%|▋         | 1/15 [00:02<00:40,  2.86s/it]\u001b[A\n",
            " 13%|█▎        | 2/15 [00:05<00:32,  2.47s/it]\u001b[A\n",
            " 20%|██        | 3/15 [00:07<00:28,  2.34s/it]\u001b[A\n",
            " 27%|██▋       | 4/15 [00:09<00:25,  2.28s/it]\u001b[A\n",
            " 33%|███▎      | 5/15 [00:11<00:22,  2.25s/it]\u001b[A\n",
            " 40%|████      | 6/15 [00:13<00:20,  2.23s/it]\u001b[A\n",
            " 47%|████▋     | 7/15 [00:16<00:17,  2.22s/it]\u001b[A\n",
            " 53%|█████▎    | 8/15 [00:18<00:15,  2.21s/it]\u001b[A\n",
            " 60%|██████    | 9/15 [00:20<00:13,  2.21s/it]\u001b[A\n",
            " 67%|██████▋   | 10/15 [00:22<00:11,  2.20s/it]\u001b[A\n",
            " 73%|███████▎  | 11/15 [00:24<00:08,  2.20s/it]\u001b[A\n",
            " 80%|████████  | 12/15 [00:26<00:06,  2.20s/it]\u001b[A\n",
            " 87%|████████▋ | 13/15 [00:29<00:04,  2.20s/it]\u001b[A\n",
            " 93%|█████████▎| 14/15 [00:31<00:02,  2.20s/it]\u001b[A\n",
            "100%|██████████| 15/15 [00:31<00:00,  2.10s/it]\n",
            " 47%|████▋     | 14/30 [1:40:57<1:54:39, 429.95s/it]"
          ]
        },
        {
          "output_type": "stream",
          "name": "stdout",
          "text": [
            "Validation at epoch 13 Mean IOU: 46.06\n",
            "Validation at epoch 13 Mean F1 best: 0.674\n",
            "Validation at epoch 13 Mean F1 fixed: 0.5518\n",
            "Validation at epoch 13 Mean AP: 0.6628\n",
            "Early Stopping counter: 5 out of 5\n",
            "Early stopping triggered\n",
            "Continuing training with a learning rate reduced by a factor of 10\n",
            "\n",
            "Epoch: 14\n",
            "Train Loss: 0.0956 at step 2000 \t Iter time: 3.07\n",
            "Train Loss: 0.0929 at step 2050 \t Iter time: 3.06\n",
            "Train Loss: 0.1223 at step 2100 \t Iter time: 3.05\n",
            "Average Train Loss: 0.0000\n",
            "Train epoch 14 Mean IOU: 68.17\n",
            "Train epoch 14 Mean F1 best: 0.8936\n",
            "Train epoch 14 Mean F1 fixed: 0.8272\n",
            "Train epoch 14 Mean AP: 0.8658\n",
            "Validation:\n",
            "Length of dataset:  900\n"
          ]
        },
        {
          "output_type": "stream",
          "name": "stderr",
          "text": [
            "\n",
            "  0%|          | 0/15 [00:00<?, ?it/s]\u001b[A\n",
            "  7%|▋         | 1/15 [00:02<00:37,  2.67s/it]\u001b[A\n",
            " 13%|█▎        | 2/15 [00:04<00:31,  2.39s/it]\u001b[A\n",
            " 20%|██        | 3/15 [00:07<00:27,  2.32s/it]\u001b[A\n",
            " 27%|██▋       | 4/15 [00:09<00:24,  2.27s/it]\u001b[A\n",
            " 33%|███▎      | 5/15 [00:11<00:22,  2.24s/it]\u001b[A\n",
            " 40%|████      | 6/15 [00:13<00:20,  2.22s/it]\u001b[A\n",
            " 47%|████▋     | 7/15 [00:15<00:17,  2.22s/it]\u001b[A\n",
            " 53%|█████▎    | 8/15 [00:18<00:15,  2.21s/it]\u001b[A\n",
            " 60%|██████    | 9/15 [00:20<00:13,  2.20s/it]\u001b[A\n",
            " 67%|██████▋   | 10/15 [00:22<00:11,  2.20s/it]\u001b[A\n",
            " 73%|███████▎  | 11/15 [00:24<00:08,  2.20s/it]\u001b[A\n",
            " 80%|████████  | 12/15 [00:26<00:06,  2.20s/it]\u001b[A\n",
            " 87%|████████▋ | 13/15 [00:29<00:04,  2.20s/it]\u001b[A\n",
            " 93%|█████████▎| 14/15 [00:31<00:02,  2.20s/it]\u001b[A\n",
            "100%|██████████| 15/15 [00:31<00:00,  2.09s/it]\n",
            " 50%|█████     | 15/30 [1:48:06<1:47:25, 429.69s/it]"
          ]
        },
        {
          "output_type": "stream",
          "name": "stdout",
          "text": [
            "Validation at epoch 14 Mean IOU: 47.21\n",
            "Validation at epoch 14 Mean F1 best: 0.7026\n",
            "Validation at epoch 14 Mean F1 fixed: 0.5733\n",
            "Validation at epoch 14 Mean AP: 0.686\n",
            "\n",
            "Epoch: 15\n",
            "Train Loss: 0.0858 at step 2150 \t Iter time: 3.06\n",
            "Train Loss: 0.0889 at step 2200 \t Iter time: 3.06\n",
            "Train Loss: 0.0807 at step 2250 \t Iter time: 3.05\n",
            "Average Train Loss: 0.0000\n",
            "Train epoch 15 Mean IOU: 70.66\n",
            "Train epoch 15 Mean F1 best: 0.8955\n",
            "Train epoch 15 Mean F1 fixed: 0.8391\n",
            "Train epoch 15 Mean AP: 0.8747\n",
            "Validation:\n",
            "Length of dataset:  900\n"
          ]
        },
        {
          "output_type": "stream",
          "name": "stderr",
          "text": [
            "\n",
            "  0%|          | 0/15 [00:00<?, ?it/s]\u001b[A\n",
            "  7%|▋         | 1/15 [00:02<00:39,  2.83s/it]\u001b[A\n",
            " 13%|█▎        | 2/15 [00:05<00:31,  2.45s/it]\u001b[A\n",
            " 20%|██        | 3/15 [00:07<00:28,  2.34s/it]\u001b[A\n",
            " 27%|██▋       | 4/15 [00:09<00:25,  2.28s/it]\u001b[A\n",
            " 33%|███▎      | 5/15 [00:11<00:22,  2.26s/it]\u001b[A\n",
            " 40%|████      | 6/15 [00:13<00:20,  2.24s/it]\u001b[A\n",
            " 47%|████▋     | 7/15 [00:16<00:17,  2.23s/it]\u001b[A\n",
            " 53%|█████▎    | 8/15 [00:18<00:15,  2.22s/it]\u001b[A\n",
            " 60%|██████    | 9/15 [00:20<00:13,  2.22s/it]\u001b[A\n",
            " 67%|██████▋   | 10/15 [00:22<00:11,  2.22s/it]\u001b[A\n",
            " 73%|███████▎  | 11/15 [00:24<00:08,  2.21s/it]\u001b[A\n",
            " 80%|████████  | 12/15 [00:27<00:06,  2.21s/it]\u001b[A\n",
            " 87%|████████▋ | 13/15 [00:29<00:04,  2.21s/it]\u001b[A\n",
            " 93%|█████████▎| 14/15 [00:31<00:02,  2.21s/it]\u001b[A\n",
            "100%|██████████| 15/15 [00:31<00:00,  2.11s/it]\n"
          ]
        },
        {
          "output_type": "stream",
          "name": "stdout",
          "text": [
            "Validation at epoch 15 Mean IOU: 48.07\n",
            "Validation at epoch 15 Mean F1 best: 0.6857\n",
            "Validation at epoch 15 Mean F1 fixed: 0.568\n",
            "Validation at epoch 15 Mean AP: 0.6791\n"
          ]
        },
        {
          "output_type": "stream",
          "name": "stderr",
          "text": [
            "\r 53%|█████▎    | 16/30 [1:55:21<1:40:37, 431.26s/it]"
          ]
        },
        {
          "output_type": "stream",
          "name": "stdout",
          "text": [
            "Best model saved at epoch 15!\n",
            "\n",
            "Epoch: 16\n",
            "Train Loss: 0.0917 at step 2300 \t Iter time: 3.06\n",
            "Train Loss: 0.0868 at step 2350 \t Iter time: 3.06\n",
            "Average Train Loss: 0.0000\n",
            "Train epoch 16 Mean IOU: 71.67\n",
            "Train epoch 16 Mean F1 best: 0.904\n",
            "Train epoch 16 Mean F1 fixed: 0.8507\n",
            "Train epoch 16 Mean AP: 0.8835\n",
            "Validation:\n",
            "Length of dataset:  900\n"
          ]
        },
        {
          "output_type": "stream",
          "name": "stderr",
          "text": [
            "\n",
            "  0%|          | 0/15 [00:00<?, ?it/s]\u001b[A\n",
            "  7%|▋         | 1/15 [00:02<00:39,  2.84s/it]\u001b[A\n",
            " 13%|█▎        | 2/15 [00:05<00:31,  2.46s/it]\u001b[A\n",
            " 20%|██        | 3/15 [00:07<00:28,  2.34s/it]\u001b[A\n",
            " 27%|██▋       | 4/15 [00:09<00:25,  2.29s/it]\u001b[A\n",
            " 33%|███▎      | 5/15 [00:11<00:22,  2.26s/it]\u001b[A\n",
            " 40%|████      | 6/15 [00:13<00:20,  2.24s/it]\u001b[A\n",
            " 47%|████▋     | 7/15 [00:16<00:17,  2.23s/it]\u001b[A\n",
            " 53%|█████▎    | 8/15 [00:18<00:15,  2.22s/it]\u001b[A\n",
            " 60%|██████    | 9/15 [00:20<00:13,  2.22s/it]\u001b[A\n",
            " 67%|██████▋   | 10/15 [00:22<00:11,  2.22s/it]\u001b[A\n",
            " 73%|███████▎  | 11/15 [00:24<00:08,  2.21s/it]\u001b[A\n",
            " 80%|████████  | 12/15 [00:27<00:06,  2.21s/it]\u001b[A\n",
            " 87%|████████▋ | 13/15 [00:29<00:04,  2.21s/it]\u001b[A\n",
            " 93%|█████████▎| 14/15 [00:31<00:02,  2.21s/it]\u001b[A\n",
            "100%|██████████| 15/15 [00:31<00:00,  2.11s/it]\n",
            " 57%|█████▋    | 17/30 [2:02:31<1:33:20, 430.82s/it]"
          ]
        },
        {
          "output_type": "stream",
          "name": "stdout",
          "text": [
            "Validation at epoch 16 Mean IOU: 47.74\n",
            "Validation at epoch 16 Mean F1 best: 0.6953\n",
            "Validation at epoch 16 Mean F1 fixed: 0.5747\n",
            "Validation at epoch 16 Mean AP: 0.6847\n",
            "Early Stopping counter: 1 out of 5\n",
            "\n",
            "Epoch: 17\n",
            "Train Loss: 0.0799 at step 2400 \t Iter time: 3.07\n",
            "Train Loss: 0.0958 at step 2450 \t Iter time: 3.06\n",
            "Train Loss: 0.0863 at step 2500 \t Iter time: 3.06\n",
            "Average Train Loss: 0.0000\n",
            "Train epoch 17 Mean IOU: 72.82\n",
            "Train epoch 17 Mean F1 best: 0.9084\n",
            "Train epoch 17 Mean F1 fixed: 0.86\n",
            "Train epoch 17 Mean AP: 0.8891\n",
            "Validation:\n",
            "Length of dataset:  900\n"
          ]
        },
        {
          "output_type": "stream",
          "name": "stderr",
          "text": [
            "\n",
            "  0%|          | 0/15 [00:00<?, ?it/s]\u001b[A\n",
            "  7%|▋         | 1/15 [00:02<00:37,  2.65s/it]\u001b[A\n",
            " 13%|█▎        | 2/15 [00:04<00:31,  2.39s/it]\u001b[A\n",
            " 20%|██        | 3/15 [00:07<00:27,  2.31s/it]\u001b[A\n",
            " 27%|██▋       | 4/15 [00:09<00:25,  2.28s/it]\u001b[A\n",
            " 33%|███▎      | 5/15 [00:11<00:22,  2.26s/it]\u001b[A\n",
            " 40%|████      | 6/15 [00:13<00:20,  2.24s/it]\u001b[A\n",
            " 47%|████▋     | 7/15 [00:15<00:17,  2.23s/it]\u001b[A\n",
            " 53%|█████▎    | 8/15 [00:18<00:15,  2.22s/it]\u001b[A\n",
            " 60%|██████    | 9/15 [00:20<00:13,  2.22s/it]\u001b[A\n",
            " 67%|██████▋   | 10/15 [00:22<00:11,  2.21s/it]\u001b[A\n",
            " 73%|███████▎  | 11/15 [00:24<00:08,  2.21s/it]\u001b[A\n",
            " 80%|████████  | 12/15 [00:26<00:06,  2.21s/it]\u001b[A\n",
            " 87%|████████▋ | 13/15 [00:29<00:04,  2.21s/it]\u001b[A\n",
            " 93%|█████████▎| 14/15 [00:31<00:02,  2.21s/it]\u001b[A\n",
            "100%|██████████| 15/15 [00:31<00:00,  2.10s/it]\n"
          ]
        },
        {
          "output_type": "stream",
          "name": "stdout",
          "text": [
            "Validation at epoch 17 Mean IOU: 48.28\n",
            "Validation at epoch 17 Mean F1 best: 0.6895\n",
            "Validation at epoch 17 Mean F1 fixed: 0.575\n",
            "Validation at epoch 17 Mean AP: 0.6782\n"
          ]
        },
        {
          "output_type": "stream",
          "name": "stderr",
          "text": [
            "\r 60%|██████    | 18/30 [2:09:50<1:26:39, 433.27s/it]"
          ]
        },
        {
          "output_type": "stream",
          "name": "stdout",
          "text": [
            "Best model saved at epoch 17!\n",
            "\n",
            "Epoch: 18\n",
            "Train Loss: 0.0877 at step 2550 \t Iter time: 3.07\n",
            "Train Loss: 0.0861 at step 2600 \t Iter time: 3.06\n",
            "Train Loss: 0.0922 at step 2650 \t Iter time: 3.06\n",
            "Average Train Loss: 0.0000\n",
            "Train epoch 18 Mean IOU: 73.48\n",
            "Train epoch 18 Mean F1 best: 0.9124\n",
            "Train epoch 18 Mean F1 fixed: 0.866\n",
            "Train epoch 18 Mean AP: 0.8935\n",
            "Validation:\n",
            "Length of dataset:  900\n"
          ]
        },
        {
          "output_type": "stream",
          "name": "stderr",
          "text": [
            "\n",
            "  0%|          | 0/15 [00:00<?, ?it/s]\u001b[A\n",
            "  7%|▋         | 1/15 [00:02<00:38,  2.74s/it]\u001b[A\n",
            " 13%|█▎        | 2/15 [00:04<00:31,  2.42s/it]\u001b[A\n",
            " 20%|██        | 3/15 [00:07<00:27,  2.32s/it]\u001b[A\n",
            " 27%|██▋       | 4/15 [00:09<00:25,  2.28s/it]\u001b[A\n",
            " 33%|███▎      | 5/15 [00:11<00:22,  2.25s/it]\u001b[A\n",
            " 40%|████      | 6/15 [00:13<00:20,  2.24s/it]\u001b[A\n",
            " 47%|████▋     | 7/15 [00:15<00:17,  2.23s/it]\u001b[A\n",
            " 53%|█████▎    | 8/15 [00:18<00:15,  2.22s/it]\u001b[A\n",
            " 60%|██████    | 9/15 [00:20<00:13,  2.21s/it]\u001b[A\n",
            " 67%|██████▋   | 10/15 [00:22<00:11,  2.20s/it]\u001b[A\n",
            " 73%|███████▎  | 11/15 [00:24<00:08,  2.20s/it]\u001b[A\n",
            " 80%|████████  | 12/15 [00:26<00:06,  2.20s/it]\u001b[A\n",
            " 87%|████████▋ | 13/15 [00:29<00:04,  2.20s/it]\u001b[A\n",
            " 93%|█████████▎| 14/15 [00:31<00:02,  2.20s/it]\u001b[A\n",
            "100%|██████████| 15/15 [00:31<00:00,  2.10s/it]\n",
            " 63%|██████▎   | 19/30 [2:16:59<1:19:13, 432.13s/it]"
          ]
        },
        {
          "output_type": "stream",
          "name": "stdout",
          "text": [
            "Validation at epoch 18 Mean IOU: 48.14\n",
            "Validation at epoch 18 Mean F1 best: 0.685\n",
            "Validation at epoch 18 Mean F1 fixed: 0.5656\n",
            "Validation at epoch 18 Mean AP: 0.6839\n",
            "Early Stopping counter: 1 out of 5\n",
            "\n",
            "Epoch: 19\n",
            "Train Loss: 0.0932 at step 2700 \t Iter time: 3.07\n",
            "Train Loss: 0.0827 at step 2750 \t Iter time: 3.06\n",
            "Train Loss: 0.0822 at step 2800 \t Iter time: 3.06\n",
            "Average Train Loss: 0.0000\n",
            "Train epoch 19 Mean IOU: 74.49\n",
            "Train epoch 19 Mean F1 best: 0.9164\n",
            "Train epoch 19 Mean F1 fixed: 0.875\n",
            "Train epoch 19 Mean AP: 0.8995\n",
            "Validation:\n",
            "Length of dataset:  900\n"
          ]
        },
        {
          "output_type": "stream",
          "name": "stderr",
          "text": [
            "\n",
            "  0%|          | 0/15 [00:00<?, ?it/s]\u001b[A\n",
            "  7%|▋         | 1/15 [00:02<00:39,  2.82s/it]\u001b[A\n",
            " 13%|█▎        | 2/15 [00:05<00:31,  2.46s/it]\u001b[A\n",
            " 20%|██        | 3/15 [00:07<00:28,  2.34s/it]\u001b[A\n",
            " 27%|██▋       | 4/15 [00:09<00:25,  2.28s/it]\u001b[A\n",
            " 33%|███▎      | 5/15 [00:11<00:22,  2.25s/it]\u001b[A\n",
            " 40%|████      | 6/15 [00:13<00:20,  2.23s/it]\u001b[A\n",
            " 47%|████▋     | 7/15 [00:15<00:17,  2.21s/it]\u001b[A\n",
            " 53%|█████▎    | 8/15 [00:18<00:15,  2.20s/it]\u001b[A\n",
            " 60%|██████    | 9/15 [00:20<00:13,  2.20s/it]\u001b[A\n",
            " 67%|██████▋   | 10/15 [00:22<00:10,  2.20s/it]\u001b[A\n",
            " 73%|███████▎  | 11/15 [00:24<00:08,  2.20s/it]\u001b[A\n",
            " 80%|████████  | 12/15 [00:26<00:06,  2.19s/it]\u001b[A\n",
            " 87%|████████▋ | 13/15 [00:29<00:04,  2.19s/it]\u001b[A\n",
            " 93%|█████████▎| 14/15 [00:31<00:02,  2.19s/it]\u001b[A\n",
            "100%|██████████| 15/15 [00:31<00:00,  2.10s/it]\n",
            " 67%|██████▋   | 20/30 [2:24:08<1:11:53, 431.32s/it]"
          ]
        },
        {
          "output_type": "stream",
          "name": "stdout",
          "text": [
            "Validation at epoch 19 Mean IOU: 47.73\n",
            "Validation at epoch 19 Mean F1 best: 0.6952\n",
            "Validation at epoch 19 Mean F1 fixed: 0.5732\n",
            "Validation at epoch 19 Mean AP: 0.6912\n",
            "Early Stopping counter: 2 out of 5\n",
            "\n",
            "Epoch: 20\n",
            "Train Loss: 0.0836 at step 2850 \t Iter time: 3.06\n",
            "Train Loss: 0.0774 at step 2900 \t Iter time: 3.06\n",
            "Train Loss: 0.0758 at step 2950 \t Iter time: 3.06\n",
            "Average Train Loss: 0.0000\n",
            "Train epoch 20 Mean IOU: 75.31\n",
            "Train epoch 20 Mean F1 best: 0.9187\n",
            "Train epoch 20 Mean F1 fixed: 0.8777\n",
            "Train epoch 20 Mean AP: 0.9026\n",
            "Validation:\n",
            "Length of dataset:  900\n"
          ]
        },
        {
          "output_type": "stream",
          "name": "stderr",
          "text": [
            "\n",
            "  0%|          | 0/15 [00:00<?, ?it/s]\u001b[A\n",
            "  7%|▋         | 1/15 [00:02<00:37,  2.66s/it]\u001b[A\n",
            " 13%|█▎        | 2/15 [00:04<00:31,  2.39s/it]\u001b[A\n",
            " 20%|██        | 3/15 [00:07<00:27,  2.31s/it]\u001b[A\n",
            " 27%|██▋       | 4/15 [00:09<00:24,  2.27s/it]\u001b[A\n",
            " 33%|███▎      | 5/15 [00:11<00:22,  2.24s/it]\u001b[A\n",
            " 40%|████      | 6/15 [00:13<00:20,  2.23s/it]\u001b[A\n",
            " 47%|████▋     | 7/15 [00:15<00:17,  2.22s/it]\u001b[A\n",
            " 53%|█████▎    | 8/15 [00:18<00:15,  2.21s/it]\u001b[A\n",
            " 60%|██████    | 9/15 [00:20<00:13,  2.21s/it]\u001b[A\n",
            " 67%|██████▋   | 10/15 [00:22<00:11,  2.21s/it]\u001b[A\n",
            " 73%|███████▎  | 11/15 [00:24<00:08,  2.20s/it]\u001b[A\n",
            " 80%|████████  | 12/15 [00:26<00:06,  2.20s/it]\u001b[A\n",
            " 87%|████████▋ | 13/15 [00:29<00:04,  2.20s/it]\u001b[A\n",
            " 93%|█████████▎| 14/15 [00:31<00:02,  2.20s/it]\u001b[A\n",
            "100%|██████████| 15/15 [00:31<00:00,  2.10s/it]\n",
            " 70%|███████   | 21/30 [2:31:18<1:04:36, 430.67s/it]"
          ]
        },
        {
          "output_type": "stream",
          "name": "stdout",
          "text": [
            "Validation at epoch 20 Mean IOU: 47.87\n",
            "Validation at epoch 20 Mean F1 best: 0.6875\n",
            "Validation at epoch 20 Mean F1 fixed: 0.5697\n",
            "Validation at epoch 20 Mean AP: 0.6833\n",
            "Early Stopping counter: 3 out of 5\n",
            "\n",
            "Epoch: 21\n",
            "Train Loss: 0.0771 at step 3000 \t Iter time: 3.06\n",
            "Train Loss: 0.0794 at step 3050 \t Iter time: 3.06\n",
            "Train Loss: 0.1077 at step 3100 \t Iter time: 3.06\n",
            "Average Train Loss: 0.0000\n",
            "Train epoch 21 Mean IOU: 76.08\n",
            "Train epoch 21 Mean F1 best: 0.9257\n",
            "Train epoch 21 Mean F1 fixed: 0.8862\n",
            "Train epoch 21 Mean AP: 0.9081\n",
            "Validation:\n",
            "Length of dataset:  900\n"
          ]
        },
        {
          "output_type": "stream",
          "name": "stderr",
          "text": [
            "\n",
            "  0%|          | 0/15 [00:00<?, ?it/s]\u001b[A\n",
            "  7%|▋         | 1/15 [00:02<00:39,  2.80s/it]\u001b[A\n",
            " 13%|█▎        | 2/15 [00:05<00:31,  2.45s/it]\u001b[A\n",
            " 20%|██        | 3/15 [00:07<00:28,  2.34s/it]\u001b[A\n",
            " 27%|██▋       | 4/15 [00:09<00:25,  2.28s/it]\u001b[A\n",
            " 33%|███▎      | 5/15 [00:11<00:22,  2.25s/it]\u001b[A\n",
            " 40%|████      | 6/15 [00:13<00:20,  2.23s/it]\u001b[A\n",
            " 47%|████▋     | 7/15 [00:16<00:17,  2.22s/it]\u001b[A\n",
            " 53%|█████▎    | 8/15 [00:18<00:15,  2.22s/it]\u001b[A\n",
            " 60%|██████    | 9/15 [00:20<00:13,  2.21s/it]\u001b[A\n",
            " 67%|██████▋   | 10/15 [00:22<00:11,  2.20s/it]\u001b[A\n",
            " 73%|███████▎  | 11/15 [00:24<00:08,  2.20s/it]\u001b[A\n",
            " 80%|████████  | 12/15 [00:26<00:06,  2.20s/it]\u001b[A\n",
            " 87%|████████▋ | 13/15 [00:29<00:04,  2.20s/it]\u001b[A\n",
            " 93%|█████████▎| 14/15 [00:31<00:02,  2.20s/it]\u001b[A\n",
            "100%|██████████| 15/15 [00:31<00:00,  2.10s/it]\n"
          ]
        },
        {
          "output_type": "stream",
          "name": "stdout",
          "text": [
            "Validation at epoch 21 Mean IOU: 48.5\n",
            "Validation at epoch 21 Mean F1 best: 0.6839\n",
            "Validation at epoch 21 Mean F1 fixed: 0.573\n",
            "Validation at epoch 21 Mean AP: 0.6825\n"
          ]
        },
        {
          "output_type": "stream",
          "name": "stderr",
          "text": [
            "\r 73%|███████▎  | 22/30 [2:38:34<57:38, 432.36s/it]  "
          ]
        },
        {
          "output_type": "stream",
          "name": "stdout",
          "text": [
            "Best model saved at epoch 21!\n",
            "\n",
            "Epoch: 22\n",
            "Train Loss: 0.0806 at step 3150 \t Iter time: 3.06\n",
            "Train Loss: 0.0797 at step 3200 \t Iter time: 3.06\n",
            "Average Train Loss: 0.0000\n",
            "Train epoch 22 Mean IOU: 76.58\n",
            "Train epoch 22 Mean F1 best: 0.9265\n",
            "Train epoch 22 Mean F1 fixed: 0.8881\n",
            "Train epoch 22 Mean AP: 0.911\n",
            "Validation:\n",
            "Length of dataset:  900\n"
          ]
        },
        {
          "output_type": "stream",
          "name": "stderr",
          "text": [
            "\n",
            "  0%|          | 0/15 [00:00<?, ?it/s]\u001b[A\n",
            "  7%|▋         | 1/15 [00:02<00:39,  2.79s/it]\u001b[A\n",
            " 13%|█▎        | 2/15 [00:04<00:31,  2.44s/it]\u001b[A\n",
            " 20%|██        | 3/15 [00:07<00:27,  2.33s/it]\u001b[A\n",
            " 27%|██▋       | 4/15 [00:09<00:25,  2.28s/it]\u001b[A\n",
            " 33%|███▎      | 5/15 [00:11<00:22,  2.25s/it]\u001b[A\n",
            " 40%|████      | 6/15 [00:13<00:20,  2.23s/it]\u001b[A\n",
            " 47%|████▋     | 7/15 [00:15<00:17,  2.22s/it]\u001b[A\n",
            " 53%|█████▎    | 8/15 [00:18<00:15,  2.21s/it]\u001b[A\n",
            " 60%|██████    | 9/15 [00:20<00:13,  2.21s/it]\u001b[A\n",
            " 67%|██████▋   | 10/15 [00:22<00:11,  2.21s/it]\u001b[A\n",
            " 73%|███████▎  | 11/15 [00:24<00:08,  2.21s/it]\u001b[A\n",
            " 80%|████████  | 12/15 [00:26<00:06,  2.21s/it]\u001b[A\n",
            " 87%|████████▋ | 13/15 [00:29<00:04,  2.20s/it]\u001b[A\n",
            " 93%|█████████▎| 14/15 [00:31<00:02,  2.20s/it]\u001b[A\n",
            "100%|██████████| 15/15 [00:31<00:00,  2.10s/it]\n",
            " 77%|███████▋  | 23/30 [2:45:43<50:20, 431.45s/it]"
          ]
        },
        {
          "output_type": "stream",
          "name": "stdout",
          "text": [
            "Validation at epoch 22 Mean IOU: 48.03\n",
            "Validation at epoch 22 Mean F1 best: 0.6882\n",
            "Validation at epoch 22 Mean F1 fixed: 0.5724\n",
            "Validation at epoch 22 Mean AP: 0.6864\n",
            "Early Stopping counter: 1 out of 5\n",
            "\n",
            "Epoch: 23\n",
            "Train Loss: 0.0712 at step 3250 \t Iter time: 3.07\n",
            "Train Loss: 0.0777 at step 3300 \t Iter time: 3.06\n",
            "Train Loss: 0.0858 at step 3350 \t Iter time: 3.06\n",
            "Average Train Loss: 0.0000\n",
            "Train epoch 23 Mean IOU: 77.28\n",
            "Train epoch 23 Mean F1 best: 0.9306\n",
            "Train epoch 23 Mean F1 fixed: 0.8931\n",
            "Train epoch 23 Mean AP: 0.9141\n",
            "Validation:\n",
            "Length of dataset:  900\n"
          ]
        },
        {
          "output_type": "stream",
          "name": "stderr",
          "text": [
            "\n",
            "  0%|          | 0/15 [00:00<?, ?it/s]\u001b[A\n",
            "  7%|▋         | 1/15 [00:02<00:39,  2.81s/it]\u001b[A\n",
            " 13%|█▎        | 2/15 [00:05<00:31,  2.45s/it]\u001b[A\n",
            " 20%|██        | 3/15 [00:07<00:28,  2.34s/it]\u001b[A\n",
            " 27%|██▋       | 4/15 [00:09<00:25,  2.28s/it]\u001b[A\n",
            " 33%|███▎      | 5/15 [00:11<00:22,  2.25s/it]\u001b[A\n",
            " 40%|████      | 6/15 [00:13<00:20,  2.24s/it]\u001b[A\n",
            " 47%|████▋     | 7/15 [00:16<00:17,  2.23s/it]\u001b[A\n",
            " 53%|█████▎    | 8/15 [00:18<00:15,  2.22s/it]\u001b[A\n",
            " 60%|██████    | 9/15 [00:20<00:13,  2.21s/it]\u001b[A\n",
            " 67%|██████▋   | 10/15 [00:22<00:11,  2.21s/it]\u001b[A\n",
            " 73%|███████▎  | 11/15 [00:24<00:08,  2.21s/it]\u001b[A\n",
            " 80%|████████  | 12/15 [00:27<00:06,  2.20s/it]\u001b[A\n",
            " 87%|████████▋ | 13/15 [00:29<00:04,  2.20s/it]\u001b[A\n",
            " 93%|█████████▎| 14/15 [00:31<00:02,  2.20s/it]\u001b[A\n",
            "100%|██████████| 15/15 [00:31<00:00,  2.10s/it]\n",
            " 80%|████████  | 24/30 [2:52:53<43:05, 430.91s/it]"
          ]
        },
        {
          "output_type": "stream",
          "name": "stdout",
          "text": [
            "Validation at epoch 23 Mean IOU: 48.25\n",
            "Validation at epoch 23 Mean F1 best: 0.6828\n",
            "Validation at epoch 23 Mean F1 fixed: 0.5692\n",
            "Validation at epoch 23 Mean AP: 0.6836\n",
            "Early Stopping counter: 2 out of 5\n",
            "\n",
            "Epoch: 24\n",
            "Train Loss: 0.0712 at step 3400 \t Iter time: 3.06\n",
            "Train Loss: 0.0802 at step 3450 \t Iter time: 3.06\n",
            "Train Loss: 0.0803 at step 3500 \t Iter time: 3.06\n",
            "Average Train Loss: 0.0000\n",
            "Train epoch 24 Mean IOU: 77.81\n",
            "Train epoch 24 Mean F1 best: 0.934\n",
            "Train epoch 24 Mean F1 fixed: 0.8985\n",
            "Train epoch 24 Mean AP: 0.9173\n",
            "Validation:\n",
            "Length of dataset:  900\n"
          ]
        },
        {
          "output_type": "stream",
          "name": "stderr",
          "text": [
            "\n",
            "  0%|          | 0/15 [00:00<?, ?it/s]\u001b[A\n",
            "  7%|▋         | 1/15 [00:02<00:37,  2.69s/it]\u001b[A\n",
            " 13%|█▎        | 2/15 [00:04<00:31,  2.41s/it]\u001b[A\n",
            " 20%|██        | 3/15 [00:07<00:27,  2.31s/it]\u001b[A\n",
            " 27%|██▋       | 4/15 [00:09<00:24,  2.27s/it]\u001b[A\n",
            " 33%|███▎      | 5/15 [00:11<00:22,  2.25s/it]\u001b[A\n",
            " 40%|████      | 6/15 [00:13<00:20,  2.23s/it]\u001b[A\n",
            " 47%|████▋     | 7/15 [00:15<00:17,  2.22s/it]\u001b[A\n",
            " 53%|█████▎    | 8/15 [00:18<00:15,  2.22s/it]\u001b[A\n",
            " 60%|██████    | 9/15 [00:20<00:13,  2.21s/it]\u001b[A\n",
            " 67%|██████▋   | 10/15 [00:22<00:11,  2.21s/it]\u001b[A\n",
            " 73%|███████▎  | 11/15 [00:24<00:08,  2.21s/it]\u001b[A\n",
            " 80%|████████  | 12/15 [00:26<00:06,  2.21s/it]\u001b[A\n",
            " 87%|████████▋ | 13/15 [00:29<00:04,  2.20s/it]\u001b[A\n",
            " 93%|█████████▎| 14/15 [00:31<00:02,  2.20s/it]\u001b[A\n",
            "100%|██████████| 15/15 [00:31<00:00,  2.10s/it]\n",
            " 83%|████████▎ | 25/30 [3:00:02<35:52, 430.49s/it]"
          ]
        },
        {
          "output_type": "stream",
          "name": "stdout",
          "text": [
            "Validation at epoch 24 Mean IOU: 48.38\n",
            "Validation at epoch 24 Mean F1 best: 0.6783\n",
            "Validation at epoch 24 Mean F1 fixed: 0.5706\n",
            "Validation at epoch 24 Mean AP: 0.6788\n",
            "Early Stopping counter: 3 out of 5\n",
            "\n",
            "Epoch: 25\n",
            "Train Loss: 0.0842 at step 3550 \t Iter time: 3.06\n",
            "Train Loss: 0.0681 at step 3600 \t Iter time: 3.06\n",
            "Train Loss: 0.0716 at step 3650 \t Iter time: 3.06\n",
            "Average Train Loss: 0.0000\n",
            "Train epoch 25 Mean IOU: 78.48\n",
            "Train epoch 25 Mean F1 best: 0.9367\n",
            "Train epoch 25 Mean F1 fixed: 0.9014\n",
            "Train epoch 25 Mean AP: 0.9207\n",
            "Validation:\n",
            "Length of dataset:  900\n"
          ]
        },
        {
          "output_type": "stream",
          "name": "stderr",
          "text": [
            "\n",
            "  0%|          | 0/15 [00:00<?, ?it/s]\u001b[A\n",
            "  7%|▋         | 1/15 [00:02<00:40,  2.86s/it]\u001b[A\n",
            " 13%|█▎        | 2/15 [00:05<00:32,  2.47s/it]\u001b[A\n",
            " 20%|██        | 3/15 [00:07<00:28,  2.35s/it]\u001b[A\n",
            " 27%|██▋       | 4/15 [00:09<00:25,  2.29s/it]\u001b[A\n",
            " 33%|███▎      | 5/15 [00:11<00:22,  2.26s/it]\u001b[A\n",
            " 40%|████      | 6/15 [00:13<00:20,  2.24s/it]\u001b[A\n",
            " 47%|████▋     | 7/15 [00:16<00:17,  2.22s/it]\u001b[A\n",
            " 53%|█████▎    | 8/15 [00:18<00:15,  2.22s/it]\u001b[A\n",
            " 60%|██████    | 9/15 [00:20<00:13,  2.21s/it]\u001b[A\n",
            " 67%|██████▋   | 10/15 [00:22<00:11,  2.21s/it]\u001b[A\n",
            " 73%|███████▎  | 11/15 [00:24<00:08,  2.21s/it]\u001b[A\n",
            " 80%|████████  | 12/15 [00:27<00:06,  2.20s/it]\u001b[A\n",
            " 87%|████████▋ | 13/15 [00:29<00:04,  2.20s/it]\u001b[A\n",
            " 93%|█████████▎| 14/15 [00:31<00:02,  2.20s/it]\u001b[A\n",
            "100%|██████████| 15/15 [00:31<00:00,  2.11s/it]\n",
            " 87%|████████▋ | 26/30 [3:07:12<28:41, 430.35s/it]"
          ]
        },
        {
          "output_type": "stream",
          "name": "stdout",
          "text": [
            "Validation at epoch 25 Mean IOU: 47.58\n",
            "Validation at epoch 25 Mean F1 best: 0.6838\n",
            "Validation at epoch 25 Mean F1 fixed: 0.5721\n",
            "Validation at epoch 25 Mean AP: 0.6838\n",
            "Early Stopping counter: 4 out of 5\n",
            "\n",
            "Epoch: 26\n",
            "Train Loss: 0.0747 at step 3700 \t Iter time: 3.06\n",
            "Train Loss: 0.0845 at step 3750 \t Iter time: 3.06\n",
            "Train Loss: 0.0737 at step 3800 \t Iter time: 3.06\n",
            "Average Train Loss: 0.0000\n",
            "Train epoch 26 Mean IOU: 79.07\n",
            "Train epoch 26 Mean F1 best: 0.9374\n",
            "Train epoch 26 Mean F1 fixed: 0.9044\n",
            "Train epoch 26 Mean AP: 0.9231\n",
            "Validation:\n",
            "Length of dataset:  900\n"
          ]
        },
        {
          "output_type": "stream",
          "name": "stderr",
          "text": [
            "\n",
            "  0%|          | 0/15 [00:00<?, ?it/s]\u001b[A\n",
            "  7%|▋         | 1/15 [00:02<00:39,  2.85s/it]\u001b[A\n",
            " 13%|█▎        | 2/15 [00:05<00:32,  2.47s/it]\u001b[A\n",
            " 20%|██        | 3/15 [00:07<00:28,  2.34s/it]\u001b[A\n",
            " 27%|██▋       | 4/15 [00:09<00:25,  2.29s/it]\u001b[A\n",
            " 33%|███▎      | 5/15 [00:11<00:22,  2.26s/it]\u001b[A\n",
            " 40%|████      | 6/15 [00:13<00:20,  2.24s/it]\u001b[A\n",
            " 47%|████▋     | 7/15 [00:16<00:17,  2.22s/it]\u001b[A\n",
            " 53%|█████▎    | 8/15 [00:18<00:15,  2.22s/it]\u001b[A\n",
            " 60%|██████    | 9/15 [00:20<00:13,  2.21s/it]\u001b[A\n",
            " 67%|██████▋   | 10/15 [00:22<00:11,  2.22s/it]\u001b[A\n",
            " 73%|███████▎  | 11/15 [00:24<00:08,  2.21s/it]\u001b[A\n",
            " 80%|████████  | 12/15 [00:27<00:06,  2.21s/it]\u001b[A\n",
            " 87%|████████▋ | 13/15 [00:29<00:04,  2.20s/it]\u001b[A\n",
            " 93%|█████████▎| 14/15 [00:31<00:02,  2.20s/it]\u001b[A\n",
            "100%|██████████| 15/15 [00:31<00:00,  2.11s/it]\n",
            " 90%|█████████ | 27/30 [3:14:22<21:30, 430.22s/it]"
          ]
        },
        {
          "output_type": "stream",
          "name": "stdout",
          "text": [
            "Validation at epoch 26 Mean IOU: 48.22\n",
            "Validation at epoch 26 Mean F1 best: 0.6706\n",
            "Validation at epoch 26 Mean F1 fixed: 0.5625\n",
            "Validation at epoch 26 Mean AP: 0.6766\n",
            "Early Stopping counter: 5 out of 5\n",
            "Early stopping triggered\n",
            "Continuing training with a learning rate reduced by a factor of 10\n",
            "\n",
            "Epoch: 27\n",
            "Train Loss: 0.0620 at step 3850 \t Iter time: 3.06\n",
            "Train Loss: 0.0734 at step 3900 \t Iter time: 3.06\n",
            "Average Train Loss: 0.0000\n",
            "Train epoch 27 Mean IOU: 79.93\n",
            "Train epoch 27 Mean F1 best: 0.9443\n",
            "Train epoch 27 Mean F1 fixed: 0.9149\n",
            "Train epoch 27 Mean AP: 0.927\n",
            "Validation:\n",
            "Length of dataset:  900\n"
          ]
        },
        {
          "output_type": "stream",
          "name": "stderr",
          "text": [
            "\n",
            "  0%|          | 0/15 [00:00<?, ?it/s]\u001b[A\n",
            "  7%|▋         | 1/15 [00:02<00:39,  2.83s/it]\u001b[A\n",
            " 13%|█▎        | 2/15 [00:05<00:31,  2.44s/it]\u001b[A\n",
            " 20%|██        | 3/15 [00:07<00:27,  2.33s/it]\u001b[A\n",
            " 27%|██▋       | 4/15 [00:09<00:25,  2.28s/it]\u001b[A\n",
            " 33%|███▎      | 5/15 [00:11<00:22,  2.25s/it]\u001b[A\n",
            " 40%|████      | 6/15 [00:13<00:20,  2.25s/it]\u001b[A\n",
            " 47%|████▋     | 7/15 [00:16<00:17,  2.23s/it]\u001b[A\n",
            " 53%|█████▎    | 8/15 [00:18<00:15,  2.22s/it]\u001b[A\n",
            " 60%|██████    | 9/15 [00:20<00:13,  2.21s/it]\u001b[A\n",
            " 67%|██████▋   | 10/15 [00:22<00:11,  2.21s/it]\u001b[A\n",
            " 73%|███████▎  | 11/15 [00:24<00:08,  2.21s/it]\u001b[A\n",
            " 80%|████████  | 12/15 [00:27<00:06,  2.21s/it]\u001b[A\n",
            " 87%|████████▋ | 13/15 [00:29<00:04,  2.21s/it]\u001b[A\n",
            " 93%|█████████▎| 14/15 [00:31<00:02,  2.20s/it]\u001b[A\n",
            "100%|██████████| 15/15 [00:31<00:00,  2.11s/it]\n",
            " 93%|█████████▎| 28/30 [3:21:32<14:20, 430.06s/it]"
          ]
        },
        {
          "output_type": "stream",
          "name": "stdout",
          "text": [
            "Validation at epoch 27 Mean IOU: 48.39\n",
            "Validation at epoch 27 Mean F1 best: 0.6739\n",
            "Validation at epoch 27 Mean F1 fixed: 0.5694\n",
            "Validation at epoch 27 Mean AP: 0.6761\n",
            "\n",
            "Epoch: 28\n",
            "Train Loss: 0.0863 at step 3950 \t Iter time: 3.06\n",
            "Train Loss: 0.0666 at step 4000 \t Iter time: 3.06\n",
            "Train Loss: 0.0759 at step 4050 \t Iter time: 3.06\n",
            "Average Train Loss: 0.0000\n",
            "Train epoch 28 Mean IOU: 80.07\n",
            "Train epoch 28 Mean F1 best: 0.9443\n",
            "Train epoch 28 Mean F1 fixed: 0.916\n",
            "Train epoch 28 Mean AP: 0.928\n",
            "Validation:\n",
            "Length of dataset:  900\n"
          ]
        },
        {
          "output_type": "stream",
          "name": "stderr",
          "text": [
            "\n",
            "  0%|          | 0/15 [00:00<?, ?it/s]\u001b[A\n",
            "  7%|▋         | 1/15 [00:02<00:40,  2.86s/it]\u001b[A\n",
            " 13%|█▎        | 2/15 [00:05<00:32,  2.48s/it]\u001b[A\n",
            " 20%|██        | 3/15 [00:07<00:28,  2.36s/it]\u001b[A\n",
            " 27%|██▋       | 4/15 [00:09<00:25,  2.30s/it]\u001b[A\n",
            " 33%|███▎      | 5/15 [00:11<00:22,  2.27s/it]\u001b[A\n",
            " 40%|████      | 6/15 [00:13<00:20,  2.25s/it]\u001b[A\n",
            " 47%|████▋     | 7/15 [00:16<00:17,  2.24s/it]\u001b[A\n",
            " 53%|█████▎    | 8/15 [00:18<00:15,  2.23s/it]\u001b[A\n",
            " 60%|██████    | 9/15 [00:20<00:13,  2.22s/it]\u001b[A\n",
            " 67%|██████▋   | 10/15 [00:22<00:11,  2.21s/it]\u001b[A\n",
            " 73%|███████▎  | 11/15 [00:24<00:08,  2.21s/it]\u001b[A\n",
            " 80%|████████  | 12/15 [00:27<00:06,  2.20s/it]\u001b[A\n",
            " 87%|████████▋ | 13/15 [00:29<00:04,  2.20s/it]\u001b[A\n",
            " 93%|█████████▎| 14/15 [00:31<00:02,  2.20s/it]\u001b[A\n",
            "100%|██████████| 15/15 [00:31<00:00,  2.11s/it]\n",
            " 97%|█████████▋| 29/30 [3:28:42<07:09, 429.92s/it]"
          ]
        },
        {
          "output_type": "stream",
          "name": "stdout",
          "text": [
            "Validation at epoch 28 Mean IOU: 48.11\n",
            "Validation at epoch 28 Mean F1 best: 0.6769\n",
            "Validation at epoch 28 Mean F1 fixed: 0.5674\n",
            "Validation at epoch 28 Mean AP: 0.68\n",
            "Early Stopping counter: 1 out of 5\n",
            "\n",
            "Epoch: 29\n",
            "Train Loss: 0.0665 at step 4100 \t Iter time: 3.06\n",
            "Train Loss: 0.0796 at step 4150 \t Iter time: 3.06\n",
            "Train Loss: 0.0793 at step 4200 \t Iter time: 3.06\n",
            "Average Train Loss: 0.0000\n",
            "Train epoch 29 Mean IOU: 80.1\n",
            "Train epoch 29 Mean F1 best: 0.9472\n",
            "Train epoch 29 Mean F1 fixed: 0.9183\n",
            "Train epoch 29 Mean AP: 0.9285\n",
            "Validation:\n",
            "Length of dataset:  900\n"
          ]
        },
        {
          "output_type": "stream",
          "name": "stderr",
          "text": [
            "\n",
            "  0%|          | 0/15 [00:00<?, ?it/s]\u001b[A\n",
            "  7%|▋         | 1/15 [00:02<00:37,  2.70s/it]\u001b[A\n",
            " 13%|█▎        | 2/15 [00:04<00:31,  2.40s/it]\u001b[A\n",
            " 20%|██        | 3/15 [00:07<00:27,  2.31s/it]\u001b[A\n",
            " 27%|██▋       | 4/15 [00:09<00:24,  2.27s/it]\u001b[A\n",
            " 33%|███▎      | 5/15 [00:11<00:22,  2.24s/it]\u001b[A\n",
            " 40%|████      | 6/15 [00:13<00:20,  2.23s/it]\u001b[A\n",
            " 47%|████▋     | 7/15 [00:15<00:17,  2.22s/it]\u001b[A\n",
            " 53%|█████▎    | 8/15 [00:18<00:15,  2.21s/it]\u001b[A\n",
            " 60%|██████    | 9/15 [00:20<00:13,  2.21s/it]\u001b[A\n",
            " 67%|██████▋   | 10/15 [00:22<00:11,  2.21s/it]\u001b[A\n",
            " 73%|███████▎  | 11/15 [00:24<00:08,  2.20s/it]\u001b[A\n",
            " 80%|████████  | 12/15 [00:26<00:06,  2.20s/it]\u001b[A\n",
            " 87%|████████▋ | 13/15 [00:29<00:04,  2.20s/it]\u001b[A\n",
            " 93%|█████████▎| 14/15 [00:31<00:02,  2.20s/it]\u001b[A\n",
            "100%|██████████| 15/15 [00:31<00:00,  2.09s/it]\n",
            "100%|██████████| 30/30 [3:35:51<00:00, 431.72s/it]"
          ]
        },
        {
          "output_type": "stream",
          "name": "stdout",
          "text": [
            "Validation at epoch 29 Mean IOU: 48.25\n",
            "Validation at epoch 29 Mean F1 best: 0.6731\n",
            "Validation at epoch 29 Mean F1 fixed: 0.5728\n",
            "Validation at epoch 29 Mean AP: 0.6735\n",
            "Early Stopping counter: 2 out of 5\n",
            "\n"
          ]
        },
        {
          "output_type": "stream",
          "name": "stderr",
          "text": [
            "\n"
          ]
        }
      ],
      "source": [
        "# start the training loop\n",
        "# model_trainer.compute_pos_weight_per_dataset(train_loader)\n",
        "# print('Pos weight for fake pixels', model_trainer.pos_weights)\n",
        "early_stopping = EarlyStopping(patience=params.early_stop_epochs, verbose=True, delta=-0.001)\n",
        "best_metric = 0.0 # iou for localization, ap for detection\n",
        "print('Length of training set:', len(train_loader.dataset))\n",
        "print('Length of validation set:', len(val_loader.dataset))\n",
        "start_time = time.time()\n",
        "for epoch in tqdm(range(params.num_iter)):\n",
        "    print('Epoch:', epoch)\n",
        "\n",
        "    epoch_loss = 0\n",
        "    for data in train_loader:\n",
        "        model_trainer.total_steps += 1\n",
        "\n",
        "        model_trainer.set_input(data)\n",
        "        model_trainer.optimize_parameters()\n",
        "\n",
        "        if model_trainer.total_steps % params.show_loss_freq == 0:\n",
        "            epoch_loss += model_trainer.loss.item()\n",
        "            print(f'Train Loss: {model_trainer.loss.item():.4f} at step {model_trainer.total_steps} \\t Iter time: {(time.time() - start_time) / model_trainer.total_steps:.2f}')\n",
        "            train_writer.add_scalar('loss', model_trainer.loss.item(), model_trainer.total_steps)\n",
        "\n",
        "\n",
        "    epoch_loss /= len(train_loader.dataset)\n",
        "    print(f'Average Train Loss: {epoch_loss:.4f}')\n",
        "\n",
        "    # compute training metrics\n",
        "    if params.task_type == 'fully_supervised_localization':\n",
        "        compute_mean_iou(model_trainer.ious, verbose=True, extra_text=f'Train epoch {epoch} ')\n",
        "        model_trainer.ious = []\n",
        "\n",
        "        compute_mean_f1(model_trainer.f1_best, model_trainer.f1_fixed, verbose=True, extra_text=f'Train epoch {epoch} ')\n",
        "        model_trainer.f1_best = []\n",
        "        model_trainer.f1_fixed = []\n",
        "\n",
        "        compute_mean_ap(model_trainer.ap, verbose=True, extra_text=f'Train epoch {epoch} ')\n",
        "        model_trainer.ap = []\n",
        "\n",
        "    elif params.task_type == 'detection':\n",
        "        model_trainer.format_output_detection()\n",
        "\n",
        "        compute_mean_acc_detection(model_trainer.logits, model_trainer.labels, verbose=True, extra_text=f'Train epoch {epoch} ')\n",
        "        compute_mean_ap_detection(model_trainer.logits, model_trainer.labels, verbose=True, extra_text=f'Train epoch {epoch} ')\n",
        "\n",
        "        model_trainer.logits = []\n",
        "        model_trainer.labels = []\n",
        "\n",
        "\n",
        "    # validate the model\n",
        "    print('Validation:')\n",
        "    if params.task_type == 'fully_supervised_localization':\n",
        "        ious, f1_best, f1_fixed, mean_ap, _ = validate_fully_supervised_localization(model_trainer.model, val_loader, params.train_dataset)\n",
        "\n",
        "        # compute metrics\n",
        "        mean_iou = compute_mean_iou(ious, verbose=True, extra_text=f'Validation at epoch {epoch} ')\n",
        "        val_writer.add_scalar('iou', mean_iou, model_trainer.total_steps)\n",
        "\n",
        "        mean_f1_best, mean_f1_fixed = compute_mean_f1(f1_best, f1_fixed, verbose=True, extra_text=f'Validation at epoch {epoch} ')\n",
        "        val_writer.add_scalar('f1_best', mean_f1_best, model_trainer.total_steps)\n",
        "        val_writer.add_scalar('f1_fixed', mean_f1_fixed, model_trainer.total_steps)\n",
        "\n",
        "        mean_ap = compute_mean_ap(mean_ap, verbose=True, extra_text=f'Validation at epoch {epoch} ')\n",
        "        val_writer.add_scalar('mean_ap', mean_ap, model_trainer.total_steps)\n",
        "\n",
        "        # save the model if the mean iou is improved\n",
        "        if mean_iou > best_metric:\n",
        "            best_metric = mean_iou\n",
        "            model_trainer.save_model(f'best_localization_model_iou_{mean_iou:.4f}.pth')\n",
        "            print(f'Best model saved at epoch {epoch}!')\n",
        "\n",
        "        # check for early stopping\n",
        "        early_stopping(mean_iou)\n",
        "\n",
        "    elif params.task_type == 'detection':\n",
        "        ap, acc, _, _, _ = validate_detection(model_trainer.model, val_loader, params.train_dataset)\n",
        "\n",
        "        print(f'Validation at epoch {epoch} - AP: {ap:.4f}, Acc: {acc:.4f}')\n",
        "        val_writer.add_scalar('ap', ap, model_trainer.total_steps)\n",
        "        val_writer.add_scalar('acc', acc, model_trainer.total_steps)\n",
        "\n",
        "        # save the model if the mean ap is improved\n",
        "        if ap > best_metric:\n",
        "            best_metric = ap\n",
        "            model_trainer.save_model(f'best_detection_model_ap_{ap:.4f}.pth')\n",
        "            print(f'Best model saved at epoch {epoch}!')\n",
        "\n",
        "        # check for early stopping\n",
        "        early_stopping(ap)\n",
        "\n",
        "    # check if early stopping is triggered\n",
        "    if early_stopping.early_stop:\n",
        "        print(\"Early stopping triggered\")\n",
        "        continue_training = model_trainer.adjust_learning_rate()\n",
        "        if continue_training:\n",
        "            print(\"Continuing training with a learning rate reduced by a factor of 10\")\n",
        "            early_stopping = EarlyStopping(patience=params.early_stop_epochs, verbose=True, delta=-0.002) # adjust the delta only once, otherwise stop completely\n",
        "        else:\n",
        "            print(f\"Early stopping training at epoch {epoch}\")\n",
        "            break\n",
        "    print()\n",
        "    torch.cuda.empty_cache()"
      ]
    },
    {
      "cell_type": "code",
      "source": [
        "model_dir = '/content/experiments/training_inital/models/'\n",
        "model_files = sorted(\n",
        "    [f for f in os.listdir(model_dir) if f.endswith('.pth')]\n",
        ")\n",
        "\n",
        "best_model = model_files[-1]\n",
        "best_model_path = os.path.join(model_dir, best_model)"
      ],
      "metadata": {
        "id": "0KHmNbwv1gCd"
      },
      "id": "0KHmNbwv1gCd",
      "execution_count": null,
      "outputs": []
    },
    {
      "cell_type": "code",
      "source": [
        "shutil.copy(best_model_path, f'/content/drive/MyDrive/Colab Notebooks/Licenta/DeCLIP-custom/trained_models/initial_training/{os.path.basename(best_model_path)}')"
      ],
      "metadata": {
        "colab": {
          "base_uri": "https://localhost:8080/",
          "height": 35
        },
        "id": "petVdd7B0b7s",
        "outputId": "10e1f4d5-c863-48fd-ede6-7b3f7ef562dd"
      },
      "id": "petVdd7B0b7s",
      "execution_count": null,
      "outputs": [
        {
          "output_type": "execute_result",
          "data": {
            "text/plain": [
              "'/content/drive/MyDrive/Colab Notebooks/Licenta/DeCLIP-custom/trained_models/initial_training/best_localization_model_iou_48.4968.pth'"
            ],
            "application/vnd.google.colaboratory.intrinsic+json": {
              "type": "string"
            }
          },
          "metadata": {},
          "execution_count": 14
        }
      ]
    },
    {
      "cell_type": "code",
      "source": [
        "from google.colab import files\n",
        "\n",
        "files.download(best_model_path)"
      ],
      "metadata": {
        "colab": {
          "base_uri": "https://localhost:8080/",
          "height": 34
        },
        "id": "qJpfey2D0b9q",
        "outputId": "ffcd013c-b37f-475c-8a23-fd2b724e3b28"
      },
      "id": "qJpfey2D0b9q",
      "execution_count": null,
      "outputs": [
        {
          "output_type": "display_data",
          "data": {
            "text/plain": [
              "<IPython.core.display.Javascript object>"
            ],
            "application/javascript": [
              "\n",
              "    async function download(id, filename, size) {\n",
              "      if (!google.colab.kernel.accessAllowed) {\n",
              "        return;\n",
              "      }\n",
              "      const div = document.createElement('div');\n",
              "      const label = document.createElement('label');\n",
              "      label.textContent = `Downloading \"${filename}\": `;\n",
              "      div.appendChild(label);\n",
              "      const progress = document.createElement('progress');\n",
              "      progress.max = size;\n",
              "      div.appendChild(progress);\n",
              "      document.body.appendChild(div);\n",
              "\n",
              "      const buffers = [];\n",
              "      let downloaded = 0;\n",
              "\n",
              "      const channel = await google.colab.kernel.comms.open(id);\n",
              "      // Send a message to notify the kernel that we're ready.\n",
              "      channel.send({})\n",
              "\n",
              "      for await (const message of channel.messages) {\n",
              "        // Send a message to notify the kernel that we're ready.\n",
              "        channel.send({})\n",
              "        if (message.buffers) {\n",
              "          for (const buffer of message.buffers) {\n",
              "            buffers.push(buffer);\n",
              "            downloaded += buffer.byteLength;\n",
              "            progress.value = downloaded;\n",
              "          }\n",
              "        }\n",
              "      }\n",
              "      const blob = new Blob(buffers, {type: 'application/binary'});\n",
              "      const a = document.createElement('a');\n",
              "      a.href = window.URL.createObjectURL(blob);\n",
              "      a.download = filename;\n",
              "      div.appendChild(a);\n",
              "      a.click();\n",
              "      div.remove();\n",
              "    }\n",
              "  "
            ]
          },
          "metadata": {}
        },
        {
          "output_type": "display_data",
          "data": {
            "text/plain": [
              "<IPython.core.display.Javascript object>"
            ],
            "application/javascript": [
              "download(\"download_59b24c32-1089-4aca-b153-2e044a2a2627\", \"best_localization_model_iou_48.4968.pth\", 2337695382)"
            ]
          },
          "metadata": {}
        }
      ]
    }
  ],
  "metadata": {
    "accelerator": "GPU",
    "colab": {
      "gpuType": "L4",
      "machine_shape": "hm",
      "provenance": []
    },
    "kernelspec": {
      "display_name": "Python 3",
      "name": "python3"
    },
    "language_info": {
      "codemirror_mode": {
        "name": "ipython",
        "version": 3
      },
      "file_extension": ".py",
      "mimetype": "text/x-python",
      "name": "python",
      "nbconvert_exporter": "python",
      "pygments_lexer": "ipython3",
      "version": "3.12.2"
    }
  },
  "nbformat": 4,
  "nbformat_minor": 5
}